{
 "cells": [
  {
   "cell_type": "markdown",
   "metadata": {},
   "source": [
    "I want to start comparing the subsets in transcriptomic data and compare that to ephys groups that are present in the Ndnf cells"
   ]
  },
  {
   "cell_type": "code",
   "execution_count": 4,
   "metadata": {
    "collapsed": true
   },
   "outputs": [],
   "source": [
    "import pandas as pd\n",
    "import matplotlib.pyplot as plt\n",
    "import seaborn as sns\n",
    "import numpy as np\n",
    "%matplotlib inline\n",
    "\n",
    "from allensdk.core.nwb_data_set import NwbDataSet\n",
    "from allensdk.ephys.ephys_extractor import EphysSweepFeatureExtractor \n",
    "#import allensdk_lims.internal.core.lims_utilities as lu\n",
    "import pg8000\n",
    "import os\n"
   ]
  },
  {
   "cell_type": "code",
   "execution_count": 2,
   "metadata": {},
   "outputs": [
    {
     "data": {
      "text/html": [
       "<div>\n",
       "<table border=\"1\" class=\"dataframe\">\n",
       "  <thead>\n",
       "    <tr style=\"text-align: right;\">\n",
       "      <th></th>\n",
       "      <th>\"</th>\n",
       "      <th>Date</th>\n",
       "      <th>User</th>\n",
       "      <th>Rig #</th>\n",
       "      <th>File</th>\n",
       "      <th>Ephys</th>\n",
       "      <th>Trans</th>\n",
       "      <th>Morph</th>\n",
       "      <th>Pilot</th>\n",
       "      <th>Pilot Details</th>\n",
       "      <th>...</th>\n",
       "      <th>distance to edge</th>\n",
       "      <th>Plate</th>\n",
       "      <th>20x status</th>\n",
       "      <th>20x LIMS link</th>\n",
       "      <th>63x go no go</th>\n",
       "      <th>63x QC</th>\n",
       "      <th>Confidence</th>\n",
       "      <th>Bad dates</th>\n",
       "      <th>Notes.1</th>\n",
       "      <th>Unnamed: 78</th>\n",
       "    </tr>\n",
       "  </thead>\n",
       "  <tbody>\n",
       "    <tr>\n",
       "      <th>0</th>\n",
       "      <td>NaN</td>\n",
       "      <td>170104</td>\n",
       "      <td>P1</td>\n",
       "      <td>5</td>\n",
       "      <td>Gad2-IRES-Cre;Ai14-292660.07.01.01</td>\n",
       "      <td>?</td>\n",
       "      <td>x</td>\n",
       "      <td>n</td>\n",
       "      <td>2nd Pipette</td>\n",
       "      <td>aCSF III with 1.0 U RNase Inhibitor</td>\n",
       "      <td>...</td>\n",
       "      <td>236</td>\n",
       "      <td>79</td>\n",
       "      <td>qc</td>\n",
       "      <td>http://lims2/focal_plane_image_series?id=56435...</td>\n",
       "      <td>NaN</td>\n",
       "      <td>NaN</td>\n",
       "      <td>NaN</td>\n",
       "      <td>x</td>\n",
       "      <td>did not aliquot internal, shared</td>\n",
       "      <td>NaN</td>\n",
       "    </tr>\n",
       "    <tr>\n",
       "      <th>1</th>\n",
       "      <td>NaN</td>\n",
       "      <td>170104</td>\n",
       "      <td>P1</td>\n",
       "      <td>5</td>\n",
       "      <td>Gad2-IRES-Cre;Ai14-292660.07.01.02</td>\n",
       "      <td>x</td>\n",
       "      <td>x</td>\n",
       "      <td>n</td>\n",
       "      <td>2nd Pipette</td>\n",
       "      <td>aCSF III with 1.0 U RNase Inhibitor</td>\n",
       "      <td>...</td>\n",
       "      <td>99</td>\n",
       "      <td>79</td>\n",
       "      <td>qc</td>\n",
       "      <td>http://lims2/focal_plane_image_series?id=56435...</td>\n",
       "      <td>NaN</td>\n",
       "      <td>NaN</td>\n",
       "      <td>NaN</td>\n",
       "      <td>x</td>\n",
       "      <td>NaN</td>\n",
       "      <td>NaN</td>\n",
       "    </tr>\n",
       "    <tr>\n",
       "      <th>2</th>\n",
       "      <td>NaN</td>\n",
       "      <td>170104</td>\n",
       "      <td>P1</td>\n",
       "      <td>5</td>\n",
       "      <td>Gad2-IRES-Cre;Ai14-292660.07.01.03</td>\n",
       "      <td>?</td>\n",
       "      <td>x</td>\n",
       "      <td>n</td>\n",
       "      <td>2nd Pipette</td>\n",
       "      <td>aCSF III with 1.0 U RNase Inhibitor</td>\n",
       "      <td>...</td>\n",
       "      <td>150</td>\n",
       "      <td>79</td>\n",
       "      <td>qc</td>\n",
       "      <td>http://lims2/focal_plane_image_series?id=56435...</td>\n",
       "      <td>NaN</td>\n",
       "      <td>NaN</td>\n",
       "      <td>NaN</td>\n",
       "      <td>x</td>\n",
       "      <td>NaN</td>\n",
       "      <td>NaN</td>\n",
       "    </tr>\n",
       "    <tr>\n",
       "      <th>3</th>\n",
       "      <td>NaN</td>\n",
       "      <td>170104</td>\n",
       "      <td>P1</td>\n",
       "      <td>5</td>\n",
       "      <td>Gad2-IRES-Cre;Ai14-292660.08.01.01</td>\n",
       "      <td>?</td>\n",
       "      <td>x</td>\n",
       "      <td>n</td>\n",
       "      <td>2nd Pipette</td>\n",
       "      <td>aCSF III with 1.0 U RNase Inhibitor</td>\n",
       "      <td>...</td>\n",
       "      <td>84</td>\n",
       "      <td>76</td>\n",
       "      <td>qc</td>\n",
       "      <td>http://lims2/focal_plane_image_series?id=56435...</td>\n",
       "      <td>NaN</td>\n",
       "      <td>NaN</td>\n",
       "      <td>NaN</td>\n",
       "      <td>x</td>\n",
       "      <td>NaN</td>\n",
       "      <td>NaN</td>\n",
       "    </tr>\n",
       "    <tr>\n",
       "      <th>4</th>\n",
       "      <td>NaN</td>\n",
       "      <td>170104</td>\n",
       "      <td>P1</td>\n",
       "      <td>5</td>\n",
       "      <td>Gad2-IRES-Cre;Ai14-292660.08.01.02</td>\n",
       "      <td>x</td>\n",
       "      <td>x</td>\n",
       "      <td>y</td>\n",
       "      <td>2nd Pipette</td>\n",
       "      <td>aCSF III with 1.0 U RNase Inhibitor</td>\n",
       "      <td>...</td>\n",
       "      <td>44</td>\n",
       "      <td>76</td>\n",
       "      <td>qc</td>\n",
       "      <td>http://lims2/focal_plane_image_series?id=56435...</td>\n",
       "      <td>63x go</td>\n",
       "      <td>image_qc_passed</td>\n",
       "      <td>NaN</td>\n",
       "      <td>x</td>\n",
       "      <td>NaN</td>\n",
       "      <td>NaN</td>\n",
       "    </tr>\n",
       "  </tbody>\n",
       "</table>\n",
       "<p>5 rows × 79 columns</p>\n",
       "</div>"
      ],
      "text/plain": [
       "    \"    Date User Rig #                                File Ephys Trans  \\\n",
       "0 NaN  170104   P1     5  Gad2-IRES-Cre;Ai14-292660.07.01.01     ?     x   \n",
       "1 NaN  170104   P1     5  Gad2-IRES-Cre;Ai14-292660.07.01.02     x     x   \n",
       "2 NaN  170104   P1     5  Gad2-IRES-Cre;Ai14-292660.07.01.03     ?     x   \n",
       "3 NaN  170104   P1     5  Gad2-IRES-Cre;Ai14-292660.08.01.01     ?     x   \n",
       "4 NaN  170104   P1     5  Gad2-IRES-Cre;Ai14-292660.08.01.02     x     x   \n",
       "\n",
       "  Morph        Pilot                        Pilot Details     ...       \\\n",
       "0     n  2nd Pipette  aCSF III with 1.0 U RNase Inhibitor     ...        \n",
       "1     n  2nd Pipette  aCSF III with 1.0 U RNase Inhibitor     ...        \n",
       "2     n  2nd Pipette  aCSF III with 1.0 U RNase Inhibitor     ...        \n",
       "3     n  2nd Pipette  aCSF III with 1.0 U RNase Inhibitor     ...        \n",
       "4     y  2nd Pipette  aCSF III with 1.0 U RNase Inhibitor     ...        \n",
       "\n",
       "  distance to edge Plate 20x status  \\\n",
       "0              236    79         qc   \n",
       "1               99    79         qc   \n",
       "2              150    79         qc   \n",
       "3               84    76         qc   \n",
       "4               44    76         qc   \n",
       "\n",
       "                                       20x LIMS link 63x go no go  \\\n",
       "0  http://lims2/focal_plane_image_series?id=56435...          NaN   \n",
       "1  http://lims2/focal_plane_image_series?id=56435...          NaN   \n",
       "2  http://lims2/focal_plane_image_series?id=56435...          NaN   \n",
       "3  http://lims2/focal_plane_image_series?id=56435...          NaN   \n",
       "4  http://lims2/focal_plane_image_series?id=56435...       63x go   \n",
       "\n",
       "            63x QC Confidence Bad dates                           Notes.1  \\\n",
       "0              NaN        NaN         x  did not aliquot internal, shared   \n",
       "1              NaN        NaN         x                               NaN   \n",
       "2              NaN        NaN         x                               NaN   \n",
       "3              NaN        NaN         x                               NaN   \n",
       "4  image_qc_passed        NaN         x                               NaN   \n",
       "\n",
       "   Unnamed: 78  \n",
       "0          NaN  \n",
       "1          NaN  \n",
       "2          NaN  \n",
       "3          NaN  \n",
       "4          NaN  \n",
       "\n",
       "[5 rows x 79 columns]"
      ]
     },
     "execution_count": 2,
     "metadata": {},
     "output_type": "execute_result"
    }
   ],
   "source": [
    "#load excel version of patchseq log\n",
    "\n",
    "df = pd.read_excel('Patch-seq log.xlsx', 'Mouse PatchSeq')\n",
    "df.head()"
   ]
  },
  {
   "cell_type": "code",
   "execution_count": 6,
   "metadata": {},
   "outputs": [
    {
     "data": {
      "text/plain": [
       "array([u'tdt+', nan, u'tdt-', u'pyr', u'exc', u'?', u'GFP+', u'cre-',\n",
       "       u'Cre+', u'None'], dtype=object)"
      ]
     },
     "execution_count": 6,
     "metadata": {},
     "output_type": "execute_result"
    }
   ],
   "source": [
    "df['cell type'].unique()"
   ]
  },
  {
   "cell_type": "code",
   "execution_count": 5,
   "metadata": {
    "collapsed": true
   },
   "outputs": [],
   "source": [
    "#remove cre- cells\n",
    "df = df[(df['cell type'] == 'tdt+') | (df['cell type'] == 'Cre+') | (df['cell type'] == 'GFP+')]\n",
    "\n",
    "#Sort out the Ndnf cells\n",
    "#this only looks for Ndnf cells by LIMS names right now\n",
    "\n",
    "#this won't work if LIMS ID is a number so make all of them a string\n",
    "df['Cre line'] = df['Slice (Lims ID?)'].map(lambda x: 'Ndnf' if \"Ndnf\" in str(x) else x)\n",
    "\n",
    "df = df[df['Cre line'] =='Ndnf']\n",
    "\n",
    "#drop all of the cells that can't be clustered\n",
    "df = df.dropna(subset = ['Cluster'])"
   ]
  },
  {
   "cell_type": "code",
   "execution_count": 6,
   "metadata": {},
   "outputs": [
    {
     "data": {
      "text/html": [
       "<div>\n",
       "<table border=\"1\" class=\"dataframe\">\n",
       "  <thead>\n",
       "    <tr style=\"text-align: right;\">\n",
       "      <th></th>\n",
       "      <th>\"</th>\n",
       "      <th>Date</th>\n",
       "      <th>User</th>\n",
       "      <th>Rig #</th>\n",
       "      <th>File</th>\n",
       "      <th>Ephys</th>\n",
       "      <th>Trans</th>\n",
       "      <th>Morph</th>\n",
       "      <th>Pilot</th>\n",
       "      <th>Pilot Details</th>\n",
       "      <th>...</th>\n",
       "      <th>Plate</th>\n",
       "      <th>20x status</th>\n",
       "      <th>20x LIMS link</th>\n",
       "      <th>63x go no go</th>\n",
       "      <th>63x QC</th>\n",
       "      <th>Confidence</th>\n",
       "      <th>Bad dates</th>\n",
       "      <th>Notes.1</th>\n",
       "      <th>Unnamed: 78</th>\n",
       "      <th>Cre line</th>\n",
       "    </tr>\n",
       "  </thead>\n",
       "  <tbody>\n",
       "    <tr>\n",
       "      <th>816</th>\n",
       "      <td>NaN</td>\n",
       "      <td>170301</td>\n",
       "      <td>P2</td>\n",
       "      <td>5</td>\n",
       "      <td>Ndnf-IRES2-dgCre;Ai14-303175.03.01.01</td>\n",
       "      <td>x</td>\n",
       "      <td>x</td>\n",
       "      <td>n</td>\n",
       "      <td>Tolias protocol</td>\n",
       "      <td>NaN</td>\n",
       "      <td>...</td>\n",
       "      <td>NaN</td>\n",
       "      <td>qc</td>\n",
       "      <td>http://lims2/focal_plane_image_series?id=57431...</td>\n",
       "      <td>NaN</td>\n",
       "      <td>NaN</td>\n",
       "      <td>NaN</td>\n",
       "      <td>NaN</td>\n",
       "      <td>NaN</td>\n",
       "      <td>NaN</td>\n",
       "      <td>Ndnf</td>\n",
       "    </tr>\n",
       "    <tr>\n",
       "      <th>817</th>\n",
       "      <td>NaN</td>\n",
       "      <td>170301</td>\n",
       "      <td>P2</td>\n",
       "      <td>5</td>\n",
       "      <td>Ndnf-IRES2-dgCre;Ai14-303175.03.01.02</td>\n",
       "      <td>x</td>\n",
       "      <td>x</td>\n",
       "      <td>n</td>\n",
       "      <td>Tolias protocol</td>\n",
       "      <td>NaN</td>\n",
       "      <td>...</td>\n",
       "      <td>NaN</td>\n",
       "      <td>qc</td>\n",
       "      <td>http://lims2/focal_plane_image_series?id=57431...</td>\n",
       "      <td>NaN</td>\n",
       "      <td>NaN</td>\n",
       "      <td>NaN</td>\n",
       "      <td>NaN</td>\n",
       "      <td>NaN</td>\n",
       "      <td>NaN</td>\n",
       "      <td>Ndnf</td>\n",
       "    </tr>\n",
       "    <tr>\n",
       "      <th>818</th>\n",
       "      <td>NaN</td>\n",
       "      <td>170301</td>\n",
       "      <td>P2</td>\n",
       "      <td>5</td>\n",
       "      <td>Ndnf-IRES2-dgCre;Ai14-303175.03.01.03</td>\n",
       "      <td>x</td>\n",
       "      <td>x</td>\n",
       "      <td>n</td>\n",
       "      <td>Tolias protocol</td>\n",
       "      <td>NaN</td>\n",
       "      <td>...</td>\n",
       "      <td>NaN</td>\n",
       "      <td>qc</td>\n",
       "      <td>http://lims2/focal_plane_image_series?id=57431...</td>\n",
       "      <td>NaN</td>\n",
       "      <td>NaN</td>\n",
       "      <td>NaN</td>\n",
       "      <td>NaN</td>\n",
       "      <td>NaN</td>\n",
       "      <td>NaN</td>\n",
       "      <td>Ndnf</td>\n",
       "    </tr>\n",
       "    <tr>\n",
       "      <th>821</th>\n",
       "      <td>NaN</td>\n",
       "      <td>170302</td>\n",
       "      <td>P1</td>\n",
       "      <td>6</td>\n",
       "      <td>Ndnf-IRES2-dgCre;Ai14-303177.03.01.01</td>\n",
       "      <td>x</td>\n",
       "      <td>x</td>\n",
       "      <td>n</td>\n",
       "      <td>Tolias protocol</td>\n",
       "      <td>NaN</td>\n",
       "      <td>...</td>\n",
       "      <td>NaN</td>\n",
       "      <td>qc</td>\n",
       "      <td>http://lims2/focal_plane_image_series?id=57431...</td>\n",
       "      <td>NaN</td>\n",
       "      <td>NaN</td>\n",
       "      <td>NaN</td>\n",
       "      <td>NaN</td>\n",
       "      <td>NaN</td>\n",
       "      <td>NaN</td>\n",
       "      <td>Ndnf</td>\n",
       "    </tr>\n",
       "    <tr>\n",
       "      <th>822</th>\n",
       "      <td>NaN</td>\n",
       "      <td>170302</td>\n",
       "      <td>P1</td>\n",
       "      <td>6</td>\n",
       "      <td>Ndnf-IRES2-dgCre;Ai14-303177.03.01.02</td>\n",
       "      <td>x</td>\n",
       "      <td>x</td>\n",
       "      <td>n</td>\n",
       "      <td>Tolias protocol</td>\n",
       "      <td>NaN</td>\n",
       "      <td>...</td>\n",
       "      <td>NaN</td>\n",
       "      <td>qc</td>\n",
       "      <td>http://lims2/focal_plane_image_series?id=57431...</td>\n",
       "      <td>NaN</td>\n",
       "      <td>NaN</td>\n",
       "      <td>NaN</td>\n",
       "      <td>NaN</td>\n",
       "      <td>NaN</td>\n",
       "      <td>NaN</td>\n",
       "      <td>Ndnf</td>\n",
       "    </tr>\n",
       "  </tbody>\n",
       "</table>\n",
       "<p>5 rows × 80 columns</p>\n",
       "</div>"
      ],
      "text/plain": [
       "      \"    Date User Rig #                                   File Ephys Trans  \\\n",
       "816 NaN  170301   P2     5  Ndnf-IRES2-dgCre;Ai14-303175.03.01.01     x     x   \n",
       "817 NaN  170301   P2     5  Ndnf-IRES2-dgCre;Ai14-303175.03.01.02     x     x   \n",
       "818 NaN  170301   P2     5  Ndnf-IRES2-dgCre;Ai14-303175.03.01.03     x     x   \n",
       "821 NaN  170302   P1     6  Ndnf-IRES2-dgCre;Ai14-303177.03.01.01     x     x   \n",
       "822 NaN  170302   P1     6  Ndnf-IRES2-dgCre;Ai14-303177.03.01.02     x     x   \n",
       "\n",
       "    Morph            Pilot Pilot Details    ...    Plate 20x status  \\\n",
       "816     n  Tolias protocol           NaN    ...      NaN         qc   \n",
       "817     n  Tolias protocol           NaN    ...      NaN         qc   \n",
       "818     n  Tolias protocol           NaN    ...      NaN         qc   \n",
       "821     n  Tolias protocol           NaN    ...      NaN         qc   \n",
       "822     n  Tolias protocol           NaN    ...      NaN         qc   \n",
       "\n",
       "                                         20x LIMS link  63x go no go 63x QC  \\\n",
       "816  http://lims2/focal_plane_image_series?id=57431...           NaN    NaN   \n",
       "817  http://lims2/focal_plane_image_series?id=57431...           NaN    NaN   \n",
       "818  http://lims2/focal_plane_image_series?id=57431...           NaN    NaN   \n",
       "821  http://lims2/focal_plane_image_series?id=57431...           NaN    NaN   \n",
       "822  http://lims2/focal_plane_image_series?id=57431...           NaN    NaN   \n",
       "\n",
       "    Confidence Bad dates Notes.1  Unnamed: 78  Cre line  \n",
       "816        NaN       NaN     NaN          NaN      Ndnf  \n",
       "817        NaN       NaN     NaN          NaN      Ndnf  \n",
       "818        NaN       NaN     NaN          NaN      Ndnf  \n",
       "821        NaN       NaN     NaN          NaN      Ndnf  \n",
       "822        NaN       NaN     NaN          NaN      Ndnf  \n",
       "\n",
       "[5 rows x 80 columns]"
      ]
     },
     "execution_count": 6,
     "metadata": {},
     "output_type": "execute_result"
    }
   ],
   "source": [
    "df.head()"
   ]
  },
  {
   "cell_type": "code",
   "execution_count": 9,
   "metadata": {
    "scrolled": true
   },
   "outputs": [
    {
     "data": {
      "text/plain": [
       "n14              16\n",
       "n6               12\n",
       "n3               11\n",
       "n5                9\n",
       "n13               9\n",
       "n4                6\n",
       "Lamp5 Nxph1_3     5\n",
       "Lamp5 Nxph1_1     2\n",
       "Lamp5 Rgs12_3     2\n",
       "n52               2\n",
       "n10               2\n",
       "n87               1\n",
       "n36               1\n",
       "L6a Syt17_4       1\n",
       "Sst Chodl         1\n",
       "Name: Cluster, dtype: int64"
      ]
     },
     "execution_count": 9,
     "metadata": {},
     "output_type": "execute_result"
    }
   ],
   "source": [
    "#look at what we have\n",
    "df['Cluster'].value_counts()"
   ]
  },
  {
   "cell_type": "code",
   "execution_count": 7,
   "metadata": {
    "collapsed": true
   },
   "outputs": [],
   "source": [
    "def get_nwb(specimen):\n",
    "    #SQL query to pull the nwb path name from LIMS. Also calls separate function\n",
    "    #to change path name from Linux to Windows\n",
    "    conn = pg8000.connect(user=\"limsreader\", host=\"limsdb2\", database=\"lims2\", password=\"limsro\", port=5432)\n",
    "    cur = conn.cursor()\n",
    "    \n",
    "    cur.execute(\"SELECT s.name, s.ephys_roi_result_id, s.id FROM specimens s WHERE s.name LIKE %s\", ('%' + specimen,))\n",
    "    result = cur.fetchone()\n",
    "    if result is None:\n",
    "        print \"Could not find specimen result for \" + specimen + \". Skipping...\"\n",
    "        return None\n",
    "    specimen_name = result[0]\n",
    "    ephys_roi_result_id = result[1]\n",
    "\n",
    "\n",
    "    cur.execute(\"SELECT f.filename, f.storage_directory FROM well_known_files f \\\n",
    "                 WHERE f.attachable_type = 'EphysRoiResult' AND f.attachable_id = %s AND f.filename LIKE '%%.nwb'\", \n",
    "                 (ephys_roi_result_id,))\n",
    "    result = cur.fetchone()\n",
    "    if result is None:\n",
    "        print \"Could not find json file for \" + specimen + \". Skipping...\"\n",
    "        return None\n",
    "    WinP = LinuxtoWindow(result[1])\n",
    "    json_path = WinP + result[0]\n",
    "\n",
    "    return json_path\n",
    "    conn.close()\n",
    "    \n",
    "def LinuxtoWindow(Linuxpath):\n",
    "    #sorts out the paths listed in LIMS\n",
    "    \n",
    "    SplitLinux = Linuxpath.split('/')\n",
    "    if 'allen' in Linuxpath:\n",
    "        return (r\"\\\\\" + os.path.join(SplitLinux[0], SplitLinux[1],SplitLinux[2], 'celltypes',SplitLinux[4],SplitLinux[5],SplitLinux[6],SplitLinux[7],''))\n",
    "    else:\n",
    "        return (r\"\\\\\" + os.path.join(SplitLinux[0],'allen','programs','celltypes', 'production',\n",
    "                                     SplitLinux[2], SplitLinux[4],SplitLinux[5],''))"
   ]
  },
  {
   "cell_type": "code",
   "execution_count": 8,
   "metadata": {},
   "outputs": [
    {
     "ename": "NameError",
     "evalue": "name 'cell' is not defined",
     "output_type": "error",
     "traceback": [
      "\u001b[1;31m---------------------------------------------------------------------------\u001b[0m",
      "\u001b[1;31mNameError\u001b[0m                                 Traceback (most recent call last)",
      "\u001b[1;32m<ipython-input-8-65f7e6db0a2d>\u001b[0m in \u001b[0;36m<module>\u001b[1;34m()\u001b[0m\n\u001b[1;32m----> 1\u001b[1;33m \u001b[0mget_nwb\u001b[0m\u001b[1;33m(\u001b[0m\u001b[0mcell\u001b[0m\u001b[1;33m)\u001b[0m\u001b[1;33m\u001b[0m\u001b[0m\n\u001b[0m",
      "\u001b[1;31mNameError\u001b[0m: name 'cell' is not defined"
     ]
    }
   ],
   "source": [
    "get_nwb(cell)"
   ]
  },
  {
   "cell_type": "code",
   "execution_count": 9,
   "metadata": {},
   "outputs": [
    {
     "data": {
      "text/plain": [
       "u'\\\\\\\\allen\\\\programs\\\\celltypes\\\\production\\\\mousecelltypes\\\\prod90\\\\Ephys_Roi_Result_571715912\\\\571715912.nwb'"
      ]
     },
     "execution_count": 9,
     "metadata": {},
     "output_type": "execute_result"
    }
   ],
   "source": [
    "data = NwbDataSet(get_nwb(df['File'].iloc[40]))\n",
    "#nwb_path = '\\\\\\\\allen\\programs\\\\celltypes\\\\production\\\\mousecelltypes\\\\prod170\\\\Ephys_Roi_Result_623440512\\\\623440512.nwb'\n",
    "#data = NwbDataSet(nwb_path)\n",
    "get_nwb(df['File'].iloc[0])"
   ]
  },
  {
   "cell_type": "code",
   "execution_count": 8,
   "metadata": {
    "scrolled": true
   },
   "outputs": [
    {
     "name": "stderr",
     "output_type": "stream",
     "text": [
      "C:\\Users\\aarono\\AppData\\Local\\Continuum\\anaconda2\\lib\\site-packages\\pandas\\core\\indexing.py:141: SettingWithCopyWarning: \n",
      "A value is trying to be set on a copy of a slice from a DataFrame\n",
      "\n",
      "See the caveats in the documentation: http://pandas.pydata.org/pandas-docs/stable/indexing.html#indexing-view-versus-copy\n",
      "  self._setitem_with_indexer(indexer, value)\n"
     ]
    },
    {
     "name": "stdout",
     "output_type": "stream",
     "text": [
      "Could not find json file for Ndnf-IRES2-dgCre;Ai14-341277.05.02.02. Skipping...\n",
      "Could not find json file for Ndnf-IRES2-dgCre;Ai14-353737.04.01. Skipping...\n",
      "Could not find json file for Ndnf-IRES2-dgCre;Ai14-353737.03.01. Skipping...\n"
     ]
    }
   ],
   "source": [
    "df['nwb_path'] = None\n",
    "for i, cell in enumerate(df['File']):\n",
    "    df['nwb_path'].iloc[i] = get_nwb(cell)\n",
    "\n",
    "#remove the one cell that you can't find the nwb path on\n",
    "df = df.dropna(subset = ['nwb_path'])"
   ]
  },
  {
   "cell_type": "markdown",
   "metadata": {},
   "source": [
    "# Use the Allen SDK to find the spiking sweeps"
   ]
  },
  {
   "cell_type": "code",
   "execution_count": 25,
   "metadata": {
    "scrolled": true
   },
   "outputs": [],
   "source": [
    "for i, cell in enumerate(df['nwb_path']):\n",
    "    data = NwbDataSet(cell)\n",
    "    for sweep in sorted(sorted(data.get_sweep_numbers())):\n",
    "        sweep_data = data.get_sweep(sweep)\n",
    "        v = sweep_data['response']\n",
    "        i = sweep_data['stimulus']\n",
    "        v *= 1e3\n",
    "        i *= 1e12\n",
    "        t = np.arange(0,len(v)) *1./sweep_data['sampling_rate']\n",
    "        if len(t) > 2.5:\n",
    "            try:\n",
    "                sweep_ext = EphysSweepFeatureExtractor(t=t, v=v, i=i, start=1.02, end=2.02)\n",
    "                sweep_ext.process_spikes()\n",
    "                spike_times = sweep_ext.spike_feature('threshold_t')\n",
    "                if len(spike_times) > 0:\n",
    "                    print df['File'].iloc[i]\n",
    "                    #plt.figure()\n",
    "                    #plt.plot(t,v)\n",
    "                    #plt.title(df['File'].iloc[i])\n",
    "                    break\n",
    "                \n",
    "            except:\n",
    "                continue"
   ]
  },
  {
   "cell_type": "code",
   "execution_count": 27,
   "metadata": {},
   "outputs": [
    {
     "ename": "AttributeError",
     "evalue": "EphysSweepFeatureExtractor instance attribute with spike information does not exist yet - have spikes been processed?",
     "output_type": "error",
     "traceback": [
      "\u001b[1;31m---------------------------------------------------------------------------\u001b[0m",
      "\u001b[1;31mAttributeError\u001b[0m                            Traceback (most recent call last)",
      "\u001b[1;32m<ipython-input-27-0241d3a91c5e>\u001b[0m in \u001b[0;36m<module>\u001b[1;34m()\u001b[0m\n\u001b[1;32m----> 1\u001b[1;33m \u001b[0msweep_ext\u001b[0m\u001b[1;33m.\u001b[0m\u001b[0mspike_feature\u001b[0m\u001b[1;33m(\u001b[0m\u001b[1;34m'threshold_t'\u001b[0m\u001b[1;33m)\u001b[0m\u001b[1;33m\u001b[0m\u001b[0m\n\u001b[0m",
      "\u001b[1;32mC:\\Users\\aarono\\AppData\\Local\\Continuum\\anaconda2\\lib\\site-packages\\allensdk\\ephys\\ephys_extractor.pyc\u001b[0m in \u001b[0;36mspike_feature\u001b[1;34m(self, key, include_clipped, force_exclude_clipped)\u001b[0m\n\u001b[0;32m    517\u001b[0m \u001b[1;33m\u001b[0m\u001b[0m\n\u001b[0;32m    518\u001b[0m         \u001b[1;32mif\u001b[0m \u001b[1;32mnot\u001b[0m \u001b[0mhasattr\u001b[0m\u001b[1;33m(\u001b[0m\u001b[0mself\u001b[0m\u001b[1;33m,\u001b[0m \u001b[1;34m\"_spikes_df\"\u001b[0m\u001b[1;33m)\u001b[0m\u001b[1;33m:\u001b[0m\u001b[1;33m\u001b[0m\u001b[0m\n\u001b[1;32m--> 519\u001b[1;33m             \u001b[1;32mraise\u001b[0m \u001b[0mAttributeError\u001b[0m\u001b[1;33m(\u001b[0m\u001b[1;34m\"EphysSweepFeatureExtractor instance attribute with spike information does not exist yet - have spikes been processed?\"\u001b[0m\u001b[1;33m)\u001b[0m\u001b[1;33m\u001b[0m\u001b[0m\n\u001b[0m\u001b[0;32m    520\u001b[0m \u001b[1;33m\u001b[0m\u001b[0m\n\u001b[0;32m    521\u001b[0m         \u001b[1;32mif\u001b[0m \u001b[0mlen\u001b[0m\u001b[1;33m(\u001b[0m\u001b[0mself\u001b[0m\u001b[1;33m.\u001b[0m\u001b[0m_spikes_df\u001b[0m\u001b[1;33m)\u001b[0m \u001b[1;33m==\u001b[0m \u001b[1;36m0\u001b[0m\u001b[1;33m:\u001b[0m\u001b[1;33m\u001b[0m\u001b[0m\n",
      "\u001b[1;31mAttributeError\u001b[0m: EphysSweepFeatureExtractor instance attribute with spike information does not exist yet - have spikes been processed?"
     ]
    }
   ],
   "source": [
    "sweep_ext.spike_feature('threshold_t')"
   ]
  },
  {
   "cell_type": "code",
   "execution_count": 47,
   "metadata": {
    "scrolled": true
   },
   "outputs": [
    {
     "name": "stdout",
     "output_type": "stream",
     "text": [
      "\\\\allen\\programs\\celltypes\\production\\mousecelltypes\\prod90\\Ephys_Roi_Result_571715912\\571715912.nwb\n",
      "\\\\allen\\programs\\celltypes\\production\\mousecelltypes\\prod90\\Ephys_Roi_Result_571722957\\571722957.nwb\n",
      "\\\\allen\\programs\\celltypes\\production\\mousecelltypes\\prod90\\Ephys_Roi_Result_571732432\\571732432.nwb\n",
      "\\\\allen\\programs\\celltypes\\production\\mousecelltypes\\prod90\\Ephys_Roi_Result_571851193\\571851193.nwb\n",
      "\\\\allen\\programs\\celltypes\\production\\mousecelltypes\\prod90\\Ephys_Roi_Result_571862831\\571862831.nwb\n",
      "\\\\allen\\programs\\celltypes\\production\\mousecelltypes\\prod90\\Ephys_Roi_Result_571867450\\571867450.nwb\n",
      "\\\\allen\\programs\\celltypes\\production\\mousecelltypes\\prod90\\Ephys_Roi_Result_571900460\\571900460.nwb\n",
      "\\\\allen\\programs\\celltypes\\production\\mousecelltypes\\prod90\\Ephys_Roi_Result_571906843\\571906843.nwb\n",
      "\\\\allen\\programs\\celltypes\\production\\mousecelltypes\\prod90\\Ephys_Roi_Result_571914898\\571914898.nwb\n",
      "\\\\allen\\programs\\celltypes\\production\\mousecelltypes\\prod90\\Ephys_Roi_Result_571918859\\571918859.nwb\n",
      "\\\\allen\\programs\\celltypes\\production\\mousecelltypes\\prod90\\Ephys_Roi_Result_571939159\\571939159.nwb\n",
      "\\\\allen\\programs\\celltypes\\production\\mousecelltypes\\prod90\\Ephys_Roi_Result_571943863\\571943863.nwb\n",
      "\\\\allen\\programs\\celltypes\\production\\mousecelltypes\\prod90\\Ephys_Roi_Result_571827891\\571827891.nwb\n",
      "\\\\allen\\programs\\celltypes\\production\\mousecelltypes\\prod90\\Ephys_Roi_Result_571851333\\571851333.nwb\n",
      "\\\\allen\\programs\\celltypes\\production\\mousecelltypes\\prod90\\Ephys_Roi_Result_571863228\\571863228.nwb\n",
      "\\\\allen\\programs\\celltypes\\production\\mousecelltypes\\prod90\\Ephys_Roi_Result_571879555\\571879555.nwb\n",
      "\\\\allen\\programs\\celltypes\\production\\mousecelltypes\\prod90\\Ephys_Roi_Result_571888810\\571888810.nwb\n",
      "\\\\allen\\programs\\celltypes\\production\\mousecelltypes\\prod90\\Ephys_Roi_Result_571919004\\571919004.nwb\n",
      "\\\\allen\\programs\\celltypes\\production\\mousecelltypes\\prod90\\Ephys_Roi_Result_571925381\\571925381.nwb\n",
      "\\\\allen\\programs\\celltypes\\production\\mousecelltypes\\prod90\\Ephys_Roi_Result_571944017\\571944017.nwb\n",
      "\\\\allen\\programs\\celltypes\\production\\mousecelltypes\\prod90\\Ephys_Roi_Result_571956303\\571956303.nwb\n",
      "\\\\allen\\programs\\celltypes\\production\\mousecelltypes\\prod91\\Ephys_Roi_Result_572294774\\572294774.nwb\n",
      "\\\\allen\\programs\\celltypes\\production\\mousecelltypes\\prod91\\Ephys_Roi_Result_573648811\\573648811.nwb\n",
      "\\\\allen\\programs\\celltypes\\production\\mousecelltypes\\prod91\\Ephys_Roi_Result_573667610\\573667610.nwb\n",
      "\\\\allen\\programs\\celltypes\\production\\mousecelltypes\\prod91\\Ephys_Roi_Result_573670322\\573670322.nwb\n",
      "\\\\allen\\programs\\celltypes\\production\\mousecelltypes\\prod91\\Ephys_Roi_Result_573672538\\573672538.nwb\n",
      "\\\\allen\\programs\\celltypes\\production\\mousecelltypes\\prod91\\Ephys_Roi_Result_573678834\\573678834.nwb\n",
      "\\\\allen\\programs\\celltypes\\production\\mousecelltypes\\prod91\\Ephys_Roi_Result_573685380\\573685380.nwb\n",
      "\\\\allen\\programs\\celltypes\\production\\mousecelltypes\\prod91\\Ephys_Roi_Result_573641426\\573641426.nwb\n",
      "\\\\allen\\programs\\celltypes\\production\\mousecelltypes\\prod91\\Ephys_Roi_Result_573646391\\573646391.nwb\n",
      "\\\\allen\\programs\\celltypes\\production\\mousecelltypes\\prod91\\Ephys_Roi_Result_573667491\\573667491.nwb\n",
      "\\\\allen\\programs\\celltypes\\production\\mousecelltypes\\prod91\\Ephys_Roi_Result_573675084\\573675084.nwb\n",
      "\\\\allen\\programs\\celltypes\\production\\mousecelltypes\\prod91\\Ephys_Roi_Result_573678736\\573678736.nwb\n",
      "\\\\allen\\programs\\celltypes\\production\\mousecelltypes\\prod91\\Ephys_Roi_Result_573688816\\573688816.nwb\n",
      "\\\\allen\\programs\\celltypes\\production\\mousecelltypes\\prod128\\Ephys_Roi_Result_609872825\\609872825.nwb\n",
      "\\\\allen\\programs\\celltypes\\production\\mousecelltypes\\prod128\\Ephys_Roi_Result_609887089\\609887089.nwb\n",
      "\\\\allen\\programs\\celltypes\\production\\mousecelltypes\\prod128\\Ephys_Roi_Result_609899154\\609899154.nwb\n",
      "\\\\allen\\programs\\celltypes\\production\\mousecelltypes\\prod128\\Ephys_Roi_Result_609919637\\609919637.nwb\n",
      "\\\\allen\\programs\\celltypes\\production\\mousecelltypes\\prod1173\\Ephys_Roi_Result_610862261\\610862261.nwb\n",
      "\\\\allen\\programs\\celltypes\\production\\mousecelltypes\\prod1173\\Ephys_Roi_Result_610869303\\610869303.nwb\n",
      "\\\\allen\\programs\\celltypes\\production\\mousecelltypes\\prod0\\Ephys_Roi_Result_642402432\\642402432.nwb\n",
      "\\\\allen\\programs\\celltypes\\production\\mousecelltypes\\prod0\\Ephys_Roi_Result_642421401\\642421401.nwb\n",
      "\\\\allen\\programs\\celltypes\\production\\mousecelltypes\\prod0\\Ephys_Roi_Result_642429394\\642429394.nwb\n",
      "\\\\allen\\programs\\celltypes\\production\\mousecelltypes\\prod0\\Ephys_Roi_Result_642410507\\642410507.nwb\n",
      "\\\\allen\\programs\\celltypes\\production\\mousecelltypes\\prod0\\Ephys_Roi_Result_642442471\\642442471.nwb\n",
      "\\\\allen\\programs\\celltypes\\production\\mousecelltypes\\prod0\\Ephys_Roi_Result_642833493\\642833493.nwb\n",
      "\\\\allen\\programs\\celltypes\\production\\mousecelltypes\\prod0\\Ephys_Roi_Result_642947264\\642947264.nwb\n",
      "\\\\allen\\programs\\celltypes\\production\\mousecelltypes\\prod0\\Ephys_Roi_Result_643190923\\643190923.nwb\n",
      "\\\\allen\\programs\\celltypes\\production\\mousecelltypes\\prod1\\Ephys_Roi_Result_644848041\\644848041.nwb\n",
      "\\\\allen\\programs\\celltypes\\production\\mousecelltypes\\prod1\\Ephys_Roi_Result_644857295\\644857295.nwb\n",
      "\\\\allen\\programs\\celltypes\\production\\mousecelltypes\\prod1\\Ephys_Roi_Result_644842687\\644842687.nwb\n",
      "\\\\allen\\programs\\celltypes\\production\\mousecelltypes\\prod1\\Ephys_Roi_Result_644846448\\644846448.nwb\n",
      "\\\\allen\\programs\\celltypes\\production\\mousecelltypes\\prod1\\Ephys_Roi_Result_644834557\\644834557.nwb\n",
      "\\\\allen\\programs\\celltypes\\production\\mousecelltypes\\prod1\\Ephys_Roi_Result_644917806\\644917806.nwb\n",
      "\\\\allen\\programs\\celltypes\\production\\mousecelltypes\\prod1\\Ephys_Roi_Result_644919278\\644919278.nwb\n",
      "\\\\allen\\programs\\celltypes\\production\\mousecelltypes\\prod1\\Ephys_Roi_Result_644941714\\644941714.nwb\n",
      "\\\\allen\\programs\\celltypes\\production\\mousecelltypes\\prod1\\Ephys_Roi_Result_644917628\\644917628.nwb\n",
      "\\\\allen\\programs\\celltypes\\production\\mousecelltypes\\prod1\\Ephys_Roi_Result_644934909\\644934909.nwb\n",
      "\\\\allen\\programs\\celltypes\\production\\mousecelltypes\\prod1\\Ephys_Roi_Result_644935833\\644935833.nwb\n",
      "\\\\allen\\programs\\celltypes\\production\\mousecelltypes\\prod1\\Ephys_Roi_Result_644941178\\644941178.nwb\n",
      "\\\\allen\\programs\\celltypes\\production\\mousecelltypes\\prod1\\Ephys_Roi_Result_644941905\\644941905.nwb\n",
      "\\\\allen\\programs\\celltypes\\production\\mousecelltypes\\prod1\\Ephys_Roi_Result_644919364\\644919364.nwb\n",
      "\\\\allen\\programs\\celltypes\\production\\mousecelltypes\\prod1\\Ephys_Roi_Result_644919620\\644919620.nwb\n",
      "\\\\allen\\programs\\celltypes\\production\\mousecelltypes\\prod1\\Ephys_Roi_Result_644945968\\644945968.nwb\n",
      "\\\\allen\\programs\\celltypes\\production\\mousecelltypes\\prod1\\Ephys_Roi_Result_644946393\\644946393.nwb\n"
     ]
    },
    {
     "ename": "KeyboardInterrupt",
     "evalue": "",
     "output_type": "error",
     "traceback": [
      "\u001b[1;31m---------------------------------------------------------------------------\u001b[0m",
      "\u001b[1;31mKeyboardInterrupt\u001b[0m                         Traceback (most recent call last)",
      "\u001b[1;32m<ipython-input-47-2933cb8f5395>\u001b[0m in \u001b[0;36m<module>\u001b[1;34m()\u001b[0m\n\u001b[0;32m     22\u001b[0m         \u001b[1;31m#look at C1LSCOARSE\u001b[0m\u001b[1;33m\u001b[0m\u001b[1;33m\u001b[0m\u001b[0m\n\u001b[0;32m     23\u001b[0m         \u001b[1;32mif\u001b[0m \u001b[0mt\u001b[0m \u001b[1;33m>\u001b[0m  \u001b[1;36m6.0\u001b[0m \u001b[1;32mand\u001b[0m \u001b[0mt\u001b[0m \u001b[1;33m<\u001b[0m \u001b[1;36m6.021\u001b[0m\u001b[1;33m:\u001b[0m\u001b[1;33m\u001b[0m\u001b[0m\n\u001b[1;32m---> 24\u001b[1;33m             \u001b[0mdf\u001b[0m\u001b[1;33m[\u001b[0m\u001b[1;34m'sweep_type'\u001b[0m\u001b[1;33m]\u001b[0m\u001b[1;33m.\u001b[0m\u001b[0miloc\u001b[0m\u001b[1;33m[\u001b[0m\u001b[0mi\u001b[0m\u001b[1;33m]\u001b[0m \u001b[1;33m=\u001b[0m \u001b[1;34m'fine'\u001b[0m\u001b[1;33m\u001b[0m\u001b[0m\n\u001b[0m\u001b[0;32m     25\u001b[0m             \u001b[0mdf\u001b[0m\u001b[1;33m[\u001b[0m\u001b[1;34m'sweep_num'\u001b[0m\u001b[1;33m]\u001b[0m\u001b[1;33m.\u001b[0m\u001b[0miloc\u001b[0m\u001b[1;33m[\u001b[0m\u001b[0mi\u001b[0m\u001b[1;33m]\u001b[0m \u001b[1;33m=\u001b[0m \u001b[0msweep\u001b[0m\u001b[1;33m\u001b[0m\u001b[0m\n\u001b[0;32m     26\u001b[0m \u001b[1;33m\u001b[0m\u001b[0m\n",
      "\u001b[1;32mC:\\Users\\aarono\\AppData\\Local\\Continuum\\anaconda2\\lib\\site-packages\\pandas\\core\\indexing.pyc\u001b[0m in \u001b[0;36m__setitem__\u001b[1;34m(self, key, value)\u001b[0m\n\u001b[0;32m    139\u001b[0m             \u001b[0mkey\u001b[0m \u001b[1;33m=\u001b[0m \u001b[0mcom\u001b[0m\u001b[1;33m.\u001b[0m\u001b[0m_apply_if_callable\u001b[0m\u001b[1;33m(\u001b[0m\u001b[0mkey\u001b[0m\u001b[1;33m,\u001b[0m \u001b[0mself\u001b[0m\u001b[1;33m.\u001b[0m\u001b[0mobj\u001b[0m\u001b[1;33m)\u001b[0m\u001b[1;33m\u001b[0m\u001b[0m\n\u001b[0;32m    140\u001b[0m         \u001b[0mindexer\u001b[0m \u001b[1;33m=\u001b[0m \u001b[0mself\u001b[0m\u001b[1;33m.\u001b[0m\u001b[0m_get_setitem_indexer\u001b[0m\u001b[1;33m(\u001b[0m\u001b[0mkey\u001b[0m\u001b[1;33m)\u001b[0m\u001b[1;33m\u001b[0m\u001b[0m\n\u001b[1;32m--> 141\u001b[1;33m         \u001b[0mself\u001b[0m\u001b[1;33m.\u001b[0m\u001b[0m_setitem_with_indexer\u001b[0m\u001b[1;33m(\u001b[0m\u001b[0mindexer\u001b[0m\u001b[1;33m,\u001b[0m \u001b[0mvalue\u001b[0m\u001b[1;33m)\u001b[0m\u001b[1;33m\u001b[0m\u001b[0m\n\u001b[0m\u001b[0;32m    142\u001b[0m \u001b[1;33m\u001b[0m\u001b[0m\n\u001b[0;32m    143\u001b[0m     \u001b[1;32mdef\u001b[0m \u001b[0m_has_valid_type\u001b[0m\u001b[1;33m(\u001b[0m\u001b[0mself\u001b[0m\u001b[1;33m,\u001b[0m \u001b[0mk\u001b[0m\u001b[1;33m,\u001b[0m \u001b[0maxis\u001b[0m\u001b[1;33m)\u001b[0m\u001b[1;33m:\u001b[0m\u001b[1;33m\u001b[0m\u001b[0m\n",
      "\u001b[1;32mC:\\Users\\aarono\\AppData\\Local\\Continuum\\anaconda2\\lib\\site-packages\\pandas\\core\\indexing.pyc\u001b[0m in \u001b[0;36m_setitem_with_indexer\u001b[1;34m(self, indexer, value)\u001b[0m\n\u001b[0;32m    577\u001b[0m             \u001b[0mself\u001b[0m\u001b[1;33m.\u001b[0m\u001b[0mobj\u001b[0m\u001b[1;33m.\u001b[0m\u001b[0m_consolidate_inplace\u001b[0m\u001b[1;33m(\u001b[0m\u001b[1;33m)\u001b[0m\u001b[1;33m\u001b[0m\u001b[0m\n\u001b[0;32m    578\u001b[0m             self.obj._data = self.obj._data.setitem(indexer=indexer,\n\u001b[1;32m--> 579\u001b[1;33m                                                     value=value)\n\u001b[0m\u001b[0;32m    580\u001b[0m             \u001b[0mself\u001b[0m\u001b[1;33m.\u001b[0m\u001b[0mobj\u001b[0m\u001b[1;33m.\u001b[0m\u001b[0m_maybe_update_cacher\u001b[0m\u001b[1;33m(\u001b[0m\u001b[0mclear\u001b[0m\u001b[1;33m=\u001b[0m\u001b[0mTrue\u001b[0m\u001b[1;33m)\u001b[0m\u001b[1;33m\u001b[0m\u001b[0m\n\u001b[0;32m    581\u001b[0m \u001b[1;33m\u001b[0m\u001b[0m\n",
      "\u001b[1;32mC:\\Users\\aarono\\AppData\\Local\\Continuum\\anaconda2\\lib\\site-packages\\pandas\\core\\internals.pyc\u001b[0m in \u001b[0;36msetitem\u001b[1;34m(self, **kwargs)\u001b[0m\n\u001b[0;32m   3166\u001b[0m \u001b[1;33m\u001b[0m\u001b[0m\n\u001b[0;32m   3167\u001b[0m     \u001b[1;32mdef\u001b[0m \u001b[0msetitem\u001b[0m\u001b[1;33m(\u001b[0m\u001b[0mself\u001b[0m\u001b[1;33m,\u001b[0m \u001b[1;33m**\u001b[0m\u001b[0mkwargs\u001b[0m\u001b[1;33m)\u001b[0m\u001b[1;33m:\u001b[0m\u001b[1;33m\u001b[0m\u001b[0m\n\u001b[1;32m-> 3168\u001b[1;33m         \u001b[1;32mreturn\u001b[0m \u001b[0mself\u001b[0m\u001b[1;33m.\u001b[0m\u001b[0mapply\u001b[0m\u001b[1;33m(\u001b[0m\u001b[1;34m'setitem'\u001b[0m\u001b[1;33m,\u001b[0m \u001b[1;33m**\u001b[0m\u001b[0mkwargs\u001b[0m\u001b[1;33m)\u001b[0m\u001b[1;33m\u001b[0m\u001b[0m\n\u001b[0m\u001b[0;32m   3169\u001b[0m \u001b[1;33m\u001b[0m\u001b[0m\n\u001b[0;32m   3170\u001b[0m     \u001b[1;32mdef\u001b[0m \u001b[0mputmask\u001b[0m\u001b[1;33m(\u001b[0m\u001b[0mself\u001b[0m\u001b[1;33m,\u001b[0m \u001b[1;33m**\u001b[0m\u001b[0mkwargs\u001b[0m\u001b[1;33m)\u001b[0m\u001b[1;33m:\u001b[0m\u001b[1;33m\u001b[0m\u001b[0m\n",
      "\u001b[1;32mC:\\Users\\aarono\\AppData\\Local\\Continuum\\anaconda2\\lib\\site-packages\\pandas\\core\\internals.pyc\u001b[0m in \u001b[0;36mapply\u001b[1;34m(self, f, axes, filter, do_integrity_check, consolidate, **kwargs)\u001b[0m\n\u001b[0;32m   3054\u001b[0m \u001b[1;33m\u001b[0m\u001b[0m\n\u001b[0;32m   3055\u001b[0m             \u001b[0mkwargs\u001b[0m\u001b[1;33m[\u001b[0m\u001b[1;34m'mgr'\u001b[0m\u001b[1;33m]\u001b[0m \u001b[1;33m=\u001b[0m \u001b[0mself\u001b[0m\u001b[1;33m\u001b[0m\u001b[0m\n\u001b[1;32m-> 3056\u001b[1;33m             \u001b[0mapplied\u001b[0m \u001b[1;33m=\u001b[0m \u001b[0mgetattr\u001b[0m\u001b[1;33m(\u001b[0m\u001b[0mb\u001b[0m\u001b[1;33m,\u001b[0m \u001b[0mf\u001b[0m\u001b[1;33m)\u001b[0m\u001b[1;33m(\u001b[0m\u001b[1;33m**\u001b[0m\u001b[0mkwargs\u001b[0m\u001b[1;33m)\u001b[0m\u001b[1;33m\u001b[0m\u001b[0m\n\u001b[0m\u001b[0;32m   3057\u001b[0m             \u001b[0mresult_blocks\u001b[0m \u001b[1;33m=\u001b[0m \u001b[0m_extend_blocks\u001b[0m\u001b[1;33m(\u001b[0m\u001b[0mapplied\u001b[0m\u001b[1;33m,\u001b[0m \u001b[0mresult_blocks\u001b[0m\u001b[1;33m)\u001b[0m\u001b[1;33m\u001b[0m\u001b[0m\n\u001b[0;32m   3058\u001b[0m \u001b[1;33m\u001b[0m\u001b[0m\n",
      "\u001b[1;32mC:\\Users\\aarono\\AppData\\Local\\Continuum\\anaconda2\\lib\\site-packages\\pandas\\core\\internals.pyc\u001b[0m in \u001b[0;36msetitem\u001b[1;34m(self, indexer, value, mgr)\u001b[0m\n\u001b[0;32m    666\u001b[0m \u001b[1;33m\u001b[0m\u001b[0m\n\u001b[0;32m    667\u001b[0m         \u001b[1;31m# coerce args\u001b[0m\u001b[1;33m\u001b[0m\u001b[1;33m\u001b[0m\u001b[0m\n\u001b[1;32m--> 668\u001b[1;33m         \u001b[0mvalues\u001b[0m\u001b[1;33m,\u001b[0m \u001b[0m_\u001b[0m\u001b[1;33m,\u001b[0m \u001b[0mvalue\u001b[0m\u001b[1;33m,\u001b[0m \u001b[0m_\u001b[0m \u001b[1;33m=\u001b[0m \u001b[0mself\u001b[0m\u001b[1;33m.\u001b[0m\u001b[0m_try_coerce_args\u001b[0m\u001b[1;33m(\u001b[0m\u001b[0mself\u001b[0m\u001b[1;33m.\u001b[0m\u001b[0mvalues\u001b[0m\u001b[1;33m,\u001b[0m \u001b[0mvalue\u001b[0m\u001b[1;33m)\u001b[0m\u001b[1;33m\u001b[0m\u001b[0m\n\u001b[0m\u001b[0;32m    669\u001b[0m         \u001b[0marr_value\u001b[0m \u001b[1;33m=\u001b[0m \u001b[0mnp\u001b[0m\u001b[1;33m.\u001b[0m\u001b[0marray\u001b[0m\u001b[1;33m(\u001b[0m\u001b[0mvalue\u001b[0m\u001b[1;33m)\u001b[0m\u001b[1;33m\u001b[0m\u001b[0m\n\u001b[0;32m    670\u001b[0m \u001b[1;33m\u001b[0m\u001b[0m\n",
      "\u001b[1;31mKeyboardInterrupt\u001b[0m: "
     ]
    }
   ],
   "source": [
    "df['sweep_type'] = None\n",
    "df['Spike_time'] = None\n",
    "#f['Rheobase'] = None\n",
    "\n",
    "for i, cell in enumerate(df['nwb_path']):\n",
    "    data = NwbDataSet(cell)\n",
    "    print cell\n",
    "    for sweep in sorted(sorted(data.get_sweep_numbers())):\n",
    "        sweep_data = data.get_sweep(sweep)\n",
    "        number = int(sweep)\n",
    "        index_range = sweep_data['index_range']\n",
    "        \n",
    "        #find C1LSCOARSEMICRO by len for right now\n",
    "        sampling_rate = sweep_data[\"sampling_rate\"] # in Hz\n",
    "        t = len(sweep_data[\"response\"][0:index_range[1]+1])/sampling_rate\n",
    "        if t >  4.0 and t < 4.021:\n",
    "            df['sweep_type'].iloc[i] = 'micro'\n",
    "            df['sweep_num'].iloc[i] = sweep\n",
    "\n",
    "            break\n",
    "            \n",
    "        #look at C1LSCOARSE\n",
    "        if t >  6.0 and t < 6.021:\n",
    "            df['sweep_type'].iloc[i] = 'fine'\n",
    "            df['sweep_num'].iloc[i] = sweep\n",
    "            break\n",
    "        \n",
    "        #look at C1LSFINEST\n",
    "        if t >  8.0 and t < 8.021:\n",
    "            df['sweep_type'].iloc[i] = 'coarse'\n",
    "            df['sweep_num'].iloc[i] = sweep\n",
    "            break"
   ]
  },
  {
   "cell_type": "code",
   "execution_count": 49,
   "metadata": {},
   "outputs": [
    {
     "data": {
      "text/plain": [
       "sweep_type\n",
       "fine     25\n",
       "micro    39\n",
       "dtype: int64"
      ]
     },
     "execution_count": 49,
     "metadata": {},
     "output_type": "execute_result"
    }
   ],
   "source": [
    "df.groupby(['sweep_type']).size()"
   ]
  },
  {
   "cell_type": "code",
   "execution_count": 34,
   "metadata": {
    "scrolled": true
   },
   "outputs": [
    {
     "name": "stdout",
     "output_type": "stream",
     "text": [
      "\\\\allen\\programs\\celltypes\\production\\mousecelltypes\\prod90\\Ephys_Roi_Result_571715912\\571715912.nwb\n",
      "\\\\allen\\programs\\celltypes\\production\\mousecelltypes\\prod90\\Ephys_Roi_Result_571722957\\571722957.nwb\n",
      "\\\\allen\\programs\\celltypes\\production\\mousecelltypes\\prod90\\Ephys_Roi_Result_571732432\\571732432.nwb\n",
      "\\\\allen\\programs\\celltypes\\production\\mousecelltypes\\prod90\\Ephys_Roi_Result_571851193\\571851193.nwb\n",
      "\\\\allen\\programs\\celltypes\\production\\mousecelltypes\\prod90\\Ephys_Roi_Result_571862831\\571862831.nwb\n",
      "\\\\allen\\programs\\celltypes\\production\\mousecelltypes\\prod90\\Ephys_Roi_Result_571867450\\571867450.nwb\n",
      "\\\\allen\\programs\\celltypes\\production\\mousecelltypes\\prod90\\Ephys_Roi_Result_571900460\\571900460.nwb\n",
      "\\\\allen\\programs\\celltypes\\production\\mousecelltypes\\prod90\\Ephys_Roi_Result_571906843\\571906843.nwb\n",
      "\\\\allen\\programs\\celltypes\\production\\mousecelltypes\\prod90\\Ephys_Roi_Result_571914898\\571914898.nwb\n",
      "\\\\allen\\programs\\celltypes\\production\\mousecelltypes\\prod90\\Ephys_Roi_Result_571918859\\571918859.nwb\n",
      "\\\\allen\\programs\\celltypes\\production\\mousecelltypes\\prod90\\Ephys_Roi_Result_571939159\\571939159.nwb\n",
      "\\\\allen\\programs\\celltypes\\production\\mousecelltypes\\prod90\\Ephys_Roi_Result_571943863\\571943863.nwb\n",
      "\\\\allen\\programs\\celltypes\\production\\mousecelltypes\\prod90\\Ephys_Roi_Result_571827891\\571827891.nwb\n",
      "\\\\allen\\programs\\celltypes\\production\\mousecelltypes\\prod90\\Ephys_Roi_Result_571851333\\571851333.nwb\n",
      "\\\\allen\\programs\\celltypes\\production\\mousecelltypes\\prod90\\Ephys_Roi_Result_571863228\\571863228.nwb\n",
      "\\\\allen\\programs\\celltypes\\production\\mousecelltypes\\prod90\\Ephys_Roi_Result_571879555\\571879555.nwb\n",
      "\\\\allen\\programs\\celltypes\\production\\mousecelltypes\\prod90\\Ephys_Roi_Result_571888810\\571888810.nwb\n",
      "\\\\allen\\programs\\celltypes\\production\\mousecelltypes\\prod90\\Ephys_Roi_Result_571919004\\571919004.nwb\n",
      "\\\\allen\\programs\\celltypes\\production\\mousecelltypes\\prod90\\Ephys_Roi_Result_571925381\\571925381.nwb\n",
      "\\\\allen\\programs\\celltypes\\production\\mousecelltypes\\prod90\\Ephys_Roi_Result_571944017\\571944017.nwb\n",
      "\\\\allen\\programs\\celltypes\\production\\mousecelltypes\\prod90\\Ephys_Roi_Result_571956303\\571956303.nwb\n",
      "\\\\allen\\programs\\celltypes\\production\\mousecelltypes\\prod91\\Ephys_Roi_Result_572294774\\572294774.nwb\n",
      "\\\\allen\\programs\\celltypes\\production\\mousecelltypes\\prod91\\Ephys_Roi_Result_573648811\\573648811.nwb\n",
      "\\\\allen\\programs\\celltypes\\production\\mousecelltypes\\prod91\\Ephys_Roi_Result_573667610\\573667610.nwb\n",
      "\\\\allen\\programs\\celltypes\\production\\mousecelltypes\\prod91\\Ephys_Roi_Result_573670322\\573670322.nwb\n",
      "\\\\allen\\programs\\celltypes\\production\\mousecelltypes\\prod91\\Ephys_Roi_Result_573672538\\573672538.nwb\n",
      "\\\\allen\\programs\\celltypes\\production\\mousecelltypes\\prod91\\Ephys_Roi_Result_573678834\\573678834.nwb\n",
      "\\\\allen\\programs\\celltypes\\production\\mousecelltypes\\prod91\\Ephys_Roi_Result_573685380\\573685380.nwb\n",
      "\\\\allen\\programs\\celltypes\\production\\mousecelltypes\\prod91\\Ephys_Roi_Result_573641426\\573641426.nwb\n",
      "\\\\allen\\programs\\celltypes\\production\\mousecelltypes\\prod91\\Ephys_Roi_Result_573646391\\573646391.nwb\n",
      "\\\\allen\\programs\\celltypes\\production\\mousecelltypes\\prod91\\Ephys_Roi_Result_573667491\\573667491.nwb\n",
      "\\\\allen\\programs\\celltypes\\production\\mousecelltypes\\prod91\\Ephys_Roi_Result_573675084\\573675084.nwb\n",
      "\\\\allen\\programs\\celltypes\\production\\mousecelltypes\\prod91\\Ephys_Roi_Result_573678736\\573678736.nwb\n",
      "\\\\allen\\programs\\celltypes\\production\\mousecelltypes\\prod91\\Ephys_Roi_Result_573688816\\573688816.nwb\n",
      "\\\\allen\\programs\\celltypes\\production\\mousecelltypes\\prod128\\Ephys_Roi_Result_609872825\\609872825.nwb\n",
      "rheobase\n",
      "11\n",
      "\\\\allen\\programs\\celltypes\\production\\mousecelltypes\\prod128\\Ephys_Roi_Result_609887089\\609887089.nwb\n",
      "rheobase\n",
      "10\n",
      "\\\\allen\\programs\\celltypes\\production\\mousecelltypes\\prod128\\Ephys_Roi_Result_609899154\\609899154.nwb\n",
      "\\\\allen\\programs\\celltypes\\production\\mousecelltypes\\prod128\\Ephys_Roi_Result_609919637\\609919637.nwb\n",
      "rheobase\n",
      "10\n",
      "\\\\allen\\programs\\celltypes\\production\\mousecelltypes\\prod1173\\Ephys_Roi_Result_610862261\\610862261.nwb\n",
      "rheobase\n",
      "10\n",
      "\\\\allen\\programs\\celltypes\\production\\mousecelltypes\\prod1173\\Ephys_Roi_Result_610869303\\610869303.nwb\n",
      "rheobase\n",
      "11\n",
      "\\\\allen\\programs\\celltypes\\production\\mousecelltypes\\prod0\\Ephys_Roi_Result_642402432\\642402432.nwb\n",
      "\\\\allen\\programs\\celltypes\\production\\mousecelltypes\\prod0\\Ephys_Roi_Result_642421401\\642421401.nwb\n",
      "\\\\allen\\programs\\celltypes\\production\\mousecelltypes\\prod0\\Ephys_Roi_Result_642429394\\642429394.nwb\n",
      "\\\\allen\\programs\\celltypes\\production\\mousecelltypes\\prod0\\Ephys_Roi_Result_642410507\\642410507.nwb\n",
      "\\\\allen\\programs\\celltypes\\production\\mousecelltypes\\prod0\\Ephys_Roi_Result_642442471\\642442471.nwb\n",
      "\\\\allen\\programs\\celltypes\\production\\mousecelltypes\\prod0\\Ephys_Roi_Result_642833493\\642833493.nwb\n",
      "\\\\allen\\programs\\celltypes\\production\\mousecelltypes\\prod0\\Ephys_Roi_Result_642947264\\642947264.nwb\n",
      "\\\\allen\\programs\\celltypes\\production\\mousecelltypes\\prod0\\Ephys_Roi_Result_643190923\\643190923.nwb\n",
      "\\\\allen\\programs\\celltypes\\production\\mousecelltypes\\prod1\\Ephys_Roi_Result_644848041\\644848041.nwb\n",
      "\\\\allen\\programs\\celltypes\\production\\mousecelltypes\\prod1\\Ephys_Roi_Result_644857295\\644857295.nwb\n",
      "\\\\allen\\programs\\celltypes\\production\\mousecelltypes\\prod1\\Ephys_Roi_Result_644842687\\644842687.nwb\n",
      "\\\\allen\\programs\\celltypes\\production\\mousecelltypes\\prod1\\Ephys_Roi_Result_644846448\\644846448.nwb\n",
      "\\\\allen\\programs\\celltypes\\production\\mousecelltypes\\prod1\\Ephys_Roi_Result_644834557\\644834557.nwb\n",
      "\\\\allen\\programs\\celltypes\\production\\mousecelltypes\\prod1\\Ephys_Roi_Result_644917806\\644917806.nwb\n",
      "\\\\allen\\programs\\celltypes\\production\\mousecelltypes\\prod1\\Ephys_Roi_Result_644919278\\644919278.nwb\n",
      "\\\\allen\\programs\\celltypes\\production\\mousecelltypes\\prod1\\Ephys_Roi_Result_644941714\\644941714.nwb\n",
      "\\\\allen\\programs\\celltypes\\production\\mousecelltypes\\prod1\\Ephys_Roi_Result_644917628\\644917628.nwb\n",
      "\\\\allen\\programs\\celltypes\\production\\mousecelltypes\\prod1\\Ephys_Roi_Result_644934909\\644934909.nwb\n",
      "\\\\allen\\programs\\celltypes\\production\\mousecelltypes\\prod1\\Ephys_Roi_Result_644935833\\644935833.nwb\n",
      "\\\\allen\\programs\\celltypes\\production\\mousecelltypes\\prod1\\Ephys_Roi_Result_644941178\\644941178.nwb\n",
      "\\\\allen\\programs\\celltypes\\production\\mousecelltypes\\prod1\\Ephys_Roi_Result_644941905\\644941905.nwb\n",
      "\\\\allen\\programs\\celltypes\\production\\mousecelltypes\\prod1\\Ephys_Roi_Result_644919364\\644919364.nwb\n",
      "\\\\allen\\programs\\celltypes\\production\\mousecelltypes\\prod1\\Ephys_Roi_Result_644919620\\644919620.nwb\n",
      "\\\\allen\\programs\\celltypes\\production\\mousecelltypes\\prod1\\Ephys_Roi_Result_644945968\\644945968.nwb\n",
      "\\\\allen\\programs\\celltypes\\production\\mousecelltypes\\prod1\\Ephys_Roi_Result_644946393\\644946393.nwb\n",
      "\\\\allen\\programs\\celltypes\\production\\mousecelltypes\\prod1\\Ephys_Roi_Result_645012244\\645012244.nwb\n",
      "\\\\allen\\programs\\celltypes\\production\\mousecelltypes\\prod1\\Ephys_Roi_Result_644976497\\644976497.nwb\n",
      "\\\\allen\\programs\\celltypes\\production\\mousecelltypes\\prod1\\Ephys_Roi_Result_644993333\\644993333.nwb\n",
      "\\\\allen\\programs\\celltypes\\production\\mousecelltypes\\prod1\\Ephys_Roi_Result_645070283\\645070283.nwb\n",
      "\\\\allen\\programs\\celltypes\\production\\mousecelltypes\\prod1\\Ephys_Roi_Result_645072978\\645072978.nwb\n",
      "\\\\allen\\programs\\celltypes\\production\\mousecelltypes\\prod1\\Ephys_Roi_Result_645074430\\645074430.nwb\n",
      "\\\\allen\\programs\\celltypes\\production\\mousecelltypes\\prod1\\Ephys_Roi_Result_645075113\\645075113.nwb\n",
      "\\\\allen\\programs\\celltypes\\production\\mousecelltypes\\prod1\\Ephys_Roi_Result_645077131\\645077131.nwb\n",
      "\\\\allen\\programs\\celltypes\\production\\mousecelltypes\\prod1\\Ephys_Roi_Result_645162234\\645162234.nwb\n",
      "\\\\allen\\programs\\celltypes\\production\\mousecelltypes\\prod1\\Ephys_Roi_Result_645169915\\645169915.nwb\n",
      "\\\\allen\\programs\\celltypes\\production\\mousecelltypes\\prod1\\Ephys_Roi_Result_645194503\\645194503.nwb\n",
      "\\\\allen\\programs\\celltypes\\production\\mousecelltypes\\prod1\\Ephys_Roi_Result_645199110\\645199110.nwb\n"
     ]
    }
   ],
   "source": [
    "#find rheobase sweep\n",
    "#walk through the experiment and find the first spiking C1LSCOARSEMICRO\n",
    "#note the first spike time to determine late and early spikers\n",
    "#this only works if the feature extractor works since it looks for the spike times\n",
    "\n",
    "df['Rheobase_sweep'] = None\n",
    "df['Spike_time'] = None\n",
    "#f['Rheobase'] = None\n",
    "\n",
    "for i, cell in enumerate(df['nwb_path']):\n",
    "    data = NwbDataSet(cell)\n",
    "    print cell\n",
    "    for sweep in sorted(sorted(data.get_sweep_numbers())):\n",
    "        sweep_data = data.get_sweep(sweep)\n",
    "        number = int(sweep)\n",
    "        index_range = sweep_data['index_range']\n",
    "        \n",
    "        #find C1LSCOARSEMICRO by len for right now\n",
    "        sampling_rate = sweep_data[\"sampling_rate\"] # in Hz\n",
    "        t = len(sweep_data[\"response\"][0:index_range[1]+1])/sampling_rate\n",
    "        if t >  4.0 and t < 4.021:\n",
    "            spikes = data.get_spike_times(sweep)\n",
    "            if len(spikes) > 0:\n",
    "                df['Rheobase_sweep'].iloc[i] = number\n",
    "                df['Spike_time'].iloc[i] = spikes[0]\n",
    "                print 'rheobase_m'\n",
    "                print number\n",
    "                break\n",
    "            else:\n",
    "                continue\n",
    "        \n",
    "        #look at C1LSCOARSE\n",
    "        if t >  8.0 and t < 8.021:\n",
    "            spikes = data.get_spike_times(sweep)\n",
    "            if len(spikes) > 0:\n",
    "                df['Rheobase_sweep'].iloc[i] = number\n",
    "                df['Spike_time'].iloc[i] = spikes[0]\n",
    "                print 'rheobase_c'\n",
    "                print number\n",
    "                break\n",
    "            else:\n",
    "                continue\n",
    "        \n",
    "        #look at C1LSFINEST\n",
    "        if t >  6.0 and t < 6.021:\n",
    "            spikes = data.get_spike_times(sweep)\n",
    "            if len(spikes) > 0:\n",
    "                df['Rheobase_sweep'].iloc[i] = number\n",
    "                df['Spike_time'].iloc[i] = spikes[0]\n",
    "                print 'rheobase_f'\n",
    "                print number\n",
    "                break\n",
    "            else:\n",
    "                continue"
   ]
  },
  {
   "cell_type": "code",
   "execution_count": 40,
   "metadata": {},
   "outputs": [
    {
     "data": {
      "text/plain": [
       "23"
      ]
     },
     "execution_count": 40,
     "metadata": {},
     "output_type": "execute_result"
    }
   ],
   "source": [
    "sweep"
   ]
  },
  {
   "cell_type": "code",
   "execution_count": null,
   "metadata": {
    "collapsed": true
   },
   "outputs": [],
   "source": [
    "data = NwbDataSet('\\\\\\\\allen\\\\programs\\\\celltypes\\\\production\\\\mousecelltypes\\\\prod90\\\\Ephys_Roi_Result_571863228\\\\571863228.nwb')\n",
    "\n",
    "sweep_data = data.get_sweep(9)\n",
    "sampling_rate = sweep_data[\"sampling_rate\"] # in Hz\n",
    "index_range = sweep_data[\"index_range\"]\n",
    "i = sweep_data[\"stimulus\"][0:index_range[1]+1] # in A\n",
    "v = sweep_data[\"response\"][0:index_range[1]+1] # in V\n",
    "t = np.arange(0, len(v)) * (1.0 / sampling_rate)\n",
    "\n",
    "i *= 1e3 # to pA\n",
    "v *= 1e3 # to mV\n",
    "plt.plot(t,v, color = 'blue', label = 'test pulse')\n",
    "#plt.xlim(0,1.03)\n",
    "#plt.ylim(-500,2200)"
   ]
  },
  {
   "cell_type": "code",
   "execution_count": null,
   "metadata": {
    "collapsed": true
   },
   "outputs": [],
   "source": [
    "sweep_data = data.get_sweep(11)\n",
    "sampling_rate = sweep_data[\"sampling_rate\"] # in Hz\n",
    "index_range = sweep_data[\"index_range\"]\n",
    "i = sweep_data[\"stimulus\"][0:index_range[1]+1] # in A\n",
    "v = sweep_data[\"response\"][0:index_range[1]+1] # in V\n",
    "t = np.arange(0, len(v)) * (1.0 / sampling_rate)\n",
    "\n",
    "i *= 1e3 # to pA\n",
    "v *= 1e3 # to mV\n",
    "plt.plot(t,v, color = 'blue', label = 'test pulse')\n",
    "#plt.xlim(0,1.03)\n",
    "#plt.ylim(-500,2200)"
   ]
  },
  {
   "cell_type": "code",
   "execution_count": 14,
   "metadata": {
    "collapsed": true
   },
   "outputs": [],
   "source": [
    "slow = ['571851333','571863228','571851333','571863228','573670322','573672538','573678834','573688816','609872825']\n",
    "\n",
    "late = ['609899154','609919637','610869303']\n",
    "\n",
    "df['delay'] = 'None'\n",
    "\n",
    "for i, cell in enumerate(df['nwb_path']):\n",
    "    for num in slow:\n",
    "        if num in cell:\n",
    "            df['delay'].iloc[i] = 'slow'\n",
    "    for num in late:\n",
    "        if num in cell:\n",
    "            df['delay'].iloc[i] = 'delay'\n",
    "    \n",
    "        "
   ]
  },
  {
   "cell_type": "code",
   "execution_count": 26,
   "metadata": {},
   "outputs": [
    {
     "data": {
      "text/plain": [
       "<matplotlib.axes._subplots.AxesSubplot at 0xd60bdd8>"
      ]
     },
     "execution_count": 26,
     "metadata": {},
     "output_type": "execute_result"
    },
    {
     "data": {
      "image/png": "[encoded data removed]",
      "text/plain": [
       "<matplotlib.figure.Figure at 0xf5272b0>"
      ]
     },
     "metadata": {},
     "output_type": "display_data"
    }
   ],
   "source": [
    "sns.countplot(y = 'Cluster', hue = 'delay', data = df)\n"
   ]
  },
  {
   "cell_type": "code",
   "execution_count": 28,
   "metadata": {},
   "outputs": [
    {
     "data": {
      "text/plain": [
       "[u'L6a Syt17_4',\n",
       " u'Lamp5 Nxph1_1',\n",
       " u'Lamp5 Nxph1_3',\n",
       " u'Lamp5 Rgs12_3',\n",
       " u'Sst Chodl',\n",
       " u'n10',\n",
       " u'n13',\n",
       " u'n14',\n",
       " u'n3',\n",
       " u'n36',\n",
       " u'n4',\n",
       " u'n5',\n",
       " u'n52',\n",
       " u'n6',\n",
       " u'n87']"
      ]
     },
     "execution_count": 28,
     "metadata": {},
     "output_type": "execute_result"
    }
   ],
   "source": [
    "sorted(df.Cluster.unique())"
   ]
  },
  {
   "cell_type": "code",
   "execution_count": null,
   "metadata": {
    "collapsed": true
   },
   "outputs": [],
   "source": [
    "clusters = [\n",
    "    'n3', 'n4', 'n5', 'n6', 'n10', 'Lamp5 Rgs12_3',\n",
    "    'n13', 'Lamp5 Nxph1_1', 'Lamp5 Nxph1_3',\n",
    "\n",
    "            \n",
    "            \n",
    "[u'L6a Syt17_4',\n",
    "\n",
    " u'Sst Chodl',\n",
    " u'n14',\n",
    " u'n36',\n",
    " u'n52',\n",
    " u'n87']"
   ]
  },
  {
   "cell_type": "code",
   "execution_count": 20,
   "metadata": {},
   "outputs": [
    {
     "data": {
      "text/plain": [
       "77"
      ]
     },
     "execution_count": 20,
     "metadata": {},
     "output_type": "execute_result"
    }
   ],
   "source": [
    "len(df)"
   ]
  },
  {
   "cell_type": "code",
   "execution_count": null,
   "metadata": {
    "collapsed": true
   },
   "outputs": [],
   "source": []
  }
 ],
 "metadata": {
  "kernelspec": {
   "display_name": "Python 2",
   "language": "python",
   "name": "python2"
  },
  "language_info": {
   "codemirror_mode": {
    "name": "ipython",
    "version": 2
   },
   "file_extension": ".py",
   "mimetype": "text/x-python",
   "name": "python",
   "nbconvert_exporter": "python",
   "pygments_lexer": "ipython2",
   "version": "2.7.13"
  }
 },
 "nbformat": 4,
 "nbformat_minor": 2
}
