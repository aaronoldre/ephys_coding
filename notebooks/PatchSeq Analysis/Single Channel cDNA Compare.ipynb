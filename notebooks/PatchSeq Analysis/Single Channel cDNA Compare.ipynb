{
 "cells": [
  {
   "cell_type": "code",
   "execution_count": 1,
   "metadata": {
    "collapsed": true
   },
   "outputs": [],
   "source": [
    "import pandas as pd\n",
    "import numpy as np\n",
    "import seaborn as sns\n",
    "import matplotlib.pyplot as plt\n",
    "%matplotlib inline"
   ]
  },
  {
   "cell_type": "code",
   "execution_count": 30,
   "metadata": {
    "collapsed": true
   },
   "outputs": [],
   "source": [
    "#load all the data\n",
    "\n",
    "df_single_channel= pd.read_csv('Patch-seq log - Channel recordings.csv')\n",
    "df_mouse = pd.read_excel('Patch-seq log.xlsx','Mouse PatchSeq')\n",
    "df_human = pd.read_excel('Patch-seq log.xlsx','Human PatchSeq')\n"
   ]
  },
  {
   "cell_type": "code",
   "execution_count": 31,
   "metadata": {
    "collapsed": true
   },
   "outputs": [],
   "source": [
    "#create marker for single channel recordings\n",
    "\n",
    "cells = list(df_single_channel['Cell'])\n",
    "df_mouse['single_channel'] = df_mouse['File'].map(lambda x: True if x in cells else False)\n",
    "df_human['single_channel'] = df_human['Unnamed: 4'].map(lambda x: True if x in cells else False)\n"
   ]
  },
  {
   "cell_type": "code",
   "execution_count": 32,
   "metadata": {
    "collapsed": true
   },
   "outputs": [],
   "source": [
    "#now get the donors for each cell\n",
    "\n",
    "df_single_channel['donor'] = df_single_channel['Cell'].apply(lambda x: x[:-9])\n",
    "df_mouse['donor'] = df_mouse['File'].apply(lambda x: str(x)[:-9])\n",
    "df_human['donor'] = df_human['Unnamed: 4'].apply(lambda x: str(x)[:-9])\n",
    "\n",
    "#and mark which cells should be included\n",
    "\n",
    "donors = list(df_single_channel['donor'])\n",
    "df_mouse['include'] = df_mouse['donor'].map(lambda x: True if x in donors else False)\n",
    "df_human['include'] = df_human['donor'].map(lambda x: True if x in donors else False)"
   ]
  },
  {
   "cell_type": "code",
   "execution_count": 33,
   "metadata": {
    "collapsed": true,
    "scrolled": true
   },
   "outputs": [],
   "source": [
    "#shorten the dataframes so we can concat them\n",
    "\n",
    "df_mouse = df_mouse[df_mouse['include'] == True]\n",
    "df_human = df_human[df_human['include'] == True]\n",
    "\n",
    "mouse_columns = ['File', 'Slice health', 'Cell Health', 'Post patch?', 'patch duration', \n",
    "                 'single_channel', 'include', 'Lims tube id', 'BA total conc. (pg/uL)', 'BA conc. >400 (pg/uL)']\n",
    "human_columns = ['Unnamed: 4', 'Unnamed: 18', 'Unnamed: 19', 'Unnamed: 24', 'Unnamed: 31', \n",
    "                 'single_channel', 'include', 'Unnamed: 44', 'Unnamed: 49', 'Unnamed: 52']\n",
    "df_mouse = df_mouse[mouse_columns]\n",
    "df_human = df_human[human_columns]\n",
    "\n",
    "#rename the human columns to match the mouse\n",
    "df_human = df_human.rename(index = str, columns ={\n",
    "    'Unnamed: 4' : 'File',\n",
    "    'Unnamed: 18': 'Slice health',\n",
    "    'Unnamed: 19': 'Cell Health',\n",
    "    'Unnamed: 24': 'Post patch?',\n",
    "    'Unnamed: 31': 'patch duration',\n",
    "    'Unnamed: 44': 'Lims tube id',\n",
    "    'Unnamed: 49': 'BA total conc. (pg/uL)',\n",
    "    'Unnamed: 52': 'BA conc. >400 (pg/uL)'\n",
    "})\n",
    "\n",
    "df = pd.concat([df_mouse, df_human])"
   ]
  },
  {
   "cell_type": "code",
   "execution_count": 6,
   "metadata": {
    "collapsed": true
   },
   "outputs": [],
   "source": [
    "#get some numbers from LIMS\n",
    "import pg8000\n",
    "\n",
    "def _connect(user=\"limsreader\", host=\"limsdb2\", database=\"lims2\", password=\"limsro\", port=5432):\n",
    "    conn = pg8000.connect(user=user, host=host, database=database, password=password, port=port)\n",
    "    return conn, conn.cursor()\n",
    "\n",
    "def _select(cursor, query):\n",
    "    cursor.execute(query)\n",
    "    columns = [ d[0] for d in cursor.description ]\n",
    "    return [ dict(zip(columns, c)) for c in cursor.fetchall() ]\n",
    "\n",
    "def limsquery(query, user=\"limsreader\", host=\"limsdb2\", database=\"lims2\", password=\"limsro\", port=5432):\n",
    "    \"\"\"A function that takes a string containing a SQL query, connects to the LIMS database and outputs the result.\"\"\"\n",
    "    conn, cursor = _connect(user, host, database, password, port)\n",
    "    try:\n",
    "        results = _select(cursor, query)\n",
    "    finally:\n",
    "        cursor.close()\n",
    "        conn.close()\n",
    "    return results\n",
    "\n",
    "\n",
    "#this last function will take our query results and put them in a dataframe so that they are easy to work with\n",
    "def get_lims_dataframe(query):\n",
    "    '''Return a dataframe with lims query'''\n",
    "    result = limsquery(query)\n",
    "    try:\n",
    "        data_df = pd.DataFrame(data=result, columns=result[0].keys())\n",
    "    except IndexError:\n",
    "        print \"Could not find results for your query.\"\n",
    "        data_df = pd.DataFrame()\n",
    "    return data_df"
   ]
  },
  {
   "cell_type": "code",
   "execution_count": 7,
   "metadata": {
    "collapsed": true
   },
   "outputs": [],
   "source": [
    "lims_query = \"SELECT ra.amplified_quantity_ng, ra.name, ra.run_date, ra.percent_cdna_longer_than_400bp, ra.failed, \\\n",
    "ra.cycles, ra.id, rai.sample_id, cell.id, cell.name, cell.created_at, cell.patched_cell_container \\\n",
    "FROM specimens cell \\\n",
    "LEFT JOIN rna_amplification_inputs rai ON rai.sample_id = cell.id \\\n",
    "LEFT JOIN rna_amplifications ra ON ra.id = rai.rna_amplification_id \\\n",
    "WHERE run_date > '2017-01-01'\"\n",
    "\n",
    "lims_df = get_lims_dataframe(lims_query)"
   ]
  },
  {
   "cell_type": "code",
   "execution_count": 8,
   "metadata": {
    "collapsed": true
   },
   "outputs": [],
   "source": [
    "#merge on the single channel dataframe\n",
    "df = pd.merge(df, lims_df, how = 'left', left_on = 'File', right_on = 'name')\n",
    "df_test = pd.merge(df, lims_df, how = 'left', left_on = 'Lims tube id', right_on = 'patched_cell_container')"
   ]
  },
  {
   "cell_type": "code",
   "execution_count": 9,
   "metadata": {},
   "outputs": [
    {
     "data": {
      "text/html": [
       "<div>\n",
       "<table border=\"1\" class=\"dataframe\">\n",
       "  <thead>\n",
       "    <tr style=\"text-align: right;\">\n",
       "      <th></th>\n",
       "      <th>File</th>\n",
       "      <th>Slice health</th>\n",
       "      <th>Cell Health</th>\n",
       "      <th>Post patch?</th>\n",
       "      <th>patch duration</th>\n",
       "      <th>single_channel</th>\n",
       "      <th>include</th>\n",
       "      <th>Lims tube id</th>\n",
       "      <th>BA total conc. (pg/uL)</th>\n",
       "      <th>BA conc. &gt;400 (pg/uL)</th>\n",
       "      <th>amplified_quantity_ng</th>\n",
       "      <th>name</th>\n",
       "      <th>run_date</th>\n",
       "      <th>percent_cdna_longer_than_400bp</th>\n",
       "      <th>created_at</th>\n",
       "      <th>failed</th>\n",
       "      <th>patched_cell_container</th>\n",
       "      <th>sample_id</th>\n",
       "      <th>cycles</th>\n",
       "      <th>id</th>\n",
       "    </tr>\n",
       "  </thead>\n",
       "  <tbody>\n",
       "    <tr>\n",
       "      <th>0</th>\n",
       "      <td>Ctgf-T2A-dgCre;Ai14-341051.05.02.01</td>\n",
       "      <td>2</td>\n",
       "      <td>NaN</td>\n",
       "      <td>Nucleated</td>\n",
       "      <td>9.46667</td>\n",
       "      <td>True</td>\n",
       "      <td>True</td>\n",
       "      <td>P8S4_170818_351_A01</td>\n",
       "      <td>5868</td>\n",
       "      <td>2717</td>\n",
       "      <td>71.550</td>\n",
       "      <td>Ctgf-T2A-dgCre;Ai14-341051.05.02.01</td>\n",
       "      <td>2017-08-22 07:00:00</td>\n",
       "      <td>0.462944</td>\n",
       "      <td>2017-08-18 17:54:48.694918</td>\n",
       "      <td>False</td>\n",
       "      <td>P8S4_170818_351_A01</td>\n",
       "      <td>610762174.0</td>\n",
       "      <td>21.0</td>\n",
       "      <td>610762174.0</td>\n",
       "    </tr>\n",
       "    <tr>\n",
       "      <th>1</th>\n",
       "      <td>Ctgf-T2A-dgCre;Ai14-341051.04.02.01</td>\n",
       "      <td>NaN</td>\n",
       "      <td>NaN</td>\n",
       "      <td>NaN</td>\n",
       "      <td>NaN</td>\n",
       "      <td>False</td>\n",
       "      <td>True</td>\n",
       "      <td>P6S4_170818_352_A01</td>\n",
       "      <td>2822</td>\n",
       "      <td>922</td>\n",
       "      <td>44.505</td>\n",
       "      <td>Ctgf-T2A-dgCre;Ai14-341051.04.02.01</td>\n",
       "      <td>2017-08-22 07:00:00</td>\n",
       "      <td>0.326766</td>\n",
       "      <td>2017-08-18 18:34:48.051095</td>\n",
       "      <td>False</td>\n",
       "      <td>P6S4_170818_352_A01</td>\n",
       "      <td>610785779.0</td>\n",
       "      <td>21.0</td>\n",
       "      <td>610785779.0</td>\n",
       "    </tr>\n",
       "    <tr>\n",
       "      <th>2</th>\n",
       "      <td>Pvalb-IRES-Cre;Ai14-344091.04.01.01</td>\n",
       "      <td>3</td>\n",
       "      <td>NaN</td>\n",
       "      <td>Nucleated</td>\n",
       "      <td>6.2</td>\n",
       "      <td>False</td>\n",
       "      <td>True</td>\n",
       "      <td>P2S4_170906_056_A01</td>\n",
       "      <td>895.5</td>\n",
       "      <td>563.269</td>\n",
       "      <td>NaN</td>\n",
       "      <td>NaN</td>\n",
       "      <td>NaT</td>\n",
       "      <td>NaN</td>\n",
       "      <td>NaT</td>\n",
       "      <td>NaN</td>\n",
       "      <td>NaN</td>\n",
       "      <td>NaN</td>\n",
       "      <td>NaN</td>\n",
       "      <td>NaN</td>\n",
       "    </tr>\n",
       "    <tr>\n",
       "      <th>3</th>\n",
       "      <td>Pvalb-IRES-Cre;Ai14-344091.04.01.02</td>\n",
       "      <td>4</td>\n",
       "      <td>NaN</td>\n",
       "      <td>Nucleated</td>\n",
       "      <td>6.8</td>\n",
       "      <td>False</td>\n",
       "      <td>True</td>\n",
       "      <td>P2S4_170906_057_A01</td>\n",
       "      <td>1121.6</td>\n",
       "      <td>822.133</td>\n",
       "      <td>NaN</td>\n",
       "      <td>NaN</td>\n",
       "      <td>NaT</td>\n",
       "      <td>NaN</td>\n",
       "      <td>NaT</td>\n",
       "      <td>NaN</td>\n",
       "      <td>NaN</td>\n",
       "      <td>NaN</td>\n",
       "      <td>NaN</td>\n",
       "      <td>NaN</td>\n",
       "    </tr>\n",
       "    <tr>\n",
       "      <th>4</th>\n",
       "      <td>Sst-IRES-Cre;Ai14-346778.03.02.01</td>\n",
       "      <td>3</td>\n",
       "      <td>NaN</td>\n",
       "      <td>Nucleated</td>\n",
       "      <td>11.6667</td>\n",
       "      <td>False</td>\n",
       "      <td>True</td>\n",
       "      <td>P2S4_170911_051_A01</td>\n",
       "      <td>988.4</td>\n",
       "      <td>638.506</td>\n",
       "      <td>NaN</td>\n",
       "      <td>NaN</td>\n",
       "      <td>NaT</td>\n",
       "      <td>NaN</td>\n",
       "      <td>NaT</td>\n",
       "      <td>NaN</td>\n",
       "      <td>NaN</td>\n",
       "      <td>NaN</td>\n",
       "      <td>NaN</td>\n",
       "      <td>NaN</td>\n",
       "    </tr>\n",
       "  </tbody>\n",
       "</table>\n",
       "</div>"
      ],
      "text/plain": [
       "                                  File Slice health Cell Health Post patch?  \\\n",
       "0  Ctgf-T2A-dgCre;Ai14-341051.05.02.01            2         NaN   Nucleated   \n",
       "1  Ctgf-T2A-dgCre;Ai14-341051.04.02.01          NaN         NaN         NaN   \n",
       "2  Pvalb-IRES-Cre;Ai14-344091.04.01.01            3         NaN   Nucleated   \n",
       "3  Pvalb-IRES-Cre;Ai14-344091.04.01.02            4         NaN   Nucleated   \n",
       "4    Sst-IRES-Cre;Ai14-346778.03.02.01            3         NaN   Nucleated   \n",
       "\n",
       "  patch duration single_channel include         Lims tube id  \\\n",
       "0        9.46667           True    True  P8S4_170818_351_A01   \n",
       "1            NaN          False    True  P6S4_170818_352_A01   \n",
       "2            6.2          False    True  P2S4_170906_056_A01   \n",
       "3            6.8          False    True  P2S4_170906_057_A01   \n",
       "4        11.6667          False    True  P2S4_170911_051_A01   \n",
       "\n",
       "  BA total conc. (pg/uL) BA conc. >400 (pg/uL)  amplified_quantity_ng  \\\n",
       "0                   5868                  2717                 71.550   \n",
       "1                   2822                   922                 44.505   \n",
       "2                  895.5               563.269                    NaN   \n",
       "3                 1121.6               822.133                    NaN   \n",
       "4                  988.4               638.506                    NaN   \n",
       "\n",
       "                                  name            run_date  \\\n",
       "0  Ctgf-T2A-dgCre;Ai14-341051.05.02.01 2017-08-22 07:00:00   \n",
       "1  Ctgf-T2A-dgCre;Ai14-341051.04.02.01 2017-08-22 07:00:00   \n",
       "2                                  NaN                 NaT   \n",
       "3                                  NaN                 NaT   \n",
       "4                                  NaN                 NaT   \n",
       "\n",
       "   percent_cdna_longer_than_400bp                 created_at failed  \\\n",
       "0                        0.462944 2017-08-18 17:54:48.694918  False   \n",
       "1                        0.326766 2017-08-18 18:34:48.051095  False   \n",
       "2                             NaN                        NaT    NaN   \n",
       "3                             NaN                        NaT    NaN   \n",
       "4                             NaN                        NaT    NaN   \n",
       "\n",
       "  patched_cell_container    sample_id  cycles           id  \n",
       "0    P8S4_170818_351_A01  610762174.0    21.0  610762174.0  \n",
       "1    P6S4_170818_352_A01  610785779.0    21.0  610785779.0  \n",
       "2                    NaN          NaN     NaN          NaN  \n",
       "3                    NaN          NaN     NaN          NaN  \n",
       "4                    NaN          NaN     NaN          NaN  "
      ]
     },
     "execution_count": 9,
     "metadata": {},
     "output_type": "execute_result"
    }
   ],
   "source": [
    "df.head()"
   ]
  },
  {
   "cell_type": "code",
   "execution_count": 10,
   "metadata": {},
   "outputs": [
    {
     "data": {
      "text/plain": [
       "<Container object of 2 artists>"
      ]
     },
     "execution_count": 10,
     "metadata": {},
     "output_type": "execute_result"
    },
    {
     "data": {
      "image/png": "[encoded data removed]",
      "text/plain": [
       "<matplotlib.figure.Figure at 0xe482470>"
      ]
     },
     "metadata": {},
     "output_type": "display_data"
    }
   ],
   "source": [
    "plt.bar([0,1],\n",
    "        [len(df[df['BA conc. >400 (pg/uL)'].notnull()]),\n",
    "         len(df[df['BA total conc. (pg/uL)'].notnull()]) ])"
   ]
  },
  {
   "cell_type": "code",
   "execution_count": 10,
   "metadata": {},
   "outputs": [
    {
     "data": {
      "text/plain": [
       "array([u'Nucleated', nan, u'Partial-Nucleus', u'No-Seal',\n",
       "       u'nucleus_present', u'nucleus_absent', u'entire_cell'], dtype=object)"
      ]
     },
     "execution_count": 10,
     "metadata": {},
     "output_type": "execute_result"
    }
   ],
   "source": [
    "df['Post patch?'].unique()"
   ]
  },
  {
   "cell_type": "code",
   "execution_count": 11,
   "metadata": {
    "scrolled": true
   },
   "outputs": [
    {
     "data": {
      "text/plain": [
       "Index([                          u'File',                   u'Slice health',\n",
       "                          u'Cell Health',                    u'Post patch?',\n",
       "                       u'patch duration',                 u'single_channel',\n",
       "                              u'include',                   u'Lims tube id',\n",
       "               u'BA total conc. (pg/uL)',          u'BA conc. >400 (pg/uL)',\n",
       "                u'amplified_quantity_ng',                           u'name',\n",
       "                             u'run_date', u'percent_cdna_longer_than_400bp',\n",
       "                           u'created_at',                         u'failed',\n",
       "               u'patched_cell_container',                      u'sample_id',\n",
       "                               u'cycles',                             u'id'],\n",
       "      dtype='object')"
      ]
     },
     "execution_count": 11,
     "metadata": {},
     "output_type": "execute_result"
    }
   ],
   "source": [
    "df.columns"
   ]
  },
  {
   "cell_type": "code",
   "execution_count": 12,
   "metadata": {
    "collapsed": true
   },
   "outputs": [],
   "source": [
    "#there are some NaNs\n",
    "df = df[df['BA conc. >400 (pg/uL)'].notnull()]\n",
    "df = df[df['BA total conc. (pg/uL)'].notnull()]\n",
    "df = df[df['Post patch?'].notnull()]"
   ]
  },
  {
   "cell_type": "code",
   "execution_count": 13,
   "metadata": {
    "collapsed": true
   },
   "outputs": [
    {
     "ename": "AttributeError",
     "evalue": "'numpy.ndarray' object has no attribute 'find'",
     "output_type": "error",
     "traceback": [
      "\u001b[1;31m---------------------------------------------------------------------------\u001b[0m",
      "\u001b[1;31mAttributeError\u001b[0m                            Traceback (most recent call last)",
      "\u001b[1;32m<ipython-input-13-f48b56698d47>\u001b[0m in \u001b[0;36m<module>\u001b[1;34m()\u001b[0m\n\u001b[0;32m      1\u001b[0m sns.boxplot(x = 'Post patch?', y = 'BA conc. >400 (pg/uL)',\n\u001b[1;32m----> 2\u001b[1;33m            hue = 'single_channel', data = df)\n\u001b[0m\u001b[0;32m      3\u001b[0m \u001b[0mplt\u001b[0m\u001b[1;33m.\u001b[0m\u001b[0mxticks\u001b[0m\u001b[1;33m(\u001b[0m\u001b[0mrotation\u001b[0m \u001b[1;33m=\u001b[0m \u001b[1;36m45\u001b[0m\u001b[1;33m)\u001b[0m\u001b[1;33m\u001b[0m\u001b[0m\n",
      "\u001b[1;32mC:\\Users\\aarono\\AppData\\Local\\Continuum\\anaconda2\\lib\\site-packages\\seaborn\\categorical.pyc\u001b[0m in \u001b[0;36mboxplot\u001b[1;34m(x, y, hue, data, order, hue_order, orient, color, palette, saturation, width, dodge, fliersize, linewidth, whis, notch, ax, **kwargs)\u001b[0m\n\u001b[0;32m   2196\u001b[0m     \u001b[0mkwargs\u001b[0m\u001b[1;33m.\u001b[0m\u001b[0mupdate\u001b[0m\u001b[1;33m(\u001b[0m\u001b[0mdict\u001b[0m\u001b[1;33m(\u001b[0m\u001b[0mwhis\u001b[0m\u001b[1;33m=\u001b[0m\u001b[0mwhis\u001b[0m\u001b[1;33m,\u001b[0m \u001b[0mnotch\u001b[0m\u001b[1;33m=\u001b[0m\u001b[0mnotch\u001b[0m\u001b[1;33m)\u001b[0m\u001b[1;33m)\u001b[0m\u001b[1;33m\u001b[0m\u001b[0m\n\u001b[0;32m   2197\u001b[0m \u001b[1;33m\u001b[0m\u001b[0m\n\u001b[1;32m-> 2198\u001b[1;33m     \u001b[0mplotter\u001b[0m\u001b[1;33m.\u001b[0m\u001b[0mplot\u001b[0m\u001b[1;33m(\u001b[0m\u001b[0max\u001b[0m\u001b[1;33m,\u001b[0m \u001b[0mkwargs\u001b[0m\u001b[1;33m)\u001b[0m\u001b[1;33m\u001b[0m\u001b[0m\n\u001b[0m\u001b[0;32m   2199\u001b[0m     \u001b[1;32mreturn\u001b[0m \u001b[0max\u001b[0m\u001b[1;33m\u001b[0m\u001b[0m\n\u001b[0;32m   2200\u001b[0m \u001b[1;33m\u001b[0m\u001b[0m\n",
      "\u001b[1;32mC:\\Users\\aarono\\AppData\\Local\\Continuum\\anaconda2\\lib\\site-packages\\seaborn\\categorical.pyc\u001b[0m in \u001b[0;36mplot\u001b[1;34m(self, ax, boxplot_kws)\u001b[0m\n\u001b[0;32m    534\u001b[0m     \u001b[1;32mdef\u001b[0m \u001b[0mplot\u001b[0m\u001b[1;33m(\u001b[0m\u001b[0mself\u001b[0m\u001b[1;33m,\u001b[0m \u001b[0max\u001b[0m\u001b[1;33m,\u001b[0m \u001b[0mboxplot_kws\u001b[0m\u001b[1;33m)\u001b[0m\u001b[1;33m:\u001b[0m\u001b[1;33m\u001b[0m\u001b[0m\n\u001b[0;32m    535\u001b[0m         \u001b[1;34m\"\"\"Make the plot.\"\"\"\u001b[0m\u001b[1;33m\u001b[0m\u001b[0m\n\u001b[1;32m--> 536\u001b[1;33m         \u001b[0mself\u001b[0m\u001b[1;33m.\u001b[0m\u001b[0mdraw_boxplot\u001b[0m\u001b[1;33m(\u001b[0m\u001b[0max\u001b[0m\u001b[1;33m,\u001b[0m \u001b[0mboxplot_kws\u001b[0m\u001b[1;33m)\u001b[0m\u001b[1;33m\u001b[0m\u001b[0m\n\u001b[0m\u001b[0;32m    537\u001b[0m         \u001b[0mself\u001b[0m\u001b[1;33m.\u001b[0m\u001b[0mannotate_axes\u001b[0m\u001b[1;33m(\u001b[0m\u001b[0max\u001b[0m\u001b[1;33m)\u001b[0m\u001b[1;33m\u001b[0m\u001b[0m\n\u001b[0;32m    538\u001b[0m         \u001b[1;32mif\u001b[0m \u001b[0mself\u001b[0m\u001b[1;33m.\u001b[0m\u001b[0morient\u001b[0m \u001b[1;33m==\u001b[0m \u001b[1;34m\"h\"\u001b[0m\u001b[1;33m:\u001b[0m\u001b[1;33m\u001b[0m\u001b[0m\n",
      "\u001b[1;32mC:\\Users\\aarono\\AppData\\Local\\Continuum\\anaconda2\\lib\\site-packages\\seaborn\\categorical.pyc\u001b[0m in \u001b[0;36mdraw_boxplot\u001b[1;34m(self, ax, kws)\u001b[0m\n\u001b[0;32m    500\u001b[0m                                              \u001b[0mpositions\u001b[0m\u001b[1;33m=\u001b[0m\u001b[1;33m[\u001b[0m\u001b[0mcenter\u001b[0m\u001b[1;33m]\u001b[0m\u001b[1;33m,\u001b[0m\u001b[1;33m\u001b[0m\u001b[0m\n\u001b[0;32m    501\u001b[0m                                              \u001b[0mwidths\u001b[0m\u001b[1;33m=\u001b[0m\u001b[0mself\u001b[0m\u001b[1;33m.\u001b[0m\u001b[0mnested_width\u001b[0m\u001b[1;33m,\u001b[0m\u001b[1;33m\u001b[0m\u001b[0m\n\u001b[1;32m--> 502\u001b[1;33m                                              **kws)\n\u001b[0m\u001b[0;32m    503\u001b[0m                     \u001b[0mself\u001b[0m\u001b[1;33m.\u001b[0m\u001b[0mrestyle_boxplot\u001b[0m\u001b[1;33m(\u001b[0m\u001b[0martist_dict\u001b[0m\u001b[1;33m,\u001b[0m \u001b[0mself\u001b[0m\u001b[1;33m.\u001b[0m\u001b[0mcolors\u001b[0m\u001b[1;33m[\u001b[0m\u001b[0mj\u001b[0m\u001b[1;33m]\u001b[0m\u001b[1;33m,\u001b[0m \u001b[0mprops\u001b[0m\u001b[1;33m)\u001b[0m\u001b[1;33m\u001b[0m\u001b[0m\n\u001b[0;32m    504\u001b[0m                     \u001b[1;31m# Add legend data, but just for one set of boxes\u001b[0m\u001b[1;33m\u001b[0m\u001b[1;33m\u001b[0m\u001b[0m\n",
      "\u001b[1;32mC:\\Users\\aarono\\AppData\\Local\\Continuum\\anaconda2\\lib\\site-packages\\matplotlib\\__init__.pyc\u001b[0m in \u001b[0;36minner\u001b[1;34m(ax, *args, **kwargs)\u001b[0m\n\u001b[0;32m   1896\u001b[0m                     warnings.warn(msg % (label_namer, func.__name__),\n\u001b[0;32m   1897\u001b[0m                                   RuntimeWarning, stacklevel=2)\n\u001b[1;32m-> 1898\u001b[1;33m             \u001b[1;32mreturn\u001b[0m \u001b[0mfunc\u001b[0m\u001b[1;33m(\u001b[0m\u001b[0max\u001b[0m\u001b[1;33m,\u001b[0m \u001b[1;33m*\u001b[0m\u001b[0margs\u001b[0m\u001b[1;33m,\u001b[0m \u001b[1;33m**\u001b[0m\u001b[0mkwargs\u001b[0m\u001b[1;33m)\u001b[0m\u001b[1;33m\u001b[0m\u001b[0m\n\u001b[0m\u001b[0;32m   1899\u001b[0m         \u001b[0mpre_doc\u001b[0m \u001b[1;33m=\u001b[0m \u001b[0minner\u001b[0m\u001b[1;33m.\u001b[0m\u001b[0m__doc__\u001b[0m\u001b[1;33m\u001b[0m\u001b[0m\n\u001b[0;32m   1900\u001b[0m         \u001b[1;32mif\u001b[0m \u001b[0mpre_doc\u001b[0m \u001b[1;32mis\u001b[0m \u001b[0mNone\u001b[0m\u001b[1;33m:\u001b[0m\u001b[1;33m\u001b[0m\u001b[0m\n",
      "\u001b[1;32mC:\\Users\\aarono\\AppData\\Local\\Continuum\\anaconda2\\lib\\site-packages\\matplotlib\\axes\\_axes.pyc\u001b[0m in \u001b[0;36mboxplot\u001b[1;34m(self, x, notch, sym, vert, whis, positions, widths, patch_artist, bootstrap, usermedians, conf_intervals, meanline, showmeans, showcaps, showbox, showfliers, boxprops, labels, flierprops, medianprops, meanprops, capprops, whiskerprops, manage_xticks, autorange, zorder)\u001b[0m\n\u001b[0;32m   3385\u001b[0m                            \u001b[0mmeanline\u001b[0m\u001b[1;33m=\u001b[0m\u001b[0mmeanline\u001b[0m\u001b[1;33m,\u001b[0m \u001b[0mshowfliers\u001b[0m\u001b[1;33m=\u001b[0m\u001b[0mshowfliers\u001b[0m\u001b[1;33m,\u001b[0m\u001b[1;33m\u001b[0m\u001b[0m\n\u001b[0;32m   3386\u001b[0m                            \u001b[0mcapprops\u001b[0m\u001b[1;33m=\u001b[0m\u001b[0mcapprops\u001b[0m\u001b[1;33m,\u001b[0m \u001b[0mwhiskerprops\u001b[0m\u001b[1;33m=\u001b[0m\u001b[0mwhiskerprops\u001b[0m\u001b[1;33m,\u001b[0m\u001b[1;33m\u001b[0m\u001b[0m\n\u001b[1;32m-> 3387\u001b[1;33m                            manage_xticks=manage_xticks, zorder=zorder)\n\u001b[0m\u001b[0;32m   3388\u001b[0m         \u001b[1;32mreturn\u001b[0m \u001b[0martists\u001b[0m\u001b[1;33m\u001b[0m\u001b[0m\n\u001b[0;32m   3389\u001b[0m \u001b[1;33m\u001b[0m\u001b[0m\n",
      "\u001b[1;32mC:\\Users\\aarono\\AppData\\Local\\Continuum\\anaconda2\\lib\\site-packages\\matplotlib\\axes\\_axes.pyc\u001b[0m in \u001b[0;36mbxp\u001b[1;34m(self, bxpstats, positions, widths, vert, patch_artist, shownotches, showmeans, showcaps, showbox, showfliers, boxprops, whiskerprops, flierprops, medianprops, capprops, meanprops, meanline, manage_xticks, zorder)\u001b[0m\n\u001b[0;32m   3774\u001b[0m \u001b[1;33m\u001b[0m\u001b[0m\n\u001b[0;32m   3775\u001b[0m                 fliers.extend(doplot(\n\u001b[1;32m-> 3776\u001b[1;33m                     \u001b[0mflier_x\u001b[0m\u001b[1;33m,\u001b[0m \u001b[0mflier_y\u001b[0m\u001b[1;33m,\u001b[0m \u001b[1;33m**\u001b[0m\u001b[0mfinal_flierprops\u001b[0m\u001b[1;33m\u001b[0m\u001b[0m\n\u001b[0m\u001b[0;32m   3777\u001b[0m                 ))\n\u001b[0;32m   3778\u001b[0m \u001b[1;33m\u001b[0m\u001b[0m\n",
      "\u001b[1;32mC:\\Users\\aarono\\AppData\\Local\\Continuum\\anaconda2\\lib\\site-packages\\matplotlib\\axes\\_axes.pyc\u001b[0m in \u001b[0;36mdoplot\u001b[1;34m(*args, **kwargs)\u001b[0m\n\u001b[0;32m   3654\u001b[0m         \u001b[1;32mif\u001b[0m \u001b[0mvert\u001b[0m\u001b[1;33m:\u001b[0m\u001b[1;33m\u001b[0m\u001b[0m\n\u001b[0;32m   3655\u001b[0m             \u001b[1;32mdef\u001b[0m \u001b[0mdoplot\u001b[0m\u001b[1;33m(\u001b[0m\u001b[1;33m*\u001b[0m\u001b[0margs\u001b[0m\u001b[1;33m,\u001b[0m \u001b[1;33m**\u001b[0m\u001b[0mkwargs\u001b[0m\u001b[1;33m)\u001b[0m\u001b[1;33m:\u001b[0m\u001b[1;33m\u001b[0m\u001b[0m\n\u001b[1;32m-> 3656\u001b[1;33m                 \u001b[1;32mreturn\u001b[0m \u001b[0mself\u001b[0m\u001b[1;33m.\u001b[0m\u001b[0mplot\u001b[0m\u001b[1;33m(\u001b[0m\u001b[1;33m*\u001b[0m\u001b[0margs\u001b[0m\u001b[1;33m,\u001b[0m \u001b[1;33m**\u001b[0m\u001b[0mkwargs\u001b[0m\u001b[1;33m)\u001b[0m\u001b[1;33m\u001b[0m\u001b[0m\n\u001b[0m\u001b[0;32m   3657\u001b[0m \u001b[1;33m\u001b[0m\u001b[0m\n\u001b[0;32m   3658\u001b[0m             \u001b[1;32mdef\u001b[0m \u001b[0mdopatch\u001b[0m\u001b[1;33m(\u001b[0m\u001b[0mxs\u001b[0m\u001b[1;33m,\u001b[0m \u001b[0mys\u001b[0m\u001b[1;33m,\u001b[0m \u001b[1;33m**\u001b[0m\u001b[0mkwargs\u001b[0m\u001b[1;33m)\u001b[0m\u001b[1;33m:\u001b[0m\u001b[1;33m\u001b[0m\u001b[0m\n",
      "\u001b[1;32mC:\\Users\\aarono\\AppData\\Local\\Continuum\\anaconda2\\lib\\site-packages\\matplotlib\\__init__.pyc\u001b[0m in \u001b[0;36minner\u001b[1;34m(ax, *args, **kwargs)\u001b[0m\n\u001b[0;32m   1896\u001b[0m                     warnings.warn(msg % (label_namer, func.__name__),\n\u001b[0;32m   1897\u001b[0m                                   RuntimeWarning, stacklevel=2)\n\u001b[1;32m-> 1898\u001b[1;33m             \u001b[1;32mreturn\u001b[0m \u001b[0mfunc\u001b[0m\u001b[1;33m(\u001b[0m\u001b[0max\u001b[0m\u001b[1;33m,\u001b[0m \u001b[1;33m*\u001b[0m\u001b[0margs\u001b[0m\u001b[1;33m,\u001b[0m \u001b[1;33m**\u001b[0m\u001b[0mkwargs\u001b[0m\u001b[1;33m)\u001b[0m\u001b[1;33m\u001b[0m\u001b[0m\n\u001b[0m\u001b[0;32m   1899\u001b[0m         \u001b[0mpre_doc\u001b[0m \u001b[1;33m=\u001b[0m \u001b[0minner\u001b[0m\u001b[1;33m.\u001b[0m\u001b[0m__doc__\u001b[0m\u001b[1;33m\u001b[0m\u001b[0m\n\u001b[0;32m   1900\u001b[0m         \u001b[1;32mif\u001b[0m \u001b[0mpre_doc\u001b[0m \u001b[1;32mis\u001b[0m \u001b[0mNone\u001b[0m\u001b[1;33m:\u001b[0m\u001b[1;33m\u001b[0m\u001b[0m\n",
      "\u001b[1;32mC:\\Users\\aarono\\AppData\\Local\\Continuum\\anaconda2\\lib\\site-packages\\matplotlib\\axes\\_axes.pyc\u001b[0m in \u001b[0;36mplot\u001b[1;34m(self, *args, **kwargs)\u001b[0m\n\u001b[0;32m   1404\u001b[0m         \u001b[0mkwargs\u001b[0m \u001b[1;33m=\u001b[0m \u001b[0mcbook\u001b[0m\u001b[1;33m.\u001b[0m\u001b[0mnormalize_kwargs\u001b[0m\u001b[1;33m(\u001b[0m\u001b[0mkwargs\u001b[0m\u001b[1;33m,\u001b[0m \u001b[0m_alias_map\u001b[0m\u001b[1;33m)\u001b[0m\u001b[1;33m\u001b[0m\u001b[0m\n\u001b[0;32m   1405\u001b[0m \u001b[1;33m\u001b[0m\u001b[0m\n\u001b[1;32m-> 1406\u001b[1;33m         \u001b[1;32mfor\u001b[0m \u001b[0mline\u001b[0m \u001b[1;32min\u001b[0m \u001b[0mself\u001b[0m\u001b[1;33m.\u001b[0m\u001b[0m_get_lines\u001b[0m\u001b[1;33m(\u001b[0m\u001b[1;33m*\u001b[0m\u001b[0margs\u001b[0m\u001b[1;33m,\u001b[0m \u001b[1;33m**\u001b[0m\u001b[0mkwargs\u001b[0m\u001b[1;33m)\u001b[0m\u001b[1;33m:\u001b[0m\u001b[1;33m\u001b[0m\u001b[0m\n\u001b[0m\u001b[0;32m   1407\u001b[0m             \u001b[0mself\u001b[0m\u001b[1;33m.\u001b[0m\u001b[0madd_line\u001b[0m\u001b[1;33m(\u001b[0m\u001b[0mline\u001b[0m\u001b[1;33m)\u001b[0m\u001b[1;33m\u001b[0m\u001b[0m\n\u001b[0;32m   1408\u001b[0m             \u001b[0mlines\u001b[0m\u001b[1;33m.\u001b[0m\u001b[0mappend\u001b[0m\u001b[1;33m(\u001b[0m\u001b[0mline\u001b[0m\u001b[1;33m)\u001b[0m\u001b[1;33m\u001b[0m\u001b[0m\n",
      "\u001b[1;32mC:\\Users\\aarono\\AppData\\Local\\Continuum\\anaconda2\\lib\\site-packages\\matplotlib\\axes\\_base.pyc\u001b[0m in \u001b[0;36m_grab_next_args\u001b[1;34m(self, *args, **kwargs)\u001b[0m\n\u001b[0;32m    405\u001b[0m                 \u001b[1;32mreturn\u001b[0m\u001b[1;33m\u001b[0m\u001b[0m\n\u001b[0;32m    406\u001b[0m             \u001b[1;32mif\u001b[0m \u001b[0mlen\u001b[0m\u001b[1;33m(\u001b[0m\u001b[0mremaining\u001b[0m\u001b[1;33m)\u001b[0m \u001b[1;33m<=\u001b[0m \u001b[1;36m3\u001b[0m\u001b[1;33m:\u001b[0m\u001b[1;33m\u001b[0m\u001b[0m\n\u001b[1;32m--> 407\u001b[1;33m                 \u001b[1;32mfor\u001b[0m \u001b[0mseg\u001b[0m \u001b[1;32min\u001b[0m \u001b[0mself\u001b[0m\u001b[1;33m.\u001b[0m\u001b[0m_plot_args\u001b[0m\u001b[1;33m(\u001b[0m\u001b[0mremaining\u001b[0m\u001b[1;33m,\u001b[0m \u001b[0mkwargs\u001b[0m\u001b[1;33m)\u001b[0m\u001b[1;33m:\u001b[0m\u001b[1;33m\u001b[0m\u001b[0m\n\u001b[0m\u001b[0;32m    408\u001b[0m                     \u001b[1;32myield\u001b[0m \u001b[0mseg\u001b[0m\u001b[1;33m\u001b[0m\u001b[0m\n\u001b[0;32m    409\u001b[0m                 \u001b[1;32mreturn\u001b[0m\u001b[1;33m\u001b[0m\u001b[0m\n",
      "\u001b[1;32mC:\\Users\\aarono\\AppData\\Local\\Continuum\\anaconda2\\lib\\site-packages\\matplotlib\\axes\\_base.pyc\u001b[0m in \u001b[0;36m_plot_args\u001b[1;34m(self, tup, kwargs)\u001b[0m\n\u001b[0;32m    355\u001b[0m         \u001b[0mret\u001b[0m \u001b[1;33m=\u001b[0m \u001b[1;33m[\u001b[0m\u001b[1;33m]\u001b[0m\u001b[1;33m\u001b[0m\u001b[0m\n\u001b[0;32m    356\u001b[0m         \u001b[1;32mif\u001b[0m \u001b[0mlen\u001b[0m\u001b[1;33m(\u001b[0m\u001b[0mtup\u001b[0m\u001b[1;33m)\u001b[0m \u001b[1;33m>\u001b[0m \u001b[1;36m1\u001b[0m \u001b[1;32mand\u001b[0m \u001b[0mis_string_like\u001b[0m\u001b[1;33m(\u001b[0m\u001b[0mtup\u001b[0m\u001b[1;33m[\u001b[0m\u001b[1;33m-\u001b[0m\u001b[1;36m1\u001b[0m\u001b[1;33m]\u001b[0m\u001b[1;33m)\u001b[0m\u001b[1;33m:\u001b[0m\u001b[1;33m\u001b[0m\u001b[0m\n\u001b[1;32m--> 357\u001b[1;33m             \u001b[0mlinestyle\u001b[0m\u001b[1;33m,\u001b[0m \u001b[0mmarker\u001b[0m\u001b[1;33m,\u001b[0m \u001b[0mcolor\u001b[0m \u001b[1;33m=\u001b[0m \u001b[0m_process_plot_format\u001b[0m\u001b[1;33m(\u001b[0m\u001b[0mtup\u001b[0m\u001b[1;33m[\u001b[0m\u001b[1;33m-\u001b[0m\u001b[1;36m1\u001b[0m\u001b[1;33m]\u001b[0m\u001b[1;33m)\u001b[0m\u001b[1;33m\u001b[0m\u001b[0m\n\u001b[0m\u001b[0;32m    358\u001b[0m             \u001b[0mtup\u001b[0m \u001b[1;33m=\u001b[0m \u001b[0mtup\u001b[0m\u001b[1;33m[\u001b[0m\u001b[1;33m:\u001b[0m\u001b[1;33m-\u001b[0m\u001b[1;36m1\u001b[0m\u001b[1;33m]\u001b[0m\u001b[1;33m\u001b[0m\u001b[0m\n\u001b[0;32m    359\u001b[0m         \u001b[1;32melif\u001b[0m \u001b[0mlen\u001b[0m\u001b[1;33m(\u001b[0m\u001b[0mtup\u001b[0m\u001b[1;33m)\u001b[0m \u001b[1;33m==\u001b[0m \u001b[1;36m3\u001b[0m\u001b[1;33m:\u001b[0m\u001b[1;33m\u001b[0m\u001b[0m\n",
      "\u001b[1;32mC:\\Users\\aarono\\AppData\\Local\\Continuum\\anaconda2\\lib\\site-packages\\matplotlib\\axes\\_base.pyc\u001b[0m in \u001b[0;36m_process_plot_format\u001b[1;34m(fmt)\u001b[0m\n\u001b[0;32m     92\u001b[0m     \u001b[1;31m# handle the multi char special cases and strip them from the\u001b[0m\u001b[1;33m\u001b[0m\u001b[1;33m\u001b[0m\u001b[0m\n\u001b[0;32m     93\u001b[0m     \u001b[1;31m# string\u001b[0m\u001b[1;33m\u001b[0m\u001b[1;33m\u001b[0m\u001b[0m\n\u001b[1;32m---> 94\u001b[1;33m     \u001b[1;32mif\u001b[0m \u001b[0mfmt\u001b[0m\u001b[1;33m.\u001b[0m\u001b[0mfind\u001b[0m\u001b[1;33m(\u001b[0m\u001b[1;34m'--'\u001b[0m\u001b[1;33m)\u001b[0m \u001b[1;33m>=\u001b[0m \u001b[1;36m0\u001b[0m\u001b[1;33m:\u001b[0m\u001b[1;33m\u001b[0m\u001b[0m\n\u001b[0m\u001b[0;32m     95\u001b[0m         \u001b[0mlinestyle\u001b[0m \u001b[1;33m=\u001b[0m \u001b[1;34m'--'\u001b[0m\u001b[1;33m\u001b[0m\u001b[0m\n\u001b[0;32m     96\u001b[0m         \u001b[0mfmt\u001b[0m \u001b[1;33m=\u001b[0m \u001b[0mfmt\u001b[0m\u001b[1;33m.\u001b[0m\u001b[0mreplace\u001b[0m\u001b[1;33m(\u001b[0m\u001b[1;34m'--'\u001b[0m\u001b[1;33m,\u001b[0m \u001b[1;34m''\u001b[0m\u001b[1;33m)\u001b[0m\u001b[1;33m\u001b[0m\u001b[0m\n",
      "\u001b[1;31mAttributeError\u001b[0m: 'numpy.ndarray' object has no attribute 'find'"
     ]
    },
    {
     "data": {
      "image/png": "[encoded data removed]",
      "text/plain": [
       "<matplotlib.figure.Figure at 0xe73d240>"
      ]
     },
     "metadata": {},
     "output_type": "display_data"
    }
   ],
   "source": [
    "sns.boxplot(x = 'Post patch?', y = 'BA conc. >400 (pg/uL)',\n",
    "           hue = 'single_channel', data = df)\n",
    "plt.xticks(rotation = 45)"
   ]
  },
  {
   "cell_type": "code",
   "execution_count": 16,
   "metadata": {},
   "outputs": [
    {
     "ename": "AttributeError",
     "evalue": "'numpy.ndarray' object has no attribute 'find'",
     "output_type": "error",
     "traceback": [
      "\u001b[1;31m---------------------------------------------------------------------------\u001b[0m",
      "\u001b[1;31mAttributeError\u001b[0m                            Traceback (most recent call last)",
      "\u001b[1;32m<ipython-input-16-8a1e505d6444>\u001b[0m in \u001b[0;36m<module>\u001b[1;34m()\u001b[0m\n\u001b[0;32m      1\u001b[0m sns.boxplot(x = 'Post patch?', y = 'BA conc. >400 (pg/uL)', \n\u001b[1;32m----> 2\u001b[1;33m             hue = 'single_channel', data = df[df['patch duration'] < 30])\n\u001b[0m\u001b[0;32m      3\u001b[0m \u001b[0mplt\u001b[0m\u001b[1;33m.\u001b[0m\u001b[0mxticks\u001b[0m\u001b[1;33m(\u001b[0m\u001b[0mrotation\u001b[0m \u001b[1;33m=\u001b[0m \u001b[1;36m45\u001b[0m\u001b[1;33m)\u001b[0m\u001b[1;33m\u001b[0m\u001b[0m\n",
      "\u001b[1;32mC:\\Users\\aarono\\AppData\\Local\\Continuum\\anaconda2\\lib\\site-packages\\seaborn\\categorical.pyc\u001b[0m in \u001b[0;36mboxplot\u001b[1;34m(x, y, hue, data, order, hue_order, orient, color, palette, saturation, width, dodge, fliersize, linewidth, whis, notch, ax, **kwargs)\u001b[0m\n\u001b[0;32m   2196\u001b[0m     \u001b[0mkwargs\u001b[0m\u001b[1;33m.\u001b[0m\u001b[0mupdate\u001b[0m\u001b[1;33m(\u001b[0m\u001b[0mdict\u001b[0m\u001b[1;33m(\u001b[0m\u001b[0mwhis\u001b[0m\u001b[1;33m=\u001b[0m\u001b[0mwhis\u001b[0m\u001b[1;33m,\u001b[0m \u001b[0mnotch\u001b[0m\u001b[1;33m=\u001b[0m\u001b[0mnotch\u001b[0m\u001b[1;33m)\u001b[0m\u001b[1;33m)\u001b[0m\u001b[1;33m\u001b[0m\u001b[0m\n\u001b[0;32m   2197\u001b[0m \u001b[1;33m\u001b[0m\u001b[0m\n\u001b[1;32m-> 2198\u001b[1;33m     \u001b[0mplotter\u001b[0m\u001b[1;33m.\u001b[0m\u001b[0mplot\u001b[0m\u001b[1;33m(\u001b[0m\u001b[0max\u001b[0m\u001b[1;33m,\u001b[0m \u001b[0mkwargs\u001b[0m\u001b[1;33m)\u001b[0m\u001b[1;33m\u001b[0m\u001b[0m\n\u001b[0m\u001b[0;32m   2199\u001b[0m     \u001b[1;32mreturn\u001b[0m \u001b[0max\u001b[0m\u001b[1;33m\u001b[0m\u001b[0m\n\u001b[0;32m   2200\u001b[0m \u001b[1;33m\u001b[0m\u001b[0m\n",
      "\u001b[1;32mC:\\Users\\aarono\\AppData\\Local\\Continuum\\anaconda2\\lib\\site-packages\\seaborn\\categorical.pyc\u001b[0m in \u001b[0;36mplot\u001b[1;34m(self, ax, boxplot_kws)\u001b[0m\n\u001b[0;32m    534\u001b[0m     \u001b[1;32mdef\u001b[0m \u001b[0mplot\u001b[0m\u001b[1;33m(\u001b[0m\u001b[0mself\u001b[0m\u001b[1;33m,\u001b[0m \u001b[0max\u001b[0m\u001b[1;33m,\u001b[0m \u001b[0mboxplot_kws\u001b[0m\u001b[1;33m)\u001b[0m\u001b[1;33m:\u001b[0m\u001b[1;33m\u001b[0m\u001b[0m\n\u001b[0;32m    535\u001b[0m         \u001b[1;34m\"\"\"Make the plot.\"\"\"\u001b[0m\u001b[1;33m\u001b[0m\u001b[0m\n\u001b[1;32m--> 536\u001b[1;33m         \u001b[0mself\u001b[0m\u001b[1;33m.\u001b[0m\u001b[0mdraw_boxplot\u001b[0m\u001b[1;33m(\u001b[0m\u001b[0max\u001b[0m\u001b[1;33m,\u001b[0m \u001b[0mboxplot_kws\u001b[0m\u001b[1;33m)\u001b[0m\u001b[1;33m\u001b[0m\u001b[0m\n\u001b[0m\u001b[0;32m    537\u001b[0m         \u001b[0mself\u001b[0m\u001b[1;33m.\u001b[0m\u001b[0mannotate_axes\u001b[0m\u001b[1;33m(\u001b[0m\u001b[0max\u001b[0m\u001b[1;33m)\u001b[0m\u001b[1;33m\u001b[0m\u001b[0m\n\u001b[0;32m    538\u001b[0m         \u001b[1;32mif\u001b[0m \u001b[0mself\u001b[0m\u001b[1;33m.\u001b[0m\u001b[0morient\u001b[0m \u001b[1;33m==\u001b[0m \u001b[1;34m\"h\"\u001b[0m\u001b[1;33m:\u001b[0m\u001b[1;33m\u001b[0m\u001b[0m\n",
      "\u001b[1;32mC:\\Users\\aarono\\AppData\\Local\\Continuum\\anaconda2\\lib\\site-packages\\seaborn\\categorical.pyc\u001b[0m in \u001b[0;36mdraw_boxplot\u001b[1;34m(self, ax, kws)\u001b[0m\n\u001b[0;32m    500\u001b[0m                                              \u001b[0mpositions\u001b[0m\u001b[1;33m=\u001b[0m\u001b[1;33m[\u001b[0m\u001b[0mcenter\u001b[0m\u001b[1;33m]\u001b[0m\u001b[1;33m,\u001b[0m\u001b[1;33m\u001b[0m\u001b[0m\n\u001b[0;32m    501\u001b[0m                                              \u001b[0mwidths\u001b[0m\u001b[1;33m=\u001b[0m\u001b[0mself\u001b[0m\u001b[1;33m.\u001b[0m\u001b[0mnested_width\u001b[0m\u001b[1;33m,\u001b[0m\u001b[1;33m\u001b[0m\u001b[0m\n\u001b[1;32m--> 502\u001b[1;33m                                              **kws)\n\u001b[0m\u001b[0;32m    503\u001b[0m                     \u001b[0mself\u001b[0m\u001b[1;33m.\u001b[0m\u001b[0mrestyle_boxplot\u001b[0m\u001b[1;33m(\u001b[0m\u001b[0martist_dict\u001b[0m\u001b[1;33m,\u001b[0m \u001b[0mself\u001b[0m\u001b[1;33m.\u001b[0m\u001b[0mcolors\u001b[0m\u001b[1;33m[\u001b[0m\u001b[0mj\u001b[0m\u001b[1;33m]\u001b[0m\u001b[1;33m,\u001b[0m \u001b[0mprops\u001b[0m\u001b[1;33m)\u001b[0m\u001b[1;33m\u001b[0m\u001b[0m\n\u001b[0;32m    504\u001b[0m                     \u001b[1;31m# Add legend data, but just for one set of boxes\u001b[0m\u001b[1;33m\u001b[0m\u001b[1;33m\u001b[0m\u001b[0m\n",
      "\u001b[1;32mC:\\Users\\aarono\\AppData\\Local\\Continuum\\anaconda2\\lib\\site-packages\\matplotlib\\__init__.pyc\u001b[0m in \u001b[0;36minner\u001b[1;34m(ax, *args, **kwargs)\u001b[0m\n\u001b[0;32m   1896\u001b[0m                     warnings.warn(msg % (label_namer, func.__name__),\n\u001b[0;32m   1897\u001b[0m                                   RuntimeWarning, stacklevel=2)\n\u001b[1;32m-> 1898\u001b[1;33m             \u001b[1;32mreturn\u001b[0m \u001b[0mfunc\u001b[0m\u001b[1;33m(\u001b[0m\u001b[0max\u001b[0m\u001b[1;33m,\u001b[0m \u001b[1;33m*\u001b[0m\u001b[0margs\u001b[0m\u001b[1;33m,\u001b[0m \u001b[1;33m**\u001b[0m\u001b[0mkwargs\u001b[0m\u001b[1;33m)\u001b[0m\u001b[1;33m\u001b[0m\u001b[0m\n\u001b[0m\u001b[0;32m   1899\u001b[0m         \u001b[0mpre_doc\u001b[0m \u001b[1;33m=\u001b[0m \u001b[0minner\u001b[0m\u001b[1;33m.\u001b[0m\u001b[0m__doc__\u001b[0m\u001b[1;33m\u001b[0m\u001b[0m\n\u001b[0;32m   1900\u001b[0m         \u001b[1;32mif\u001b[0m \u001b[0mpre_doc\u001b[0m \u001b[1;32mis\u001b[0m \u001b[0mNone\u001b[0m\u001b[1;33m:\u001b[0m\u001b[1;33m\u001b[0m\u001b[0m\n",
      "\u001b[1;32mC:\\Users\\aarono\\AppData\\Local\\Continuum\\anaconda2\\lib\\site-packages\\matplotlib\\axes\\_axes.pyc\u001b[0m in \u001b[0;36mboxplot\u001b[1;34m(self, x, notch, sym, vert, whis, positions, widths, patch_artist, bootstrap, usermedians, conf_intervals, meanline, showmeans, showcaps, showbox, showfliers, boxprops, labels, flierprops, medianprops, meanprops, capprops, whiskerprops, manage_xticks, autorange, zorder)\u001b[0m\n\u001b[0;32m   3385\u001b[0m                            \u001b[0mmeanline\u001b[0m\u001b[1;33m=\u001b[0m\u001b[0mmeanline\u001b[0m\u001b[1;33m,\u001b[0m \u001b[0mshowfliers\u001b[0m\u001b[1;33m=\u001b[0m\u001b[0mshowfliers\u001b[0m\u001b[1;33m,\u001b[0m\u001b[1;33m\u001b[0m\u001b[0m\n\u001b[0;32m   3386\u001b[0m                            \u001b[0mcapprops\u001b[0m\u001b[1;33m=\u001b[0m\u001b[0mcapprops\u001b[0m\u001b[1;33m,\u001b[0m \u001b[0mwhiskerprops\u001b[0m\u001b[1;33m=\u001b[0m\u001b[0mwhiskerprops\u001b[0m\u001b[1;33m,\u001b[0m\u001b[1;33m\u001b[0m\u001b[0m\n\u001b[1;32m-> 3387\u001b[1;33m                            manage_xticks=manage_xticks, zorder=zorder)\n\u001b[0m\u001b[0;32m   3388\u001b[0m         \u001b[1;32mreturn\u001b[0m \u001b[0martists\u001b[0m\u001b[1;33m\u001b[0m\u001b[0m\n\u001b[0;32m   3389\u001b[0m \u001b[1;33m\u001b[0m\u001b[0m\n",
      "\u001b[1;32mC:\\Users\\aarono\\AppData\\Local\\Continuum\\anaconda2\\lib\\site-packages\\matplotlib\\axes\\_axes.pyc\u001b[0m in \u001b[0;36mbxp\u001b[1;34m(self, bxpstats, positions, widths, vert, patch_artist, shownotches, showmeans, showcaps, showbox, showfliers, boxprops, whiskerprops, flierprops, medianprops, capprops, meanprops, meanline, manage_xticks, zorder)\u001b[0m\n\u001b[0;32m   3774\u001b[0m \u001b[1;33m\u001b[0m\u001b[0m\n\u001b[0;32m   3775\u001b[0m                 fliers.extend(doplot(\n\u001b[1;32m-> 3776\u001b[1;33m                     \u001b[0mflier_x\u001b[0m\u001b[1;33m,\u001b[0m \u001b[0mflier_y\u001b[0m\u001b[1;33m,\u001b[0m \u001b[1;33m**\u001b[0m\u001b[0mfinal_flierprops\u001b[0m\u001b[1;33m\u001b[0m\u001b[0m\n\u001b[0m\u001b[0;32m   3777\u001b[0m                 ))\n\u001b[0;32m   3778\u001b[0m \u001b[1;33m\u001b[0m\u001b[0m\n",
      "\u001b[1;32mC:\\Users\\aarono\\AppData\\Local\\Continuum\\anaconda2\\lib\\site-packages\\matplotlib\\axes\\_axes.pyc\u001b[0m in \u001b[0;36mdoplot\u001b[1;34m(*args, **kwargs)\u001b[0m\n\u001b[0;32m   3654\u001b[0m         \u001b[1;32mif\u001b[0m \u001b[0mvert\u001b[0m\u001b[1;33m:\u001b[0m\u001b[1;33m\u001b[0m\u001b[0m\n\u001b[0;32m   3655\u001b[0m             \u001b[1;32mdef\u001b[0m \u001b[0mdoplot\u001b[0m\u001b[1;33m(\u001b[0m\u001b[1;33m*\u001b[0m\u001b[0margs\u001b[0m\u001b[1;33m,\u001b[0m \u001b[1;33m**\u001b[0m\u001b[0mkwargs\u001b[0m\u001b[1;33m)\u001b[0m\u001b[1;33m:\u001b[0m\u001b[1;33m\u001b[0m\u001b[0m\n\u001b[1;32m-> 3656\u001b[1;33m                 \u001b[1;32mreturn\u001b[0m \u001b[0mself\u001b[0m\u001b[1;33m.\u001b[0m\u001b[0mplot\u001b[0m\u001b[1;33m(\u001b[0m\u001b[1;33m*\u001b[0m\u001b[0margs\u001b[0m\u001b[1;33m,\u001b[0m \u001b[1;33m**\u001b[0m\u001b[0mkwargs\u001b[0m\u001b[1;33m)\u001b[0m\u001b[1;33m\u001b[0m\u001b[0m\n\u001b[0m\u001b[0;32m   3657\u001b[0m \u001b[1;33m\u001b[0m\u001b[0m\n\u001b[0;32m   3658\u001b[0m             \u001b[1;32mdef\u001b[0m \u001b[0mdopatch\u001b[0m\u001b[1;33m(\u001b[0m\u001b[0mxs\u001b[0m\u001b[1;33m,\u001b[0m \u001b[0mys\u001b[0m\u001b[1;33m,\u001b[0m \u001b[1;33m**\u001b[0m\u001b[0mkwargs\u001b[0m\u001b[1;33m)\u001b[0m\u001b[1;33m:\u001b[0m\u001b[1;33m\u001b[0m\u001b[0m\n",
      "\u001b[1;32mC:\\Users\\aarono\\AppData\\Local\\Continuum\\anaconda2\\lib\\site-packages\\matplotlib\\__init__.pyc\u001b[0m in \u001b[0;36minner\u001b[1;34m(ax, *args, **kwargs)\u001b[0m\n\u001b[0;32m   1896\u001b[0m                     warnings.warn(msg % (label_namer, func.__name__),\n\u001b[0;32m   1897\u001b[0m                                   RuntimeWarning, stacklevel=2)\n\u001b[1;32m-> 1898\u001b[1;33m             \u001b[1;32mreturn\u001b[0m \u001b[0mfunc\u001b[0m\u001b[1;33m(\u001b[0m\u001b[0max\u001b[0m\u001b[1;33m,\u001b[0m \u001b[1;33m*\u001b[0m\u001b[0margs\u001b[0m\u001b[1;33m,\u001b[0m \u001b[1;33m**\u001b[0m\u001b[0mkwargs\u001b[0m\u001b[1;33m)\u001b[0m\u001b[1;33m\u001b[0m\u001b[0m\n\u001b[0m\u001b[0;32m   1899\u001b[0m         \u001b[0mpre_doc\u001b[0m \u001b[1;33m=\u001b[0m \u001b[0minner\u001b[0m\u001b[1;33m.\u001b[0m\u001b[0m__doc__\u001b[0m\u001b[1;33m\u001b[0m\u001b[0m\n\u001b[0;32m   1900\u001b[0m         \u001b[1;32mif\u001b[0m \u001b[0mpre_doc\u001b[0m \u001b[1;32mis\u001b[0m \u001b[0mNone\u001b[0m\u001b[1;33m:\u001b[0m\u001b[1;33m\u001b[0m\u001b[0m\n",
      "\u001b[1;32mC:\\Users\\aarono\\AppData\\Local\\Continuum\\anaconda2\\lib\\site-packages\\matplotlib\\axes\\_axes.pyc\u001b[0m in \u001b[0;36mplot\u001b[1;34m(self, *args, **kwargs)\u001b[0m\n\u001b[0;32m   1404\u001b[0m         \u001b[0mkwargs\u001b[0m \u001b[1;33m=\u001b[0m \u001b[0mcbook\u001b[0m\u001b[1;33m.\u001b[0m\u001b[0mnormalize_kwargs\u001b[0m\u001b[1;33m(\u001b[0m\u001b[0mkwargs\u001b[0m\u001b[1;33m,\u001b[0m \u001b[0m_alias_map\u001b[0m\u001b[1;33m)\u001b[0m\u001b[1;33m\u001b[0m\u001b[0m\n\u001b[0;32m   1405\u001b[0m \u001b[1;33m\u001b[0m\u001b[0m\n\u001b[1;32m-> 1406\u001b[1;33m         \u001b[1;32mfor\u001b[0m \u001b[0mline\u001b[0m \u001b[1;32min\u001b[0m \u001b[0mself\u001b[0m\u001b[1;33m.\u001b[0m\u001b[0m_get_lines\u001b[0m\u001b[1;33m(\u001b[0m\u001b[1;33m*\u001b[0m\u001b[0margs\u001b[0m\u001b[1;33m,\u001b[0m \u001b[1;33m**\u001b[0m\u001b[0mkwargs\u001b[0m\u001b[1;33m)\u001b[0m\u001b[1;33m:\u001b[0m\u001b[1;33m\u001b[0m\u001b[0m\n\u001b[0m\u001b[0;32m   1407\u001b[0m             \u001b[0mself\u001b[0m\u001b[1;33m.\u001b[0m\u001b[0madd_line\u001b[0m\u001b[1;33m(\u001b[0m\u001b[0mline\u001b[0m\u001b[1;33m)\u001b[0m\u001b[1;33m\u001b[0m\u001b[0m\n\u001b[0;32m   1408\u001b[0m             \u001b[0mlines\u001b[0m\u001b[1;33m.\u001b[0m\u001b[0mappend\u001b[0m\u001b[1;33m(\u001b[0m\u001b[0mline\u001b[0m\u001b[1;33m)\u001b[0m\u001b[1;33m\u001b[0m\u001b[0m\n",
      "\u001b[1;32mC:\\Users\\aarono\\AppData\\Local\\Continuum\\anaconda2\\lib\\site-packages\\matplotlib\\axes\\_base.pyc\u001b[0m in \u001b[0;36m_grab_next_args\u001b[1;34m(self, *args, **kwargs)\u001b[0m\n\u001b[0;32m    405\u001b[0m                 \u001b[1;32mreturn\u001b[0m\u001b[1;33m\u001b[0m\u001b[0m\n\u001b[0;32m    406\u001b[0m             \u001b[1;32mif\u001b[0m \u001b[0mlen\u001b[0m\u001b[1;33m(\u001b[0m\u001b[0mremaining\u001b[0m\u001b[1;33m)\u001b[0m \u001b[1;33m<=\u001b[0m \u001b[1;36m3\u001b[0m\u001b[1;33m:\u001b[0m\u001b[1;33m\u001b[0m\u001b[0m\n\u001b[1;32m--> 407\u001b[1;33m                 \u001b[1;32mfor\u001b[0m \u001b[0mseg\u001b[0m \u001b[1;32min\u001b[0m \u001b[0mself\u001b[0m\u001b[1;33m.\u001b[0m\u001b[0m_plot_args\u001b[0m\u001b[1;33m(\u001b[0m\u001b[0mremaining\u001b[0m\u001b[1;33m,\u001b[0m \u001b[0mkwargs\u001b[0m\u001b[1;33m)\u001b[0m\u001b[1;33m:\u001b[0m\u001b[1;33m\u001b[0m\u001b[0m\n\u001b[0m\u001b[0;32m    408\u001b[0m                     \u001b[1;32myield\u001b[0m \u001b[0mseg\u001b[0m\u001b[1;33m\u001b[0m\u001b[0m\n\u001b[0;32m    409\u001b[0m                 \u001b[1;32mreturn\u001b[0m\u001b[1;33m\u001b[0m\u001b[0m\n",
      "\u001b[1;32mC:\\Users\\aarono\\AppData\\Local\\Continuum\\anaconda2\\lib\\site-packages\\matplotlib\\axes\\_base.pyc\u001b[0m in \u001b[0;36m_plot_args\u001b[1;34m(self, tup, kwargs)\u001b[0m\n\u001b[0;32m    355\u001b[0m         \u001b[0mret\u001b[0m \u001b[1;33m=\u001b[0m \u001b[1;33m[\u001b[0m\u001b[1;33m]\u001b[0m\u001b[1;33m\u001b[0m\u001b[0m\n\u001b[0;32m    356\u001b[0m         \u001b[1;32mif\u001b[0m \u001b[0mlen\u001b[0m\u001b[1;33m(\u001b[0m\u001b[0mtup\u001b[0m\u001b[1;33m)\u001b[0m \u001b[1;33m>\u001b[0m \u001b[1;36m1\u001b[0m \u001b[1;32mand\u001b[0m \u001b[0mis_string_like\u001b[0m\u001b[1;33m(\u001b[0m\u001b[0mtup\u001b[0m\u001b[1;33m[\u001b[0m\u001b[1;33m-\u001b[0m\u001b[1;36m1\u001b[0m\u001b[1;33m]\u001b[0m\u001b[1;33m)\u001b[0m\u001b[1;33m:\u001b[0m\u001b[1;33m\u001b[0m\u001b[0m\n\u001b[1;32m--> 357\u001b[1;33m             \u001b[0mlinestyle\u001b[0m\u001b[1;33m,\u001b[0m \u001b[0mmarker\u001b[0m\u001b[1;33m,\u001b[0m \u001b[0mcolor\u001b[0m \u001b[1;33m=\u001b[0m \u001b[0m_process_plot_format\u001b[0m\u001b[1;33m(\u001b[0m\u001b[0mtup\u001b[0m\u001b[1;33m[\u001b[0m\u001b[1;33m-\u001b[0m\u001b[1;36m1\u001b[0m\u001b[1;33m]\u001b[0m\u001b[1;33m)\u001b[0m\u001b[1;33m\u001b[0m\u001b[0m\n\u001b[0m\u001b[0;32m    358\u001b[0m             \u001b[0mtup\u001b[0m \u001b[1;33m=\u001b[0m \u001b[0mtup\u001b[0m\u001b[1;33m[\u001b[0m\u001b[1;33m:\u001b[0m\u001b[1;33m-\u001b[0m\u001b[1;36m1\u001b[0m\u001b[1;33m]\u001b[0m\u001b[1;33m\u001b[0m\u001b[0m\n\u001b[0;32m    359\u001b[0m         \u001b[1;32melif\u001b[0m \u001b[0mlen\u001b[0m\u001b[1;33m(\u001b[0m\u001b[0mtup\u001b[0m\u001b[1;33m)\u001b[0m \u001b[1;33m==\u001b[0m \u001b[1;36m3\u001b[0m\u001b[1;33m:\u001b[0m\u001b[1;33m\u001b[0m\u001b[0m\n",
      "\u001b[1;32mC:\\Users\\aarono\\AppData\\Local\\Continuum\\anaconda2\\lib\\site-packages\\matplotlib\\axes\\_base.pyc\u001b[0m in \u001b[0;36m_process_plot_format\u001b[1;34m(fmt)\u001b[0m\n\u001b[0;32m     92\u001b[0m     \u001b[1;31m# handle the multi char special cases and strip them from the\u001b[0m\u001b[1;33m\u001b[0m\u001b[1;33m\u001b[0m\u001b[0m\n\u001b[0;32m     93\u001b[0m     \u001b[1;31m# string\u001b[0m\u001b[1;33m\u001b[0m\u001b[1;33m\u001b[0m\u001b[0m\n\u001b[1;32m---> 94\u001b[1;33m     \u001b[1;32mif\u001b[0m \u001b[0mfmt\u001b[0m\u001b[1;33m.\u001b[0m\u001b[0mfind\u001b[0m\u001b[1;33m(\u001b[0m\u001b[1;34m'--'\u001b[0m\u001b[1;33m)\u001b[0m \u001b[1;33m>=\u001b[0m \u001b[1;36m0\u001b[0m\u001b[1;33m:\u001b[0m\u001b[1;33m\u001b[0m\u001b[0m\n\u001b[0m\u001b[0;32m     95\u001b[0m         \u001b[0mlinestyle\u001b[0m \u001b[1;33m=\u001b[0m \u001b[1;34m'--'\u001b[0m\u001b[1;33m\u001b[0m\u001b[0m\n\u001b[0;32m     96\u001b[0m         \u001b[0mfmt\u001b[0m \u001b[1;33m=\u001b[0m \u001b[0mfmt\u001b[0m\u001b[1;33m.\u001b[0m\u001b[0mreplace\u001b[0m\u001b[1;33m(\u001b[0m\u001b[1;34m'--'\u001b[0m\u001b[1;33m,\u001b[0m \u001b[1;34m''\u001b[0m\u001b[1;33m)\u001b[0m\u001b[1;33m\u001b[0m\u001b[0m\n",
      "\u001b[1;31mAttributeError\u001b[0m: 'numpy.ndarray' object has no attribute 'find'"
     ]
    },
    {
     "data": {
      "image/png": "[encoded data removed]",
      "text/plain": [
       "<matplotlib.figure.Figure at 0xcd52048>"
      ]
     },
     "metadata": {},
     "output_type": "display_data"
    }
   ],
   "source": [
    "sns.boxplot(x = 'Post patch?', y = 'BA conc. >400 (pg/uL)', \n",
    "            hue = 'single_channel', data = df[df['patch duration'] < 30])\n",
    "plt.xticks(rotation = 45)"
   ]
  },
  {
   "cell_type": "code",
   "execution_count": 15,
   "metadata": {},
   "outputs": [
    {
     "data": {
      "text/plain": [
       "<matplotlib.collections.PathCollection at 0x12eadb70>"
      ]
     },
     "execution_count": 15,
     "metadata": {},
     "output_type": "execute_result"
    },
    {
     "data": {
      "image/png": "[encoded data removed]",
      "text/plain": [
       "<matplotlib.figure.Figure at 0x12dff630>"
      ]
     },
     "metadata": {},
     "output_type": "display_data"
    }
   ],
   "source": [
    "plt.scatter(df[df['single_channel'] == True]['patch duration'], \n",
    "            df[df['single_channel'] == True]['BA conc. >400 (pg/uL)'],\n",
    "           color = 'blue')\n",
    "plt.scatter(df[df['single_channel'] == False]['patch duration'], \n",
    "            df[df['single_channel'] == False]['BA conc. >400 (pg/uL)'],\n",
    "           color = 'red')"
   ]
  },
  {
   "cell_type": "code",
   "execution_count": 22,
   "metadata": {},
   "outputs": [
    {
     "data": {
      "text/plain": [
       "<seaborn.axisgrid.FacetGrid at 0xd519eb8>"
      ]
     },
     "execution_count": 22,
     "metadata": {},
     "output_type": "execute_result"
    },
    {
     "data": {
      "image/png": "[encoded data removed]",
      "text/plain": [
       "<matplotlib.figure.Figure at 0xd062d30>"
      ]
     },
     "metadata": {},
     "output_type": "display_data"
    }
   ],
   "source": [
    "sns.lmplot(x = 'patch duration', y = 'BA conc. >400 (pg/uL)',\n",
    "          hue = 'single_channel',fit_reg = False, \n",
    "           palette = ['#F2790C','#0A590F'],scatter_kws = {'alpha': .7},\n",
    "           data = df[df['patch duration'] < 30])"
   ]
  },
  {
   "cell_type": "code",
   "execution_count": 87,
   "metadata": {
    "collapsed": true
   },
   "outputs": [],
   "source": [
    "df.to_csv('single_channel.csv')"
   ]
  },
  {
   "cell_type": "code",
   "execution_count": 37,
   "metadata": {},
   "outputs": [
    {
     "ename": "ValueError",
     "evalue": "Could not interpret input 'failed'",
     "output_type": "error",
     "traceback": [
      "\u001b[1;31m---------------------------------------------------------------------------\u001b[0m",
      "\u001b[1;31mValueError\u001b[0m                                Traceback (most recent call last)",
      "\u001b[1;32m<ipython-input-37-d4524c5fb4c8>\u001b[0m in \u001b[0;36m<module>\u001b[1;34m()\u001b[0m\n\u001b[0;32m      1\u001b[0m sns.boxplot(x = 'failed', y = 'BA conc. >400 (pg/uL)', \n\u001b[1;32m----> 2\u001b[1;33m             hue = 'single_channel', data = df)\n\u001b[0m\u001b[0;32m      3\u001b[0m \u001b[0mplt\u001b[0m\u001b[1;33m.\u001b[0m\u001b[0mxticks\u001b[0m\u001b[1;33m(\u001b[0m\u001b[0mrotation\u001b[0m \u001b[1;33m=\u001b[0m \u001b[1;36m45\u001b[0m\u001b[1;33m)\u001b[0m\u001b[1;33m\u001b[0m\u001b[0m\n",
      "\u001b[1;32mC:\\Users\\aarono\\AppData\\Local\\Continuum\\anaconda2\\lib\\site-packages\\seaborn\\categorical.pyc\u001b[0m in \u001b[0;36mboxplot\u001b[1;34m(x, y, hue, data, order, hue_order, orient, color, palette, saturation, width, dodge, fliersize, linewidth, whis, notch, ax, **kwargs)\u001b[0m\n\u001b[0;32m   2190\u001b[0m     plotter = _BoxPlotter(x, y, hue, data, order, hue_order,\n\u001b[0;32m   2191\u001b[0m                           \u001b[0morient\u001b[0m\u001b[1;33m,\u001b[0m \u001b[0mcolor\u001b[0m\u001b[1;33m,\u001b[0m \u001b[0mpalette\u001b[0m\u001b[1;33m,\u001b[0m \u001b[0msaturation\u001b[0m\u001b[1;33m,\u001b[0m\u001b[1;33m\u001b[0m\u001b[0m\n\u001b[1;32m-> 2192\u001b[1;33m                           width, dodge, fliersize, linewidth)\n\u001b[0m\u001b[0;32m   2193\u001b[0m \u001b[1;33m\u001b[0m\u001b[0m\n\u001b[0;32m   2194\u001b[0m     \u001b[1;32mif\u001b[0m \u001b[0max\u001b[0m \u001b[1;32mis\u001b[0m \u001b[0mNone\u001b[0m\u001b[1;33m:\u001b[0m\u001b[1;33m\u001b[0m\u001b[0m\n",
      "\u001b[1;32mC:\\Users\\aarono\\AppData\\Local\\Continuum\\anaconda2\\lib\\site-packages\\seaborn\\categorical.pyc\u001b[0m in \u001b[0;36m__init__\u001b[1;34m(self, x, y, hue, data, order, hue_order, orient, color, palette, saturation, width, dodge, fliersize, linewidth)\u001b[0m\n\u001b[0;32m    431\u001b[0m                  width, dodge, fliersize, linewidth):\n\u001b[0;32m    432\u001b[0m \u001b[1;33m\u001b[0m\u001b[0m\n\u001b[1;32m--> 433\u001b[1;33m         \u001b[0mself\u001b[0m\u001b[1;33m.\u001b[0m\u001b[0mestablish_variables\u001b[0m\u001b[1;33m(\u001b[0m\u001b[0mx\u001b[0m\u001b[1;33m,\u001b[0m \u001b[0my\u001b[0m\u001b[1;33m,\u001b[0m \u001b[0mhue\u001b[0m\u001b[1;33m,\u001b[0m \u001b[0mdata\u001b[0m\u001b[1;33m,\u001b[0m \u001b[0morient\u001b[0m\u001b[1;33m,\u001b[0m \u001b[0morder\u001b[0m\u001b[1;33m,\u001b[0m \u001b[0mhue_order\u001b[0m\u001b[1;33m)\u001b[0m\u001b[1;33m\u001b[0m\u001b[0m\n\u001b[0m\u001b[0;32m    434\u001b[0m         \u001b[0mself\u001b[0m\u001b[1;33m.\u001b[0m\u001b[0mestablish_colors\u001b[0m\u001b[1;33m(\u001b[0m\u001b[0mcolor\u001b[0m\u001b[1;33m,\u001b[0m \u001b[0mpalette\u001b[0m\u001b[1;33m,\u001b[0m \u001b[0msaturation\u001b[0m\u001b[1;33m)\u001b[0m\u001b[1;33m\u001b[0m\u001b[0m\n\u001b[0;32m    435\u001b[0m \u001b[1;33m\u001b[0m\u001b[0m\n",
      "\u001b[1;32mC:\\Users\\aarono\\AppData\\Local\\Continuum\\anaconda2\\lib\\site-packages\\seaborn\\categorical.pyc\u001b[0m in \u001b[0;36mestablish_variables\u001b[1;34m(self, x, y, hue, data, orient, order, hue_order, units)\u001b[0m\n\u001b[0;32m    149\u001b[0m                 \u001b[1;32mif\u001b[0m \u001b[0misinstance\u001b[0m\u001b[1;33m(\u001b[0m\u001b[0minput\u001b[0m\u001b[1;33m,\u001b[0m \u001b[0mstring_types\u001b[0m\u001b[1;33m)\u001b[0m\u001b[1;33m:\u001b[0m\u001b[1;33m\u001b[0m\u001b[0m\n\u001b[0;32m    150\u001b[0m                     \u001b[0merr\u001b[0m \u001b[1;33m=\u001b[0m \u001b[1;34m\"Could not interpret input '{}'\"\u001b[0m\u001b[1;33m.\u001b[0m\u001b[0mformat\u001b[0m\u001b[1;33m(\u001b[0m\u001b[0minput\u001b[0m\u001b[1;33m)\u001b[0m\u001b[1;33m\u001b[0m\u001b[0m\n\u001b[1;32m--> 151\u001b[1;33m                     \u001b[1;32mraise\u001b[0m \u001b[0mValueError\u001b[0m\u001b[1;33m(\u001b[0m\u001b[0merr\u001b[0m\u001b[1;33m)\u001b[0m\u001b[1;33m\u001b[0m\u001b[0m\n\u001b[0m\u001b[0;32m    152\u001b[0m \u001b[1;33m\u001b[0m\u001b[0m\n\u001b[0;32m    153\u001b[0m             \u001b[1;31m# Figure out the plotting orientation\u001b[0m\u001b[1;33m\u001b[0m\u001b[1;33m\u001b[0m\u001b[0m\n",
      "\u001b[1;31mValueError\u001b[0m: Could not interpret input 'failed'"
     ]
    }
   ],
   "source": [
    "sns.boxplot(x = 'failed', y = 'BA conc. >400 (pg/uL)', \n",
    "            hue = 'single_channel', data = df)\n",
    "plt.xticks(rotation = 45)"
   ]
  },
  {
   "cell_type": "code",
   "execution_count": 40,
   "metadata": {
    "collapsed": true
   },
   "outputs": [],
   "source": [
    "df = df[df['single_channel'] == True]"
   ]
  },
  {
   "cell_type": "code",
   "execution_count": 34,
   "metadata": {
    "collapsed": true
   },
   "outputs": [],
   "source": [
    "shiny = pd.read_csv(\"\\\\\\\\allen\\programs\\\\celltypes\\\\workgroups\\\\rnaseqanalysis\\\\shiny\\\\patch_seq\\\\star\\\\mouse_patchseq_VISp_20180207_collapsed70_cpm\\\\mapping.df.with.bp.70.lastmap.csv\")\n",
    "shiny = pd.concat([shiny, pd.read_csv(\"\\\\\\\\allen\\\\programs\\\\celltypes\\\\workgroups\\\\rnaseqanalysis\\\\shiny\\\\patch_seq\\\\star\\\\human\\\\human_patchseq_MTG_20180131\\\\mapping.df.lastmap.csv\")])"
   ]
  },
  {
   "cell_type": "code",
   "execution_count": 35,
   "metadata": {
    "collapsed": true
   },
   "outputs": [],
   "source": [
    "df = pd.merge(df, shiny, how = 'left', left_on = 'File', right_on = 'cell_name')\n",
    "#df = pd.merge(df, shiny, how = 'left', left_on = 'patched_cell_container', right_on = 'patched_cell_container')"
   ]
  },
  {
   "cell_type": "code",
   "execution_count": 36,
   "metadata": {},
   "outputs": [
    {
     "data": {
      "text/plain": [
       "Index([                        u'File',                 u'Slice health',\n",
       "                        u'Cell Health',                  u'Post patch?',\n",
       "                     u'patch duration',               u'single_channel',\n",
       "                            u'include',                 u'Lims tube id',\n",
       "             u'BA total conc. (pg/uL)',        u'BA conc. >400 (pg/uL)',\n",
       "       ...\n",
       "             u'transgenic_recombinase',          u'transgenic_reporter',\n",
       "                               u'tube',             u'tube_avg_size_bp',\n",
       "                   u'tube_contents_nm', u'tube_contents_nm_from_vendor',\n",
       "                    u'tube_input_fmol',           u'tube_internal_name',\n",
       "                     u'unmapped_reads',            u'vendor_read_count'],\n",
       "      dtype='object', length=169)"
      ]
     },
     "execution_count": 36,
     "metadata": {},
     "output_type": "execute_result"
    }
   ],
   "source": [
    "df.columns"
   ]
  },
  {
   "cell_type": "code",
   "execution_count": 41,
   "metadata": {},
   "outputs": [
    {
     "data": {
      "text/plain": [
       "0        Ctgf-T2A-dgCre;Ai14-341051.05.02.01\n",
       "15       Rbp4-Cre_KL100;Ai14-356489.06.01.02\n",
       "28       Rbp4-Cre_KL100;Ai14-357010.04.02.01\n",
       "48       Nkx2-1-CreERT2;Ai14-357183.04.01.01\n",
       "93      Ntsr1-Cre_GN220;Ai14-361815.03.01.01\n",
       "95      Ntsr1-Cre_GN220;Ai14-361815.05.01.02\n",
       "96      Ntsr1-Cre_GN220;Ai14-361815.05.01.03\n",
       "99         Vip-IRES-Cre;Ai14-363633.03.01.01\n",
       "100        Vip-IRES-Cre;Ai14-363633.03.01.02\n",
       "101        Vip-IRES-Cre;Ai14-363633.03.01.03\n",
       "102        Vip-IRES-Cre;Ai14-363633.03.01.04\n",
       "106    Slc32a1-IRES-Cre;Ai14-364559.05.02.01\n",
       "Name: File, dtype: object"
      ]
     },
     "execution_count": 41,
     "metadata": {},
     "output_type": "execute_result"
    }
   ],
   "source": [
    "df[df['res_index']>=.7]['File']"
   ]
  },
  {
   "cell_type": "code",
   "execution_count": 42,
   "metadata": {},
   "outputs": [
    {
     "data": {
      "text/plain": [
       "34"
      ]
     },
     "execution_count": 42,
     "metadata": {},
     "output_type": "execute_result"
    }
   ],
   "source": [
    "len(df)"
   ]
  },
  {
   "cell_type": "code",
   "execution_count": 38,
   "metadata": {},
   "outputs": [
    {
     "ename": "ValueError",
     "evalue": "Could not interpret input 'failed'",
     "output_type": "error",
     "traceback": [
      "\u001b[1;31m---------------------------------------------------------------------------\u001b[0m",
      "\u001b[1;31mValueError\u001b[0m                                Traceback (most recent call last)",
      "\u001b[1;32m<ipython-input-38-79b16e6fc5cf>\u001b[0m in \u001b[0;36m<module>\u001b[1;34m()\u001b[0m\n\u001b[0;32m      1\u001b[0m sns.boxplot(x = 'failed', y = 'amplified_quantity_ng', \n\u001b[1;32m----> 2\u001b[1;33m             hue = 'single_channel', data = df)\n\u001b[0m\u001b[0;32m      3\u001b[0m \u001b[0mplt\u001b[0m\u001b[1;33m.\u001b[0m\u001b[0mxticks\u001b[0m\u001b[1;33m(\u001b[0m\u001b[0mrotation\u001b[0m \u001b[1;33m=\u001b[0m \u001b[1;36m45\u001b[0m\u001b[1;33m)\u001b[0m\u001b[1;33m\u001b[0m\u001b[0m\n",
      "\u001b[1;32mC:\\Users\\aarono\\AppData\\Local\\Continuum\\anaconda2\\lib\\site-packages\\seaborn\\categorical.pyc\u001b[0m in \u001b[0;36mboxplot\u001b[1;34m(x, y, hue, data, order, hue_order, orient, color, palette, saturation, width, dodge, fliersize, linewidth, whis, notch, ax, **kwargs)\u001b[0m\n\u001b[0;32m   2190\u001b[0m     plotter = _BoxPlotter(x, y, hue, data, order, hue_order,\n\u001b[0;32m   2191\u001b[0m                           \u001b[0morient\u001b[0m\u001b[1;33m,\u001b[0m \u001b[0mcolor\u001b[0m\u001b[1;33m,\u001b[0m \u001b[0mpalette\u001b[0m\u001b[1;33m,\u001b[0m \u001b[0msaturation\u001b[0m\u001b[1;33m,\u001b[0m\u001b[1;33m\u001b[0m\u001b[0m\n\u001b[1;32m-> 2192\u001b[1;33m                           width, dodge, fliersize, linewidth)\n\u001b[0m\u001b[0;32m   2193\u001b[0m \u001b[1;33m\u001b[0m\u001b[0m\n\u001b[0;32m   2194\u001b[0m     \u001b[1;32mif\u001b[0m \u001b[0max\u001b[0m \u001b[1;32mis\u001b[0m \u001b[0mNone\u001b[0m\u001b[1;33m:\u001b[0m\u001b[1;33m\u001b[0m\u001b[0m\n",
      "\u001b[1;32mC:\\Users\\aarono\\AppData\\Local\\Continuum\\anaconda2\\lib\\site-packages\\seaborn\\categorical.pyc\u001b[0m in \u001b[0;36m__init__\u001b[1;34m(self, x, y, hue, data, order, hue_order, orient, color, palette, saturation, width, dodge, fliersize, linewidth)\u001b[0m\n\u001b[0;32m    431\u001b[0m                  width, dodge, fliersize, linewidth):\n\u001b[0;32m    432\u001b[0m \u001b[1;33m\u001b[0m\u001b[0m\n\u001b[1;32m--> 433\u001b[1;33m         \u001b[0mself\u001b[0m\u001b[1;33m.\u001b[0m\u001b[0mestablish_variables\u001b[0m\u001b[1;33m(\u001b[0m\u001b[0mx\u001b[0m\u001b[1;33m,\u001b[0m \u001b[0my\u001b[0m\u001b[1;33m,\u001b[0m \u001b[0mhue\u001b[0m\u001b[1;33m,\u001b[0m \u001b[0mdata\u001b[0m\u001b[1;33m,\u001b[0m \u001b[0morient\u001b[0m\u001b[1;33m,\u001b[0m \u001b[0morder\u001b[0m\u001b[1;33m,\u001b[0m \u001b[0mhue_order\u001b[0m\u001b[1;33m)\u001b[0m\u001b[1;33m\u001b[0m\u001b[0m\n\u001b[0m\u001b[0;32m    434\u001b[0m         \u001b[0mself\u001b[0m\u001b[1;33m.\u001b[0m\u001b[0mestablish_colors\u001b[0m\u001b[1;33m(\u001b[0m\u001b[0mcolor\u001b[0m\u001b[1;33m,\u001b[0m \u001b[0mpalette\u001b[0m\u001b[1;33m,\u001b[0m \u001b[0msaturation\u001b[0m\u001b[1;33m)\u001b[0m\u001b[1;33m\u001b[0m\u001b[0m\n\u001b[0;32m    435\u001b[0m \u001b[1;33m\u001b[0m\u001b[0m\n",
      "\u001b[1;32mC:\\Users\\aarono\\AppData\\Local\\Continuum\\anaconda2\\lib\\site-packages\\seaborn\\categorical.pyc\u001b[0m in \u001b[0;36mestablish_variables\u001b[1;34m(self, x, y, hue, data, orient, order, hue_order, units)\u001b[0m\n\u001b[0;32m    149\u001b[0m                 \u001b[1;32mif\u001b[0m \u001b[0misinstance\u001b[0m\u001b[1;33m(\u001b[0m\u001b[0minput\u001b[0m\u001b[1;33m,\u001b[0m \u001b[0mstring_types\u001b[0m\u001b[1;33m)\u001b[0m\u001b[1;33m:\u001b[0m\u001b[1;33m\u001b[0m\u001b[0m\n\u001b[0;32m    150\u001b[0m                     \u001b[0merr\u001b[0m \u001b[1;33m=\u001b[0m \u001b[1;34m\"Could not interpret input '{}'\"\u001b[0m\u001b[1;33m.\u001b[0m\u001b[0mformat\u001b[0m\u001b[1;33m(\u001b[0m\u001b[0minput\u001b[0m\u001b[1;33m)\u001b[0m\u001b[1;33m\u001b[0m\u001b[0m\n\u001b[1;32m--> 151\u001b[1;33m                     \u001b[1;32mraise\u001b[0m \u001b[0mValueError\u001b[0m\u001b[1;33m(\u001b[0m\u001b[0merr\u001b[0m\u001b[1;33m)\u001b[0m\u001b[1;33m\u001b[0m\u001b[0m\n\u001b[0m\u001b[0;32m    152\u001b[0m \u001b[1;33m\u001b[0m\u001b[0m\n\u001b[0;32m    153\u001b[0m             \u001b[1;31m# Figure out the plotting orientation\u001b[0m\u001b[1;33m\u001b[0m\u001b[1;33m\u001b[0m\u001b[0m\n",
      "\u001b[1;31mValueError\u001b[0m: Could not interpret input 'failed'"
     ]
    }
   ],
   "source": [
    "sns.boxplot(x = 'failed', y = 'amplified_quantity_ng', \n",
    "            hue = 'single_channel', data = df)\n",
    "plt.xticks(rotation = 45)"
   ]
  },
  {
   "cell_type": "code",
   "execution_count": 22,
   "metadata": {},
   "outputs": [
    {
     "data": {
      "text/plain": [
       "(array([0, 1]), <a list of 2 Text xticklabel objects>)"
      ]
     },
     "execution_count": 22,
     "metadata": {},
     "output_type": "execute_result"
    },
    {
     "data": {
      "image/png": "[encoded data removed]",
      "text/plain": [
       "<matplotlib.figure.Figure at 0x12f8d710>"
      ]
     },
     "metadata": {},
     "output_type": "display_data"
    }
   ],
   "source": [
    "sns.boxplot(x = 'failed', y = 'Genes.Detected', \n",
    "            hue = 'single_channel', data = df)\n",
    "plt.xticks(rotation = 45)"
   ]
  },
  {
   "cell_type": "code",
   "execution_count": 129,
   "metadata": {},
   "outputs": [
    {
     "data": {
      "text/plain": [
       "<matplotlib.axes._subplots.AxesSubplot at 0x9cdb5898>"
      ]
     },
     "execution_count": 129,
     "metadata": {},
     "output_type": "execute_result"
    },
    {
     "data": {
      "image/png": "[encoded data removed]",
      "text/plain": [
       "<matplotlib.figure.Figure at 0x9ca41ef0>"
      ]
     },
     "metadata": {},
     "output_type": "display_data"
    }
   ],
   "source": [
    "sns.boxplot(x = 'single_channel', y = 'res_index',\n",
    "            data = df)"
   ]
  },
  {
   "cell_type": "code",
   "execution_count": 107,
   "metadata": {},
   "outputs": [
    {
     "data": {
      "text/plain": [
       "<matplotlib.collections.PathCollection at 0xa95e2eb8>"
      ]
     },
     "execution_count": 107,
     "metadata": {},
     "output_type": "execute_result"
    },
    {
     "data": {
      "image/png": "[encoded data removed]",
      "text/plain": [
       "<matplotlib.figure.Figure at 0x640e2630>"
      ]
     },
     "metadata": {},
     "output_type": "display_data"
    }
   ],
   "source": [
    "plt.scatter(np.arange(len(df)),df['res_index'])"
   ]
  },
  {
   "cell_type": "code",
   "execution_count": 127,
   "metadata": {
    "scrolled": true
   },
   "outputs": [
    {
     "data": {
      "text/plain": [
       "single_channel  cluster_label                               \n",
       "False           Pvalb  Prdm8                                    4\n",
       "                Pvalb Il1rapl2                                  2\n",
       "                Pvalb Vipr2                                     2\n",
       "                Sst Etv1_4                                      1\n",
       "                VISp L2/3 IT Agmat                              2\n",
       "                VISp L5 Endou                                   3\n",
       "                VISp L5 IT Batf3                                2\n",
       "                VISp L5 PT C1ql2                                2\n",
       "                VISp L5 PT Ctxn3                                1\n",
       "                VISp L5 PT Ptgfr                                1\n",
       "                VISp L6 CT Dlx4                                 2\n",
       "                VISp L6 IT Col23a1                              1\n",
       "                Vip C1ql1                                       1\n",
       "                Vip Gpc3                                        1\n",
       "                Vip Rspo4                                       1\n",
       "                cl1001_i362_SOX13_Ndnf.Car4_L3.2                1\n",
       "                cl1002_i297_MYH11_Ndnf.Car4_L1.3                1\n",
       "                cl1003_i256_TMEM255A_Ndnf.Car4_L4.7             3\n",
       "                cl1004_i687_CNTNAP3P2_Pvalb.Wt1_L3.7            2\n",
       "                cl1009_i107_CXCL14_Ndnf.Cxcl14_L1.5             2\n",
       "                cl1021_i118_CMTM8_Vip.Mybpc1_L2.8               1\n",
       "                cl1052_i24_CHRNA6_Vip.Mybpc1_L2.6               1\n",
       "                cl2001_e3239_TTC6_L5b.Cdh13_L2.6                2\n",
       "                cl2004_e1486_TRABD2A_L5a.Deptor_Pacsin2_L4.5    5\n",
       "                cl2015_e161_COL22A1_L6.Syt17_L4.0               1\n",
       "                n19                                             2\n",
       "                n20                                             2\n",
       "                n24                                             2\n",
       "                n30                                             3\n",
       "                n34                                             1\n",
       "                n40                                             2\n",
       "                n42                                             1\n",
       "                n44                                             2\n",
       "                n48                                             1\n",
       "                n50                                             1\n",
       "                n52                                             6\n",
       "                n54                                             1\n",
       "                n55                                             1\n",
       "                n57                                             1\n",
       "                n63                                             3\n",
       "                n64                                             2\n",
       "                n67                                             2\n",
       "                n91                                             1\n",
       "True            VISp L5 Endou                                   1\n",
       "                VISp L5 PT Ptgfr                                1\n",
       "                VISp L6 CT Gpr139                               1\n",
       "                VISp L6b Crh                                    1\n",
       "                n78                                             1\n",
       "                n91                                             1\n",
       "                n94                                             1\n",
       "dtype: int64"
      ]
     },
     "execution_count": 127,
     "metadata": {},
     "output_type": "execute_result"
    }
   ],
   "source": [
    "df[df['res_index']>.7].groupby(['single_channel','cluster_label']).size()"
   ]
  },
  {
   "cell_type": "code",
   "execution_count": 58,
   "metadata": {
    "scrolled": false
   },
   "outputs": [
    {
     "data": {
      "text/plain": [
       "<matplotlib.axes._subplots.AxesSubplot at 0x9bd54710>"
      ]
     },
     "execution_count": 58,
     "metadata": {},
     "output_type": "execute_result"
    },
    {
     "data": {
      "image/png": "[encoded data removed]",
      "text/plain": [
       "<matplotlib.figure.Figure at 0x9baf9d30>"
      ]
     },
     "metadata": {},
     "output_type": "display_data"
    }
   ],
   "source": [
    "df[df['resolution.index']>.5].groupby('cl').size().plot(kind = 'bar', color = '#2ca25f')"
   ]
  },
  {
   "cell_type": "code",
   "execution_count": 44,
   "metadata": {
    "scrolled": true
   },
   "outputs": [
    {
     "data": {
      "text/html": [
       "<div>\n",
       "<table border=\"1\" class=\"dataframe\">\n",
       "  <thead>\n",
       "    <tr style=\"text-align: right;\">\n",
       "      <th></th>\n",
       "      <th>File</th>\n",
       "      <th>Slice health</th>\n",
       "      <th>Cell Health</th>\n",
       "      <th>Post patch?</th>\n",
       "      <th>patch duration</th>\n",
       "      <th>single_channel</th>\n",
       "      <th>include</th>\n",
       "      <th>Lims tube id</th>\n",
       "      <th>BA total conc. (pg/uL)</th>\n",
       "      <th>BA conc. &gt;400 (pg/uL)</th>\n",
       "      <th>...</th>\n",
       "      <th>transgenic_recombinase</th>\n",
       "      <th>transgenic_reporter</th>\n",
       "      <th>tube</th>\n",
       "      <th>tube_avg_size_bp</th>\n",
       "      <th>tube_contents_nm</th>\n",
       "      <th>tube_contents_nm_from_vendor</th>\n",
       "      <th>tube_input_fmol</th>\n",
       "      <th>tube_internal_name</th>\n",
       "      <th>unmapped_reads</th>\n",
       "      <th>vendor_read_count</th>\n",
       "    </tr>\n",
       "  </thead>\n",
       "  <tbody>\n",
       "    <tr>\n",
       "      <th>0</th>\n",
       "      <td>Ctgf-T2A-dgCre;Ai14-341051.05.02.01</td>\n",
       "      <td>2</td>\n",
       "      <td>NaN</td>\n",
       "      <td>Nucleated</td>\n",
       "      <td>9.46667</td>\n",
       "      <td>True</td>\n",
       "      <td>True</td>\n",
       "      <td>P8S4_170818_351_A01</td>\n",
       "      <td>5868</td>\n",
       "      <td>2717</td>\n",
       "      <td>...</td>\n",
       "      <td>Ctgf</td>\n",
       "      <td>Ai14</td>\n",
       "      <td>PS0921</td>\n",
       "      <td>326.0</td>\n",
       "      <td>5.000000</td>\n",
       "      <td>NaN</td>\n",
       "      <td>5.0</td>\n",
       "      <td>BT170921_01</td>\n",
       "      <td>31123100.0</td>\n",
       "      <td>NaN</td>\n",
       "    </tr>\n",
       "    <tr>\n",
       "      <th>14</th>\n",
       "      <td>Rbp4-Cre_KL100;Ai14-357010.05.02.01</td>\n",
       "      <td>3</td>\n",
       "      <td>NaN</td>\n",
       "      <td>nucleus_present</td>\n",
       "      <td>9.06667</td>\n",
       "      <td>False</td>\n",
       "      <td>True</td>\n",
       "      <td>P8S4_171030_352_A01</td>\n",
       "      <td>743.7</td>\n",
       "      <td>429.115</td>\n",
       "      <td>...</td>\n",
       "      <td>Rbp4</td>\n",
       "      <td>Ai14</td>\n",
       "      <td>SM-GE643</td>\n",
       "      <td>387.0</td>\n",
       "      <td>4.149407</td>\n",
       "      <td>3.50</td>\n",
       "      <td>6.0</td>\n",
       "      <td>R8S4-17112004</td>\n",
       "      <td>14214900.0</td>\n",
       "      <td>1402445.0</td>\n",
       "    </tr>\n",
       "    <tr>\n",
       "      <th>15</th>\n",
       "      <td>Rbp4-Cre_KL100;Ai14-357010.05.02.02</td>\n",
       "      <td>2</td>\n",
       "      <td>NaN</td>\n",
       "      <td>nucleus_present</td>\n",
       "      <td>11.1667</td>\n",
       "      <td>False</td>\n",
       "      <td>True</td>\n",
       "      <td>P8S4_171030_353_A01</td>\n",
       "      <td>1156.8</td>\n",
       "      <td>714.902</td>\n",
       "      <td>...</td>\n",
       "      <td>Rbp4</td>\n",
       "      <td>Ai14</td>\n",
       "      <td>SM-GE643</td>\n",
       "      <td>387.0</td>\n",
       "      <td>4.149407</td>\n",
       "      <td>3.50</td>\n",
       "      <td>6.0</td>\n",
       "      <td>R8S4-17112004</td>\n",
       "      <td>12545100.0</td>\n",
       "      <td>1467901.0</td>\n",
       "    </tr>\n",
       "    <tr>\n",
       "      <th>16</th>\n",
       "      <td>Rbp4-Cre_KL100;Ai14-357010.05.01.01</td>\n",
       "      <td>3</td>\n",
       "      <td>NaN</td>\n",
       "      <td>nucleus_present</td>\n",
       "      <td>10.5833</td>\n",
       "      <td>False</td>\n",
       "      <td>True</td>\n",
       "      <td>P8S4_171030_354_A01</td>\n",
       "      <td>1039.9</td>\n",
       "      <td>610.421</td>\n",
       "      <td>...</td>\n",
       "      <td>Rbp4</td>\n",
       "      <td>Ai14</td>\n",
       "      <td>SM-GE643</td>\n",
       "      <td>387.0</td>\n",
       "      <td>4.149407</td>\n",
       "      <td>3.50</td>\n",
       "      <td>6.0</td>\n",
       "      <td>R8S4-17112004</td>\n",
       "      <td>18972500.0</td>\n",
       "      <td>1698229.0</td>\n",
       "    </tr>\n",
       "    <tr>\n",
       "      <th>17</th>\n",
       "      <td>Rbp4-Cre_KL100;Ai14-357010.05.01.02</td>\n",
       "      <td>2</td>\n",
       "      <td>NaN</td>\n",
       "      <td>nucleus_absent</td>\n",
       "      <td>11.4667</td>\n",
       "      <td>False</td>\n",
       "      <td>True</td>\n",
       "      <td>P8S4_171030_355_A01</td>\n",
       "      <td>342.7</td>\n",
       "      <td>120.63</td>\n",
       "      <td>...</td>\n",
       "      <td>Rbp4</td>\n",
       "      <td>Ai14</td>\n",
       "      <td>SM-GE643</td>\n",
       "      <td>387.0</td>\n",
       "      <td>4.149407</td>\n",
       "      <td>3.50</td>\n",
       "      <td>5.0</td>\n",
       "      <td>R8S4-17112004</td>\n",
       "      <td>48969500.0</td>\n",
       "      <td>1362347.0</td>\n",
       "    </tr>\n",
       "    <tr>\n",
       "      <th>18</th>\n",
       "      <td>Rbp4-Cre_KL100;Ai14-357010.04.01.01</td>\n",
       "      <td>3</td>\n",
       "      <td>NaN</td>\n",
       "      <td>nucleus_absent</td>\n",
       "      <td>8.01667</td>\n",
       "      <td>False</td>\n",
       "      <td>True</td>\n",
       "      <td>P9S4_171030_401_A01</td>\n",
       "      <td>328.9</td>\n",
       "      <td>57.8864</td>\n",
       "      <td>...</td>\n",
       "      <td>Rbp4</td>\n",
       "      <td>Ai14</td>\n",
       "      <td>SM-GE643</td>\n",
       "      <td>387.0</td>\n",
       "      <td>4.149407</td>\n",
       "      <td>3.50</td>\n",
       "      <td>3.0</td>\n",
       "      <td>R8S4-17112004</td>\n",
       "      <td>35410300.0</td>\n",
       "      <td>840676.0</td>\n",
       "    </tr>\n",
       "    <tr>\n",
       "      <th>19</th>\n",
       "      <td>Rbp4-Cre_KL100;Ai14-357010.04.01.02</td>\n",
       "      <td>3</td>\n",
       "      <td>NaN</td>\n",
       "      <td>nucleus_present</td>\n",
       "      <td>11.3333</td>\n",
       "      <td>False</td>\n",
       "      <td>True</td>\n",
       "      <td>P9S4_171030_402_A01</td>\n",
       "      <td>480.6</td>\n",
       "      <td>108.135</td>\n",
       "      <td>...</td>\n",
       "      <td>Rbp4</td>\n",
       "      <td>Ai14</td>\n",
       "      <td>SM-GE643</td>\n",
       "      <td>387.0</td>\n",
       "      <td>4.149407</td>\n",
       "      <td>3.50</td>\n",
       "      <td>4.0</td>\n",
       "      <td>R8S4-17112004</td>\n",
       "      <td>22045900.0</td>\n",
       "      <td>969814.0</td>\n",
       "    </tr>\n",
       "    <tr>\n",
       "      <th>20</th>\n",
       "      <td>Rbp4-Cre_KL100;Ai14-357010.03.01.01</td>\n",
       "      <td>4</td>\n",
       "      <td>NaN</td>\n",
       "      <td>nucleus_absent</td>\n",
       "      <td>7.15</td>\n",
       "      <td>False</td>\n",
       "      <td>True</td>\n",
       "      <td>PBS4_171030_503_A01</td>\n",
       "      <td>520.4</td>\n",
       "      <td>206.078</td>\n",
       "      <td>...</td>\n",
       "      <td>Rbp4</td>\n",
       "      <td>Ai14</td>\n",
       "      <td>SM-GE643</td>\n",
       "      <td>387.0</td>\n",
       "      <td>4.149407</td>\n",
       "      <td>3.50</td>\n",
       "      <td>3.0</td>\n",
       "      <td>R8S4-17112004</td>\n",
       "      <td>33248900.0</td>\n",
       "      <td>939019.0</td>\n",
       "    </tr>\n",
       "    <tr>\n",
       "      <th>21</th>\n",
       "      <td>Rbp4-Cre_KL100;Ai14-357010.03.02.01</td>\n",
       "      <td>3</td>\n",
       "      <td>NaN</td>\n",
       "      <td>nucleus_absent</td>\n",
       "      <td>7.26667</td>\n",
       "      <td>False</td>\n",
       "      <td>True</td>\n",
       "      <td>PBS4_171030_504_A01</td>\n",
       "      <td>290.5</td>\n",
       "      <td>132.468</td>\n",
       "      <td>...</td>\n",
       "      <td>Rbp4</td>\n",
       "      <td>Ai14</td>\n",
       "      <td>SM-GE643</td>\n",
       "      <td>387.0</td>\n",
       "      <td>4.149407</td>\n",
       "      <td>3.50</td>\n",
       "      <td>5.0</td>\n",
       "      <td>R8S4-17112004</td>\n",
       "      <td>34807900.0</td>\n",
       "      <td>1222703.0</td>\n",
       "    </tr>\n",
       "    <tr>\n",
       "      <th>22</th>\n",
       "      <td>Rbp4-Cre_KL100;Ai14-357010.03.02.02</td>\n",
       "      <td>3</td>\n",
       "      <td>NaN</td>\n",
       "      <td>nucleus_present</td>\n",
       "      <td>7.41667</td>\n",
       "      <td>False</td>\n",
       "      <td>True</td>\n",
       "      <td>PBS4_171030_505_A01</td>\n",
       "      <td>400.4</td>\n",
       "      <td>180.18</td>\n",
       "      <td>...</td>\n",
       "      <td>Rbp4</td>\n",
       "      <td>Ai14</td>\n",
       "      <td>SM-GE643</td>\n",
       "      <td>387.0</td>\n",
       "      <td>4.149407</td>\n",
       "      <td>3.50</td>\n",
       "      <td>6.0</td>\n",
       "      <td>R8S4-17112004</td>\n",
       "      <td>36402800.0</td>\n",
       "      <td>1490658.0</td>\n",
       "    </tr>\n",
       "    <tr>\n",
       "      <th>23</th>\n",
       "      <td>Rbp4-Cre_KL100;Ai14-357010.02.01.01</td>\n",
       "      <td>4</td>\n",
       "      <td>NaN</td>\n",
       "      <td>nucleus_absent</td>\n",
       "      <td>8.68333</td>\n",
       "      <td>False</td>\n",
       "      <td>True</td>\n",
       "      <td>PBS4_171030_506_A01</td>\n",
       "      <td>332.5</td>\n",
       "      <td>137.655</td>\n",
       "      <td>...</td>\n",
       "      <td>Rbp4</td>\n",
       "      <td>Ai14</td>\n",
       "      <td>SM-GE643</td>\n",
       "      <td>387.0</td>\n",
       "      <td>4.149407</td>\n",
       "      <td>3.50</td>\n",
       "      <td>6.0</td>\n",
       "      <td>R8S4-17112004</td>\n",
       "      <td>83682100.0</td>\n",
       "      <td>1377162.0</td>\n",
       "    </tr>\n",
       "    <tr>\n",
       "      <th>24</th>\n",
       "      <td>Rbp4-Cre_KL100;Ai14-357010.02.01.02</td>\n",
       "      <td>3</td>\n",
       "      <td>NaN</td>\n",
       "      <td>nucleus_absent</td>\n",
       "      <td>10.55</td>\n",
       "      <td>False</td>\n",
       "      <td>True</td>\n",
       "      <td>PBS4_171030_507_A01</td>\n",
       "      <td>487.5</td>\n",
       "      <td>248.625</td>\n",
       "      <td>...</td>\n",
       "      <td>Rbp4</td>\n",
       "      <td>Ai14</td>\n",
       "      <td>SM-GE643</td>\n",
       "      <td>387.0</td>\n",
       "      <td>4.149407</td>\n",
       "      <td>3.50</td>\n",
       "      <td>6.0</td>\n",
       "      <td>R8S4-17112004</td>\n",
       "      <td>37941100.0</td>\n",
       "      <td>1343653.0</td>\n",
       "    </tr>\n",
       "    <tr>\n",
       "      <th>25</th>\n",
       "      <td>Rbp4-Cre_KL100;Ai14-357010.02.01.03</td>\n",
       "      <td>3</td>\n",
       "      <td>NaN</td>\n",
       "      <td>nucleus_present</td>\n",
       "      <td>8.05</td>\n",
       "      <td>False</td>\n",
       "      <td>True</td>\n",
       "      <td>PBS4_171030_508_A01</td>\n",
       "      <td>326.5</td>\n",
       "      <td>128.315</td>\n",
       "      <td>...</td>\n",
       "      <td>Rbp4</td>\n",
       "      <td>Ai14</td>\n",
       "      <td>SM-GE643</td>\n",
       "      <td>387.0</td>\n",
       "      <td>4.149407</td>\n",
       "      <td>3.50</td>\n",
       "      <td>6.0</td>\n",
       "      <td>R8S4-17112004</td>\n",
       "      <td>37498800.0</td>\n",
       "      <td>1436010.0</td>\n",
       "    </tr>\n",
       "    <tr>\n",
       "      <th>26</th>\n",
       "      <td>Rbp4-Cre_KL100;Ai14-357010.04.02.01</td>\n",
       "      <td>4</td>\n",
       "      <td>NaN</td>\n",
       "      <td>nucleus_present</td>\n",
       "      <td>12.8333</td>\n",
       "      <td>True</td>\n",
       "      <td>True</td>\n",
       "      <td>P6S4_171030_251_A01</td>\n",
       "      <td>1567</td>\n",
       "      <td>843.046</td>\n",
       "      <td>...</td>\n",
       "      <td>Rbp4</td>\n",
       "      <td>Ai14</td>\n",
       "      <td>SM-GE643</td>\n",
       "      <td>387.0</td>\n",
       "      <td>4.149407</td>\n",
       "      <td>3.50</td>\n",
       "      <td>6.0</td>\n",
       "      <td>R8S4-17112004</td>\n",
       "      <td>12067800.0</td>\n",
       "      <td>1385738.0</td>\n",
       "    </tr>\n",
       "    <tr>\n",
       "      <th>28</th>\n",
       "      <td>Chrna2-Cre_OE25;Ai14-356149.04.01.01</td>\n",
       "      <td>4</td>\n",
       "      <td>NaN</td>\n",
       "      <td>nucleus_present</td>\n",
       "      <td>17.3167</td>\n",
       "      <td>True</td>\n",
       "      <td>True</td>\n",
       "      <td>P6S4_171031_251_A01</td>\n",
       "      <td>259.7</td>\n",
       "      <td>90.3756</td>\n",
       "      <td>...</td>\n",
       "      <td>Chrna2</td>\n",
       "      <td>Ai14</td>\n",
       "      <td>SM-GE643</td>\n",
       "      <td>387.0</td>\n",
       "      <td>4.149407</td>\n",
       "      <td>3.50</td>\n",
       "      <td>6.0</td>\n",
       "      <td>R8S4-17112004</td>\n",
       "      <td>31536800.0</td>\n",
       "      <td>1253716.0</td>\n",
       "    </tr>\n",
       "    <tr>\n",
       "      <th>29</th>\n",
       "      <td>Chrna2-Cre_OE25;Ai14-356149.05.02.01</td>\n",
       "      <td>2</td>\n",
       "      <td>NaN</td>\n",
       "      <td>nucleus_present</td>\n",
       "      <td>10.0833</td>\n",
       "      <td>False</td>\n",
       "      <td>True</td>\n",
       "      <td>P8S4_171031_351_A01</td>\n",
       "      <td>1146.7</td>\n",
       "      <td>827.917</td>\n",
       "      <td>...</td>\n",
       "      <td>Chrna2</td>\n",
       "      <td>Ai14</td>\n",
       "      <td>SM-GE643</td>\n",
       "      <td>387.0</td>\n",
       "      <td>4.149407</td>\n",
       "      <td>3.50</td>\n",
       "      <td>6.0</td>\n",
       "      <td>R8S4-17112004</td>\n",
       "      <td>11997800.0</td>\n",
       "      <td>1537795.0</td>\n",
       "    </tr>\n",
       "    <tr>\n",
       "      <th>30</th>\n",
       "      <td>Chrna2-Cre_OE25;Ai14-356149.05.02.02</td>\n",
       "      <td>2</td>\n",
       "      <td>NaN</td>\n",
       "      <td>nucleus_present</td>\n",
       "      <td>9.56667</td>\n",
       "      <td>False</td>\n",
       "      <td>True</td>\n",
       "      <td>P8S4_171031_352_A01</td>\n",
       "      <td>798.9</td>\n",
       "      <td>499.312</td>\n",
       "      <td>...</td>\n",
       "      <td>Chrna2</td>\n",
       "      <td>Ai14</td>\n",
       "      <td>SM-GE643</td>\n",
       "      <td>387.0</td>\n",
       "      <td>4.149407</td>\n",
       "      <td>3.50</td>\n",
       "      <td>6.0</td>\n",
       "      <td>R8S4-17112004</td>\n",
       "      <td>13215600.0</td>\n",
       "      <td>1412120.0</td>\n",
       "    </tr>\n",
       "    <tr>\n",
       "      <th>31</th>\n",
       "      <td>Chrna2-Cre_OE25;Ai14-356149.05.01.01</td>\n",
       "      <td>2</td>\n",
       "      <td>NaN</td>\n",
       "      <td>nucleus_present</td>\n",
       "      <td>10.4667</td>\n",
       "      <td>False</td>\n",
       "      <td>True</td>\n",
       "      <td>P9S4_171031_401_A01</td>\n",
       "      <td>1192.5</td>\n",
       "      <td>394.717</td>\n",
       "      <td>...</td>\n",
       "      <td>Chrna2</td>\n",
       "      <td>Ai14</td>\n",
       "      <td>SM-GE643</td>\n",
       "      <td>387.0</td>\n",
       "      <td>4.149407</td>\n",
       "      <td>3.50</td>\n",
       "      <td>6.0</td>\n",
       "      <td>R8S4-17112004</td>\n",
       "      <td>17978300.0</td>\n",
       "      <td>1470955.0</td>\n",
       "    </tr>\n",
       "    <tr>\n",
       "      <th>32</th>\n",
       "      <td>Chrna2-Cre_OE25;Ai14-356149.03.02.01</td>\n",
       "      <td>3</td>\n",
       "      <td>NaN</td>\n",
       "      <td>nucleus_present</td>\n",
       "      <td>8.2</td>\n",
       "      <td>False</td>\n",
       "      <td>True</td>\n",
       "      <td>PBS4_171031_502_A01</td>\n",
       "      <td>1009.6</td>\n",
       "      <td>688.547</td>\n",
       "      <td>...</td>\n",
       "      <td>Chrna2</td>\n",
       "      <td>Ai14</td>\n",
       "      <td>SM-GE66I</td>\n",
       "      <td>334.0</td>\n",
       "      <td>5.386607</td>\n",
       "      <td>4.63</td>\n",
       "      <td>10.0</td>\n",
       "      <td>R8S4-17112901</td>\n",
       "      <td>112769.0</td>\n",
       "      <td>1407641.0</td>\n",
       "    </tr>\n",
       "  </tbody>\n",
       "</table>\n",
       "<p>19 rows × 181 columns</p>\n",
       "</div>"
      ],
      "text/plain": [
       "                                    File Slice health Cell Health  \\\n",
       "0    Ctgf-T2A-dgCre;Ai14-341051.05.02.01            2         NaN   \n",
       "14   Rbp4-Cre_KL100;Ai14-357010.05.02.01            3         NaN   \n",
       "15   Rbp4-Cre_KL100;Ai14-357010.05.02.02            2         NaN   \n",
       "16   Rbp4-Cre_KL100;Ai14-357010.05.01.01            3         NaN   \n",
       "17   Rbp4-Cre_KL100;Ai14-357010.05.01.02            2         NaN   \n",
       "18   Rbp4-Cre_KL100;Ai14-357010.04.01.01            3         NaN   \n",
       "19   Rbp4-Cre_KL100;Ai14-357010.04.01.02            3         NaN   \n",
       "20   Rbp4-Cre_KL100;Ai14-357010.03.01.01            4         NaN   \n",
       "21   Rbp4-Cre_KL100;Ai14-357010.03.02.01            3         NaN   \n",
       "22   Rbp4-Cre_KL100;Ai14-357010.03.02.02            3         NaN   \n",
       "23   Rbp4-Cre_KL100;Ai14-357010.02.01.01            4         NaN   \n",
       "24   Rbp4-Cre_KL100;Ai14-357010.02.01.02            3         NaN   \n",
       "25   Rbp4-Cre_KL100;Ai14-357010.02.01.03            3         NaN   \n",
       "26   Rbp4-Cre_KL100;Ai14-357010.04.02.01            4         NaN   \n",
       "28  Chrna2-Cre_OE25;Ai14-356149.04.01.01            4         NaN   \n",
       "29  Chrna2-Cre_OE25;Ai14-356149.05.02.01            2         NaN   \n",
       "30  Chrna2-Cre_OE25;Ai14-356149.05.02.02            2         NaN   \n",
       "31  Chrna2-Cre_OE25;Ai14-356149.05.01.01            2         NaN   \n",
       "32  Chrna2-Cre_OE25;Ai14-356149.03.02.01            3         NaN   \n",
       "\n",
       "        Post patch? patch duration single_channel include  \\\n",
       "0         Nucleated        9.46667           True    True   \n",
       "14  nucleus_present        9.06667          False    True   \n",
       "15  nucleus_present        11.1667          False    True   \n",
       "16  nucleus_present        10.5833          False    True   \n",
       "17   nucleus_absent        11.4667          False    True   \n",
       "18   nucleus_absent        8.01667          False    True   \n",
       "19  nucleus_present        11.3333          False    True   \n",
       "20   nucleus_absent           7.15          False    True   \n",
       "21   nucleus_absent        7.26667          False    True   \n",
       "22  nucleus_present        7.41667          False    True   \n",
       "23   nucleus_absent        8.68333          False    True   \n",
       "24   nucleus_absent          10.55          False    True   \n",
       "25  nucleus_present           8.05          False    True   \n",
       "26  nucleus_present        12.8333           True    True   \n",
       "28  nucleus_present        17.3167           True    True   \n",
       "29  nucleus_present        10.0833          False    True   \n",
       "30  nucleus_present        9.56667          False    True   \n",
       "31  nucleus_present        10.4667          False    True   \n",
       "32  nucleus_present            8.2          False    True   \n",
       "\n",
       "           Lims tube id BA total conc. (pg/uL) BA conc. >400 (pg/uL)  \\\n",
       "0   P8S4_170818_351_A01                   5868                  2717   \n",
       "14  P8S4_171030_352_A01                  743.7               429.115   \n",
       "15  P8S4_171030_353_A01                 1156.8               714.902   \n",
       "16  P8S4_171030_354_A01                 1039.9               610.421   \n",
       "17  P8S4_171030_355_A01                  342.7                120.63   \n",
       "18  P9S4_171030_401_A01                  328.9               57.8864   \n",
       "19  P9S4_171030_402_A01                  480.6               108.135   \n",
       "20  PBS4_171030_503_A01                  520.4               206.078   \n",
       "21  PBS4_171030_504_A01                  290.5               132.468   \n",
       "22  PBS4_171030_505_A01                  400.4                180.18   \n",
       "23  PBS4_171030_506_A01                  332.5               137.655   \n",
       "24  PBS4_171030_507_A01                  487.5               248.625   \n",
       "25  PBS4_171030_508_A01                  326.5               128.315   \n",
       "26  P6S4_171030_251_A01                   1567               843.046   \n",
       "28  P6S4_171031_251_A01                  259.7               90.3756   \n",
       "29  P8S4_171031_351_A01                 1146.7               827.917   \n",
       "30  P8S4_171031_352_A01                  798.9               499.312   \n",
       "31  P9S4_171031_401_A01                 1192.5               394.717   \n",
       "32  PBS4_171031_502_A01                 1009.6               688.547   \n",
       "\n",
       "          ...          transgenic_recombinase transgenic_reporter      tube  \\\n",
       "0         ...                            Ctgf                Ai14    PS0921   \n",
       "14        ...                            Rbp4                Ai14  SM-GE643   \n",
       "15        ...                            Rbp4                Ai14  SM-GE643   \n",
       "16        ...                            Rbp4                Ai14  SM-GE643   \n",
       "17        ...                            Rbp4                Ai14  SM-GE643   \n",
       "18        ...                            Rbp4                Ai14  SM-GE643   \n",
       "19        ...                            Rbp4                Ai14  SM-GE643   \n",
       "20        ...                            Rbp4                Ai14  SM-GE643   \n",
       "21        ...                            Rbp4                Ai14  SM-GE643   \n",
       "22        ...                            Rbp4                Ai14  SM-GE643   \n",
       "23        ...                            Rbp4                Ai14  SM-GE643   \n",
       "24        ...                            Rbp4                Ai14  SM-GE643   \n",
       "25        ...                            Rbp4                Ai14  SM-GE643   \n",
       "26        ...                            Rbp4                Ai14  SM-GE643   \n",
       "28        ...                          Chrna2                Ai14  SM-GE643   \n",
       "29        ...                          Chrna2                Ai14  SM-GE643   \n",
       "30        ...                          Chrna2                Ai14  SM-GE643   \n",
       "31        ...                          Chrna2                Ai14  SM-GE643   \n",
       "32        ...                          Chrna2                Ai14  SM-GE66I   \n",
       "\n",
       "    tube_avg_size_bp tube_contents_nm tube_contents_nm_from_vendor  \\\n",
       "0              326.0         5.000000                          NaN   \n",
       "14             387.0         4.149407                         3.50   \n",
       "15             387.0         4.149407                         3.50   \n",
       "16             387.0         4.149407                         3.50   \n",
       "17             387.0         4.149407                         3.50   \n",
       "18             387.0         4.149407                         3.50   \n",
       "19             387.0         4.149407                         3.50   \n",
       "20             387.0         4.149407                         3.50   \n",
       "21             387.0         4.149407                         3.50   \n",
       "22             387.0         4.149407                         3.50   \n",
       "23             387.0         4.149407                         3.50   \n",
       "24             387.0         4.149407                         3.50   \n",
       "25             387.0         4.149407                         3.50   \n",
       "26             387.0         4.149407                         3.50   \n",
       "28             387.0         4.149407                         3.50   \n",
       "29             387.0         4.149407                         3.50   \n",
       "30             387.0         4.149407                         3.50   \n",
       "31             387.0         4.149407                         3.50   \n",
       "32             334.0         5.386607                         4.63   \n",
       "\n",
       "   tube_input_fmol  tube_internal_name  unmapped_reads  vendor_read_count  \n",
       "0              5.0         BT170921_01      31123100.0                NaN  \n",
       "14             6.0       R8S4-17112004      14214900.0          1402445.0  \n",
       "15             6.0       R8S4-17112004      12545100.0          1467901.0  \n",
       "16             6.0       R8S4-17112004      18972500.0          1698229.0  \n",
       "17             5.0       R8S4-17112004      48969500.0          1362347.0  \n",
       "18             3.0       R8S4-17112004      35410300.0           840676.0  \n",
       "19             4.0       R8S4-17112004      22045900.0           969814.0  \n",
       "20             3.0       R8S4-17112004      33248900.0           939019.0  \n",
       "21             5.0       R8S4-17112004      34807900.0          1222703.0  \n",
       "22             6.0       R8S4-17112004      36402800.0          1490658.0  \n",
       "23             6.0       R8S4-17112004      83682100.0          1377162.0  \n",
       "24             6.0       R8S4-17112004      37941100.0          1343653.0  \n",
       "25             6.0       R8S4-17112004      37498800.0          1436010.0  \n",
       "26             6.0       R8S4-17112004      12067800.0          1385738.0  \n",
       "28             6.0       R8S4-17112004      31536800.0          1253716.0  \n",
       "29             6.0       R8S4-17112004      11997800.0          1537795.0  \n",
       "30             6.0       R8S4-17112004      13215600.0          1412120.0  \n",
       "31             6.0       R8S4-17112004      17978300.0          1470955.0  \n",
       "32            10.0       R8S4-17112901        112769.0          1407641.0  \n",
       "\n",
       "[19 rows x 181 columns]"
      ]
     },
     "execution_count": 44,
     "metadata": {},
     "output_type": "execute_result"
    }
   ],
   "source": [
    "df[df['resolution.index'].notnull()]"
   ]
  },
  {
   "cell_type": "code",
   "execution_count": 100,
   "metadata": {},
   "outputs": [
    {
     "data": {
      "text/html": [
       "<div>\n",
       "<table border=\"1\" class=\"dataframe\">\n",
       "  <thead>\n",
       "    <tr style=\"text-align: right;\">\n",
       "      <th></th>\n",
       "      <th>CPM.16</th>\n",
       "      <th>CPM.32</th>\n",
       "      <th>CPM.4</th>\n",
       "      <th>CPM.64</th>\n",
       "      <th>CPM.8</th>\n",
       "      <th>Class</th>\n",
       "      <th>Depth</th>\n",
       "      <th>End_pipetteR</th>\n",
       "      <th>Ephys_time</th>\n",
       "      <th>Exclude.1</th>\n",
       "      <th>...</th>\n",
       "      <th>transgenic_recombinase</th>\n",
       "      <th>transgenic_reporter</th>\n",
       "      <th>tube</th>\n",
       "      <th>tube_avg_size_bp</th>\n",
       "      <th>tube_contents_nm</th>\n",
       "      <th>tube_contents_nm_from_vendor</th>\n",
       "      <th>tube_input_fmol</th>\n",
       "      <th>tube_internal_name</th>\n",
       "      <th>unmapped_reads</th>\n",
       "      <th>vendor_read_count</th>\n",
       "    </tr>\n",
       "  </thead>\n",
       "  <tbody>\n",
       "    <tr>\n",
       "      <th>503</th>\n",
       "      <td>5994</td>\n",
       "      <td>5254</td>\n",
       "      <td>6859</td>\n",
       "      <td>3959</td>\n",
       "      <td>6442</td>\n",
       "      <td>NaN</td>\n",
       "      <td>53.5</td>\n",
       "      <td>1000</td>\n",
       "      <td>65.0</td>\n",
       "      <td>No</td>\n",
       "      <td>...</td>\n",
       "      <td>Pvalb-IRES-Cre</td>\n",
       "      <td>Ai14</td>\n",
       "      <td>SM-GE66C</td>\n",
       "      <td>314.0</td>\n",
       "      <td>6.050846</td>\n",
       "      <td>3.95</td>\n",
       "      <td>12</td>\n",
       "      <td>R8S4-17120603</td>\n",
       "      <td>68145</td>\n",
       "      <td>1163563.0</td>\n",
       "    </tr>\n",
       "  </tbody>\n",
       "</table>\n",
       "<p>1 rows × 159 columns</p>\n",
       "</div>"
      ],
      "text/plain": [
       "     CPM.16  CPM.32  CPM.4  CPM.64  CPM.8 Class Depth End_pipetteR  \\\n",
       "503    5994    5254   6859    3959   6442   NaN  53.5         1000   \n",
       "\n",
       "     Ephys_time Exclude.1        ...          transgenic_recombinase  \\\n",
       "503        65.0        No        ...                  Pvalb-IRES-Cre   \n",
       "\n",
       "     transgenic_reporter      tube  tube_avg_size_bp  tube_contents_nm  \\\n",
       "503                 Ai14  SM-GE66C             314.0          6.050846   \n",
       "\n",
       "    tube_contents_nm_from_vendor  tube_input_fmol  tube_internal_name  \\\n",
       "503                         3.95               12       R8S4-17120603   \n",
       "\n",
       "     unmapped_reads  vendor_read_count  \n",
       "503           68145          1163563.0  \n",
       "\n",
       "[1 rows x 159 columns]"
      ]
     },
     "execution_count": 100,
     "metadata": {},
     "output_type": "execute_result"
    }
   ],
   "source": [
    "shiny[shiny['cell_name'] == 'Pvalb-IRES-Cre;Ai14-357946.03.02.02']"
   ]
  },
  {
   "cell_type": "code",
   "execution_count": 105,
   "metadata": {},
   "outputs": [
    {
     "data": {
      "text/html": [
       "<div>\n",
       "<table border=\"1\" class=\"dataframe\">\n",
       "  <thead>\n",
       "    <tr style=\"text-align: right;\">\n",
       "      <th></th>\n",
       "      <th>CPM.16</th>\n",
       "      <th>CPM.32</th>\n",
       "      <th>CPM.4</th>\n",
       "      <th>CPM.64</th>\n",
       "      <th>CPM.8</th>\n",
       "      <th>Class</th>\n",
       "      <th>Depth</th>\n",
       "      <th>End_pipetteR</th>\n",
       "      <th>Ephys_time</th>\n",
       "      <th>Exclude.1</th>\n",
       "      <th>...</th>\n",
       "      <th>transgenic_recombinase</th>\n",
       "      <th>transgenic_reporter</th>\n",
       "      <th>tube</th>\n",
       "      <th>tube_avg_size_bp</th>\n",
       "      <th>tube_contents_nm</th>\n",
       "      <th>tube_contents_nm_from_vendor</th>\n",
       "      <th>tube_input_fmol</th>\n",
       "      <th>tube_internal_name</th>\n",
       "      <th>unmapped_reads</th>\n",
       "      <th>vendor_read_count</th>\n",
       "    </tr>\n",
       "  </thead>\n",
       "  <tbody>\n",
       "    <tr>\n",
       "      <th>0</th>\n",
       "      <td>5622</td>\n",
       "      <td>4911</td>\n",
       "      <td>6646</td>\n",
       "      <td>3885</td>\n",
       "      <td>6144</td>\n",
       "      <td>NaN</td>\n",
       "      <td>51.5</td>\n",
       "      <td>NaN</td>\n",
       "      <td>NaN</td>\n",
       "      <td>No</td>\n",
       "      <td>...</td>\n",
       "      <td>Ndnf</td>\n",
       "      <td>Ai14</td>\n",
       "      <td>msPSX170321</td>\n",
       "      <td>NaN</td>\n",
       "      <td>5.000000</td>\n",
       "      <td>NaN</td>\n",
       "      <td>5</td>\n",
       "      <td>BT170323_01</td>\n",
       "      <td>75769600</td>\n",
       "      <td>NaN</td>\n",
       "    </tr>\n",
       "    <tr>\n",
       "      <th>1</th>\n",
       "      <td>5908</td>\n",
       "      <td>5269</td>\n",
       "      <td>6654</td>\n",
       "      <td>4004</td>\n",
       "      <td>6296</td>\n",
       "      <td>NaN</td>\n",
       "      <td>63.1</td>\n",
       "      <td>200</td>\n",
       "      <td>17.0</td>\n",
       "      <td>No</td>\n",
       "      <td>...</td>\n",
       "      <td>Ndnf</td>\n",
       "      <td>Ai14</td>\n",
       "      <td>SM-GE65H</td>\n",
       "      <td>313.0</td>\n",
       "      <td>5.152589</td>\n",
       "      <td>4.18</td>\n",
       "      <td>8</td>\n",
       "      <td>R8S4-18011005</td>\n",
       "      <td>44403</td>\n",
       "      <td>1079579.0</td>\n",
       "    </tr>\n",
       "    <tr>\n",
       "      <th>2</th>\n",
       "      <td>5038</td>\n",
       "      <td>4339</td>\n",
       "      <td>5838</td>\n",
       "      <td>3344</td>\n",
       "      <td>5499</td>\n",
       "      <td>NaN</td>\n",
       "      <td>0</td>\n",
       "      <td>NaN</td>\n",
       "      <td>NaN</td>\n",
       "      <td>No</td>\n",
       "      <td>...</td>\n",
       "      <td>NaN</td>\n",
       "      <td>NaN</td>\n",
       "      <td>PSX160502</td>\n",
       "      <td>NaN</td>\n",
       "      <td>NaN</td>\n",
       "      <td>NaN</td>\n",
       "      <td>5</td>\n",
       "      <td>PSX160502</td>\n",
       "      <td>922030900</td>\n",
       "      <td>NaN</td>\n",
       "    </tr>\n",
       "    <tr>\n",
       "      <th>3</th>\n",
       "      <td>5682</td>\n",
       "      <td>5011</td>\n",
       "      <td>6500</td>\n",
       "      <td>3909</td>\n",
       "      <td>6139</td>\n",
       "      <td>NaN</td>\n",
       "      <td>0</td>\n",
       "      <td>NaN</td>\n",
       "      <td>NaN</td>\n",
       "      <td>No</td>\n",
       "      <td>...</td>\n",
       "      <td>NaN</td>\n",
       "      <td>NaN</td>\n",
       "      <td>PSX160511</td>\n",
       "      <td>NaN</td>\n",
       "      <td>NaN</td>\n",
       "      <td>NaN</td>\n",
       "      <td>5</td>\n",
       "      <td>PSX160511</td>\n",
       "      <td>112660400</td>\n",
       "      <td>NaN</td>\n",
       "    </tr>\n",
       "    <tr>\n",
       "      <th>4</th>\n",
       "      <td>5705</td>\n",
       "      <td>5063</td>\n",
       "      <td>6507</td>\n",
       "      <td>3955</td>\n",
       "      <td>6139</td>\n",
       "      <td>NaN</td>\n",
       "      <td>43</td>\n",
       "      <td>NaN</td>\n",
       "      <td>NaN</td>\n",
       "      <td>No</td>\n",
       "      <td>...</td>\n",
       "      <td>Ndnf</td>\n",
       "      <td>Ai14</td>\n",
       "      <td>msPSX170321</td>\n",
       "      <td>NaN</td>\n",
       "      <td>5.000000</td>\n",
       "      <td>NaN</td>\n",
       "      <td>5</td>\n",
       "      <td>BT170323_01</td>\n",
       "      <td>52133300</td>\n",
       "      <td>NaN</td>\n",
       "    </tr>\n",
       "  </tbody>\n",
       "</table>\n",
       "<p>5 rows × 159 columns</p>\n",
       "</div>"
      ],
      "text/plain": [
       "   CPM.16  CPM.32  CPM.4  CPM.64  CPM.8 Class Depth End_pipetteR  Ephys_time  \\\n",
       "0    5622    4911   6646    3885   6144   NaN  51.5          NaN         NaN   \n",
       "1    5908    5269   6654    4004   6296   NaN  63.1          200        17.0   \n",
       "2    5038    4339   5838    3344   5499   NaN     0          NaN         NaN   \n",
       "3    5682    5011   6500    3909   6139   NaN     0          NaN         NaN   \n",
       "4    5705    5063   6507    3955   6139   NaN    43          NaN         NaN   \n",
       "\n",
       "  Exclude.1        ...          transgenic_recombinase  transgenic_reporter  \\\n",
       "0        No        ...                            Ndnf                 Ai14   \n",
       "1        No        ...                            Ndnf                 Ai14   \n",
       "2        No        ...                             NaN                  NaN   \n",
       "3        No        ...                             NaN                  NaN   \n",
       "4        No        ...                            Ndnf                 Ai14   \n",
       "\n",
       "          tube  tube_avg_size_bp  tube_contents_nm  \\\n",
       "0  msPSX170321               NaN          5.000000   \n",
       "1     SM-GE65H             313.0          5.152589   \n",
       "2    PSX160502               NaN               NaN   \n",
       "3    PSX160511               NaN               NaN   \n",
       "4  msPSX170321               NaN          5.000000   \n",
       "\n",
       "  tube_contents_nm_from_vendor  tube_input_fmol  tube_internal_name  \\\n",
       "0                          NaN                5         BT170323_01   \n",
       "1                         4.18                8       R8S4-18011005   \n",
       "2                          NaN                5           PSX160502   \n",
       "3                          NaN                5           PSX160511   \n",
       "4                          NaN                5         BT170323_01   \n",
       "\n",
       "   unmapped_reads  vendor_read_count  \n",
       "0        75769600                NaN  \n",
       "1           44403          1079579.0  \n",
       "2       922030900                NaN  \n",
       "3       112660400                NaN  \n",
       "4        52133300                NaN  \n",
       "\n",
       "[5 rows x 159 columns]"
      ]
     },
     "execution_count": 105,
     "metadata": {},
     "output_type": "execute_result"
    }
   ],
   "source": [
    "shiny.head()"
   ]
  },
  {
   "cell_type": "code",
   "execution_count": null,
   "metadata": {
    "collapsed": true
   },
   "outputs": [],
   "source": []
  }
 ],
 "metadata": {
  "kernelspec": {
   "display_name": "Python 2",
   "language": "python",
   "name": "python2"
  },
  "language_info": {
   "codemirror_mode": {
    "name": "ipython",
    "version": 2
   },
   "file_extension": ".py",
   "mimetype": "text/x-python",
   "name": "python",
   "nbconvert_exporter": "python",
   "pygments_lexer": "ipython2",
   "version": "2.7.13"
  }
 },
 "nbformat": 4,
 "nbformat_minor": 2
}
