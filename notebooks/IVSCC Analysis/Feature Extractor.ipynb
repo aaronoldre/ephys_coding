{
 "cells": [
  {
   "cell_type": "code",
   "execution_count": 26,
   "metadata": {
    "collapsed": true
   },
   "outputs": [],
   "source": [
    "from allensdk.core.cell_types_cache import CellTypesCache\n",
    "from allensdk.ephys.ephys_extractor import EphysSweepFeatureExtractor \n",
    "from allensdk.core.nwb_data_set import NwbDataSet\n",
    "\n",
    "import matplotlib.pyplot as plt\n",
    "import numpy as np\n",
    "%matplotlib inline"
   ]
  },
  {
   "cell_type": "code",
   "execution_count": 9,
   "metadata": {},
   "outputs": [
    {
     "data": {
      "text/plain": [
       "['__doc__',\n",
       " '__init__',\n",
       " '__module__',\n",
       " '_get_baseline_voltage',\n",
       " '_process_bursts',\n",
       " '_process_individual_spikes',\n",
       " '_process_pauses',\n",
       " '_process_spike_related_features',\n",
       " 'as_dict',\n",
       " 'burst_metrics',\n",
       " 'delay_metrics',\n",
       " 'estimate_sag',\n",
       " 'estimate_time_constant',\n",
       " 'is_spike_feature_affected_by_clipping',\n",
       " 'pause_metrics',\n",
       " 'process_new_spike_feature',\n",
       " 'process_new_sweep_feature',\n",
       " 'process_spikes',\n",
       " 'set_stimulus_amplitude_calculator',\n",
       " 'spike_feature',\n",
       " 'spike_feature_keys',\n",
       " 'spikes',\n",
       " 'stimulus_amplitude',\n",
       " 'sweep_feature',\n",
       " 'sweep_feature_keys',\n",
       " 'voltage_deflection']"
      ]
     },
     "execution_count": 9,
     "metadata": {},
     "output_type": "execute_result"
    }
   ],
   "source": [
    "dir(EphysSweepFeatureExtractor)"
   ]
  },
  {
   "cell_type": "code",
   "execution_count": 6,
   "metadata": {},
   "outputs": [
    {
     "ename": "TypeError",
     "evalue": "'str' object is not callable",
     "output_type": "error",
     "traceback": [
      "\u001b[1;31m---------------------------------------------------------------------------\u001b[0m",
      "\u001b[1;31mTypeError\u001b[0m                                 Traceback (most recent call last)",
      "\u001b[1;32m<ipython-input-6-b8a610bd8819>\u001b[0m in \u001b[0;36m<module>\u001b[1;34m()\u001b[0m\n\u001b[1;32m----> 1\u001b[1;33m \u001b[0mCTC\u001b[0m\u001b[1;33m.\u001b[0m\u001b[0mEPHYS_FEATURES_KEY\u001b[0m\u001b[1;33m(\u001b[0m\u001b[1;33m)\u001b[0m\u001b[1;33m\u001b[0m\u001b[0m\n\u001b[0m",
      "\u001b[1;31mTypeError\u001b[0m: 'str' object is not callable"
     ]
    }
   ],
   "source": [
    "CTC.EPHYS_FEATURES_KEY()"
   ]
  },
  {
   "cell_type": "code",
   "execution_count": 16,
   "metadata": {
    "scrolled": false
   },
   "outputs": [
    {
     "name": "stdout",
     "output_type": "stream",
     "text": [
      "Help on method _process_individual_spikes in module allensdk.ephys.ephys_extractor:\n",
      "\n",
      "_process_individual_spikes(self) unbound allensdk.ephys.ephys_extractor.EphysSweepFeatureExtractor method\n",
      "\n"
     ]
    }
   ],
   "source": [
    "help(features._process_individual_spikes)"
   ]
  },
  {
   "cell_type": "code",
   "execution_count": 17,
   "metadata": {
    "collapsed": true
   },
   "outputs": [],
   "source": [
    "#test it out\n",
    "\n",
    "file_path = '\\\\\\\\allen\\\\programs\\\\celltypes\\\\production\\\\mousecelltypes\\\\prod90\\\\Ephys_Roi_Result_571715912\\\\571715912.nwb'"
   ]
  },
  {
   "cell_type": "code",
   "execution_count": 37,
   "metadata": {},
   "outputs": [
    {
     "data": {
      "text/plain": [
       "[<matplotlib.lines.Line2D at 0x1016c7f0>]"
      ]
     },
     "execution_count": 37,
     "metadata": {},
     "output_type": "execute_result"
    },
    {
     "data": {
      "image/png": "[encoded data removed]",
      "text/plain": [
       "<matplotlib.figure.Figure at 0xfc21ef0>"
      ]
     },
     "metadata": {},
     "output_type": "display_data"
    }
   ],
   "source": [
    "data = NwbDataSet(file_path)\n",
    "sweep_data = data.get_sweep(2)\n",
    "v = sweep_data['response']\n",
    "i = sweep_data['stimulus']\n",
    "v *= 1e3\n",
    "i *= 1e12\n",
    "t = np.arange(0,len(v)) *1./sweep_data['sampling_rate']\n",
    "plt.plot(t,v)"
   ]
  },
  {
   "cell_type": "code",
   "execution_count": 38,
   "metadata": {},
   "outputs": [
    {
     "ename": "FeatureError",
     "evalue": "Could not find given time in time vector",
     "output_type": "error",
     "traceback": [
      "\u001b[1;31m---------------------------------------------------------------------------\u001b[0m",
      "\u001b[1;31mFeatureError\u001b[0m                              Traceback (most recent call last)",
      "\u001b[1;32m<ipython-input-38-083fded2ab25>\u001b[0m in \u001b[0;36m<module>\u001b[1;34m()\u001b[0m\n\u001b[0;32m      1\u001b[0m \u001b[0msweep_ext\u001b[0m \u001b[1;33m=\u001b[0m \u001b[0mEphysSweepFeatureExtractor\u001b[0m\u001b[1;33m(\u001b[0m\u001b[0mt\u001b[0m\u001b[1;33m=\u001b[0m\u001b[0mt\u001b[0m\u001b[1;33m,\u001b[0m \u001b[0mv\u001b[0m\u001b[1;33m=\u001b[0m\u001b[0mv\u001b[0m\u001b[1;33m,\u001b[0m \u001b[0mi\u001b[0m\u001b[1;33m=\u001b[0m\u001b[0mi\u001b[0m\u001b[1;33m,\u001b[0m \u001b[0mstart\u001b[0m\u001b[1;33m=\u001b[0m\u001b[1;36m1.02\u001b[0m\u001b[1;33m,\u001b[0m \u001b[0mend\u001b[0m\u001b[1;33m=\u001b[0m\u001b[1;36m2.02\u001b[0m\u001b[1;33m)\u001b[0m\u001b[1;33m\u001b[0m\u001b[0m\n\u001b[1;32m----> 2\u001b[1;33m \u001b[0msweep_ext\u001b[0m\u001b[1;33m.\u001b[0m\u001b[0mprocess_spikes\u001b[0m\u001b[1;33m(\u001b[0m\u001b[1;33m)\u001b[0m\u001b[1;33m\u001b[0m\u001b[0m\n\u001b[0m\u001b[0;32m      3\u001b[0m \u001b[0mspike_times\u001b[0m \u001b[1;33m=\u001b[0m \u001b[0msweep_ext\u001b[0m\u001b[1;33m.\u001b[0m\u001b[0mspike_feature\u001b[0m\u001b[1;33m(\u001b[0m\u001b[1;34m'threshold_t'\u001b[0m\u001b[1;33m)\u001b[0m\u001b[1;33m\u001b[0m\u001b[0m\n\u001b[0;32m      4\u001b[0m \u001b[1;32mprint\u001b[0m \u001b[0mspike_times\u001b[0m\u001b[1;33m\u001b[0m\u001b[0m\n",
      "\u001b[1;32mC:\\Users\\aarono\\AppData\\Local\\Continuum\\anaconda2\\lib\\site-packages\\allensdk\\ephys\\ephys_extractor.pyc\u001b[0m in \u001b[0;36mprocess_spikes\u001b[1;34m(self)\u001b[0m\n\u001b[0;32m     98\u001b[0m     \u001b[1;32mdef\u001b[0m \u001b[0mprocess_spikes\u001b[0m\u001b[1;33m(\u001b[0m\u001b[0mself\u001b[0m\u001b[1;33m)\u001b[0m\u001b[1;33m:\u001b[0m\u001b[1;33m\u001b[0m\u001b[0m\n\u001b[0;32m     99\u001b[0m         \u001b[1;34m\"\"\"Perform spike-related feature analysis\"\"\"\u001b[0m\u001b[1;33m\u001b[0m\u001b[0m\n\u001b[1;32m--> 100\u001b[1;33m         \u001b[0mself\u001b[0m\u001b[1;33m.\u001b[0m\u001b[0m_process_individual_spikes\u001b[0m\u001b[1;33m(\u001b[0m\u001b[1;33m)\u001b[0m\u001b[1;33m\u001b[0m\u001b[0m\n\u001b[0m\u001b[0;32m    101\u001b[0m         \u001b[0mself\u001b[0m\u001b[1;33m.\u001b[0m\u001b[0m_process_spike_related_features\u001b[0m\u001b[1;33m(\u001b[0m\u001b[1;33m)\u001b[0m\u001b[1;33m\u001b[0m\u001b[0m\n\u001b[0;32m    102\u001b[0m \u001b[1;33m\u001b[0m\u001b[0m\n",
      "\u001b[1;32mC:\\Users\\aarono\\AppData\\Local\\Continuum\\anaconda2\\lib\\site-packages\\allensdk\\ephys\\ephys_extractor.pyc\u001b[0m in \u001b[0;36m_process_individual_spikes\u001b[1;34m(self)\u001b[0m\n\u001b[0;32m    108\u001b[0m         \u001b[1;31m# Basic features of spikes\u001b[0m\u001b[1;33m\u001b[0m\u001b[1;33m\u001b[0m\u001b[0m\n\u001b[0;32m    109\u001b[0m         putative_spikes = ft.detect_putative_spikes(v, t, self.start, self.end,\n\u001b[1;32m--> 110\u001b[1;33m                                                     self.filter, self.dv_cutoff)\n\u001b[0m\u001b[0;32m    111\u001b[0m         \u001b[0mpeaks\u001b[0m \u001b[1;33m=\u001b[0m \u001b[0mft\u001b[0m\u001b[1;33m.\u001b[0m\u001b[0mfind_peak_indexes\u001b[0m\u001b[1;33m(\u001b[0m\u001b[0mv\u001b[0m\u001b[1;33m,\u001b[0m \u001b[0mt\u001b[0m\u001b[1;33m,\u001b[0m \u001b[0mputative_spikes\u001b[0m\u001b[1;33m,\u001b[0m \u001b[0mself\u001b[0m\u001b[1;33m.\u001b[0m\u001b[0mend\u001b[0m\u001b[1;33m)\u001b[0m\u001b[1;33m\u001b[0m\u001b[0m\n\u001b[0;32m    112\u001b[0m         putative_spikes, peaks = ft.filter_putative_spikes(v, t, putative_spikes, peaks,\n",
      "\u001b[1;32mC:\\Users\\aarono\\AppData\\Local\\Continuum\\anaconda2\\lib\\site-packages\\allensdk\\ephys\\ephys_features.pyc\u001b[0m in \u001b[0;36mdetect_putative_spikes\u001b[1;34m(v, t, start, end, filter, dv_cutoff)\u001b[0m\n\u001b[0;32m     74\u001b[0m         \u001b[0mend\u001b[0m \u001b[1;33m=\u001b[0m \u001b[0mt\u001b[0m\u001b[1;33m[\u001b[0m\u001b[1;33m-\u001b[0m\u001b[1;36m1\u001b[0m\u001b[1;33m]\u001b[0m\u001b[1;33m\u001b[0m\u001b[0m\n\u001b[0;32m     75\u001b[0m \u001b[1;33m\u001b[0m\u001b[0m\n\u001b[1;32m---> 76\u001b[1;33m     \u001b[0mstart_index\u001b[0m \u001b[1;33m=\u001b[0m \u001b[0mfind_time_index\u001b[0m\u001b[1;33m(\u001b[0m\u001b[0mt\u001b[0m\u001b[1;33m,\u001b[0m \u001b[0mstart\u001b[0m\u001b[1;33m)\u001b[0m\u001b[1;33m\u001b[0m\u001b[0m\n\u001b[0m\u001b[0;32m     77\u001b[0m     \u001b[0mend_index\u001b[0m \u001b[1;33m=\u001b[0m \u001b[0mfind_time_index\u001b[0m\u001b[1;33m(\u001b[0m\u001b[0mt\u001b[0m\u001b[1;33m,\u001b[0m \u001b[0mend\u001b[0m\u001b[1;33m)\u001b[0m\u001b[1;33m\u001b[0m\u001b[0m\n\u001b[0;32m     78\u001b[0m     \u001b[0mv_window\u001b[0m \u001b[1;33m=\u001b[0m \u001b[0mv\u001b[0m\u001b[1;33m[\u001b[0m\u001b[0mstart_index\u001b[0m\u001b[1;33m:\u001b[0m\u001b[0mend_index\u001b[0m \u001b[1;33m+\u001b[0m \u001b[1;36m1\u001b[0m\u001b[1;33m]\u001b[0m\u001b[1;33m\u001b[0m\u001b[0m\n",
      "\u001b[1;32mC:\\Users\\aarono\\AppData\\Local\\Continuum\\anaconda2\\lib\\site-packages\\allensdk\\ephys\\ephys_features.pyc\u001b[0m in \u001b[0;36mfind_time_index\u001b[1;34m(t, t_0)\u001b[0m\n\u001b[0;32m    617\u001b[0m     \u001b[0mt_gte\u001b[0m \u001b[1;33m=\u001b[0m \u001b[0mnp\u001b[0m\u001b[1;33m.\u001b[0m\u001b[0mflatnonzero\u001b[0m\u001b[1;33m(\u001b[0m\u001b[0mt\u001b[0m \u001b[1;33m>=\u001b[0m \u001b[0mt_0\u001b[0m\u001b[1;33m)\u001b[0m\u001b[1;33m\u001b[0m\u001b[0m\n\u001b[0;32m    618\u001b[0m     \u001b[1;32mif\u001b[0m \u001b[1;32mnot\u001b[0m \u001b[0mt_gte\u001b[0m\u001b[1;33m.\u001b[0m\u001b[0msize\u001b[0m\u001b[1;33m:\u001b[0m\u001b[1;33m\u001b[0m\u001b[0m\n\u001b[1;32m--> 619\u001b[1;33m         \u001b[1;32mraise\u001b[0m \u001b[0mFeatureError\u001b[0m\u001b[1;33m(\u001b[0m\u001b[1;34m\"Could not find given time in time vector\"\u001b[0m\u001b[1;33m)\u001b[0m\u001b[1;33m\u001b[0m\u001b[0m\n\u001b[0m\u001b[0;32m    620\u001b[0m \u001b[1;33m\u001b[0m\u001b[0m\n\u001b[0;32m    621\u001b[0m     \u001b[1;32mreturn\u001b[0m \u001b[0mt_gte\u001b[0m\u001b[1;33m[\u001b[0m\u001b[1;36m0\u001b[0m\u001b[1;33m]\u001b[0m\u001b[1;33m\u001b[0m\u001b[0m\n",
      "\u001b[1;31mFeatureError\u001b[0m: Could not find given time in time vector"
     ]
    }
   ],
   "source": [
    "sweep_ext = EphysSweepFeatureExtractor(t=t, v=v, i=i, start=1.02, end=2.02)\n",
    "sweep_ext.process_spikes()\n",
    "spike_times = sweep_ext.spike_feature('threshold_t')\n",
    "print spike_times"
   ]
  },
  {
   "cell_type": "code",
   "execution_count": null,
   "metadata": {
    "collapsed": true
   },
   "outputs": [],
   "source": []
  }
 ],
 "metadata": {
  "kernelspec": {
   "display_name": "Python 2",
   "language": "python",
   "name": "python2"
  },
  "language_info": {
   "codemirror_mode": {
    "name": "ipython",
    "version": 2
   },
   "file_extension": ".py",
   "mimetype": "text/x-python",
   "name": "python",
   "nbconvert_exporter": "python",
   "pygments_lexer": "ipython2",
   "version": "2.7.13"
  }
 },
 "nbformat": 4,
 "nbformat_minor": 2
}
