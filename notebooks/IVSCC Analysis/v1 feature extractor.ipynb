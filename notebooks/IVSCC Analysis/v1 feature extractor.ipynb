{
 "cells": [
  {
   "cell_type": "code",
   "execution_count": 1,
   "metadata": {
    "collapsed": false
   },
   "outputs": [
    {
     "name": "stdout",
     "output_type": "stream",
     "text": [
      "505795846\n",
      "505798354\n",
      "505804754\n"
     ]
    },
    {
     "ename": "TypeError",
     "evalue": "slice indices must be integers or None or have an __index__ method",
     "output_type": "error",
     "traceback": [
      "\u001b[0;31m---------------------------------------------------------------------------\u001b[0m",
      "\u001b[0;31mTypeError\u001b[0m                                 Traceback (most recent call last)",
      "\u001b[0;32m<ipython-input-1-fb3dc53e5db1>\u001b[0m in \u001b[0;36m<module>\u001b[0;34m()\u001b[0m\n\u001b[1;32m     62\u001b[0m                                       \u001b[0msweep_numbers\u001b[0m\u001b[1;33m[\u001b[0m\u001b[1;34m'Ramp'\u001b[0m\u001b[1;33m]\u001b[0m\u001b[1;33m,\u001b[0m\u001b[1;33m\u001b[0m\u001b[0m\n\u001b[1;32m     63\u001b[0m                                       \u001b[0msweep_numbers\u001b[0m\u001b[1;33m[\u001b[0m\u001b[1;34m'Short Square'\u001b[0m\u001b[1;33m]\u001b[0m\u001b[1;33m,\u001b[0m\u001b[1;33m\u001b[0m\u001b[0m\n\u001b[0;32m---> 64\u001b[0;31m                                       sweep_numbers['Long Square'])\n\u001b[0m\u001b[1;32m     65\u001b[0m \u001b[1;33m\u001b[0m\u001b[0m\n\u001b[1;32m     66\u001b[0m \u001b[1;33m\u001b[0m\u001b[0m\n",
      "\u001b[0;32mC:\\Anaconda2\\lib\\site-packages\\allensdk\\ephys\\extract_cell_features.pyc\u001b[0m in \u001b[0;36mextract_cell_features\u001b[0;34m(data_set, ramp_sweep_numbers, short_square_sweep_numbers, long_square_sweep_numbers)\u001b[0m\n\u001b[1;32m     90\u001b[0m                                       long_square_sweep_numbers)\n\u001b[1;32m     91\u001b[0m \u001b[1;33m\u001b[0m\u001b[0m\n\u001b[0;32m---> 92\u001b[0;31m     \u001b[0mfex\u001b[0m\u001b[1;33m.\u001b[0m\u001b[0mprocess\u001b[0m\u001b[1;33m(\u001b[0m\u001b[1;33m)\u001b[0m\u001b[1;33m\u001b[0m\u001b[0m\n\u001b[0m\u001b[1;32m     93\u001b[0m \u001b[1;33m\u001b[0m\u001b[0m\n\u001b[1;32m     94\u001b[0m     \u001b[0mcell_features\u001b[0m \u001b[1;33m=\u001b[0m \u001b[0mfex\u001b[0m\u001b[1;33m.\u001b[0m\u001b[0mas_dict\u001b[0m\u001b[1;33m(\u001b[0m\u001b[1;33m)\u001b[0m\u001b[1;33m\u001b[0m\u001b[0m\n",
      "\u001b[0;32mC:\\Anaconda2\\lib\\site-packages\\allensdk\\ephys\\ephys_extractor.pyc\u001b[0m in \u001b[0;36mprocess\u001b[0;34m(self, keys)\u001b[0m\n\u001b[1;32m    715\u001b[0m \u001b[1;33m\u001b[0m\u001b[0m\n\u001b[1;32m    716\u001b[0m         \u001b[1;32mfor\u001b[0m \u001b[0mk\u001b[0m \u001b[1;32min\u001b[0m \u001b[1;33m[\u001b[0m\u001b[0mj\u001b[0m \u001b[1;32mfor\u001b[0m \u001b[0mj\u001b[0m \u001b[1;32min\u001b[0m \u001b[0mkeys\u001b[0m \u001b[1;32mif\u001b[0m \u001b[0mj\u001b[0m \u001b[1;32min\u001b[0m \u001b[0mdispatch\u001b[0m\u001b[1;33m.\u001b[0m\u001b[0mkeys\u001b[0m\u001b[1;33m(\u001b[0m\u001b[1;33m)\u001b[0m\u001b[1;33m]\u001b[0m\u001b[1;33m:\u001b[0m\u001b[1;33m\u001b[0m\u001b[0m\n\u001b[0;32m--> 717\u001b[0;31m             \u001b[0mdispatch\u001b[0m\u001b[1;33m[\u001b[0m\u001b[0mk\u001b[0m\u001b[1;33m]\u001b[0m\u001b[1;33m(\u001b[0m\u001b[1;33m)\u001b[0m\u001b[1;33m\u001b[0m\u001b[0m\n\u001b[0m\u001b[1;32m    718\u001b[0m \u001b[1;33m\u001b[0m\u001b[0m\n\u001b[1;32m    719\u001b[0m     \u001b[1;32mdef\u001b[0m \u001b[0m_analyze_ramps\u001b[0m\u001b[1;33m(\u001b[0m\u001b[0mself\u001b[0m\u001b[1;33m)\u001b[0m\u001b[1;33m:\u001b[0m\u001b[1;33m\u001b[0m\u001b[0m\n",
      "\u001b[0;32mC:\\Anaconda2\\lib\\site-packages\\allensdk\\ephys\\ephys_extractor.pyc\u001b[0m in \u001b[0;36m_analyze_long_squares\u001b[0;34m(self)\u001b[0m\n\u001b[1;32m    762\u001b[0m \u001b[1;33m\u001b[0m\u001b[0m\n\u001b[1;32m    763\u001b[0m     \u001b[1;32mdef\u001b[0m \u001b[0m_analyze_long_squares\u001b[0m\u001b[1;33m(\u001b[0m\u001b[0mself\u001b[0m\u001b[1;33m)\u001b[0m\u001b[1;33m:\u001b[0m\u001b[1;33m\u001b[0m\u001b[0m\n\u001b[0;32m--> 764\u001b[0;31m         \u001b[0mself\u001b[0m\u001b[1;33m.\u001b[0m\u001b[0m_analyze_long_squares_spiking\u001b[0m\u001b[1;33m(\u001b[0m\u001b[1;33m)\u001b[0m\u001b[1;33m\u001b[0m\u001b[0m\n\u001b[0m\u001b[1;32m    765\u001b[0m         \u001b[0mself\u001b[0m\u001b[1;33m.\u001b[0m\u001b[0m_analyze_long_squares_subthreshold\u001b[0m\u001b[1;33m(\u001b[0m\u001b[1;33m)\u001b[0m\u001b[1;33m\u001b[0m\u001b[0m\n\u001b[1;32m    766\u001b[0m \u001b[1;33m\u001b[0m\u001b[0m\n",
      "\u001b[0;32mC:\\Anaconda2\\lib\\site-packages\\allensdk\\ephys\\ephys_extractor.pyc\u001b[0m in \u001b[0;36m_analyze_long_squares_spiking\u001b[0;34m(self, force_reprocess)\u001b[0m\n\u001b[1;32m    770\u001b[0m \u001b[1;33m\u001b[0m\u001b[0m\n\u001b[1;32m    771\u001b[0m         \u001b[0mext\u001b[0m \u001b[1;33m=\u001b[0m \u001b[0mself\u001b[0m\u001b[1;33m.\u001b[0m\u001b[0m_long_squares_ext\u001b[0m\u001b[1;33m\u001b[0m\u001b[0m\n\u001b[0;32m--> 772\u001b[0;31m         \u001b[0mext\u001b[0m\u001b[1;33m.\u001b[0m\u001b[0mprocess_spikes\u001b[0m\u001b[1;33m(\u001b[0m\u001b[1;33m)\u001b[0m\u001b[1;33m\u001b[0m\u001b[0m\n\u001b[0m\u001b[1;32m    773\u001b[0m         \u001b[0mself\u001b[0m\u001b[1;33m.\u001b[0m\u001b[0m_features\u001b[0m\u001b[1;33m[\u001b[0m\u001b[1;34m\"long_squares\"\u001b[0m\u001b[1;33m]\u001b[0m\u001b[1;33m[\u001b[0m\u001b[1;34m\"sweeps\"\u001b[0m\u001b[1;33m]\u001b[0m \u001b[1;33m=\u001b[0m \u001b[0mext\u001b[0m\u001b[1;33m.\u001b[0m\u001b[0msweeps\u001b[0m\u001b[1;33m(\u001b[0m\u001b[1;33m)\u001b[0m\u001b[1;33m\u001b[0m\u001b[0m\n\u001b[1;32m    774\u001b[0m         \u001b[1;32mfor\u001b[0m \u001b[0ms\u001b[0m \u001b[1;32min\u001b[0m \u001b[0mself\u001b[0m\u001b[1;33m.\u001b[0m\u001b[0m_features\u001b[0m\u001b[1;33m[\u001b[0m\u001b[1;34m\"long_squares\"\u001b[0m\u001b[1;33m]\u001b[0m\u001b[1;33m[\u001b[0m\u001b[1;34m\"sweeps\"\u001b[0m\u001b[1;33m]\u001b[0m\u001b[1;33m:\u001b[0m\u001b[1;33m\u001b[0m\u001b[0m\n",
      "\u001b[0;32mC:\\Anaconda2\\lib\\site-packages\\allensdk\\ephys\\ephys_extractor.pyc\u001b[0m in \u001b[0;36mprocess_spikes\u001b[0;34m(self)\u001b[0m\n\u001b[1;32m    643\u001b[0m         \u001b[1;34m\"\"\"Analyze spike features for all sweeps.\"\"\"\u001b[0m\u001b[1;33m\u001b[0m\u001b[0m\n\u001b[1;32m    644\u001b[0m         \u001b[1;32mfor\u001b[0m \u001b[0msweep\u001b[0m \u001b[1;32min\u001b[0m \u001b[0mself\u001b[0m\u001b[1;33m.\u001b[0m\u001b[0m_sweeps\u001b[0m\u001b[1;33m:\u001b[0m\u001b[1;33m\u001b[0m\u001b[0m\n\u001b[0;32m--> 645\u001b[0;31m             \u001b[0msweep\u001b[0m\u001b[1;33m.\u001b[0m\u001b[0mprocess_spikes\u001b[0m\u001b[1;33m(\u001b[0m\u001b[1;33m)\u001b[0m\u001b[1;33m\u001b[0m\u001b[0m\n\u001b[0m\u001b[1;32m    646\u001b[0m \u001b[1;33m\u001b[0m\u001b[0m\n\u001b[1;32m    647\u001b[0m     \u001b[1;32mdef\u001b[0m \u001b[0msweep_features\u001b[0m\u001b[1;33m(\u001b[0m\u001b[0mself\u001b[0m\u001b[1;33m,\u001b[0m \u001b[0mkey\u001b[0m\u001b[1;33m,\u001b[0m \u001b[0mallow_missing\u001b[0m\u001b[1;33m=\u001b[0m\u001b[0mFalse\u001b[0m\u001b[1;33m)\u001b[0m\u001b[1;33m:\u001b[0m\u001b[1;33m\u001b[0m\u001b[0m\n",
      "\u001b[0;32mC:\\Anaconda2\\lib\\site-packages\\allensdk\\ephys\\ephys_extractor.pyc\u001b[0m in \u001b[0;36mprocess_spikes\u001b[0;34m(self)\u001b[0m\n\u001b[1;32m     77\u001b[0m     \u001b[1;32mdef\u001b[0m \u001b[0mprocess_spikes\u001b[0m\u001b[1;33m(\u001b[0m\u001b[0mself\u001b[0m\u001b[1;33m)\u001b[0m\u001b[1;33m:\u001b[0m\u001b[1;33m\u001b[0m\u001b[0m\n\u001b[1;32m     78\u001b[0m         \u001b[1;34m\"\"\"Perform spike-related feature analysis\"\"\"\u001b[0m\u001b[1;33m\u001b[0m\u001b[0m\n\u001b[0;32m---> 79\u001b[0;31m         \u001b[0mself\u001b[0m\u001b[1;33m.\u001b[0m\u001b[0m_process_individual_spikes\u001b[0m\u001b[1;33m(\u001b[0m\u001b[1;33m)\u001b[0m\u001b[1;33m\u001b[0m\u001b[0m\n\u001b[0m\u001b[1;32m     80\u001b[0m         \u001b[0mself\u001b[0m\u001b[1;33m.\u001b[0m\u001b[0m_process_spike_related_features\u001b[0m\u001b[1;33m(\u001b[0m\u001b[1;33m)\u001b[0m\u001b[1;33m\u001b[0m\u001b[0m\n\u001b[1;32m     81\u001b[0m \u001b[1;33m\u001b[0m\u001b[0m\n",
      "\u001b[0;32mC:\\Anaconda2\\lib\\site-packages\\allensdk\\ephys\\ephys_extractor.pyc\u001b[0m in \u001b[0;36m_process_individual_spikes\u001b[0;34m(self)\u001b[0m\n\u001b[1;32m    115\u001b[0m         trough_details = ft.analyze_trough_details(v, t, thresholds, peaks, self.end,\n\u001b[1;32m    116\u001b[0m                                                    self.filter, dvdt=dvdt)\n\u001b[0;32m--> 117\u001b[0;31m         \u001b[0mwidths\u001b[0m \u001b[1;33m=\u001b[0m \u001b[0mft\u001b[0m\u001b[1;33m.\u001b[0m\u001b[0mfind_widths\u001b[0m\u001b[1;33m(\u001b[0m\u001b[0mv\u001b[0m\u001b[1;33m,\u001b[0m \u001b[0mt\u001b[0m\u001b[1;33m,\u001b[0m \u001b[0mthresholds\u001b[0m\u001b[1;33m,\u001b[0m \u001b[0mpeaks\u001b[0m\u001b[1;33m,\u001b[0m \u001b[0mtrough_details\u001b[0m\u001b[1;33m[\u001b[0m\u001b[1;36m1\u001b[0m\u001b[1;33m]\u001b[0m\u001b[1;33m)\u001b[0m\u001b[1;33m\u001b[0m\u001b[0m\n\u001b[0m\u001b[1;32m    118\u001b[0m \u001b[1;33m\u001b[0m\u001b[0m\n\u001b[1;32m    119\u001b[0m         \u001b[1;31m# Points where we care about t, v, and i if available\u001b[0m\u001b[1;33m\u001b[0m\u001b[1;33m\u001b[0m\u001b[0m\n",
      "\u001b[0;32mC:\\Anaconda2\\lib\\site-packages\\allensdk\\ephys\\ephys_features.pyc\u001b[0m in \u001b[0;36mfind_widths\u001b[0;34m(v, t, spike_indexes, peak_indexes, trough_indexes)\u001b[0m\n\u001b[1;32m    410\u001b[0m     width_ends[use_indexes] = np.array([pk + np.flatnonzero(v[pk:tr] <= wl)[0] if\n\u001b[1;32m    411\u001b[0m                     \u001b[0mnp\u001b[0m\u001b[1;33m.\u001b[0m\u001b[0mflatnonzero\u001b[0m\u001b[1;33m(\u001b[0m\u001b[0mv\u001b[0m\u001b[1;33m[\u001b[0m\u001b[0mpk\u001b[0m\u001b[1;33m:\u001b[0m\u001b[0mtr\u001b[0m\u001b[1;33m]\u001b[0m \u001b[1;33m<=\u001b[0m \u001b[0mwl\u001b[0m\u001b[1;33m)\u001b[0m\u001b[1;33m.\u001b[0m\u001b[0msize\u001b[0m \u001b[1;33m>\u001b[0m \u001b[1;36m0\u001b[0m \u001b[1;32melse\u001b[0m \u001b[0mnp\u001b[0m\u001b[1;33m.\u001b[0m\u001b[0mnan\u001b[0m \u001b[1;32mfor\u001b[0m \u001b[0mpk\u001b[0m\u001b[1;33m,\u001b[0m \u001b[0mtr\u001b[0m\u001b[1;33m,\u001b[0m \u001b[0mwl\u001b[0m\u001b[1;33m\u001b[0m\u001b[0m\n\u001b[0;32m--> 412\u001b[0;31m                     in zip(peak_indexes[use_indexes], trough_indexes[use_indexes], width_levels[use_indexes])])\n\u001b[0m\u001b[1;32m    413\u001b[0m \u001b[1;33m\u001b[0m\u001b[0m\n\u001b[1;32m    414\u001b[0m     \u001b[0mmissing_widths\u001b[0m \u001b[1;33m=\u001b[0m \u001b[0mnp\u001b[0m\u001b[1;33m.\u001b[0m\u001b[0misnan\u001b[0m\u001b[1;33m(\u001b[0m\u001b[0mwidth_starts\u001b[0m\u001b[1;33m)\u001b[0m \u001b[1;33m|\u001b[0m \u001b[0mnp\u001b[0m\u001b[1;33m.\u001b[0m\u001b[0misnan\u001b[0m\u001b[1;33m(\u001b[0m\u001b[0mwidth_ends\u001b[0m\u001b[1;33m)\u001b[0m\u001b[1;33m\u001b[0m\u001b[0m\n",
      "\u001b[0;31mTypeError\u001b[0m: slice indices must be integers or None or have an __index__ method"
     ]
    }
   ],
   "source": [
    "import allensdk_lims.internal.core.lims_utilities as lu\n",
    "from allensdk.core.nwb_data_set import NwbDataSet\n",
    "from allensdk.ephys.extract_cell_features import extract_cell_features\n",
    "\n",
    "import os\n",
    "import numpy as np\n",
    "import pandas as pd\n",
    "from collections import defaultdict\n",
    "\n",
    "\n",
    "\n",
    "%matplotlib inline\n",
    "import warnings\n",
    "warnings.filterwarnings('ignore')\n",
    "\n",
    "#SQL query from David\n",
    "query = \"\"\"\n",
    "select wkf.storage_directory || wkf.filename as nwb_path, sp.id as specimen_id, sp.name as specimen_name\n",
    "from well_known_files wkf \n",
    "join ephys_roi_results err on wkf.attachable_id = err.id\n",
    "join specimens sp on sp.ephys_roi_result_id = err.id\n",
    "where wkf.well_known_file_type_id = 475137571\n",
    "and err.workflow_state = 'manual_passed'\n",
    "\n",
    "\"\"\"\n",
    "nwb_files = lu.query(query)\n",
    "cell_index = { c['specimen_id']: c for c in nwb_files}\n",
    "\n",
    "nwb_df = pd.DataFrame(nwb_files)\n",
    "\n",
    "query2 = \"\"\"\n",
    "select es.sweep_number, est.description as stimulus_code, estt.name as stimulus_type from ephys_sweeps es\n",
    "join ephys_stimuli est on es.ephys_stimulus_id = est.id\n",
    "join ephys_stimulus_types estt on estt.id = est.ephys_stimulus_type_id\n",
    "where es.specimen_id = \"\"\"\n",
    "\n",
    "custom_report = pd.read_csv('custom_report.csv')\n",
    "v1_df = custom_report\n",
    "v1_df = v1_df[v1_df['ephys_qc'] == 'manual_passed']\n",
    "\n",
    "new_columns = ['tau','sag','ri','sag_amp','ISI_initial/ISI_mean','adaptation_index',\n",
    "               'capacitance','AP_amp','upstroke_downstroke_ratio','v_rest',\n",
    "               'rheobase_sweep','latency','instant_sweep','rheobase_i', \n",
    "               'noise_1','noise_2','hero_rate','fast_trough','hero_sweep']\n",
    "\n",
    "for i in new_columns:\n",
    "    v1_df[i] = None\n",
    "\n",
    "for i,cell in enumerate(v1_df['cell_specimen_id']):\n",
    "    v1_df['nwb_filename'].iloc[i] = nwb_df['nwb_path'][nwb_df.specimen_id == cell].iloc[0]\n",
    "    v1_df['nwb_filename'].iloc[i] = lu.linux_to_windows(v1_df['nwb_filename'].iloc[i])\n",
    "    file_name =  v1_df['nwb_filename'].iloc[i]\n",
    "    data_set = NwbDataSet(file_name)\n",
    "    #print file_name\n",
    "    sweeps = lu.query(query2+str(cell))\n",
    "    sweep_numbers = defaultdict(list)\n",
    "    for sweep in sweeps:\n",
    "        sweep_numbers[sweep['stimulus_type']].append(sweep['sweep_number'])\n",
    "        \n",
    "    if sweep_numbers['Long Square'] != []:\n",
    "        cell_features = extract_cell_features(NwbDataSet(file_name),\n",
    "                                      sweep_numbers['Ramp'],\n",
    "                                      sweep_numbers['Short Square'],\n",
    "                                      sweep_numbers['Long Square'])\n",
    "\n",
    "\n",
    "        v1_df['tau'].iloc[i] = cell_features['long_squares']['tau']\n",
    "        v1_df['sag'].iloc[i] = cell_features['long_squares']['sag']\n",
    "        v1_df['ri'].iloc[i] = cell_features['long_squares']['input_resistance']\n",
    "        v1_df['sag_amp'].iloc[i] = cell_features['long_squares']['v_baseline'] - (cell_features['long_squares']['vm_for_sag']*cell_features['long_squares']['sag'])\n",
    "        #alm_df['ISI_initial/ISI_mean'].iloc[i] = cell_features['long_squares']['hero_sweep']['first_isi']/cell_features['long_squares']['hero_sweep']['mean_isi']\n",
    "        v1_df['adaptation_index'].iloc[i] = cell_features['long_squares']['hero_sweep']['adapt']\n",
    "        v1_df['capacitance'].iloc[i] = cell_features['long_squares']['tau']/cell_features['long_squares']['input_resistance']*1000\n",
    "        v1_df['AP_amp'].iloc[i] = cell_features['long_squares']['hero_sweep']['spikes'][0]['peak_v'] - cell_features['long_squares']['hero_sweep']['spikes'][0]['threshold_v']\n",
    "        v1_df['upstroke_downstroke_ratio'].iloc[i] = cell_features['long_squares']['rheobase_sweep']['spikes'][0]['upstroke_downstroke_ratio']\n",
    "        v1_df['v_rest'].iloc[i] = cell_features['long_squares']['v_baseline']\n",
    "        v1_df['rheobase_sweep'].iloc[i] = cell_features['long_squares']['rheobase_sweep']['id']\n",
    "        v1_df['latency'].iloc[i] = cell_features['short_squares']['common_amp_sweeps'][0]['latency']\n",
    "        v1_df['instant_sweep'].iloc[i] = cell_features['short_squares']['common_amp_sweeps'][0]['id']\n",
    "        v1_df['rheobase_i'].iloc[i] = cell_features['long_squares']['rheobase_i']\n",
    "        v1_df['hero_rate'].iloc[i] = cell_features['long_squares']['hero_sweep']['avg_rate']\n",
    "        spikes = cell_features['long_squares']['hero_sweep']['spikes']\n",
    "        v1_df['fast_trough'].iloc[i] = np.mean([spikes[f]['fast_trough_v'] for f in range(len(spikes))])\n",
    "        v1_df['hero_sweep'].iloc[i] = cell_features['long_squares']['hero_sweep']['id']\n",
    "\n",
    "    print cell\n",
    "\n",
    "for row in range(len(v1_df)):\n",
    "    for title in v1_df.columns:\n",
    "        if type(v1_df[title].iloc[row]) == tuple:\n",
    "            v1_df[title].iloc[row] = v1_df[title].iloc[row][0]\n",
    "\n",
    "v1_df.to_csv('all_features.csv')"
   ]
  },
  {
   "cell_type": "code",
   "execution_count": 42,
   "metadata": {
    "collapsed": false
   },
   "outputs": [],
   "source": [
    "v1_df.to_csv('all_features.csv')\n"
   ]
  },
  {
   "cell_type": "code",
   "execution_count": null,
   "metadata": {
    "collapsed": false
   },
   "outputs": [],
   "source": [
    "v1_df = v1_df[v1_df['project'] == 'T301']\n",
    "v1_df = v1_df[v1_df['cell_specimen_id'] != cell]\n",
    "for i in range(len(v1_df)):\n",
    "    if v1_df['hero_rate'].iloc[i] == None:\n",
    "        cell = v1_df['cell_specimen_id'].iloc[i]\n",
    "        v1_df['nwb_filename'].iloc[i] = nwb_df['nwb_path'][nwb_df.specimen_id == cell].iloc[0]\n",
    "        v1_df['nwb_filename'].iloc[i] = lu.linux_to_windows(v1_df['nwb_filename'].iloc[i])\n",
    "        file_name =  v1_df['nwb_filename'].iloc[i]\n",
    "        data_set = NwbDataSet(file_name)\n",
    "        #print file_name\n",
    "        sweeps = lu.query(query2+str(cell))\n",
    "        sweep_numbers = defaultdict(list)\n",
    "        for sweep in sweeps:\n",
    "            sweep_numbers[sweep['stimulus_type']].append(sweep['sweep_number'])\n",
    "\n",
    "        if sweep_numbers['Long Square'] != []:\n",
    "            \n",
    "            cell_features = extract_cell_features(NwbDataSet(file_name),\n",
    "                                          sweep_numbers['Ramp'],\n",
    "                                          sweep_numbers['Short Square'],\n",
    "                                          sweep_numbers['Long Square'])\n",
    "\n",
    "\n",
    "            v1_df['tau'].iloc[i] = cell_features['long_squares']['tau']\n",
    "            v1_df['sag'].iloc[i] = cell_features['long_squares']['sag']\n",
    "            v1_df['ri'].iloc[i] = cell_features['long_squares']['input_resistance']\n",
    "            v1_df['sag_amp'].iloc[i] = cell_features['long_squares']['v_baseline'] - (cell_features['long_squares']['vm_for_sag']*cell_features['long_squares']['sag'])\n",
    "            #alm_df['ISI_initial/ISI_mean'].iloc[i] = cell_features['long_squares']['hero_sweep']['first_isi']/cell_features['long_squares']['hero_sweep']['mean_isi']\n",
    "            v1_df['adaptation_index'].iloc[i] = cell_features['long_squares']['hero_sweep']['adapt']\n",
    "            v1_df['capacitance'].iloc[i] = cell_features['long_squares']['tau']/cell_features['long_squares']['input_resistance']*1000\n",
    "            v1_df['AP_amp'].iloc[i] = cell_features['long_squares']['hero_sweep']['spikes'][0]['peak_v'] - cell_features['long_squares']['hero_sweep']['spikes'][0]['threshold_v']\n",
    "            v1_df['upstroke_downstroke_ratio'].iloc[i] = cell_features['long_squares']['rheobase_sweep']['spikes'][0]['upstroke_downstroke_ratio']\n",
    "            v1_df['v_rest'].iloc[i] = cell_features['long_squares']['v_baseline']\n",
    "            v1_df['rheobase_sweep'].iloc[i] = cell_features['long_squares']['rheobase_sweep']['id']\n",
    "            v1_df['latency'].iloc[i] = cell_features['short_squares']['common_amp_sweeps'][0]['latency']\n",
    "            v1_df['instant_sweep'].iloc[i] = cell_features['short_squares']['common_amp_sweeps'][0]['id']\n",
    "            v1_df['rheobase_i'].iloc[i] = cell_features['long_squares']['rheobase_i']\n",
    "            v1_df['hero_rate'].iloc[i] = cell_features['long_squares']['hero_sweep']['avg_rate']\n",
    "            spikes = cell_features['long_squares']['hero_sweep']['spikes']\n",
    "            v1_df['fast_trough'].iloc[i] = np.mean([spikes[f]['fast_trough_v'] for f in range(len(spikes))])\n",
    "            v1_df['hero_sweep'].iloc[i] = cell_features['long_squares']['hero_sweep']['id']\n",
    "\n",
    "        print cell\n",
    "\n",
    "for row in range(len(v1_df)):\n",
    "    for title in v1_df.columns:\n",
    "        if type(v1_df[title].iloc[row]) == tuple:\n",
    "            v1_df[title].iloc[row] = v1_df[title].iloc[row][0]\n",
    "\n",
    "v1_df.to_csv('all_features.csv')"
   ]
  },
  {
   "cell_type": "code",
   "execution_count": 2,
   "metadata": {
    "collapsed": false
   },
   "outputs": [
    {
     "name": "stdout",
     "output_type": "stream",
     "text": [
      "test\n"
     ]
    }
   ],
   "source": [
    "if v1_df['hero_rate'].iloc[500] == None:\n",
    "    print 'test'"
   ]
  },
  {
   "cell_type": "code",
   "execution_count": 3,
   "metadata": {
    "collapsed": false
   },
   "outputs": [],
   "source": [
    "v1_df.to_csv('all_features.csv')"
   ]
  },
  {
   "cell_type": "code",
   "execution_count": 4,
   "metadata": {
    "collapsed": false
   },
   "outputs": [
    {
     "name": "stdout",
     "output_type": "stream",
     "text": [
      "0\n",
      "1\n",
      "2\n",
      "3\n",
      "4\n",
      "5\n",
      "6\n",
      "7\n",
      "8\n",
      "9\n"
     ]
    }
   ],
   "source": [
    "for i in range(0,10):\n",
    "    print i"
   ]
  },
  {
   "cell_type": "code",
   "execution_count": null,
   "metadata": {
    "collapsed": true
   },
   "outputs": [],
   "source": []
  }
 ],
 "metadata": {
  "kernelspec": {
   "display_name": "Python 2",
   "language": "python",
   "name": "python2"
  },
  "language_info": {
   "codemirror_mode": {
    "name": "ipython",
    "version": 2
   },
   "file_extension": ".py",
   "mimetype": "text/x-python",
   "name": "python",
   "nbconvert_exporter": "python",
   "pygments_lexer": "ipython2",
   "version": "2.7.13"
  }
 },
 "nbformat": 4,
 "nbformat_minor": 0
}
