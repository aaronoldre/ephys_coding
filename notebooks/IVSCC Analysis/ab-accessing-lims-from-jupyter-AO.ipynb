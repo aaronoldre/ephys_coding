{
 "cells": [
  {
   "cell_type": "markdown",
   "metadata": {},
   "source": [
    "### A little 'get started with the LIMS / PostgreSQL / Python connection' notebook following up on the Software Carpentry Workshop.\n",
    "####  Agata Budzillo, 4/12/2017"
   ]
  },
  {
   "cell_type": "markdown",
   "metadata": {},
   "source": [
    "### The three functions below will allow you to open a connection with the LIMS database, send a query and collect the results, and then (importantly) close the connection so LIMS doesn't get hung up. I wouldn't worry too much about the details of these at the moment, but I'm happy to answer questions if they arise."
   ]
  },
  {
   "cell_type": "code",
   "execution_count": 3,
   "metadata": {
    "collapsed": true
   },
   "outputs": [],
   "source": [
    "\n",
    "def _connect(user=\"limsreader\", host=\"limsdb2\", database=\"lims2\", password=\"limsro\", port=5432):\n",
    "    import pg8000\n",
    "    conn = pg8000.connect(user=user, host=host, database=database, password=password, port=port)\n",
    "    return conn, conn.cursor()\n",
    "\n",
    "def _select(cursor, query):\n",
    "    cursor.execute(query)\n",
    "    columns = [ d[0] for d in cursor.description ]\n",
    "    return [ dict(zip(columns, c)) for c in cursor.fetchall() ]\n",
    "\n",
    "def limsquery(query, user=\"limsreader\", host=\"limsdb2\", database=\"lims2\", password=\"limsro\", port=5432):\n",
    "    \"\"\"A function that takes a string containing a SQL query, connects to the LIMS database and outputs the result.\"\"\"\n",
    "    conn, cursor = _connect(user, host, database, password, port)\n",
    "    try:\n",
    "        results = _select(cursor, query)\n",
    "    finally:\n",
    "        cursor.close()\n",
    "        conn.close()\n",
    "    return results\n"
   ]
  },
  {
   "cell_type": "markdown",
   "metadata": {},
   "source": [
    "### LIMS has a looooot of tables. One of the most useful ones to get acquainted with is 'specimens'."
   ]
  },
  {
   "cell_type": "code",
   "execution_count": 2,
   "metadata": {
    "collapsed": true
   },
   "outputs": [],
   "source": [
    "my_bigquery = \"SELECT * FROM specimens\"\n",
    "my_bigresult = limsquery(my_bigquery)"
   ]
  },
  {
   "cell_type": "markdown",
   "metadata": {},
   "source": [
    "### Well now that took an awfully long time. From now on when we run our test queries, let's limit the number of results we get back."
   ]
  },
  {
   "cell_type": "code",
   "execution_count": 4,
   "metadata": {
    "collapsed": true
   },
   "outputs": [],
   "source": [
    "my_query = \"SELECT * FROM specimens LIMIT 10\"\n",
    "my_result = limsquery(my_query)"
   ]
  },
  {
   "cell_type": "markdown",
   "metadata": {},
   "source": [
    "### What in the world is in my result? Let's ask Python what it thinks..."
   ]
  },
  {
   "cell_type": "code",
   "execution_count": 5,
   "metadata": {},
   "outputs": [
    {
     "name": "stdout",
     "output_type": "stream",
     "text": [
      "<type 'list'>\n",
      "Length of myresult: 10\n"
     ]
    }
   ],
   "source": [
    "print type(my_result)\n",
    "print \"Length of myresult:\", len(my_result)"
   ]
  },
  {
   "cell_type": "markdown",
   "metadata": {},
   "source": [
    "### It's a list of the same length as the # of results to which we limited our query.  What's the first thing in the list?"
   ]
  },
  {
   "cell_type": "code",
   "execution_count": 174,
   "metadata": {},
   "outputs": [
    {
     "name": "stdout",
     "output_type": "stream",
     "text": [
      "{'cell_depth': None, 'ephys_roi_result_id': None, 'parent_y_coord': 0, 'reference_space_id': None, 'updated_at': datetime.datetime(2016, 12, 16, 4, 54, 44, 477335), 'cell_label': None, 'preparation_method_id': None, 'parent_x_coord': 2, 'location_id': None, 'id': 556516441, 'cortex_layer_id': None, 'plane_of_section_id': 11, 'frozen_at': None, 'flipped_specimen_id': 561557765, 'data': None, 'rna_integrity_number': None, 'histology_well_name': None, 'created_by': None, 'priority': None, 'parent_id': 556516212, 'project_id': 305094322, 'alignment3d_id': None, 'carousel_well_name': u'T301_122_161107_01_12', 'patched_cell_container': None, 'updated_by': None, 'cell_prep_id': None, 'biophysical_model_state': u'review_required', 'barcode': u'0556516441', 'storage_directory': None, 'tissue_ph': None, 'specimen_preparation_method_id': None, 'donor_id': 555257198, 'ephys_neural_tissue_plan_id': 555257244, 'structure_id': None, 'parent_z_coord': 0, 'facs_well_id': None, 'name': u'Ndnf-IRES2-dgCre;Ai14-280612.06.02', 'normalization_group_id': None, 'postmortem_interval_id': None, 'specimen_set_id': None, 'created_at': datetime.datetime(2016, 11, 7, 16, 3, 11, 459275), 'tissue_processing_id': 555257241, 'ephys_cell_plan_id': None, 'hemisphere_id': None, 'cell_reporter_id': None, 'task_flow_id': None, 'external_specimen_name': None}\n"
     ]
    }
   ],
   "source": [
    "first_element = myresult[0]\n",
    "print first_element"
   ]
  },
  {
   "cell_type": "markdown",
   "metadata": {},
   "source": [
    "### Eew, what is that!?"
   ]
  },
  {
   "cell_type": "code",
   "execution_count": 176,
   "metadata": {},
   "outputs": [
    {
     "name": "stdout",
     "output_type": "stream",
     "text": [
      "<type 'dict'>\n"
     ]
    }
   ],
   "source": [
    "print type(first_element)"
   ]
  },
  {
   "cell_type": "markdown",
   "metadata": {},
   "source": [
    "### Aha, Python says it's a dictionary! This is an incredibly useful and efficient data structure that we didn't really discuss in the Software Carpentry Workshop. A dictionary is made up of key:value pairs. Just to make that clear, below I'm looping across every key in the dictionary that is the first element of my results list, printing the name of the key and the value that the key is associated with."
   ]
  },
  {
   "cell_type": "code",
   "execution_count": 178,
   "metadata": {},
   "outputs": [
    {
     "name": "stdout",
     "output_type": "stream",
     "text": [
      "cell_depth : None\n",
      "ephys_roi_result_id : None\n",
      "parent_y_coord : 0\n",
      "reference_space_id : None\n",
      "updated_at : 2016-12-16 04:54:44.477335\n",
      "cell_label : None\n",
      "preparation_method_id : None\n",
      "parent_x_coord : 2\n",
      "location_id : None\n",
      "id : 556516441\n",
      "cortex_layer_id : None\n",
      "plane_of_section_id : 11\n",
      "frozen_at : None\n",
      "flipped_specimen_id : 561557765\n",
      "data : None\n",
      "rna_integrity_number : None\n",
      "histology_well_name : None\n",
      "created_by : None\n",
      "priority : None\n",
      "parent_id : 556516212\n",
      "project_id : 305094322\n",
      "alignment3d_id : None\n",
      "carousel_well_name : T301_122_161107_01_12\n",
      "patched_cell_container : None\n",
      "updated_by : None\n",
      "cell_prep_id : None\n",
      "biophysical_model_state : review_required\n",
      "barcode : 0556516441\n",
      "storage_directory : None\n",
      "tissue_ph : None\n",
      "specimen_preparation_method_id : None\n",
      "donor_id : 555257198\n",
      "ephys_neural_tissue_plan_id : 555257244\n",
      "structure_id : None\n",
      "parent_z_coord : 0\n",
      "facs_well_id : None\n",
      "name : Ndnf-IRES2-dgCre;Ai14-280612.06.02\n",
      "normalization_group_id : None\n",
      "postmortem_interval_id : None\n",
      "specimen_set_id : None\n",
      "created_at : 2016-11-07 16:03:11.459275\n",
      "tissue_processing_id : 555257241\n",
      "ephys_cell_plan_id : None\n",
      "hemisphere_id : None\n",
      "cell_reporter_id : None\n",
      "task_flow_id : None\n",
      "external_specimen_name : None\n"
     ]
    }
   ],
   "source": [
    "my_dict = first_element\n",
    "for my_key in my_dict.keys():\n",
    "    my_val = my_dict[my_key]\n",
    "    print my_key, \":\", my_val"
   ]
  },
  {
   "cell_type": "markdown",
   "metadata": {},
   "source": [
    "## Q1: Your turn - return the specimen names for all the query results."
   ]
  },
  {
   "cell_type": "code",
   "execution_count": 6,
   "metadata": {},
   "outputs": [
    {
     "name": "stdout",
     "output_type": "stream",
     "text": [
      "Ndnf-IRES2-dgCre;Ai14-280612.06.02\n",
      "Chrna2-Cre_OE25;Ai14(IVSCC)-312984\n",
      "Sst-IRES-Cre;Ai140;Pvalb-2A-FlpO;Ai65F-303812\n",
      "Htr3a-Cre_NO152;Ai14-288785\n",
      "Chrna2-Cre_OE25;Ai14(IVSCC)-312987\n",
      "Nkx2-1-CreERT2;Ai14-338238.07\n",
      "Tlx3-Cre_PL56;Ai140;Pvalb-T2A-FlpO;Ai65F-339606\n",
      "Nkx2-1-CreERT2;Ai14-338238.08\n",
      "H16.03.002.01.06.02\n",
      "Nkx2-1-CreERT2;Ai14-338238.13\n"
     ]
    }
   ],
   "source": [
    "# A1:\n",
    "for result in my_result:\n",
    "    print result[\"name\"]\n"
   ]
  },
  {
   "cell_type": "markdown",
   "metadata": {},
   "source": [
    "### Dictionaries are cool, but since this is tabular data, it might make sense to load it into a Pandas Dataframe, so it's all nice and pretty. Here's one way of doing it."
   ]
  },
  {
   "cell_type": "code",
   "execution_count": 4,
   "metadata": {
    "collapsed": true
   },
   "outputs": [],
   "source": [
    "def get_lims_dataframe(query):\n",
    "    '''Return a dataframe with lims query'''\n",
    "    import pandas as pd\n",
    "    result = limsquery(query)\n",
    "    try:\n",
    "        data_df = pd.DataFrame(data=result, columns=result[0].keys())\n",
    "    except IndexError:\n",
    "        print \"Could not find results for your query.\"\n",
    "        data_df = pd.DataFrame()\n",
    "    return data_df"
   ]
  },
  {
   "cell_type": "code",
   "execution_count": 9,
   "metadata": {},
   "outputs": [
    {
     "data": {
      "text/html": [
       "<div>\n",
       "<table border=\"1\" class=\"dataframe\">\n",
       "  <thead>\n",
       "    <tr style=\"text-align: right;\">\n",
       "      <th></th>\n",
       "      <th>cell_depth</th>\n",
       "      <th>ephys_roi_result_id</th>\n",
       "      <th>parent_y_coord</th>\n",
       "      <th>reference_space_id</th>\n",
       "      <th>updated_at</th>\n",
       "      <th>cell_label</th>\n",
       "      <th>preparation_method_id</th>\n",
       "      <th>parent_x_coord</th>\n",
       "      <th>location_id</th>\n",
       "      <th>id</th>\n",
       "      <th>...</th>\n",
       "      <th>normalization_group_id</th>\n",
       "      <th>postmortem_interval_id</th>\n",
       "      <th>specimen_set_id</th>\n",
       "      <th>created_at</th>\n",
       "      <th>tissue_processing_id</th>\n",
       "      <th>ephys_cell_plan_id</th>\n",
       "      <th>hemisphere_id</th>\n",
       "      <th>cell_reporter_id</th>\n",
       "      <th>task_flow_id</th>\n",
       "      <th>external_specimen_name</th>\n",
       "    </tr>\n",
       "  </thead>\n",
       "  <tbody>\n",
       "    <tr>\n",
       "      <th>0</th>\n",
       "      <td>NaN</td>\n",
       "      <td>NaN</td>\n",
       "      <td>0.0</td>\n",
       "      <td>None</td>\n",
       "      <td>2016-12-16 04:54:44.477335</td>\n",
       "      <td>None</td>\n",
       "      <td>None</td>\n",
       "      <td>2.0</td>\n",
       "      <td>None</td>\n",
       "      <td>556516441</td>\n",
       "      <td>...</td>\n",
       "      <td>None</td>\n",
       "      <td>None</td>\n",
       "      <td>None</td>\n",
       "      <td>2016-11-07 16:03:11.459275</td>\n",
       "      <td>555257241.0</td>\n",
       "      <td>NaN</td>\n",
       "      <td>None</td>\n",
       "      <td>None</td>\n",
       "      <td>None</td>\n",
       "      <td>None</td>\n",
       "    </tr>\n",
       "    <tr>\n",
       "      <th>1</th>\n",
       "      <td>NaN</td>\n",
       "      <td>NaN</td>\n",
       "      <td>NaN</td>\n",
       "      <td>None</td>\n",
       "      <td>2017-04-19 14:52:52.593310</td>\n",
       "      <td>None</td>\n",
       "      <td>None</td>\n",
       "      <td>NaN</td>\n",
       "      <td>None</td>\n",
       "      <td>581535046</td>\n",
       "      <td>...</td>\n",
       "      <td>None</td>\n",
       "      <td>None</td>\n",
       "      <td>None</td>\n",
       "      <td>2017-04-14 16:19:20.011713</td>\n",
       "      <td>581535068.0</td>\n",
       "      <td>NaN</td>\n",
       "      <td>None</td>\n",
       "      <td>None</td>\n",
       "      <td>None</td>\n",
       "      <td>None</td>\n",
       "    </tr>\n",
       "    <tr>\n",
       "      <th>2</th>\n",
       "      <td>NaN</td>\n",
       "      <td>NaN</td>\n",
       "      <td>NaN</td>\n",
       "      <td>None</td>\n",
       "      <td>2017-03-01 16:37:56.349162</td>\n",
       "      <td>None</td>\n",
       "      <td>None</td>\n",
       "      <td>NaN</td>\n",
       "      <td>None</td>\n",
       "      <td>571099320</td>\n",
       "      <td>...</td>\n",
       "      <td>None</td>\n",
       "      <td>None</td>\n",
       "      <td>None</td>\n",
       "      <td>2017-02-24 16:19:14.340373</td>\n",
       "      <td>571099382.0</td>\n",
       "      <td>NaN</td>\n",
       "      <td>None</td>\n",
       "      <td>None</td>\n",
       "      <td>None</td>\n",
       "      <td>None</td>\n",
       "    </tr>\n",
       "    <tr>\n",
       "      <th>3</th>\n",
       "      <td>NaN</td>\n",
       "      <td>NaN</td>\n",
       "      <td>NaN</td>\n",
       "      <td>None</td>\n",
       "      <td>2016-12-20 15:59:41.497432</td>\n",
       "      <td>None</td>\n",
       "      <td>None</td>\n",
       "      <td>NaN</td>\n",
       "      <td>None</td>\n",
       "      <td>561463630</td>\n",
       "      <td>...</td>\n",
       "      <td>None</td>\n",
       "      <td>None</td>\n",
       "      <td>None</td>\n",
       "      <td>2016-12-14 17:16:20.787949</td>\n",
       "      <td>561463640.0</td>\n",
       "      <td>NaN</td>\n",
       "      <td>None</td>\n",
       "      <td>None</td>\n",
       "      <td>None</td>\n",
       "      <td>None</td>\n",
       "    </tr>\n",
       "    <tr>\n",
       "      <th>4</th>\n",
       "      <td>NaN</td>\n",
       "      <td>NaN</td>\n",
       "      <td>NaN</td>\n",
       "      <td>None</td>\n",
       "      <td>2017-04-21 14:53:40.845724</td>\n",
       "      <td>None</td>\n",
       "      <td>None</td>\n",
       "      <td>NaN</td>\n",
       "      <td>None</td>\n",
       "      <td>581535066</td>\n",
       "      <td>...</td>\n",
       "      <td>None</td>\n",
       "      <td>None</td>\n",
       "      <td>None</td>\n",
       "      <td>2017-04-14 16:19:20.491006</td>\n",
       "      <td>581535089.0</td>\n",
       "      <td>NaN</td>\n",
       "      <td>None</td>\n",
       "      <td>None</td>\n",
       "      <td>None</td>\n",
       "      <td>None</td>\n",
       "    </tr>\n",
       "  </tbody>\n",
       "</table>\n",
       "<p>5 rows × 49 columns</p>\n",
       "</div>"
      ],
      "text/plain": [
       "   cell_depth  ephys_roi_result_id  parent_y_coord reference_space_id  \\\n",
       "0         NaN                  NaN             0.0               None   \n",
       "1         NaN                  NaN             NaN               None   \n",
       "2         NaN                  NaN             NaN               None   \n",
       "3         NaN                  NaN             NaN               None   \n",
       "4         NaN                  NaN             NaN               None   \n",
       "\n",
       "                  updated_at cell_label preparation_method_id  parent_x_coord  \\\n",
       "0 2016-12-16 04:54:44.477335       None                  None             2.0   \n",
       "1 2017-04-19 14:52:52.593310       None                  None             NaN   \n",
       "2 2017-03-01 16:37:56.349162       None                  None             NaN   \n",
       "3 2016-12-20 15:59:41.497432       None                  None             NaN   \n",
       "4 2017-04-21 14:53:40.845724       None                  None             NaN   \n",
       "\n",
       "  location_id         id          ...           normalization_group_id  \\\n",
       "0        None  556516441          ...                             None   \n",
       "1        None  581535046          ...                             None   \n",
       "2        None  571099320          ...                             None   \n",
       "3        None  561463630          ...                             None   \n",
       "4        None  581535066          ...                             None   \n",
       "\n",
       "   postmortem_interval_id specimen_set_id                 created_at  \\\n",
       "0                    None            None 2016-11-07 16:03:11.459275   \n",
       "1                    None            None 2017-04-14 16:19:20.011713   \n",
       "2                    None            None 2017-02-24 16:19:14.340373   \n",
       "3                    None            None 2016-12-14 17:16:20.787949   \n",
       "4                    None            None 2017-04-14 16:19:20.491006   \n",
       "\n",
       "  tissue_processing_id ephys_cell_plan_id hemisphere_id cell_reporter_id  \\\n",
       "0          555257241.0                NaN          None             None   \n",
       "1          581535068.0                NaN          None             None   \n",
       "2          571099382.0                NaN          None             None   \n",
       "3          561463640.0                NaN          None             None   \n",
       "4          581535089.0                NaN          None             None   \n",
       "\n",
       "  task_flow_id external_specimen_name  \n",
       "0         None                   None  \n",
       "1         None                   None  \n",
       "2         None                   None  \n",
       "3         None                   None  \n",
       "4         None                   None  \n",
       "\n",
       "[5 rows x 49 columns]"
      ]
     },
     "execution_count": 9,
     "metadata": {},
     "output_type": "execute_result"
    }
   ],
   "source": [
    "my_df = get_lims_dataframe(my_query)\n",
    "my_df.head()"
   ]
  },
  {
   "cell_type": "markdown",
   "metadata": {},
   "source": [
    "### OK  well I don't know about you, but I'm annoyed by all these useless columns here. Who cares about tissue_processing_id!? Just kidding... We can limit what fields we take back from LIMS. I showed you the first way (with the wildcard *), though, because sometimes it can be tricky to know what the available fieldnames in a given table are ahead of time. For example, they often do not match up to the names displayed in the LIMS tables you may be accustomed to exploring through the web interface. Let's say we just want the specimen name, the ephys roi id and the specimen id...."
   ]
  },
  {
   "cell_type": "code",
   "execution_count": 13,
   "metadata": {},
   "outputs": [
    {
     "data": {
      "text/html": [
       "<div>\n",
       "<table border=\"1\" class=\"dataframe\">\n",
       "  <thead>\n",
       "    <tr style=\"text-align: right;\">\n",
       "      <th></th>\n",
       "      <th>ephys_roi_result_id</th>\n",
       "      <th>name</th>\n",
       "      <th>id</th>\n",
       "    </tr>\n",
       "  </thead>\n",
       "  <tbody>\n",
       "    <tr>\n",
       "      <th>0</th>\n",
       "      <td>None</td>\n",
       "      <td>Ndnf-IRES2-dgCre;Ai14-280612.06.02</td>\n",
       "      <td>556516441</td>\n",
       "    </tr>\n",
       "    <tr>\n",
       "      <th>1</th>\n",
       "      <td>None</td>\n",
       "      <td>Chrna2-Cre_OE25;Ai14(IVSCC)-312984</td>\n",
       "      <td>581535046</td>\n",
       "    </tr>\n",
       "    <tr>\n",
       "      <th>2</th>\n",
       "      <td>None</td>\n",
       "      <td>Sst-IRES-Cre;Ai140;Pvalb-2A-FlpO;Ai65F-303812</td>\n",
       "      <td>571099320</td>\n",
       "    </tr>\n",
       "    <tr>\n",
       "      <th>3</th>\n",
       "      <td>None</td>\n",
       "      <td>Htr3a-Cre_NO152;Ai14-288785</td>\n",
       "      <td>561463630</td>\n",
       "    </tr>\n",
       "    <tr>\n",
       "      <th>4</th>\n",
       "      <td>None</td>\n",
       "      <td>Chrna2-Cre_OE25;Ai14(IVSCC)-312987</td>\n",
       "      <td>581535066</td>\n",
       "    </tr>\n",
       "  </tbody>\n",
       "</table>\n",
       "</div>"
      ],
      "text/plain": [
       "  ephys_roi_result_id                                           name  \\\n",
       "0                None             Ndnf-IRES2-dgCre;Ai14-280612.06.02   \n",
       "1                None             Chrna2-Cre_OE25;Ai14(IVSCC)-312984   \n",
       "2                None  Sst-IRES-Cre;Ai140;Pvalb-2A-FlpO;Ai65F-303812   \n",
       "3                None                    Htr3a-Cre_NO152;Ai14-288785   \n",
       "4                None             Chrna2-Cre_OE25;Ai14(IVSCC)-312987   \n",
       "\n",
       "          id  \n",
       "0  556516441  \n",
       "1  581535046  \n",
       "2  571099320  \n",
       "3  561463630  \n",
       "4  581535066  "
      ]
     },
     "execution_count": 13,
     "metadata": {},
     "output_type": "execute_result"
    }
   ],
   "source": [
    "my_refinedquery = \"SELECT name, id, ephys_roi_result_id FROM specimens LIMIT 5\"\n",
    "refined_df = get_lims_dataframe(my_refinedquery)\n",
    "refined_df.tail()"
   ]
  },
  {
   "cell_type": "markdown",
   "metadata": {},
   "source": [
    "### Sweet. Now, are these all electrophysiology specimens? Why do some of them have odd names and no roi id? It's because specimens in LIMS are all specimens, not just electrophysiology specimens. So how do we narrow down to ephys specimens? That will require a table merge. It's kind of a weird one, though as we will have to merge the table with itself.  Whhaaaat? Yeah. So before we do that, let's work on a more 'traditional' merge.  Let's work with a couple of new tables, ephys_roi_results and users to find out which recordings a given rig user served as stage 1 reviewer for...\" "
   ]
  },
  {
   "cell_type": "code",
   "execution_count": 14,
   "metadata": {},
   "outputs": [
    {
     "data": {
      "text/html": [
       "<div>\n",
       "<table border=\"1\" class=\"dataframe\">\n",
       "  <thead>\n",
       "    <tr style=\"text-align: right;\">\n",
       "      <th></th>\n",
       "      <th>workflow_state</th>\n",
       "      <th>id</th>\n",
       "      <th>recording_date</th>\n",
       "      <th>stage1_reviewer_id</th>\n",
       "    </tr>\n",
       "  </thead>\n",
       "  <tbody>\n",
       "    <tr>\n",
       "      <th>0</th>\n",
       "      <td>manual_passed</td>\n",
       "      <td>591545243</td>\n",
       "      <td>2017-05-25 20:11:34</td>\n",
       "      <td>525757437.0</td>\n",
       "    </tr>\n",
       "    <tr>\n",
       "      <th>1</th>\n",
       "      <td>qc</td>\n",
       "      <td>306486658</td>\n",
       "      <td>NaT</td>\n",
       "      <td>NaN</td>\n",
       "    </tr>\n",
       "    <tr>\n",
       "      <th>2</th>\n",
       "      <td>manual_passed</td>\n",
       "      <td>605846847</td>\n",
       "      <td>2017-08-01 17:34:10</td>\n",
       "      <td>305127608.0</td>\n",
       "    </tr>\n",
       "    <tr>\n",
       "      <th>3</th>\n",
       "      <td>auto_failed</td>\n",
       "      <td>606152814</td>\n",
       "      <td>2017-08-02 21:08:18</td>\n",
       "      <td>NaN</td>\n",
       "    </tr>\n",
       "    <tr>\n",
       "      <th>4</th>\n",
       "      <td>qc</td>\n",
       "      <td>637823738</td>\n",
       "      <td>NaT</td>\n",
       "      <td>NaN</td>\n",
       "    </tr>\n",
       "  </tbody>\n",
       "</table>\n",
       "</div>"
      ],
      "text/plain": [
       "  workflow_state         id      recording_date  stage1_reviewer_id\n",
       "0  manual_passed  591545243 2017-05-25 20:11:34         525757437.0\n",
       "1             qc  306486658                 NaT                 NaN\n",
       "2  manual_passed  605846847 2017-08-01 17:34:10         305127608.0\n",
       "3    auto_failed  606152814 2017-08-02 21:08:18                 NaN\n",
       "4             qc  637823738                 NaT                 NaN"
      ]
     },
     "execution_count": 14,
     "metadata": {},
     "output_type": "execute_result"
    }
   ],
   "source": [
    "new_query = \"SELECT id, recording_date, stage1_reviewer_id, workflow_state FROM ephys_roi_results\"\n",
    "err_df = get_lims_dataframe(new_query)\n",
    "err_df.head()"
   ]
  },
  {
   "cell_type": "markdown",
   "metadata": {},
   "source": [
    "### Hmm seeing a lot of NaNs in stage1_reviewer_id? Remember that we only implemented this into LIMS this past fall. Can you figure out how to limit the results to only 2017? The syntax of the wrapper for PostGreSQL in Python is a little funny. Hint: the date may need to be passed in quotes."
   ]
  },
  {
   "cell_type": "code",
   "execution_count": 15,
   "metadata": {},
   "outputs": [
    {
     "data": {
      "text/html": [
       "<div>\n",
       "<table border=\"1\" class=\"dataframe\">\n",
       "  <thead>\n",
       "    <tr style=\"text-align: right;\">\n",
       "      <th></th>\n",
       "      <th>workflow_state</th>\n",
       "      <th>id</th>\n",
       "      <th>recording_date</th>\n",
       "      <th>stage1_reviewer_id</th>\n",
       "    </tr>\n",
       "  </thead>\n",
       "  <tbody>\n",
       "    <tr>\n",
       "      <th>0</th>\n",
       "      <td>manual_passed</td>\n",
       "      <td>591545243</td>\n",
       "      <td>2017-05-25 20:11:34</td>\n",
       "      <td>525757437.0</td>\n",
       "    </tr>\n",
       "    <tr>\n",
       "      <th>1</th>\n",
       "      <td>manual_passed</td>\n",
       "      <td>605846847</td>\n",
       "      <td>2017-08-01 17:34:10</td>\n",
       "      <td>305127608.0</td>\n",
       "    </tr>\n",
       "    <tr>\n",
       "      <th>2</th>\n",
       "      <td>auto_failed</td>\n",
       "      <td>606152814</td>\n",
       "      <td>2017-08-02 21:08:18</td>\n",
       "      <td>NaN</td>\n",
       "    </tr>\n",
       "    <tr>\n",
       "      <th>3</th>\n",
       "      <td>manual_passed</td>\n",
       "      <td>605877222</td>\n",
       "      <td>2017-08-01 19:10:24</td>\n",
       "      <td>305127608.0</td>\n",
       "    </tr>\n",
       "    <tr>\n",
       "      <th>4</th>\n",
       "      <td>auto_failed</td>\n",
       "      <td>605683751</td>\n",
       "      <td>2017-07-31 21:07:48</td>\n",
       "      <td>NaN</td>\n",
       "    </tr>\n",
       "  </tbody>\n",
       "</table>\n",
       "</div>"
      ],
      "text/plain": [
       "  workflow_state         id      recording_date  stage1_reviewer_id\n",
       "0  manual_passed  591545243 2017-05-25 20:11:34         525757437.0\n",
       "1  manual_passed  605846847 2017-08-01 17:34:10         305127608.0\n",
       "2    auto_failed  606152814 2017-08-02 21:08:18                 NaN\n",
       "3  manual_passed  605877222 2017-08-01 19:10:24         305127608.0\n",
       "4    auto_failed  605683751 2017-07-31 21:07:48                 NaN"
      ]
     },
     "execution_count": 15,
     "metadata": {},
     "output_type": "execute_result"
    }
   ],
   "source": [
    "new_query = \"SELECT id, recording_date, stage1_reviewer_id, workflow_state \\\n",
    "FROM ephys_roi_results WHERE recording_date > '2017-01-01'\"\n",
    "err_df = get_lims_dataframe(new_query)\n",
    "err_df.head()"
   ]
  },
  {
   "cell_type": "markdown",
   "metadata": {},
   "source": [
    "### Nice. There are still NaNs, but only where the workflow state was dodgy. So there is another table that could come in handy now, called users. What's in this table? "
   ]
  },
  {
   "cell_type": "code",
   "execution_count": 16,
   "metadata": {
    "collapsed": true
   },
   "outputs": [],
   "source": [
    "users_query = \"SELECT id, login FROM users\"\n",
    "users_df = get_lims_dataframe(users_query)"
   ]
  },
  {
   "cell_type": "markdown",
   "metadata": {},
   "source": [
    "### Let's find your user id given your Allen login."
   ]
  },
  {
   "cell_type": "code",
   "execution_count": 31,
   "metadata": {},
   "outputs": [
    {
     "data": {
      "text/html": [
       "<div>\n",
       "<table border=\"1\" class=\"dataframe\">\n",
       "  <thead>\n",
       "    <tr style=\"text-align: right;\">\n",
       "      <th></th>\n",
       "      <th>login</th>\n",
       "      <th>id</th>\n",
       "    </tr>\n",
       "  </thead>\n",
       "  <tbody>\n",
       "    <tr>\n",
       "      <th>0</th>\n",
       "      <td>aarono</td>\n",
       "      <td>112</td>\n",
       "    </tr>\n",
       "  </tbody>\n",
       "</table>\n",
       "</div>"
      ],
      "text/plain": [
       "    login   id\n",
       "0  aarono  112"
      ]
     },
     "execution_count": 31,
     "metadata": {},
     "output_type": "execute_result"
    }
   ],
   "source": [
    "users_df = get_lims_dataframe(\"SELECT id, login FROM users WHERE login = 'aarono'\")\n",
    "users_df.head()"
   ]
  },
  {
   "cell_type": "markdown",
   "metadata": {},
   "source": [
    "### Sweet! So all we need to do now is JOIN the users table on our ephys results table to figure out which samples you were a stage 1 reviewer for... JOINs can be a little complicated, so I recommend you tread carefully. Come ask if you need help or if your results do not make sense. The syntax is the following. You'll want to list all of the field names from all of the tables you want at the beginning in the SELECT statement, then your FROM statement and then any number of JOIN (table name) ON (column name). The filters (ie WHERE, LIMIT, ORDER BY) always go at the end. By default JOIN will be an INNER JOIN (think the overlapping section in a Venn diagram). This is also a good time to bring up aliasing. Aliasing is IMO always a good idea. Imagine you write the following: "
   ]
  },
  {
   "cell_type": "code",
   "execution_count": 32,
   "metadata": {},
   "outputs": [
    {
     "ename": "ProgrammingError",
     "evalue": "(u'ERROR', u'42702', u'column reference \"id\" is ambiguous', u'132', u'parse_relation.c', u'654', u'colNameToVar')",
     "output_type": "error",
     "traceback": [
      "\u001b[1;31m---------------------------------------------------------------------------\u001b[0m",
      "\u001b[1;31mProgrammingError\u001b[0m                          Traceback (most recent call last)",
      "\u001b[1;32m<ipython-input-32-626fe91a5d2b>\u001b[0m in \u001b[0;36m<module>\u001b[1;34m()\u001b[0m\n\u001b[0;32m      1\u001b[0m \u001b[0mjoin_query\u001b[0m \u001b[1;33m=\u001b[0m \u001b[1;34m\"SELECT id, recording_date, stage1_reviewer_id, workflow_state, id, login FROM ephys_roi_results JOIN users ON stage1_reviewer_id = id WHERE recording_date > '2017-01-01'\"\u001b[0m\u001b[1;33m\u001b[0m\u001b[0m\n\u001b[1;32m----> 2\u001b[1;33m \u001b[0mjoin_df\u001b[0m \u001b[1;33m=\u001b[0m \u001b[0mget_lims_dataframe\u001b[0m\u001b[1;33m(\u001b[0m\u001b[0mjoin_query\u001b[0m\u001b[1;33m)\u001b[0m\u001b[1;33m\u001b[0m\u001b[0m\n\u001b[0m",
      "\u001b[1;32m<ipython-input-7-96df63741ce0>\u001b[0m in \u001b[0;36mget_lims_dataframe\u001b[1;34m(query)\u001b[0m\n\u001b[0;32m      2\u001b[0m     \u001b[1;34m'''Return a dataframe with lims query'''\u001b[0m\u001b[1;33m\u001b[0m\u001b[0m\n\u001b[0;32m      3\u001b[0m     \u001b[1;32mimport\u001b[0m \u001b[0mpandas\u001b[0m \u001b[1;32mas\u001b[0m \u001b[0mpd\u001b[0m\u001b[1;33m\u001b[0m\u001b[0m\n\u001b[1;32m----> 4\u001b[1;33m     \u001b[0mresult\u001b[0m \u001b[1;33m=\u001b[0m \u001b[0mlimsquery\u001b[0m\u001b[1;33m(\u001b[0m\u001b[0mquery\u001b[0m\u001b[1;33m)\u001b[0m\u001b[1;33m\u001b[0m\u001b[0m\n\u001b[0m\u001b[0;32m      5\u001b[0m     \u001b[1;32mtry\u001b[0m\u001b[1;33m:\u001b[0m\u001b[1;33m\u001b[0m\u001b[0m\n\u001b[0;32m      6\u001b[0m         \u001b[0mdata_df\u001b[0m \u001b[1;33m=\u001b[0m \u001b[0mpd\u001b[0m\u001b[1;33m.\u001b[0m\u001b[0mDataFrame\u001b[0m\u001b[1;33m(\u001b[0m\u001b[0mdata\u001b[0m\u001b[1;33m=\u001b[0m\u001b[0mresult\u001b[0m\u001b[1;33m,\u001b[0m \u001b[0mcolumns\u001b[0m\u001b[1;33m=\u001b[0m\u001b[0mresult\u001b[0m\u001b[1;33m[\u001b[0m\u001b[1;36m0\u001b[0m\u001b[1;33m]\u001b[0m\u001b[1;33m.\u001b[0m\u001b[0mkeys\u001b[0m\u001b[1;33m(\u001b[0m\u001b[1;33m)\u001b[0m\u001b[1;33m)\u001b[0m\u001b[1;33m\u001b[0m\u001b[0m\n",
      "\u001b[1;32m<ipython-input-1-812ad8475914>\u001b[0m in \u001b[0;36mlimsquery\u001b[1;34m(query, user, host, database, password, port)\u001b[0m\n\u001b[0;32m     14\u001b[0m     \u001b[0mconn\u001b[0m\u001b[1;33m,\u001b[0m \u001b[0mcursor\u001b[0m \u001b[1;33m=\u001b[0m \u001b[0m_connect\u001b[0m\u001b[1;33m(\u001b[0m\u001b[0muser\u001b[0m\u001b[1;33m,\u001b[0m \u001b[0mhost\u001b[0m\u001b[1;33m,\u001b[0m \u001b[0mdatabase\u001b[0m\u001b[1;33m,\u001b[0m \u001b[0mpassword\u001b[0m\u001b[1;33m,\u001b[0m \u001b[0mport\u001b[0m\u001b[1;33m)\u001b[0m\u001b[1;33m\u001b[0m\u001b[0m\n\u001b[0;32m     15\u001b[0m     \u001b[1;32mtry\u001b[0m\u001b[1;33m:\u001b[0m\u001b[1;33m\u001b[0m\u001b[0m\n\u001b[1;32m---> 16\u001b[1;33m         \u001b[0mresults\u001b[0m \u001b[1;33m=\u001b[0m \u001b[0m_select\u001b[0m\u001b[1;33m(\u001b[0m\u001b[0mcursor\u001b[0m\u001b[1;33m,\u001b[0m \u001b[0mquery\u001b[0m\u001b[1;33m)\u001b[0m\u001b[1;33m\u001b[0m\u001b[0m\n\u001b[0m\u001b[0;32m     17\u001b[0m     \u001b[1;32mfinally\u001b[0m\u001b[1;33m:\u001b[0m\u001b[1;33m\u001b[0m\u001b[0m\n\u001b[0;32m     18\u001b[0m         \u001b[0mcursor\u001b[0m\u001b[1;33m.\u001b[0m\u001b[0mclose\u001b[0m\u001b[1;33m(\u001b[0m\u001b[1;33m)\u001b[0m\u001b[1;33m\u001b[0m\u001b[0m\n",
      "\u001b[1;32m<ipython-input-1-812ad8475914>\u001b[0m in \u001b[0;36m_select\u001b[1;34m(cursor, query)\u001b[0m\n\u001b[0;32m      6\u001b[0m \u001b[1;33m\u001b[0m\u001b[0m\n\u001b[0;32m      7\u001b[0m \u001b[1;32mdef\u001b[0m \u001b[0m_select\u001b[0m\u001b[1;33m(\u001b[0m\u001b[0mcursor\u001b[0m\u001b[1;33m,\u001b[0m \u001b[0mquery\u001b[0m\u001b[1;33m)\u001b[0m\u001b[1;33m:\u001b[0m\u001b[1;33m\u001b[0m\u001b[0m\n\u001b[1;32m----> 8\u001b[1;33m     \u001b[0mcursor\u001b[0m\u001b[1;33m.\u001b[0m\u001b[0mexecute\u001b[0m\u001b[1;33m(\u001b[0m\u001b[0mquery\u001b[0m\u001b[1;33m)\u001b[0m\u001b[1;33m\u001b[0m\u001b[0m\n\u001b[0m\u001b[0;32m      9\u001b[0m     \u001b[0mcolumns\u001b[0m \u001b[1;33m=\u001b[0m \u001b[1;33m[\u001b[0m \u001b[0md\u001b[0m\u001b[1;33m[\u001b[0m\u001b[1;36m0\u001b[0m\u001b[1;33m]\u001b[0m \u001b[1;32mfor\u001b[0m \u001b[0md\u001b[0m \u001b[1;32min\u001b[0m \u001b[0mcursor\u001b[0m\u001b[1;33m.\u001b[0m\u001b[0mdescription\u001b[0m \u001b[1;33m]\u001b[0m\u001b[1;33m\u001b[0m\u001b[0m\n\u001b[0;32m     10\u001b[0m     \u001b[1;32mreturn\u001b[0m \u001b[1;33m[\u001b[0m \u001b[0mdict\u001b[0m\u001b[1;33m(\u001b[0m\u001b[0mzip\u001b[0m\u001b[1;33m(\u001b[0m\u001b[0mcolumns\u001b[0m\u001b[1;33m,\u001b[0m \u001b[0mc\u001b[0m\u001b[1;33m)\u001b[0m\u001b[1;33m)\u001b[0m \u001b[1;32mfor\u001b[0m \u001b[0mc\u001b[0m \u001b[1;32min\u001b[0m \u001b[0mcursor\u001b[0m\u001b[1;33m.\u001b[0m\u001b[0mfetchall\u001b[0m\u001b[1;33m(\u001b[0m\u001b[1;33m)\u001b[0m \u001b[1;33m]\u001b[0m\u001b[1;33m\u001b[0m\u001b[0m\n",
      "\u001b[1;32mC:\\Users\\aarono\\AppData\\Local\\Continuum\\anaconda2\\lib\\site-packages\\pg8000\\core.pyc\u001b[0m in \u001b[0;36mexecute\u001b[1;34m(self, operation, args, stream)\u001b[0m\n\u001b[0;32m    850\u001b[0m             \u001b[1;32mif\u001b[0m \u001b[1;32mnot\u001b[0m \u001b[0mself\u001b[0m\u001b[1;33m.\u001b[0m\u001b[0m_c\u001b[0m\u001b[1;33m.\u001b[0m\u001b[0min_transaction\u001b[0m \u001b[1;32mand\u001b[0m \u001b[1;32mnot\u001b[0m \u001b[0mself\u001b[0m\u001b[1;33m.\u001b[0m\u001b[0m_c\u001b[0m\u001b[1;33m.\u001b[0m\u001b[0mautocommit\u001b[0m\u001b[1;33m:\u001b[0m\u001b[1;33m\u001b[0m\u001b[0m\n\u001b[0;32m    851\u001b[0m                 \u001b[0mself\u001b[0m\u001b[1;33m.\u001b[0m\u001b[0m_c\u001b[0m\u001b[1;33m.\u001b[0m\u001b[0mexecute\u001b[0m\u001b[1;33m(\u001b[0m\u001b[0mself\u001b[0m\u001b[1;33m,\u001b[0m \u001b[1;34m\"begin transaction\"\u001b[0m\u001b[1;33m,\u001b[0m \u001b[0mNone\u001b[0m\u001b[1;33m)\u001b[0m\u001b[1;33m\u001b[0m\u001b[0m\n\u001b[1;32m--> 852\u001b[1;33m             \u001b[0mself\u001b[0m\u001b[1;33m.\u001b[0m\u001b[0m_c\u001b[0m\u001b[1;33m.\u001b[0m\u001b[0mexecute\u001b[0m\u001b[1;33m(\u001b[0m\u001b[0mself\u001b[0m\u001b[1;33m,\u001b[0m \u001b[0moperation\u001b[0m\u001b[1;33m,\u001b[0m \u001b[0margs\u001b[0m\u001b[1;33m)\u001b[0m\u001b[1;33m\u001b[0m\u001b[0m\n\u001b[0m\u001b[0;32m    853\u001b[0m         \u001b[1;32mexcept\u001b[0m \u001b[0mAttributeError\u001b[0m \u001b[1;32mas\u001b[0m \u001b[0me\u001b[0m\u001b[1;33m:\u001b[0m\u001b[1;33m\u001b[0m\u001b[0m\n\u001b[0;32m    854\u001b[0m             \u001b[1;32mif\u001b[0m \u001b[0mself\u001b[0m\u001b[1;33m.\u001b[0m\u001b[0m_c\u001b[0m \u001b[1;32mis\u001b[0m \u001b[0mNone\u001b[0m\u001b[1;33m:\u001b[0m\u001b[1;33m\u001b[0m\u001b[0m\n",
      "\u001b[1;32mC:\\Users\\aarono\\AppData\\Local\\Continuum\\anaconda2\\lib\\site-packages\\pg8000\\core.pyc\u001b[0m in \u001b[0;36mexecute\u001b[1;34m(self, cursor, operation, vals)\u001b[0m\n\u001b[0;32m   1739\u001b[0m                     \u001b[1;32mraise\u001b[0m \u001b[0me\u001b[0m\u001b[1;33m\u001b[0m\u001b[0m\n\u001b[0;32m   1740\u001b[0m \u001b[1;33m\u001b[0m\u001b[0m\n\u001b[1;32m-> 1741\u001b[1;33m             \u001b[0mself\u001b[0m\u001b[1;33m.\u001b[0m\u001b[0mhandle_messages\u001b[0m\u001b[1;33m(\u001b[0m\u001b[0mcursor\u001b[0m\u001b[1;33m)\u001b[0m\u001b[1;33m\u001b[0m\u001b[0m\n\u001b[0m\u001b[0;32m   1742\u001b[0m \u001b[1;33m\u001b[0m\u001b[0m\n\u001b[0;32m   1743\u001b[0m             \u001b[1;31m# We've got row_desc that allows us to identify what we're\u001b[0m\u001b[1;33m\u001b[0m\u001b[1;33m\u001b[0m\u001b[0m\n",
      "\u001b[1;32mC:\\Users\\aarono\\AppData\\Local\\Continuum\\anaconda2\\lib\\site-packages\\pg8000\\core.pyc\u001b[0m in \u001b[0;36mhandle_messages\u001b[1;34m(self, cursor)\u001b[0m\n\u001b[0;32m   1877\u001b[0m \u001b[1;33m\u001b[0m\u001b[0m\n\u001b[0;32m   1878\u001b[0m         \u001b[1;32mif\u001b[0m \u001b[0mself\u001b[0m\u001b[1;33m.\u001b[0m\u001b[0merror\u001b[0m \u001b[1;32mis\u001b[0m \u001b[1;32mnot\u001b[0m \u001b[0mNone\u001b[0m\u001b[1;33m:\u001b[0m\u001b[1;33m\u001b[0m\u001b[0m\n\u001b[1;32m-> 1879\u001b[1;33m             \u001b[1;32mraise\u001b[0m \u001b[0mself\u001b[0m\u001b[1;33m.\u001b[0m\u001b[0merror\u001b[0m\u001b[1;33m\u001b[0m\u001b[0m\n\u001b[0m\u001b[0;32m   1880\u001b[0m \u001b[1;33m\u001b[0m\u001b[0m\n\u001b[0;32m   1881\u001b[0m     \u001b[1;31m# Byte1('C') - Identifies the message as a close command.\u001b[0m\u001b[1;33m\u001b[0m\u001b[1;33m\u001b[0m\u001b[0m\n",
      "\u001b[1;31mProgrammingError\u001b[0m: (u'ERROR', u'42702', u'column reference \"id\" is ambiguous', u'132', u'parse_relation.c', u'654', u'colNameToVar')"
     ]
    }
   ],
   "source": [
    "join_query = \"SELECT id, recording_date, stage1_reviewer_id, workflow_state, id, login \\\n",
    "FROM ephys_roi_results \\\n",
    "JOIN users ON stage1_reviewer_id = id \\\n",
    "WHERE recording_date > '2017-01-01'\"\n",
    "join_df = get_lims_dataframe(join_query)"
   ]
  },
  {
   "cell_type": "markdown",
   "metadata": {},
   "source": [
    "###  Well, that was an epic fail. Both ephys_roi_results and users have an id column so Python is not happy. In fact if you look at the bottom of the traceback the error message is : 'column reference \"id\" is ambiguous'. The proper way to do this is to explicitly call the field name from the table, like so:\n"
   ]
  },
  {
   "cell_type": "code",
   "execution_count": 33,
   "metadata": {},
   "outputs": [
    {
     "data": {
      "text/html": [
       "<div>\n",
       "<table border=\"1\" class=\"dataframe\">\n",
       "  <thead>\n",
       "    <tr style=\"text-align: right;\">\n",
       "      <th></th>\n",
       "      <th>login</th>\n",
       "      <th>workflow_state</th>\n",
       "      <th>id</th>\n",
       "      <th>recording_date</th>\n",
       "      <th>stage1_reviewer_id</th>\n",
       "    </tr>\n",
       "  </thead>\n",
       "  <tbody>\n",
       "    <tr>\n",
       "      <th>1359</th>\n",
       "      <td>samj</td>\n",
       "      <td>manual_passed</td>\n",
       "      <td>525757437</td>\n",
       "      <td>2017-06-21 00:24:10</td>\n",
       "      <td>525757437</td>\n",
       "    </tr>\n",
       "    <tr>\n",
       "      <th>1360</th>\n",
       "      <td>samj</td>\n",
       "      <td>manual_passed</td>\n",
       "      <td>525757437</td>\n",
       "      <td>2017-06-16 03:54:49</td>\n",
       "      <td>525757437</td>\n",
       "    </tr>\n",
       "    <tr>\n",
       "      <th>1361</th>\n",
       "      <td>samj</td>\n",
       "      <td>manual_passed</td>\n",
       "      <td>525757437</td>\n",
       "      <td>2017-06-16 01:52:53</td>\n",
       "      <td>525757437</td>\n",
       "    </tr>\n",
       "    <tr>\n",
       "      <th>1362</th>\n",
       "      <td>samj</td>\n",
       "      <td>manual_passed</td>\n",
       "      <td>525757437</td>\n",
       "      <td>2017-06-14 05:37:03</td>\n",
       "      <td>525757437</td>\n",
       "    </tr>\n",
       "    <tr>\n",
       "      <th>1363</th>\n",
       "      <td>samj</td>\n",
       "      <td>manual_passed</td>\n",
       "      <td>525757437</td>\n",
       "      <td>2017-06-13 21:26:49</td>\n",
       "      <td>525757437</td>\n",
       "    </tr>\n",
       "  </tbody>\n",
       "</table>\n",
       "</div>"
      ],
      "text/plain": [
       "     login workflow_state         id      recording_date  stage1_reviewer_id\n",
       "1359  samj  manual_passed  525757437 2017-06-21 00:24:10           525757437\n",
       "1360  samj  manual_passed  525757437 2017-06-16 03:54:49           525757437\n",
       "1361  samj  manual_passed  525757437 2017-06-16 01:52:53           525757437\n",
       "1362  samj  manual_passed  525757437 2017-06-14 05:37:03           525757437\n",
       "1363  samj  manual_passed  525757437 2017-06-13 21:26:49           525757437"
      ]
     },
     "execution_count": 33,
     "metadata": {},
     "output_type": "execute_result"
    }
   ],
   "source": [
    "join_query = \"SELECT ephys_roi_results.id, ephys_roi_results.recording_date, ephys_roi_results.stage1_reviewer_id, \\\n",
    "ephys_roi_results.workflow_state, users.id, users.login \\\n",
    "FROM ephys_roi_results \\\n",
    "JOIN users ON ephys_roi_results.stage1_reviewer_id = users.id \\\n",
    "WHERE recording_date > '2017-01-01'\"\n",
    "join_df = get_lims_dataframe(join_query)\n",
    "join_df.tail()"
   ]
  },
  {
   "cell_type": "markdown",
   "metadata": {},
   "source": [
    "### That works! But it's super clunky. That's where aliases comes in handy. \"'Alias' was a show about a spy....\""
   ]
  },
  {
   "cell_type": "code",
   "execution_count": 35,
   "metadata": {},
   "outputs": [
    {
     "data": {
      "text/html": [
       "<div>\n",
       "<table border=\"1\" class=\"dataframe\">\n",
       "  <thead>\n",
       "    <tr style=\"text-align: right;\">\n",
       "      <th></th>\n",
       "      <th>login</th>\n",
       "      <th>workflow_state</th>\n",
       "      <th>id</th>\n",
       "      <th>recording_date</th>\n",
       "      <th>stage1_reviewer_id</th>\n",
       "    </tr>\n",
       "  </thead>\n",
       "  <tbody>\n",
       "    <tr>\n",
       "      <th>1359</th>\n",
       "      <td>samj</td>\n",
       "      <td>manual_passed</td>\n",
       "      <td>525757437</td>\n",
       "      <td>2017-06-21 00:24:10</td>\n",
       "      <td>525757437</td>\n",
       "    </tr>\n",
       "    <tr>\n",
       "      <th>1360</th>\n",
       "      <td>samj</td>\n",
       "      <td>manual_passed</td>\n",
       "      <td>525757437</td>\n",
       "      <td>2017-06-16 03:54:49</td>\n",
       "      <td>525757437</td>\n",
       "    </tr>\n",
       "    <tr>\n",
       "      <th>1361</th>\n",
       "      <td>samj</td>\n",
       "      <td>manual_passed</td>\n",
       "      <td>525757437</td>\n",
       "      <td>2017-06-16 01:52:53</td>\n",
       "      <td>525757437</td>\n",
       "    </tr>\n",
       "    <tr>\n",
       "      <th>1362</th>\n",
       "      <td>samj</td>\n",
       "      <td>manual_passed</td>\n",
       "      <td>525757437</td>\n",
       "      <td>2017-06-14 05:37:03</td>\n",
       "      <td>525757437</td>\n",
       "    </tr>\n",
       "    <tr>\n",
       "      <th>1363</th>\n",
       "      <td>samj</td>\n",
       "      <td>manual_passed</td>\n",
       "      <td>525757437</td>\n",
       "      <td>2017-06-13 21:26:49</td>\n",
       "      <td>525757437</td>\n",
       "    </tr>\n",
       "  </tbody>\n",
       "</table>\n",
       "</div>"
      ],
      "text/plain": [
       "     login workflow_state         id      recording_date  stage1_reviewer_id\n",
       "1359  samj  manual_passed  525757437 2017-06-21 00:24:10           525757437\n",
       "1360  samj  manual_passed  525757437 2017-06-16 03:54:49           525757437\n",
       "1361  samj  manual_passed  525757437 2017-06-16 01:52:53           525757437\n",
       "1362  samj  manual_passed  525757437 2017-06-14 05:37:03           525757437\n",
       "1363  samj  manual_passed  525757437 2017-06-13 21:26:49           525757437"
      ]
     },
     "execution_count": 35,
     "metadata": {},
     "output_type": "execute_result"
    }
   ],
   "source": [
    "join_query = \"SELECT err.id, err.recording_date, err.stage1_reviewer_id, \\\n",
    "err.workflow_state, users.id, users.login \\\n",
    "FROM ephys_roi_results err \\\n",
    "JOIN users ON err.stage1_reviewer_id = users.id \\\n",
    "WHERE recording_date > '2017-01-01' \"\n",
    "join_df = get_lims_dataframe(join_query)\n",
    "join_df.tail()"
   ]
  },
  {
   "cell_type": "markdown",
   "metadata": {},
   "source": [
    "### You can also alias the columns:"
   ]
  },
  {
   "cell_type": "code",
   "execution_count": 210,
   "metadata": {},
   "outputs": [
    {
     "data": {
      "text/html": [
       "<div>\n",
       "<table border=\"1\" class=\"dataframe\">\n",
       "  <thead>\n",
       "    <tr style=\"text-align: right;\">\n",
       "      <th></th>\n",
       "      <th>username</th>\n",
       "      <th>qcstate</th>\n",
       "      <th>roi_id</th>\n",
       "      <th>st1r</th>\n",
       "      <th>date</th>\n",
       "      <th>id</th>\n",
       "    </tr>\n",
       "  </thead>\n",
       "  <tbody>\n",
       "    <tr>\n",
       "      <th>705</th>\n",
       "      <td>samj</td>\n",
       "      <td>manual_passed</td>\n",
       "      <td>562630185</td>\n",
       "      <td>525757437</td>\n",
       "      <td>2017-01-06 09:07:31</td>\n",
       "      <td>525757437</td>\n",
       "    </tr>\n",
       "    <tr>\n",
       "      <th>706</th>\n",
       "      <td>samj</td>\n",
       "      <td>manual_failed</td>\n",
       "      <td>562438408</td>\n",
       "      <td>525757437</td>\n",
       "      <td>2017-01-04 15:42:32</td>\n",
       "      <td>525757437</td>\n",
       "    </tr>\n",
       "    <tr>\n",
       "      <th>707</th>\n",
       "      <td>samj</td>\n",
       "      <td>manual_passed</td>\n",
       "      <td>562540356</td>\n",
       "      <td>525757437</td>\n",
       "      <td>2017-01-05 14:39:22</td>\n",
       "      <td>525757437</td>\n",
       "    </tr>\n",
       "    <tr>\n",
       "      <th>708</th>\n",
       "      <td>samj</td>\n",
       "      <td>manual_passed</td>\n",
       "      <td>562534360</td>\n",
       "      <td>525757437</td>\n",
       "      <td>2017-01-05 13:28:19</td>\n",
       "      <td>525757437</td>\n",
       "    </tr>\n",
       "    <tr>\n",
       "      <th>709</th>\n",
       "      <td>samj</td>\n",
       "      <td>manual_passed</td>\n",
       "      <td>562381380</td>\n",
       "      <td>525757437</td>\n",
       "      <td>2017-01-04 10:17:49</td>\n",
       "      <td>525757437</td>\n",
       "    </tr>\n",
       "  </tbody>\n",
       "</table>\n",
       "</div>"
      ],
      "text/plain": [
       "    username        qcstate     roi_id       st1r                date  \\\n",
       "705     samj  manual_passed  562630185  525757437 2017-01-06 09:07:31   \n",
       "706     samj  manual_failed  562438408  525757437 2017-01-04 15:42:32   \n",
       "707     samj  manual_passed  562540356  525757437 2017-01-05 14:39:22   \n",
       "708     samj  manual_passed  562534360  525757437 2017-01-05 13:28:19   \n",
       "709     samj  manual_passed  562381380  525757437 2017-01-04 10:17:49   \n",
       "\n",
       "            id  \n",
       "705  525757437  \n",
       "706  525757437  \n",
       "707  525757437  \n",
       "708  525757437  \n",
       "709  525757437  "
      ]
     },
     "execution_count": 210,
     "metadata": {},
     "output_type": "execute_result"
    }
   ],
   "source": [
    "join_query = \"SELECT err.id AS roi_id, err.recording_date AS date, err.stage1_reviewer_id AS st1r, \\\n",
    "err.workflow_state AS qcstate, users.id, users.login AS username \\\n",
    "FROM ephys_roi_results err \\\n",
    "JOIN users ON err.stage1_reviewer_id = users.id \\\n",
    "WHERE recording_date > '2017-01-01'\"\n",
    "join_df = get_lims_dataframe(join_query)\n",
    "join_df.tail()"
   ]
  },
  {
   "cell_type": "markdown",
   "metadata": {},
   "source": [
    "### OK, this is great, but those roi_ids are so unsatisfying. Wouldn't it be awesome if we could actually recover the names of those specimens? Let's jump back to our original task.The weird thing here is that we're joining one column of the specimens table on another column of the specimens table. I've aliased each 'instance' of the specimens table as cell or slice, so hopefully this makes sense. Finally we can join the result on the ephys roi results table."
   ]
  },
  {
   "cell_type": "code",
   "execution_count": 36,
   "metadata": {},
   "outputs": [
    {
     "data": {
      "text/html": [
       "<div>\n",
       "<table border=\"1\" class=\"dataframe\">\n",
       "  <thead>\n",
       "    <tr style=\"text-align: right;\">\n",
       "      <th></th>\n",
       "      <th>date</th>\n",
       "      <th>qcstate</th>\n",
       "      <th>cell_id</th>\n",
       "      <th>roi_id</th>\n",
       "      <th>cell_name</th>\n",
       "    </tr>\n",
       "  </thead>\n",
       "  <tbody>\n",
       "    <tr>\n",
       "      <th>0</th>\n",
       "      <td>2015-01-05 11:07:44</td>\n",
       "      <td>manual_passed</td>\n",
       "      <td>318331264</td>\n",
       "      <td>318331262</td>\n",
       "      <td>Pvalb-IRES-Cre;Ai14-169125.02.02.01</td>\n",
       "    </tr>\n",
       "    <tr>\n",
       "      <th>1</th>\n",
       "      <td>2015-01-05 11:12:00</td>\n",
       "      <td>manual_passed</td>\n",
       "      <td>318331342</td>\n",
       "      <td>318331340</td>\n",
       "      <td>Pvalb-IRES-Cre;Ai14-169125.03.01.01</td>\n",
       "    </tr>\n",
       "    <tr>\n",
       "      <th>2</th>\n",
       "      <td>2015-01-05 11:33:20</td>\n",
       "      <td>manual_failed</td>\n",
       "      <td>318331484</td>\n",
       "      <td>318331482</td>\n",
       "      <td>Pvalb-IRES-Cre;Ai14-169125.03.02.01</td>\n",
       "    </tr>\n",
       "    <tr>\n",
       "      <th>3</th>\n",
       "      <td>2015-01-05 13:15:44</td>\n",
       "      <td>manual_failed</td>\n",
       "      <td>318346915</td>\n",
       "      <td>318346913</td>\n",
       "      <td>Pvalb-IRES-Cre;Ai14-169125.04.02.01</td>\n",
       "    </tr>\n",
       "    <tr>\n",
       "      <th>4</th>\n",
       "      <td>2015-01-05 13:49:52</td>\n",
       "      <td>manual_failed</td>\n",
       "      <td>318354031</td>\n",
       "      <td>318354029</td>\n",
       "      <td>Pvalb-IRES-Cre;Ai14-169128.03.02.01</td>\n",
       "    </tr>\n",
       "  </tbody>\n",
       "</table>\n",
       "</div>"
      ],
      "text/plain": [
       "                 date        qcstate    cell_id     roi_id  \\\n",
       "0 2015-01-05 11:07:44  manual_passed  318331264  318331262   \n",
       "1 2015-01-05 11:12:00  manual_passed  318331342  318331340   \n",
       "2 2015-01-05 11:33:20  manual_failed  318331484  318331482   \n",
       "3 2015-01-05 13:15:44  manual_failed  318346915  318346913   \n",
       "4 2015-01-05 13:49:52  manual_failed  318354031  318354029   \n",
       "\n",
       "                             cell_name  \n",
       "0  Pvalb-IRES-Cre;Ai14-169125.02.02.01  \n",
       "1  Pvalb-IRES-Cre;Ai14-169125.03.01.01  \n",
       "2  Pvalb-IRES-Cre;Ai14-169125.03.02.01  \n",
       "3  Pvalb-IRES-Cre;Ai14-169125.04.02.01  \n",
       "4  Pvalb-IRES-Cre;Ai14-169128.03.02.01  "
      ]
     },
     "execution_count": 36,
     "metadata": {},
     "output_type": "execute_result"
    }
   ],
   "source": [
    "cell_query = \"SELECT cell.id AS cell_id, cell.name AS cell_name, err.id AS roi_id, err.recording_date AS date, \\\n",
    "err.workflow_state as qcstate \\\n",
    "FROM specimens cell \\\n",
    "JOIN specimens slice ON cell.parent_id = slice.id \\\n",
    "JOIN ephys_roi_results err ON err.id = cell.ephys_roi_result_id \\\n",
    "WHERE err.recording_date > '2015-01-01'\"\n",
    "cell_df = get_lims_dataframe(cell_query)\n",
    "cell_df.head()\n"
   ]
  },
  {
   "cell_type": "markdown",
   "metadata": {},
   "source": [
    "### Question: Now can you put all this together, and figure out which cell names you were a stage 1 reviewer for...?"
   ]
  },
  {
   "cell_type": "code",
   "execution_count": 43,
   "metadata": {},
   "outputs": [
    {
     "data": {
      "text/html": [
       "<div>\n",
       "<table border=\"1\" class=\"dataframe\">\n",
       "  <thead>\n",
       "    <tr style=\"text-align: right;\">\n",
       "      <th></th>\n",
       "      <th>qcstate</th>\n",
       "      <th>username</th>\n",
       "      <th>cell_id</th>\n",
       "      <th>roi_id</th>\n",
       "      <th>st1r</th>\n",
       "      <th>date</th>\n",
       "      <th>id</th>\n",
       "      <th>cell_name</th>\n",
       "    </tr>\n",
       "  </thead>\n",
       "  <tbody>\n",
       "    <tr>\n",
       "      <th>0</th>\n",
       "      <td>manual_passed</td>\n",
       "      <td>aarono</td>\n",
       "      <td>569317896</td>\n",
       "      <td>569317825</td>\n",
       "      <td>112</td>\n",
       "      <td>2017-02-07 16:09:40</td>\n",
       "      <td>112</td>\n",
       "      <td>Htr3a-Cre_NO152;Ai14-297482.03.02.02</td>\n",
       "    </tr>\n",
       "    <tr>\n",
       "      <th>1</th>\n",
       "      <td>manual_passed</td>\n",
       "      <td>aarono</td>\n",
       "      <td>569651358</td>\n",
       "      <td>569651339</td>\n",
       "      <td>112</td>\n",
       "      <td>2017-02-10 14:34:22</td>\n",
       "      <td>112</td>\n",
       "      <td>Chrna2-Cre_OE25;Ai14(IVSCC)-298553.04.02.01</td>\n",
       "    </tr>\n",
       "    <tr>\n",
       "      <th>2</th>\n",
       "      <td>manual_passed</td>\n",
       "      <td>aarono</td>\n",
       "      <td>569645374</td>\n",
       "      <td>569645355</td>\n",
       "      <td>112</td>\n",
       "      <td>2017-02-10 13:40:34</td>\n",
       "      <td>112</td>\n",
       "      <td>Nr5a1-Cre;Ai14-296979.10.01.01</td>\n",
       "    </tr>\n",
       "    <tr>\n",
       "      <th>3</th>\n",
       "      <td>manual_passed</td>\n",
       "      <td>aarono</td>\n",
       "      <td>569251652</td>\n",
       "      <td>569251636</td>\n",
       "      <td>112</td>\n",
       "      <td>2017-02-07 09:17:57</td>\n",
       "      <td>112</td>\n",
       "      <td>Ndnf-IRES2-dgCre;Ai14-298342.03.01.01</td>\n",
       "    </tr>\n",
       "    <tr>\n",
       "      <th>4</th>\n",
       "      <td>manual_passed</td>\n",
       "      <td>aarono</td>\n",
       "      <td>568951556</td>\n",
       "      <td>568950778</td>\n",
       "      <td>112</td>\n",
       "      <td>2017-02-06 11:09:20</td>\n",
       "      <td>112</td>\n",
       "      <td>Vipr2-IRES2-Cre;Ai14-297026.04.02.01</td>\n",
       "    </tr>\n",
       "  </tbody>\n",
       "</table>\n",
       "</div>"
      ],
      "text/plain": [
       "         qcstate username    cell_id     roi_id  st1r                date  \\\n",
       "0  manual_passed   aarono  569317896  569317825   112 2017-02-07 16:09:40   \n",
       "1  manual_passed   aarono  569651358  569651339   112 2017-02-10 14:34:22   \n",
       "2  manual_passed   aarono  569645374  569645355   112 2017-02-10 13:40:34   \n",
       "3  manual_passed   aarono  569251652  569251636   112 2017-02-07 09:17:57   \n",
       "4  manual_passed   aarono  568951556  568950778   112 2017-02-06 11:09:20   \n",
       "\n",
       "    id                                    cell_name  \n",
       "0  112         Htr3a-Cre_NO152;Ai14-297482.03.02.02  \n",
       "1  112  Chrna2-Cre_OE25;Ai14(IVSCC)-298553.04.02.01  \n",
       "2  112               Nr5a1-Cre;Ai14-296979.10.01.01  \n",
       "3  112        Ndnf-IRES2-dgCre;Ai14-298342.03.01.01  \n",
       "4  112         Vipr2-IRES2-Cre;Ai14-297026.04.02.01  "
      ]
     },
     "execution_count": 43,
     "metadata": {},
     "output_type": "execute_result"
    }
   ],
   "source": [
    "cell_query = \"SELECT cell.id AS cell_id, cell.name AS cell_name, err.id AS roi_id, err.recording_date AS date, \\\n",
    "err.workflow_state as qcstate,  err.stage1_reviewer_id AS st1r, users.id, users.login AS username \\\n",
    "FROM specimens cell \\\n",
    "JOIN specimens slice ON cell.parent_id = slice.id \\\n",
    "JOIN ephys_roi_results err ON err.id = cell.ephys_roi_result_id \\\n",
    "JOIN users ON err.stage1_reviewer_id = users.id \\\n",
    "WHERE err.recording_date > '2017-01-01' and users.login = 'aarono'\"\n",
    "cell_df = get_lims_dataframe(cell_query)\n",
    "cell_df.head()\n"
   ]
  },
  {
   "cell_type": "markdown",
   "metadata": {},
   "source": [
    "### That concludes this little notebook. I hope it was useful. If you want to learn/practice more SQL syntax without the context of the Python wrapper for our PostgreSQL LIMS database, I recommend the following resources:\n",
    "https://www.w3schools.com/sql/\n",
    "https://community.modeanalytics.com/sql/tutorial/introduction-to-sql/"
   ]
  },
  {
   "cell_type": "code",
   "execution_count": 54,
   "metadata": {},
   "outputs": [
    {
     "data": {
      "text/html": [
       "<div>\n",
       "<table border=\"1\" class=\"dataframe\">\n",
       "  <thead>\n",
       "    <tr style=\"text-align: right;\">\n",
       "      <th></th>\n",
       "      <th>qcstate</th>\n",
       "      <th>username</th>\n",
       "      <th>cell_id</th>\n",
       "      <th>roi_id</th>\n",
       "      <th>st1r</th>\n",
       "      <th>date</th>\n",
       "      <th>path</th>\n",
       "      <th>id</th>\n",
       "      <th>cell_name</th>\n",
       "    </tr>\n",
       "  </thead>\n",
       "  <tbody>\n",
       "    <tr>\n",
       "      <th>0</th>\n",
       "      <td>manual_passed</td>\n",
       "      <td>aarono</td>\n",
       "      <td>569317896</td>\n",
       "      <td>569317825</td>\n",
       "      <td>112</td>\n",
       "      <td>2017-02-07 16:09:40</td>\n",
       "      <td>/allen/programs/celltypes/production/mousecell...</td>\n",
       "      <td>112</td>\n",
       "      <td>Htr3a-Cre_NO152;Ai14-297482.03.02.02</td>\n",
       "    </tr>\n",
       "    <tr>\n",
       "      <th>1</th>\n",
       "      <td>manual_passed</td>\n",
       "      <td>aarono</td>\n",
       "      <td>569651358</td>\n",
       "      <td>569651339</td>\n",
       "      <td>112</td>\n",
       "      <td>2017-02-10 14:34:22</td>\n",
       "      <td>/allen/programs/celltypes/production/mousecell...</td>\n",
       "      <td>112</td>\n",
       "      <td>Chrna2-Cre_OE25;Ai14(IVSCC)-298553.04.02.01</td>\n",
       "    </tr>\n",
       "    <tr>\n",
       "      <th>2</th>\n",
       "      <td>manual_passed</td>\n",
       "      <td>aarono</td>\n",
       "      <td>569645374</td>\n",
       "      <td>569645355</td>\n",
       "      <td>112</td>\n",
       "      <td>2017-02-10 13:40:34</td>\n",
       "      <td>/allen/programs/celltypes/production/mousecell...</td>\n",
       "      <td>112</td>\n",
       "      <td>Nr5a1-Cre;Ai14-296979.10.01.01</td>\n",
       "    </tr>\n",
       "    <tr>\n",
       "      <th>3</th>\n",
       "      <td>manual_passed</td>\n",
       "      <td>aarono</td>\n",
       "      <td>569251652</td>\n",
       "      <td>569251636</td>\n",
       "      <td>112</td>\n",
       "      <td>2017-02-07 09:17:57</td>\n",
       "      <td>/allen/programs/celltypes/production/mousecell...</td>\n",
       "      <td>112</td>\n",
       "      <td>Ndnf-IRES2-dgCre;Ai14-298342.03.01.01</td>\n",
       "    </tr>\n",
       "    <tr>\n",
       "      <th>4</th>\n",
       "      <td>manual_passed</td>\n",
       "      <td>aarono</td>\n",
       "      <td>568951556</td>\n",
       "      <td>568950778</td>\n",
       "      <td>112</td>\n",
       "      <td>2017-02-06 11:09:20</td>\n",
       "      <td>/allen/programs/celltypes/production/mousecell...</td>\n",
       "      <td>112</td>\n",
       "      <td>Vipr2-IRES2-Cre;Ai14-297026.04.02.01</td>\n",
       "    </tr>\n",
       "  </tbody>\n",
       "</table>\n",
       "</div>"
      ],
      "text/plain": [
       "         qcstate username    cell_id     roi_id  st1r                date  \\\n",
       "0  manual_passed   aarono  569317896  569317825   112 2017-02-07 16:09:40   \n",
       "1  manual_passed   aarono  569651358  569651339   112 2017-02-10 14:34:22   \n",
       "2  manual_passed   aarono  569645374  569645355   112 2017-02-10 13:40:34   \n",
       "3  manual_passed   aarono  569251652  569251636   112 2017-02-07 09:17:57   \n",
       "4  manual_passed   aarono  568951556  568950778   112 2017-02-06 11:09:20   \n",
       "\n",
       "                                                path   id  \\\n",
       "0  /allen/programs/celltypes/production/mousecell...  112   \n",
       "1  /allen/programs/celltypes/production/mousecell...  112   \n",
       "2  /allen/programs/celltypes/production/mousecell...  112   \n",
       "3  /allen/programs/celltypes/production/mousecell...  112   \n",
       "4  /allen/programs/celltypes/production/mousecell...  112   \n",
       "\n",
       "                                     cell_name  \n",
       "0         Htr3a-Cre_NO152;Ai14-297482.03.02.02  \n",
       "1  Chrna2-Cre_OE25;Ai14(IVSCC)-298553.04.02.01  \n",
       "2               Nr5a1-Cre;Ai14-296979.10.01.01  \n",
       "3        Ndnf-IRES2-dgCre;Ai14-298342.03.01.01  \n",
       "4         Vipr2-IRES2-Cre;Ai14-297026.04.02.01  "
      ]
     },
     "execution_count": 54,
     "metadata": {},
     "output_type": "execute_result"
    }
   ],
   "source": [
    "#can i filter by only my cells and get the file paths?\n",
    "\n",
    "cell_query = \"SELECT cell.id AS cell_id, cell.name AS cell_name, err.id AS roi_id, err.recording_date AS date, \\\n",
    "err.workflow_state as qcstate,  err.stage1_reviewer_id AS st1r, err.storage_directory AS path, users.id, users.login AS username \\\n",
    "FROM specimens cell \\\n",
    "JOIN specimens slice ON cell.parent_id = slice.id \\\n",
    "JOIN ephys_roi_results err ON err.id = cell.ephys_roi_result_id \\\n",
    "JOIN users ON err.stage1_reviewer_id = users.id \\\n",
    "WHERE err.recording_date > '2017-01-01' and users.login = 'aarono'\"\n",
    "cell_df = get_lims_dataframe(cell_query)\n",
    "cell_df.head()"
   ]
  },
  {
   "cell_type": "code",
   "execution_count": 44,
   "metadata": {},
   "outputs": [
    {
     "data": {
      "text/html": [
       "<div>\n",
       "<table border=\"1\" class=\"dataframe\">\n",
       "  <thead>\n",
       "    <tr style=\"text-align: right;\">\n",
       "      <th></th>\n",
       "      <th>rig_name</th>\n",
       "      <th>ephys_qc_criteria_id</th>\n",
       "      <th>failed_bad_rs</th>\n",
       "      <th>updated_at</th>\n",
       "      <th>storage_directory</th>\n",
       "      <th>electrode_0_pa</th>\n",
       "      <th>input_resistance_mohm</th>\n",
       "      <th>id</th>\n",
       "      <th>stage2_reviewer_id</th>\n",
       "      <th>blowout_mv</th>\n",
       "      <th>...</th>\n",
       "      <th>initial_access_resistance_mohm</th>\n",
       "      <th>qc_notes</th>\n",
       "      <th>recording_date</th>\n",
       "      <th>created_at</th>\n",
       "      <th>seal_gohm</th>\n",
       "      <th>published_at</th>\n",
       "      <th>failed_clogged_pipette</th>\n",
       "      <th>stage1_reviewer_id</th>\n",
       "      <th>failed_electrode_0</th>\n",
       "      <th>notes</th>\n",
       "    </tr>\n",
       "  </thead>\n",
       "  <tbody>\n",
       "    <tr>\n",
       "      <th>0</th>\n",
       "      <td>None</td>\n",
       "      <td>324256702</td>\n",
       "      <td>False</td>\n",
       "      <td>2017-06-02 16:59:38.494775</td>\n",
       "      <td>/allen/programs/celltypes/production/mousecell...</td>\n",
       "      <td>15.1150</td>\n",
       "      <td>739.511040</td>\n",
       "      <td>591545243</td>\n",
       "      <td>485591509.0</td>\n",
       "      <td>3.382243</td>\n",
       "      <td>...</td>\n",
       "      <td>17.023904</td>\n",
       "      <td>None</td>\n",
       "      <td>2017-05-25 20:11:34</td>\n",
       "      <td>2017-05-25 20:49:23.191938</td>\n",
       "      <td>1.606623</td>\n",
       "      <td>None</td>\n",
       "      <td>False</td>\n",
       "      <td>525757437.0</td>\n",
       "      <td>False</td>\n",
       "      <td>None</td>\n",
       "    </tr>\n",
       "    <tr>\n",
       "      <th>1</th>\n",
       "      <td>None</td>\n",
       "      <td>324256702</td>\n",
       "      <td>None</td>\n",
       "      <td>2016-08-11 17:11:25.577394</td>\n",
       "      <td>/allen/programs/celltypes/production/mousecell...</td>\n",
       "      <td>NaN</td>\n",
       "      <td>NaN</td>\n",
       "      <td>306486658</td>\n",
       "      <td>NaN</td>\n",
       "      <td>NaN</td>\n",
       "      <td>...</td>\n",
       "      <td>NaN</td>\n",
       "      <td>None</td>\n",
       "      <td>NaT</td>\n",
       "      <td>2014-08-08 15:57:22.301701</td>\n",
       "      <td>NaN</td>\n",
       "      <td>None</td>\n",
       "      <td>None</td>\n",
       "      <td>NaN</td>\n",
       "      <td>None</td>\n",
       "      <td>None</td>\n",
       "    </tr>\n",
       "    <tr>\n",
       "      <th>2</th>\n",
       "      <td>None</td>\n",
       "      <td>324256702</td>\n",
       "      <td>False</td>\n",
       "      <td>2017-08-11 19:28:43.535002</td>\n",
       "      <td>/allen/programs/celltypes/production/mousecell...</td>\n",
       "      <td>-0.8450</td>\n",
       "      <td>172.504224</td>\n",
       "      <td>605846847</td>\n",
       "      <td>485591509.0</td>\n",
       "      <td>1.479923</td>\n",
       "      <td>...</td>\n",
       "      <td>16.370420</td>\n",
       "      <td>None</td>\n",
       "      <td>2017-08-01 17:34:10</td>\n",
       "      <td>2017-08-01 18:04:39.483043</td>\n",
       "      <td>1.055227</td>\n",
       "      <td>None</td>\n",
       "      <td>False</td>\n",
       "      <td>305127608.0</td>\n",
       "      <td>False</td>\n",
       "      <td>None</td>\n",
       "    </tr>\n",
       "    <tr>\n",
       "      <th>3</th>\n",
       "      <td>None</td>\n",
       "      <td>324256702</td>\n",
       "      <td>False</td>\n",
       "      <td>2017-08-02 23:25:07.483748</td>\n",
       "      <td>/allen/programs/celltypes/production/mousecell...</td>\n",
       "      <td>-16.4775</td>\n",
       "      <td>440.122624</td>\n",
       "      <td>606152814</td>\n",
       "      <td>NaN</td>\n",
       "      <td>NaN</td>\n",
       "      <td>...</td>\n",
       "      <td>13.762438</td>\n",
       "      <td>None</td>\n",
       "      <td>2017-08-02 21:08:18</td>\n",
       "      <td>2017-08-02 21:49:25.474869</td>\n",
       "      <td>1.892042</td>\n",
       "      <td>None</td>\n",
       "      <td>True</td>\n",
       "      <td>NaN</td>\n",
       "      <td>False</td>\n",
       "      <td>None</td>\n",
       "    </tr>\n",
       "    <tr>\n",
       "      <th>4</th>\n",
       "      <td>None</td>\n",
       "      <td>324256702</td>\n",
       "      <td>None</td>\n",
       "      <td>2017-09-21 17:39:46.596585</td>\n",
       "      <td>/allen/programs/celltypes/production/mousecell...</td>\n",
       "      <td>NaN</td>\n",
       "      <td>NaN</td>\n",
       "      <td>637823738</td>\n",
       "      <td>NaN</td>\n",
       "      <td>NaN</td>\n",
       "      <td>...</td>\n",
       "      <td>NaN</td>\n",
       "      <td>None</td>\n",
       "      <td>NaT</td>\n",
       "      <td>2017-09-21 17:39:46.495650</td>\n",
       "      <td>NaN</td>\n",
       "      <td>None</td>\n",
       "      <td>None</td>\n",
       "      <td>NaN</td>\n",
       "      <td>None</td>\n",
       "      <td>None</td>\n",
       "    </tr>\n",
       "  </tbody>\n",
       "</table>\n",
       "<p>5 rows × 26 columns</p>\n",
       "</div>"
      ],
      "text/plain": [
       "  rig_name  ephys_qc_criteria_id failed_bad_rs                 updated_at  \\\n",
       "0     None             324256702         False 2017-06-02 16:59:38.494775   \n",
       "1     None             324256702          None 2016-08-11 17:11:25.577394   \n",
       "2     None             324256702         False 2017-08-11 19:28:43.535002   \n",
       "3     None             324256702         False 2017-08-02 23:25:07.483748   \n",
       "4     None             324256702          None 2017-09-21 17:39:46.596585   \n",
       "\n",
       "                                   storage_directory  electrode_0_pa  \\\n",
       "0  /allen/programs/celltypes/production/mousecell...         15.1150   \n",
       "1  /allen/programs/celltypes/production/mousecell...             NaN   \n",
       "2  /allen/programs/celltypes/production/mousecell...         -0.8450   \n",
       "3  /allen/programs/celltypes/production/mousecell...        -16.4775   \n",
       "4  /allen/programs/celltypes/production/mousecell...             NaN   \n",
       "\n",
       "   input_resistance_mohm         id  stage2_reviewer_id  blowout_mv  ...   \\\n",
       "0             739.511040  591545243         485591509.0    3.382243  ...    \n",
       "1                    NaN  306486658                 NaN         NaN  ...    \n",
       "2             172.504224  605846847         485591509.0    1.479923  ...    \n",
       "3             440.122624  606152814                 NaN         NaN  ...    \n",
       "4                    NaN  637823738                 NaN         NaN  ...    \n",
       "\n",
       "  initial_access_resistance_mohm  qc_notes      recording_date  \\\n",
       "0                      17.023904      None 2017-05-25 20:11:34   \n",
       "1                            NaN      None                 NaT   \n",
       "2                      16.370420      None 2017-08-01 17:34:10   \n",
       "3                      13.762438      None 2017-08-02 21:08:18   \n",
       "4                            NaN      None                 NaT   \n",
       "\n",
       "                  created_at seal_gohm  published_at  failed_clogged_pipette  \\\n",
       "0 2017-05-25 20:49:23.191938  1.606623          None                   False   \n",
       "1 2014-08-08 15:57:22.301701       NaN          None                    None   \n",
       "2 2017-08-01 18:04:39.483043  1.055227          None                   False   \n",
       "3 2017-08-02 21:49:25.474869  1.892042          None                    True   \n",
       "4 2017-09-21 17:39:46.495650       NaN          None                    None   \n",
       "\n",
       "  stage1_reviewer_id failed_electrode_0 notes  \n",
       "0        525757437.0              False  None  \n",
       "1                NaN               None  None  \n",
       "2        305127608.0              False  None  \n",
       "3                NaN              False  None  \n",
       "4                NaN               None  None  \n",
       "\n",
       "[5 rows x 26 columns]"
      ]
     },
     "execution_count": 44,
     "metadata": {},
     "output_type": "execute_result"
    }
   ],
   "source": [
    "aaron_query = \"SELECT * FROM ephys_roi_results LIMIT 10\"\n",
    "cell_df = get_lims_dataframe(aaron_query)\n",
    "cell_df.head()\n"
   ]
  },
  {
   "cell_type": "code",
   "execution_count": 57,
   "metadata": {},
   "outputs": [
    {
     "data": {
      "text/plain": [
       "u'Htr3a-Cre_NO152;Ai14-297482.03.02.02'"
      ]
     },
     "execution_count": 57,
     "metadata": {},
     "output_type": "execute_result"
    }
   ],
   "source": [
    "cell_df.cell_name[0]"
   ]
  },
  {
   "cell_type": "code",
   "execution_count": 47,
   "metadata": {},
   "outputs": [
    {
     "data": {
      "text/plain": [
       "Index([u'rig_name', u'ephys_qc_criteria_id', u'failed_bad_rs', u'updated_at',\n",
       "       u'storage_directory', u'electrode_0_pa', u'input_resistance_mohm',\n",
       "       u'id', u'stage2_reviewer_id', u'blowout_mv', u'failed_other',\n",
       "       u'sampling_rate', u'input_access_resistance_ratio', u'failed_no_seal',\n",
       "       u'workflow_state', u'ephys_specimen_roi_plan_id',\n",
       "       u'initial_access_resistance_mohm', u'qc_notes', u'recording_date',\n",
       "       u'created_at', u'seal_gohm', u'published_at', u'failed_clogged_pipette',\n",
       "       u'stage1_reviewer_id', u'failed_electrode_0', u'notes'],\n",
       "      dtype='object')"
      ]
     },
     "execution_count": 47,
     "metadata": {},
     "output_type": "execute_result"
    }
   ],
   "source": [
    "cell_df.columns"
   ]
  },
  {
   "cell_type": "code",
   "execution_count": 6,
   "metadata": {
    "scrolled": true
   },
   "outputs": [
    {
     "ename": "ProgrammingError",
     "evalue": "(u'ERROR', u'42601', u'syntax error at or near \"%\"', u'252', u'scan.l', u'1053', u'scanner_yyerror')",
     "output_type": "error",
     "traceback": [
      "\u001b[1;31m---------------------------------------------------------------------------\u001b[0m",
      "\u001b[1;31mProgrammingError\u001b[0m                          Traceback (most recent call last)",
      "\u001b[1;32m<ipython-input-6-5fe8626ba7aa>\u001b[0m in \u001b[0;36m<module>\u001b[1;34m()\u001b[0m\n\u001b[0;32m      3\u001b[0m \u001b[1;33m\u001b[0m\u001b[0m\n\u001b[0;32m      4\u001b[0m \u001b[0manother_query\u001b[0m \u001b[1;33m=\u001b[0m \u001b[1;34m\"SELECT cell.id AS cell_id, cell.name AS cell_name, err.id AS roi_id, err.storage_directory AS path FROM specimens cell JOIN specimens slice ON cell.parent_id = slice.id JOIN ephys_roi_results err ON err.id = cell.ephys_roi_result_id WHERE cell.name = %s\"\u001b[0m\u001b[1;33m\u001b[0m\u001b[0m\n\u001b[1;32m----> 5\u001b[1;33m \u001b[0mlimsquery\u001b[0m\u001b[1;33m(\u001b[0m\u001b[1;33m(\u001b[0m\u001b[0manother_query\u001b[0m\u001b[1;33m,\u001b[0m\u001b[0mcell\u001b[0m\u001b[1;33m)\u001b[0m\u001b[1;33m)\u001b[0m\u001b[1;33m\u001b[0m\u001b[0m\n\u001b[0m",
      "\u001b[1;32m<ipython-input-3-812ad8475914>\u001b[0m in \u001b[0;36mlimsquery\u001b[1;34m(query, user, host, database, password, port)\u001b[0m\n\u001b[0;32m     14\u001b[0m     \u001b[0mconn\u001b[0m\u001b[1;33m,\u001b[0m \u001b[0mcursor\u001b[0m \u001b[1;33m=\u001b[0m \u001b[0m_connect\u001b[0m\u001b[1;33m(\u001b[0m\u001b[0muser\u001b[0m\u001b[1;33m,\u001b[0m \u001b[0mhost\u001b[0m\u001b[1;33m,\u001b[0m \u001b[0mdatabase\u001b[0m\u001b[1;33m,\u001b[0m \u001b[0mpassword\u001b[0m\u001b[1;33m,\u001b[0m \u001b[0mport\u001b[0m\u001b[1;33m)\u001b[0m\u001b[1;33m\u001b[0m\u001b[0m\n\u001b[0;32m     15\u001b[0m     \u001b[1;32mtry\u001b[0m\u001b[1;33m:\u001b[0m\u001b[1;33m\u001b[0m\u001b[0m\n\u001b[1;32m---> 16\u001b[1;33m         \u001b[0mresults\u001b[0m \u001b[1;33m=\u001b[0m \u001b[0m_select\u001b[0m\u001b[1;33m(\u001b[0m\u001b[0mcursor\u001b[0m\u001b[1;33m,\u001b[0m \u001b[0mquery\u001b[0m\u001b[1;33m)\u001b[0m\u001b[1;33m\u001b[0m\u001b[0m\n\u001b[0m\u001b[0;32m     17\u001b[0m     \u001b[1;32mfinally\u001b[0m\u001b[1;33m:\u001b[0m\u001b[1;33m\u001b[0m\u001b[0m\n\u001b[0;32m     18\u001b[0m         \u001b[0mcursor\u001b[0m\u001b[1;33m.\u001b[0m\u001b[0mclose\u001b[0m\u001b[1;33m(\u001b[0m\u001b[1;33m)\u001b[0m\u001b[1;33m\u001b[0m\u001b[0m\n",
      "\u001b[1;32m<ipython-input-3-812ad8475914>\u001b[0m in \u001b[0;36m_select\u001b[1;34m(cursor, query)\u001b[0m\n\u001b[0;32m      6\u001b[0m \u001b[1;33m\u001b[0m\u001b[0m\n\u001b[0;32m      7\u001b[0m \u001b[1;32mdef\u001b[0m \u001b[0m_select\u001b[0m\u001b[1;33m(\u001b[0m\u001b[0mcursor\u001b[0m\u001b[1;33m,\u001b[0m \u001b[0mquery\u001b[0m\u001b[1;33m)\u001b[0m\u001b[1;33m:\u001b[0m\u001b[1;33m\u001b[0m\u001b[0m\n\u001b[1;32m----> 8\u001b[1;33m     \u001b[0mcursor\u001b[0m\u001b[1;33m.\u001b[0m\u001b[0mexecute\u001b[0m\u001b[1;33m(\u001b[0m\u001b[0mquery\u001b[0m\u001b[1;33m)\u001b[0m\u001b[1;33m\u001b[0m\u001b[0m\n\u001b[0m\u001b[0;32m      9\u001b[0m     \u001b[0mcolumns\u001b[0m \u001b[1;33m=\u001b[0m \u001b[1;33m[\u001b[0m \u001b[0md\u001b[0m\u001b[1;33m[\u001b[0m\u001b[1;36m0\u001b[0m\u001b[1;33m]\u001b[0m \u001b[1;32mfor\u001b[0m \u001b[0md\u001b[0m \u001b[1;32min\u001b[0m \u001b[0mcursor\u001b[0m\u001b[1;33m.\u001b[0m\u001b[0mdescription\u001b[0m \u001b[1;33m]\u001b[0m\u001b[1;33m\u001b[0m\u001b[0m\n\u001b[0;32m     10\u001b[0m     \u001b[1;32mreturn\u001b[0m \u001b[1;33m[\u001b[0m \u001b[0mdict\u001b[0m\u001b[1;33m(\u001b[0m\u001b[0mzip\u001b[0m\u001b[1;33m(\u001b[0m\u001b[0mcolumns\u001b[0m\u001b[1;33m,\u001b[0m \u001b[0mc\u001b[0m\u001b[1;33m)\u001b[0m\u001b[1;33m)\u001b[0m \u001b[1;32mfor\u001b[0m \u001b[0mc\u001b[0m \u001b[1;32min\u001b[0m \u001b[0mcursor\u001b[0m\u001b[1;33m.\u001b[0m\u001b[0mfetchall\u001b[0m\u001b[1;33m(\u001b[0m\u001b[1;33m)\u001b[0m \u001b[1;33m]\u001b[0m\u001b[1;33m\u001b[0m\u001b[0m\n",
      "\u001b[1;32mC:\\Users\\aarono\\AppData\\Local\\Continuum\\anaconda2\\lib\\site-packages\\pg8000\\core.pyc\u001b[0m in \u001b[0;36mexecute\u001b[1;34m(self, operation, args, stream)\u001b[0m\n\u001b[0;32m    850\u001b[0m             \u001b[1;32mif\u001b[0m \u001b[1;32mnot\u001b[0m \u001b[0mself\u001b[0m\u001b[1;33m.\u001b[0m\u001b[0m_c\u001b[0m\u001b[1;33m.\u001b[0m\u001b[0min_transaction\u001b[0m \u001b[1;32mand\u001b[0m \u001b[1;32mnot\u001b[0m \u001b[0mself\u001b[0m\u001b[1;33m.\u001b[0m\u001b[0m_c\u001b[0m\u001b[1;33m.\u001b[0m\u001b[0mautocommit\u001b[0m\u001b[1;33m:\u001b[0m\u001b[1;33m\u001b[0m\u001b[0m\n\u001b[0;32m    851\u001b[0m                 \u001b[0mself\u001b[0m\u001b[1;33m.\u001b[0m\u001b[0m_c\u001b[0m\u001b[1;33m.\u001b[0m\u001b[0mexecute\u001b[0m\u001b[1;33m(\u001b[0m\u001b[0mself\u001b[0m\u001b[1;33m,\u001b[0m \u001b[1;34m\"begin transaction\"\u001b[0m\u001b[1;33m,\u001b[0m \u001b[0mNone\u001b[0m\u001b[1;33m)\u001b[0m\u001b[1;33m\u001b[0m\u001b[0m\n\u001b[1;32m--> 852\u001b[1;33m             \u001b[0mself\u001b[0m\u001b[1;33m.\u001b[0m\u001b[0m_c\u001b[0m\u001b[1;33m.\u001b[0m\u001b[0mexecute\u001b[0m\u001b[1;33m(\u001b[0m\u001b[0mself\u001b[0m\u001b[1;33m,\u001b[0m \u001b[0moperation\u001b[0m\u001b[1;33m,\u001b[0m \u001b[0margs\u001b[0m\u001b[1;33m)\u001b[0m\u001b[1;33m\u001b[0m\u001b[0m\n\u001b[0m\u001b[0;32m    853\u001b[0m         \u001b[1;32mexcept\u001b[0m \u001b[0mAttributeError\u001b[0m \u001b[1;32mas\u001b[0m \u001b[0me\u001b[0m\u001b[1;33m:\u001b[0m\u001b[1;33m\u001b[0m\u001b[0m\n\u001b[0;32m    854\u001b[0m             \u001b[1;32mif\u001b[0m \u001b[0mself\u001b[0m\u001b[1;33m.\u001b[0m\u001b[0m_c\u001b[0m \u001b[1;32mis\u001b[0m \u001b[0mNone\u001b[0m\u001b[1;33m:\u001b[0m\u001b[1;33m\u001b[0m\u001b[0m\n",
      "\u001b[1;32mC:\\Users\\aarono\\AppData\\Local\\Continuum\\anaconda2\\lib\\site-packages\\pg8000\\core.pyc\u001b[0m in \u001b[0;36mexecute\u001b[1;34m(self, cursor, operation, vals)\u001b[0m\n\u001b[0;32m   1739\u001b[0m                     \u001b[1;32mraise\u001b[0m \u001b[0me\u001b[0m\u001b[1;33m\u001b[0m\u001b[0m\n\u001b[0;32m   1740\u001b[0m \u001b[1;33m\u001b[0m\u001b[0m\n\u001b[1;32m-> 1741\u001b[1;33m             \u001b[0mself\u001b[0m\u001b[1;33m.\u001b[0m\u001b[0mhandle_messages\u001b[0m\u001b[1;33m(\u001b[0m\u001b[0mcursor\u001b[0m\u001b[1;33m)\u001b[0m\u001b[1;33m\u001b[0m\u001b[0m\n\u001b[0m\u001b[0;32m   1742\u001b[0m \u001b[1;33m\u001b[0m\u001b[0m\n\u001b[0;32m   1743\u001b[0m             \u001b[1;31m# We've got row_desc that allows us to identify what we're\u001b[0m\u001b[1;33m\u001b[0m\u001b[1;33m\u001b[0m\u001b[0m\n",
      "\u001b[1;32mC:\\Users\\aarono\\AppData\\Local\\Continuum\\anaconda2\\lib\\site-packages\\pg8000\\core.pyc\u001b[0m in \u001b[0;36mhandle_messages\u001b[1;34m(self, cursor)\u001b[0m\n\u001b[0;32m   1877\u001b[0m \u001b[1;33m\u001b[0m\u001b[0m\n\u001b[0;32m   1878\u001b[0m         \u001b[1;32mif\u001b[0m \u001b[0mself\u001b[0m\u001b[1;33m.\u001b[0m\u001b[0merror\u001b[0m \u001b[1;32mis\u001b[0m \u001b[1;32mnot\u001b[0m \u001b[0mNone\u001b[0m\u001b[1;33m:\u001b[0m\u001b[1;33m\u001b[0m\u001b[0m\n\u001b[1;32m-> 1879\u001b[1;33m             \u001b[1;32mraise\u001b[0m \u001b[0mself\u001b[0m\u001b[1;33m.\u001b[0m\u001b[0merror\u001b[0m\u001b[1;33m\u001b[0m\u001b[0m\n\u001b[0m\u001b[0;32m   1880\u001b[0m \u001b[1;33m\u001b[0m\u001b[0m\n\u001b[0;32m   1881\u001b[0m     \u001b[1;31m# Byte1('C') - Identifies the message as a close command.\u001b[0m\u001b[1;33m\u001b[0m\u001b[1;33m\u001b[0m\u001b[0m\n",
      "\u001b[1;31mProgrammingError\u001b[0m: (u'ERROR', u'42601', u'syntax error at or near \"%\"', u'252', u'scan.l', u'1053', u'scanner_yyerror')"
     ]
    }
   ],
   "source": [
    "#can i get that cell's storage path?\n",
    "cell  = 'Htr3a-Cre_NO152;Ai14-297482.03.02.02'\n",
    "\n",
    "another_query = \"SELECT cell.id AS cell_id, cell.name AS cell_name, err.id AS roi_id, \\\n",
    "err.storage_directory AS path \\\n",
    "FROM specimens cell \\\n",
    "JOIN specimens slice ON cell.parent_id = slice.id \\\n",
    "JOIN ephys_roi_results err ON err.id = cell.ephys_roi_result_id \\\n",
    "WHERE cell.name = %s\"\n",
    "limsquery((another_query,cell))"
   ]
  },
  {
   "cell_type": "code",
   "execution_count": 25,
   "metadata": {},
   "outputs": [],
   "source": [
    "import pg8000\n",
    "conn = pg8000.connect(user=\"limsreader\", host=\"limsdb2\", database=\"lims2\", password=\"limsro\", port=5432)\n",
    "cur = conn.cursor()\n",
    "\n",
    "cur.execute(\"SELECT cell.id AS cell_id, cell.name AS cell_name, err.id AS roi_id, \\\n",
    "err.storage_directory AS path \\\n",
    "FROM specimens cell \\\n",
    "JOIN specimens slice ON cell.parent_id = slice.id \\\n",
    "JOIN ephys_roi_results err ON err.id = cell.ephys_roi_result_id \\\n",
    "WHERE cell.name ilike %s\",(cell,))\n",
    "result = cur.fetchone()\n"
   ]
  },
  {
   "cell_type": "code",
   "execution_count": 26,
   "metadata": {},
   "outputs": [
    {
     "data": {
      "text/plain": [
       "u'/allen/programs/celltypes/production/mousecelltypes/prod910/Ephys_Roi_Result_569317825/'"
      ]
     },
     "execution_count": 26,
     "metadata": {},
     "output_type": "execute_result"
    }
   ],
   "source": [
    "result[3]"
   ]
  },
  {
   "cell_type": "code",
   "execution_count": 17,
   "metadata": {},
   "outputs": [
    {
     "ename": "ProgrammingError",
     "evalue": "(u'ERROR', u'25P02', u'current transaction is aborted, commands ignored until end of transaction block', u'postgres.c', u'1283', u'exec_parse_message')",
     "output_type": "error",
     "traceback": [
      "\u001b[1;31m---------------------------------------------------------------------------\u001b[0m",
      "\u001b[1;31mProgrammingError\u001b[0m                          Traceback (most recent call last)",
      "\u001b[1;32m<ipython-input-17-bfe099196b9b>\u001b[0m in \u001b[0;36m<module>\u001b[1;34m()\u001b[0m\n\u001b[1;32m----> 1\u001b[1;33m \u001b[0mcur\u001b[0m\u001b[1;33m.\u001b[0m\u001b[0mexecute\u001b[0m\u001b[1;33m(\u001b[0m\u001b[1;34m\"select s.id, s.storage_directory from specimens s where s.name ilike %s\"\u001b[0m\u001b[1;33m,\u001b[0m \u001b[1;33m(\u001b[0m\u001b[0mcell\u001b[0m\u001b[1;33m,\u001b[0m\u001b[1;33m)\u001b[0m\u001b[1;33m)\u001b[0m\u001b[1;33m\u001b[0m\u001b[0m\n\u001b[0m\u001b[0;32m      2\u001b[0m \u001b[0mresult\u001b[0m \u001b[1;33m=\u001b[0m \u001b[0mcur\u001b[0m\u001b[1;33m.\u001b[0m\u001b[0mfetchone\u001b[0m\u001b[1;33m(\u001b[0m\u001b[1;33m)\u001b[0m\u001b[1;33m\u001b[0m\u001b[0m\n",
      "\u001b[1;32mC:\\Users\\aarono\\AppData\\Local\\Continuum\\anaconda2\\lib\\site-packages\\pg8000\\core.pyc\u001b[0m in \u001b[0;36mexecute\u001b[1;34m(self, operation, args, stream)\u001b[0m\n\u001b[0;32m    850\u001b[0m             \u001b[1;32mif\u001b[0m \u001b[1;32mnot\u001b[0m \u001b[0mself\u001b[0m\u001b[1;33m.\u001b[0m\u001b[0m_c\u001b[0m\u001b[1;33m.\u001b[0m\u001b[0min_transaction\u001b[0m \u001b[1;32mand\u001b[0m \u001b[1;32mnot\u001b[0m \u001b[0mself\u001b[0m\u001b[1;33m.\u001b[0m\u001b[0m_c\u001b[0m\u001b[1;33m.\u001b[0m\u001b[0mautocommit\u001b[0m\u001b[1;33m:\u001b[0m\u001b[1;33m\u001b[0m\u001b[0m\n\u001b[0;32m    851\u001b[0m                 \u001b[0mself\u001b[0m\u001b[1;33m.\u001b[0m\u001b[0m_c\u001b[0m\u001b[1;33m.\u001b[0m\u001b[0mexecute\u001b[0m\u001b[1;33m(\u001b[0m\u001b[0mself\u001b[0m\u001b[1;33m,\u001b[0m \u001b[1;34m\"begin transaction\"\u001b[0m\u001b[1;33m,\u001b[0m \u001b[0mNone\u001b[0m\u001b[1;33m)\u001b[0m\u001b[1;33m\u001b[0m\u001b[0m\n\u001b[1;32m--> 852\u001b[1;33m             \u001b[0mself\u001b[0m\u001b[1;33m.\u001b[0m\u001b[0m_c\u001b[0m\u001b[1;33m.\u001b[0m\u001b[0mexecute\u001b[0m\u001b[1;33m(\u001b[0m\u001b[0mself\u001b[0m\u001b[1;33m,\u001b[0m \u001b[0moperation\u001b[0m\u001b[1;33m,\u001b[0m \u001b[0margs\u001b[0m\u001b[1;33m)\u001b[0m\u001b[1;33m\u001b[0m\u001b[0m\n\u001b[0m\u001b[0;32m    853\u001b[0m         \u001b[1;32mexcept\u001b[0m \u001b[0mAttributeError\u001b[0m \u001b[1;32mas\u001b[0m \u001b[0me\u001b[0m\u001b[1;33m:\u001b[0m\u001b[1;33m\u001b[0m\u001b[0m\n\u001b[0;32m    854\u001b[0m             \u001b[1;32mif\u001b[0m \u001b[0mself\u001b[0m\u001b[1;33m.\u001b[0m\u001b[0m_c\u001b[0m \u001b[1;32mis\u001b[0m \u001b[0mNone\u001b[0m\u001b[1;33m:\u001b[0m\u001b[1;33m\u001b[0m\u001b[0m\n",
      "\u001b[1;32mC:\\Users\\aarono\\AppData\\Local\\Continuum\\anaconda2\\lib\\site-packages\\pg8000\\core.pyc\u001b[0m in \u001b[0;36mexecute\u001b[1;34m(self, cursor, operation, vals)\u001b[0m\n\u001b[0;32m   1739\u001b[0m                     \u001b[1;32mraise\u001b[0m \u001b[0me\u001b[0m\u001b[1;33m\u001b[0m\u001b[0m\n\u001b[0;32m   1740\u001b[0m \u001b[1;33m\u001b[0m\u001b[0m\n\u001b[1;32m-> 1741\u001b[1;33m             \u001b[0mself\u001b[0m\u001b[1;33m.\u001b[0m\u001b[0mhandle_messages\u001b[0m\u001b[1;33m(\u001b[0m\u001b[0mcursor\u001b[0m\u001b[1;33m)\u001b[0m\u001b[1;33m\u001b[0m\u001b[0m\n\u001b[0m\u001b[0;32m   1742\u001b[0m \u001b[1;33m\u001b[0m\u001b[0m\n\u001b[0;32m   1743\u001b[0m             \u001b[1;31m# We've got row_desc that allows us to identify what we're\u001b[0m\u001b[1;33m\u001b[0m\u001b[1;33m\u001b[0m\u001b[0m\n",
      "\u001b[1;32mC:\\Users\\aarono\\AppData\\Local\\Continuum\\anaconda2\\lib\\site-packages\\pg8000\\core.pyc\u001b[0m in \u001b[0;36mhandle_messages\u001b[1;34m(self, cursor)\u001b[0m\n\u001b[0;32m   1877\u001b[0m \u001b[1;33m\u001b[0m\u001b[0m\n\u001b[0;32m   1878\u001b[0m         \u001b[1;32mif\u001b[0m \u001b[0mself\u001b[0m\u001b[1;33m.\u001b[0m\u001b[0merror\u001b[0m \u001b[1;32mis\u001b[0m \u001b[1;32mnot\u001b[0m \u001b[0mNone\u001b[0m\u001b[1;33m:\u001b[0m\u001b[1;33m\u001b[0m\u001b[0m\n\u001b[1;32m-> 1879\u001b[1;33m             \u001b[1;32mraise\u001b[0m \u001b[0mself\u001b[0m\u001b[1;33m.\u001b[0m\u001b[0merror\u001b[0m\u001b[1;33m\u001b[0m\u001b[0m\n\u001b[0m\u001b[0;32m   1880\u001b[0m \u001b[1;33m\u001b[0m\u001b[0m\n\u001b[0;32m   1881\u001b[0m     \u001b[1;31m# Byte1('C') - Identifies the message as a close command.\u001b[0m\u001b[1;33m\u001b[0m\u001b[1;33m\u001b[0m\u001b[0m\n",
      "\u001b[1;31mProgrammingError\u001b[0m: (u'ERROR', u'25P02', u'current transaction is aborted, commands ignored until end of transaction block', u'postgres.c', u'1283', u'exec_parse_message')"
     ]
    }
   ],
   "source": [
    "cur.execute(\"select s.id, s.storage_directory from specimens s where s.name ilike %s\", (cell,))\n",
    "result = cur.fetchone()"
   ]
  },
  {
   "cell_type": "code",
   "execution_count": 16,
   "metadata": {},
   "outputs": [
    {
     "data": {
      "text/plain": [
       "'Htr3a-Cre_NO152;Ai14-297482.03.02.02'"
      ]
     },
     "execution_count": 16,
     "metadata": {},
     "output_type": "execute_result"
    }
   ],
   "source": [
    "cell"
   ]
  },
  {
   "cell_type": "code",
   "execution_count": null,
   "metadata": {
    "collapsed": true
   },
   "outputs": [],
   "source": []
  }
 ],
 "metadata": {
  "anaconda-cloud": {},
  "kernelspec": {
   "display_name": "Python 2",
   "language": "python",
   "name": "python2"
  },
  "language_info": {
   "codemirror_mode": {
    "name": "ipython",
    "version": 2
   },
   "file_extension": ".py",
   "mimetype": "text/x-python",
   "name": "python",
   "nbconvert_exporter": "python",
   "pygments_lexer": "ipython2",
   "version": "2.7.13"
  }
 },
 "nbformat": 4,
 "nbformat_minor": 1
}
