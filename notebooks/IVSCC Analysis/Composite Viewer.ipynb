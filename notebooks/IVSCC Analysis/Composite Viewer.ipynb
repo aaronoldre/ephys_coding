{
 "cells": [
  {
   "cell_type": "code",
   "execution_count": 5,
   "metadata": {
    "collapsed": true
   },
   "outputs": [],
   "source": [
    "import json\n",
    "import pandas as pd\n",
    "import matplotlib.pyplot as plt\n",
    "import os\n",
    "\n",
    "import pg8000\n"
   ]
  },
  {
   "cell_type": "code",
   "execution_count": 20,
   "metadata": {},
   "outputs": [
    {
     "name": "stdout",
     "output_type": "stream",
     "text": [
      "Enter Specimen Name for Composite Image: Htr3a-Cre_NO152;Ai14-277453.04.02\n"
     ]
    }
   ],
   "source": [
    "#collect specimen name from user\n",
    "sample = raw_input('Enter Specimen Name for Composite Image: ')\n",
    "#capitalize first letter for search\n",
    "sample = sample[0].upper() + sample[1:].strip()"
   ]
  },
  {
   "cell_type": "code",
   "execution_count": 21,
   "metadata": {
    "collapsed": true
   },
   "outputs": [],
   "source": [
    "conn = pg8000.connect(user=\"limsreader\", host=\"limsdb2\", database=\"lims2\", password=\"limsro\", port=5432)\n",
    "cur = conn.cursor()\n",
    "\n",
    "cur.execute(\"select s.id, s.storage_directory from specimens s where s.name ilike %s\", ('%' + sample,))\n",
    "result = cur.fetchone()\n",
    "if result is None:\n",
    "    print \"Could not find specimen result for \" + specimen + \". Skipping...\"\n",
    "    "
   ]
  },
  {
   "cell_type": "code",
   "execution_count": 27,
   "metadata": {
    "collapsed": true
   },
   "outputs": [],
   "source": [
    "def LinuxtoWindow(Linuxpath):\n",
    "    SplitLinux = Linuxpath.split('/')\n",
    "    try:\n",
    "        return (r\"\\\\\" + os.path.join(SplitLinux[1], SplitLinux[2],SplitLinux[3],SplitLinux[4], SplitLinux[5],SplitLinux[6],SplitLinux[7],''))\n",
    "    except (WindowsError, AttributeError, IndexError):\n",
    "        try:\n",
    "            return (r\"\\\\\" + os.path.join('titan','cns', SplitLinux[2], SplitLinux[4],SplitLinux[5],''))\n",
    "        except (WindowsError, AttributeError, IndexError):\n",
    "            print 'Could not find cell'"
   ]
  },
  {
   "cell_type": "code",
   "execution_count": 28,
   "metadata": {},
   "outputs": [
    {
     "data": {
      "text/plain": [
       "u'\\\\\\\\titan\\\\cns\\\\mousecelltypes\\\\prod828\\\\specimen_554013361\\\\'"
      ]
     },
     "execution_count": 28,
     "metadata": {},
     "output_type": "execute_result"
    }
   ],
   "source": [
    "LinuxtoWindow(result[1])"
   ]
  },
  {
   "cell_type": "code",
   "execution_count": null,
   "metadata": {
    "collapsed": true
   },
   "outputs": [],
   "source": [
    "conn = pg8000.connect(user=\"limsreader\", host=\"limsdb2\", database=\"lims2\", password=\"limsro\", port=5432)\n",
    "    cur = conn.cursor()\n",
    "    \n",
    "    cur.execute(\"SELECT s.name, s.ephys_roi_result_id, s.id FROM specimens s WHERE s.name LIKE %s\", ('%' + specimen,))\n",
    "    result = cur.fetchone()\n",
    "    if result is None:\n",
    "        print \"Could not find specimen result for \" + specimen + \". Skipping...\"\n",
    "        return None\n",
    "    specimen_name = result[0]\n",
    "    ephys_roi_result_id = result[1]\n",
    "\n",
    "\n",
    "    cur.execute(\"SELECT f.filename, f.storage_directory FROM well_known_files f \\\n",
    "                 WHERE f.attachable_type = 'EphysRoiResult' AND f.attachable_id = %s AND f.filename LIKE '%%ephys_features.json'\", \n",
    "                 (ephys_roi_result_id,))\n",
    "    result = cur.fetchone()\n",
    "    if result is None:\n",
    "        print \"Could not find json file for \" + specimen + \". Skipping...\"\n",
    "        return None"
   ]
  },
  {
   "cell_type": "code",
   "execution_count": 2,
   "metadata": {},
   "outputs": [
    {
     "ename": "ImportError",
     "evalue": "No module named allensdk_lims.internal.core.lims_utilities",
     "output_type": "error",
     "traceback": [
      "\u001b[1;31m---------------------------------------------------------------------------\u001b[0m",
      "\u001b[1;31mImportError\u001b[0m                               Traceback (most recent call last)",
      "\u001b[1;32m<ipython-input-2-d26ffdec9f2a>\u001b[0m in \u001b[0;36m<module>\u001b[1;34m()\u001b[0m\n\u001b[0;32m      3\u001b[0m \u001b[1;32mimport\u001b[0m \u001b[0mmatplotlib\u001b[0m\u001b[1;33m.\u001b[0m\u001b[0mpyplot\u001b[0m \u001b[1;32mas\u001b[0m \u001b[0mplt\u001b[0m\u001b[1;33m\u001b[0m\u001b[0m\n\u001b[0;32m      4\u001b[0m \u001b[1;32mimport\u001b[0m \u001b[0mos\u001b[0m\u001b[1;33m\u001b[0m\u001b[0m\n\u001b[1;32m----> 5\u001b[1;33m \u001b[1;32mimport\u001b[0m \u001b[0mallensdk_lims\u001b[0m\u001b[1;33m.\u001b[0m\u001b[0minternal\u001b[0m\u001b[1;33m.\u001b[0m\u001b[0mcore\u001b[0m\u001b[1;33m.\u001b[0m\u001b[0mlims_utilities\u001b[0m \u001b[1;32mas\u001b[0m \u001b[0mlims_utilities\u001b[0m\u001b[1;33m\u001b[0m\u001b[0m\n\u001b[0m\u001b[0;32m      6\u001b[0m \u001b[1;33m\u001b[0m\u001b[0m\n\u001b[0;32m      7\u001b[0m \u001b[1;32mdef\u001b[0m \u001b[0mLinuxtoWindow\u001b[0m\u001b[1;33m(\u001b[0m\u001b[0mLinuxpath\u001b[0m\u001b[1;33m)\u001b[0m\u001b[1;33m:\u001b[0m\u001b[1;33m\u001b[0m\u001b[0m\n",
      "\u001b[1;31mImportError\u001b[0m: No module named allensdk_lims.internal.core.lims_utilities"
     ]
    }
   ],
   "source": [
    "import json\n",
    "import pandas as pd\n",
    "import matplotlib.pyplot as plt\n",
    "import os\n",
    "#import allensdk_lims.internal.core.lims_utilities as lims_utilities\n",
    "\n",
    "def LinuxtoWindow(Linuxpath):\n",
    "    SplitLinux = Linuxpath.split('/')\n",
    "    return (r\"\\\\\" + os.path.join(SplitLinux[1], SplitLinux[2],SplitLinux[3],SplitLinux[4], SplitLinux[5],SplitLinux[6],SplitLinux[7],''))\n",
    "\n",
    "#collect specimen name from user\n",
    "sample = raw_input('Enter Specimen Name for Composite Image: ')\n",
    "#capitalize first letter for search\n",
    "sample = sample[0].upper() + sample[1:].strip()\n",
    "\n",
    "conn = pg8000.connect(user=\"limsreader\", host=\"limsdb2\", database=\"lims2\", password=\"limsro\", port=5432)\n",
    "cur = conn.cursor()\n",
    "query = \"\"\"\n",
    "select s.id, s.storage_directory from specimens s\n",
    "where s.name ilike '%s'\n",
    "\"\"\" % ('%%' + sample )\n",
    "\n",
    "result = lims_utilities.query(query)[0]\n",
    "\n",
    "print result['storage_directory']\n",
    "\n",
    "stor_dir_win = LinuxtoWindow(result['storage_directory'])\n",
    "json_path = stor_dir_win + 'EPHYS_COMPOSITE_IMAGE_' + str(result['id']) + '_input.json'\n",
    "png_path = stor_dir_win + 'composite_image.png'\n",
    "\n",
    "os.startfile(png_path)\n",
    "\n",
    "with open(json_path) as data_file:    \n",
    "    data = json.load(data_file)\n",
    "\n",
    "corner_df = pd.DataFrame(columns = ['Image Path','ID','Coord_x','Coord_y','Symbol','Color'])\n",
    "j=0\n",
    "for i in data['corners']:\n",
    "    if 'failed' in i:\n",
    "        corner_df.loc[j] = i,None,data['corners'][i]['x'],data['corners'][i]['y'],'D','r'\n",
    "    else:\n",
    "        corner_df.loc[j] = i,None,data['corners'][i]['x'],data['corners'][i]['y'],'s','k'\n",
    "    j +=1\n",
    "for i in data['recorded_cells']:\n",
    "    corner_df.loc[j] = i,data['recorded_cells'][i]['name'][-3:],data['recorded_cells'][i]['x'],data['recorded_cells'][i]['y'],'o','g'\n",
    "    j += 1\n",
    "\n",
    "for i in range(len(corner_df)):\n",
    "    plt.plot(corner_df['Coord_x'][i],corner_df['Coord_y'][i],marker = corner_df['Symbol'][i], c = corner_df['Color'][i])\n",
    "    if corner_df['Symbol'][i] == 'o':\n",
    "        plt.annotate(corner_df['ID'][i], xy=(corner_df['Coord_x'][i],corner_df['Coord_y'][i]))\n",
    "\n",
    "\n",
    "plt.show()\n",
    "plt.clf()\n"
   ]
  },
  {
   "cell_type": "code",
   "execution_count": 26,
   "metadata": {},
   "outputs": [
    {
     "data": {
      "text/plain": [
       "[554013361, u'/projects/mousecelltypes/vol1/prod828/specimen_554013361/']"
      ]
     },
     "execution_count": 26,
     "metadata": {},
     "output_type": "execute_result"
    }
   ],
   "source": [
    "result"
   ]
  },
  {
   "cell_type": "code",
   "execution_count": 25,
   "metadata": {},
   "outputs": [
    {
     "ename": "IndexError",
     "evalue": "list index out of range",
     "output_type": "error",
     "traceback": [
      "\u001b[1;31m---------------------------------------------------------------------------\u001b[0m",
      "\u001b[1;31mIndexError\u001b[0m                                Traceback (most recent call last)",
      "\u001b[1;32m<ipython-input-25-c2e342f946f9>\u001b[0m in \u001b[0;36m<module>\u001b[1;34m()\u001b[0m\n\u001b[0;32m      3\u001b[0m     \u001b[1;32mreturn\u001b[0m \u001b[1;33m(\u001b[0m\u001b[1;34mr\"\\\\\"\u001b[0m \u001b[1;33m+\u001b[0m \u001b[0mos\u001b[0m\u001b[1;33m.\u001b[0m\u001b[0mpath\u001b[0m\u001b[1;33m.\u001b[0m\u001b[0mjoin\u001b[0m\u001b[1;33m(\u001b[0m\u001b[0mSplitLinux\u001b[0m\u001b[1;33m[\u001b[0m\u001b[1;36m1\u001b[0m\u001b[1;33m]\u001b[0m\u001b[1;33m,\u001b[0m \u001b[0mSplitLinux\u001b[0m\u001b[1;33m[\u001b[0m\u001b[1;36m2\u001b[0m\u001b[1;33m]\u001b[0m\u001b[1;33m,\u001b[0m\u001b[0mSplitLinux\u001b[0m\u001b[1;33m[\u001b[0m\u001b[1;36m3\u001b[0m\u001b[1;33m]\u001b[0m\u001b[1;33m,\u001b[0m\u001b[0mSplitLinux\u001b[0m\u001b[1;33m[\u001b[0m\u001b[1;36m4\u001b[0m\u001b[1;33m]\u001b[0m\u001b[1;33m,\u001b[0m \u001b[0mSplitLinux\u001b[0m\u001b[1;33m[\u001b[0m\u001b[1;36m5\u001b[0m\u001b[1;33m]\u001b[0m\u001b[1;33m,\u001b[0m\u001b[0mSplitLinux\u001b[0m\u001b[1;33m[\u001b[0m\u001b[1;36m6\u001b[0m\u001b[1;33m]\u001b[0m\u001b[1;33m,\u001b[0m\u001b[0mSplitLinux\u001b[0m\u001b[1;33m[\u001b[0m\u001b[1;36m7\u001b[0m\u001b[1;33m]\u001b[0m\u001b[1;33m,\u001b[0m\u001b[1;34m''\u001b[0m\u001b[1;33m)\u001b[0m\u001b[1;33m)\u001b[0m\u001b[1;33m\u001b[0m\u001b[0m\n\u001b[0;32m      4\u001b[0m \u001b[1;33m\u001b[0m\u001b[0m\n\u001b[1;32m----> 5\u001b[1;33m \u001b[0mLinuxtoWindow\u001b[0m\u001b[1;33m(\u001b[0m\u001b[0mresult\u001b[0m\u001b[1;33m[\u001b[0m\u001b[1;36m1\u001b[0m\u001b[1;33m]\u001b[0m\u001b[1;33m)\u001b[0m\u001b[1;33m\u001b[0m\u001b[0m\n\u001b[0m",
      "\u001b[1;32m<ipython-input-25-c2e342f946f9>\u001b[0m in \u001b[0;36mLinuxtoWindow\u001b[1;34m(Linuxpath)\u001b[0m\n\u001b[0;32m      1\u001b[0m \u001b[1;32mdef\u001b[0m \u001b[0mLinuxtoWindow\u001b[0m\u001b[1;33m(\u001b[0m\u001b[0mLinuxpath\u001b[0m\u001b[1;33m)\u001b[0m\u001b[1;33m:\u001b[0m\u001b[1;33m\u001b[0m\u001b[0m\n\u001b[0;32m      2\u001b[0m     \u001b[0mSplitLinux\u001b[0m \u001b[1;33m=\u001b[0m \u001b[0mLinuxpath\u001b[0m\u001b[1;33m.\u001b[0m\u001b[0msplit\u001b[0m\u001b[1;33m(\u001b[0m\u001b[1;34m'/'\u001b[0m\u001b[1;33m)\u001b[0m\u001b[1;33m\u001b[0m\u001b[0m\n\u001b[1;32m----> 3\u001b[1;33m     \u001b[1;32mreturn\u001b[0m \u001b[1;33m(\u001b[0m\u001b[1;34mr\"\\\\\"\u001b[0m \u001b[1;33m+\u001b[0m \u001b[0mos\u001b[0m\u001b[1;33m.\u001b[0m\u001b[0mpath\u001b[0m\u001b[1;33m.\u001b[0m\u001b[0mjoin\u001b[0m\u001b[1;33m(\u001b[0m\u001b[0mSplitLinux\u001b[0m\u001b[1;33m[\u001b[0m\u001b[1;36m1\u001b[0m\u001b[1;33m]\u001b[0m\u001b[1;33m,\u001b[0m \u001b[0mSplitLinux\u001b[0m\u001b[1;33m[\u001b[0m\u001b[1;36m2\u001b[0m\u001b[1;33m]\u001b[0m\u001b[1;33m,\u001b[0m\u001b[0mSplitLinux\u001b[0m\u001b[1;33m[\u001b[0m\u001b[1;36m3\u001b[0m\u001b[1;33m]\u001b[0m\u001b[1;33m,\u001b[0m\u001b[0mSplitLinux\u001b[0m\u001b[1;33m[\u001b[0m\u001b[1;36m4\u001b[0m\u001b[1;33m]\u001b[0m\u001b[1;33m,\u001b[0m \u001b[0mSplitLinux\u001b[0m\u001b[1;33m[\u001b[0m\u001b[1;36m5\u001b[0m\u001b[1;33m]\u001b[0m\u001b[1;33m,\u001b[0m\u001b[0mSplitLinux\u001b[0m\u001b[1;33m[\u001b[0m\u001b[1;36m6\u001b[0m\u001b[1;33m]\u001b[0m\u001b[1;33m,\u001b[0m\u001b[0mSplitLinux\u001b[0m\u001b[1;33m[\u001b[0m\u001b[1;36m7\u001b[0m\u001b[1;33m]\u001b[0m\u001b[1;33m,\u001b[0m\u001b[1;34m''\u001b[0m\u001b[1;33m)\u001b[0m\u001b[1;33m)\u001b[0m\u001b[1;33m\u001b[0m\u001b[0m\n\u001b[0m\u001b[0;32m      4\u001b[0m \u001b[1;33m\u001b[0m\u001b[0m\n\u001b[0;32m      5\u001b[0m \u001b[0mLinuxtoWindow\u001b[0m\u001b[1;33m(\u001b[0m\u001b[0mresult\u001b[0m\u001b[1;33m[\u001b[0m\u001b[1;36m1\u001b[0m\u001b[1;33m]\u001b[0m\u001b[1;33m)\u001b[0m\u001b[1;33m\u001b[0m\u001b[0m\n",
      "\u001b[1;31mIndexError\u001b[0m: list index out of range"
     ]
    }
   ],
   "source": [
    "def LinuxtoWindow(Linuxpath):\n",
    "    SplitLinux = Linuxpath.split('/')\n",
    "    return (r\"\\\\\" + os.path.join(SplitLinux[1], SplitLinux[2],SplitLinux[3],SplitLinux[4], SplitLinux[5],SplitLinux[6],SplitLinux[7],''))\n",
    "\n",
    "LinuxtoWindow(result[1])"
   ]
  },
  {
   "cell_type": "code",
   "execution_count": 7,
   "metadata": {},
   "outputs": [
    {
     "data": {
      "text/plain": [
       "[u'',\n",
       " u'allen',\n",
       " u'programs',\n",
       " u'celltypes',\n",
       " u'production',\n",
       " u'mousecelltypes',\n",
       " u'prod120',\n",
       " u'specimen_601790148',\n",
       " u'']"
      ]
     },
     "execution_count": 7,
     "metadata": {},
     "output_type": "execute_result"
    }
   ],
   "source": [
    "result['storage_directory'].split('/')"
   ]
  },
  {
   "cell_type": "code",
   "execution_count": 8,
   "metadata": {},
   "outputs": [
    {
     "name": "stdout",
     "output_type": "stream",
     "text": [
      "Enter Specimen Name for Composite Image: H17.26.003.11.15.02\n",
      "Could not find file path for this cell\n"
     ]
    }
   ],
   "source": [
    "import json\n",
    "import pandas as pd\n",
    "import matplotlib.pyplot as plt\n",
    "import os\n",
    "import pg8000\n",
    "\n",
    "def LinuxtoWindow(Linuxpath):\n",
    "    #sorts out the paths listed in LIMS\n",
    "    \n",
    "    SplitLinux = Linuxpath.split('/')\n",
    "    if 'allen' in Linuxpath:\n",
    "        return (r\"\\\\\" + os.path.join(SplitLinux[0], SplitLinux[1],SplitLinux[2], 'celltypes',SplitLinux[4],SplitLinux[5],SplitLinux[6],SplitLinux[7],''))\n",
    "    else:\n",
    "        return (r\"\\\\\" + os.path.join(SplitLinux[0],'allen','programs','celltypes', 'production',\n",
    "                                     SplitLinux[2], SplitLinux[4],SplitLinux[5],''))\n",
    "\n",
    "#collect specimen name from user\n",
    "sample = raw_input('Enter Specimen Name for Composite Image: ')\n",
    "#capitalize first letter for search\n",
    "sample = sample[0].upper() + sample[1:].strip()\n",
    "\n",
    "\n",
    "conn = pg8000.connect(user=\"limsreader\", host=\"limsdb2\", database=\"lims2\", password=\"limsro\", port=5432)\n",
    "cur = conn.cursor()\n",
    "\n",
    "cur.execute(\"select s.id, s.storage_directory from specimens s where s.name ilike %s\", ('%' + sample,))\n",
    "result = cur.fetchone()\n",
    "if result is None:\n",
    "    print \"Could not find specimen result for \" + sample + \". Skipping...\"\n",
    "\n",
    "if result[1] is not None:\n",
    "    \n",
    "    \n",
    "    stor_dir_win = LinuxtoWindow(result[1])\n",
    "    json_path = stor_dir_win + 'EPHYS_COMPOSITE_IMAGE_' + str(result[0]) + '_input.json'\n",
    "    png_path = stor_dir_win + 'composite_image.png'\n",
    "\n",
    "    os.startfile(png_path)\n",
    "\n",
    "    with open(json_path) as data_file:    \n",
    "        data = json.load(data_file)\n",
    "\n",
    "    corner_df = pd.DataFrame(columns = ['Image Path','ID','Coord_x','Coord_y','Symbol','Color'])\n",
    "    j=0\n",
    "    for i in data['corners']:\n",
    "        if 'failed' in i:\n",
    "            corner_df.loc[j] = i,None,data['corners'][i]['x'],data['corners'][i]['y'],'D','r'\n",
    "        else:\n",
    "            corner_df.loc[j] = i,None,data['corners'][i]['x'],data['corners'][i]['y'],'s','k'\n",
    "        j +=1\n",
    "    for i in data['recorded_cells']:\n",
    "        corner_df.loc[j] = i,data['recorded_cells'][i]['name'][-3:],data['recorded_cells'][i]['x'],data['recorded_cells'][i]['y'],'o','g'\n",
    "        j += 1\n",
    "\n",
    "    for i in range(len(corner_df)):\n",
    "        plt.plot(corner_df['Coord_x'][i],corner_df['Coord_y'][i],marker = corner_df['Symbol'][i], c = corner_df['Color'][i])\n",
    "        if corner_df['Symbol'][i] == 'o':\n",
    "            plt.annotate(corner_df['ID'][i], xy=(corner_df['Coord_x'][i],corner_df['Coord_y'][i]))\n",
    "\n",
    "\n",
    "    plt.show()\n",
    "    plt.clf()\n",
    "\n",
    "elif result[1] is None:\n",
    "    print \"Could not find file path for this cell\"\n",
    "    "
   ]
  },
  {
   "cell_type": "code",
   "execution_count": 50,
   "metadata": {
    "collapsed": true
   },
   "outputs": [],
   "source": [
    "sample = 'Pvalb-IRES-Cre;Ai14-359337.04.02.01'"
   ]
  },
  {
   "cell_type": "code",
   "execution_count": 14,
   "metadata": {},
   "outputs": [
    {
     "data": {
      "text/plain": [
       "'H17.26.003.11.15.02'"
      ]
     },
     "execution_count": 14,
     "metadata": {},
     "output_type": "execute_result"
    }
   ],
   "source": [
    "sample[0].upper() + sample[1:].strip()"
   ]
  },
  {
   "cell_type": "code",
   "execution_count": 24,
   "metadata": {
    "collapsed": true
   },
   "outputs": [],
   "source": [
    "query = (\"select cell.id, cell.storage_directory from ephys_roi_results where cell.name ilike %s\")"
   ]
  },
  {
   "cell_type": "code",
   "execution_count": 61,
   "metadata": {},
   "outputs": [],
   "source": [
    "conn = pg8000.connect(user=\"limsreader\", host=\"limsdb2\", database=\"lims2\", password=\"limsro\", port=5432)\n",
    "cur = conn.cursor()\n",
    "\n",
    "cur.execute(\"SELECT s.name, s.ephys_roi_result_id, s.id FROM specimens s WHERE s.name iLIKE %s\", ('%' + sample,))\n",
    "result = cur.fetchone()\n",
    "\n",
    "cur.execute(\"SELECT f.filename, f.storage_directory FROM well_known_files f \\\n",
    "                     WHERE f.attachable_type = 'EphysRoiResult' AND f.attachable_id = %s AND f.filename LIKE '%%ephys_features.json'\", \n",
    "                     (650077353,))\n",
    "results = cur.fetchone()\n"
   ]
  },
  {
   "cell_type": "code",
   "execution_count": 62,
   "metadata": {},
   "outputs": [],
   "source": [
    "results"
   ]
  },
  {
   "cell_type": "code",
   "execution_count": 7,
   "metadata": {},
   "outputs": [
    {
     "ename": "WindowsError",
     "evalue": "[Error 2] The system cannot find the file specified: '\\\\\\\\allen\\\\programs\\\\celltypes\\\\production\\\\mousecelltypes\\\\prod457\\\\Ephys_Specimen_Roi_plan_484566220\\\\composite_image.png'",
     "output_type": "error",
     "traceback": [
      "\u001b[1;31m---------------------------------------------------------------------------\u001b[0m",
      "\u001b[1;31mWindowsError\u001b[0m                              Traceback (most recent call last)",
      "\u001b[1;32m<ipython-input-7-3f636c5c7cbb>\u001b[0m in \u001b[0;36m<module>\u001b[1;34m()\u001b[0m\n\u001b[0;32m      4\u001b[0m \u001b[0mpng_path\u001b[0m \u001b[1;33m=\u001b[0m \u001b[0mstor_dir_win\u001b[0m \u001b[1;33m+\u001b[0m \u001b[1;34m'composite_image.png'\u001b[0m\u001b[1;33m\u001b[0m\u001b[0m\n\u001b[0;32m      5\u001b[0m \u001b[1;33m\u001b[0m\u001b[0m\n\u001b[1;32m----> 6\u001b[1;33m \u001b[0mos\u001b[0m\u001b[1;33m.\u001b[0m\u001b[0mstartfile\u001b[0m\u001b[1;33m(\u001b[0m\u001b[0mpng_path\u001b[0m\u001b[1;33m)\u001b[0m\u001b[1;33m\u001b[0m\u001b[0m\n\u001b[0m\u001b[0;32m      7\u001b[0m \u001b[1;33m\u001b[0m\u001b[0m\n\u001b[0;32m      8\u001b[0m \u001b[1;32mwith\u001b[0m \u001b[0mopen\u001b[0m\u001b[1;33m(\u001b[0m\u001b[0mjson_path\u001b[0m\u001b[1;33m)\u001b[0m \u001b[1;32mas\u001b[0m \u001b[0mdata_file\u001b[0m\u001b[1;33m:\u001b[0m\u001b[1;33m\u001b[0m\u001b[0m\n",
      "\u001b[1;31mWindowsError\u001b[0m: [Error 2] The system cannot find the file specified: '\\\\\\\\allen\\\\programs\\\\celltypes\\\\production\\\\mousecelltypes\\\\prod457\\\\Ephys_Specimen_Roi_plan_484566220\\\\composite_image.png'"
     ]
    }
   ],
   "source": [
    "stor_dir_win = LinuxtoWindow('/projects/mousecelltypes/vol1/prod457/Ephys_Specimen_Roi_plan_484566220/')\n",
    "#LinuxtoWindow(result[1])\n",
    "json_path = stor_dir_win + 'EPHYS_COMPOSITE_IMAGE_' + str(result[0]) + '_input.json'\n",
    "png_path = stor_dir_win + 'composite_image.png'\n",
    "\n",
    "os.startfile(png_path)\n",
    "\n",
    "with open(json_path) as data_file:    \n",
    "    data = json.load(data_file)\n",
    "\n",
    "corner_df = pd.DataFrame(columns = ['Image Path','ID','Coord_x','Coord_y','Symbol','Color'])\n",
    "j=0\n",
    "for i in data['corners']:\n",
    "    if 'failed' in i:\n",
    "        corner_df.loc[j] = i,None,data['corners'][i]['x'],data['corners'][i]['y'],'D','r'\n",
    "    else:\n",
    "        corner_df.loc[j] = i,None,data['corners'][i]['x'],data['corners'][i]['y'],'s','k'\n",
    "    j +=1\n",
    "for i in data['recorded_cells']:\n",
    "    corner_df.loc[j] = i,data['recorded_cells'][i]['name'][-3:],data['recorded_cells'][i]['x'],data['recorded_cells'][i]['y'],'o','g'\n",
    "    j += 1\n",
    "\n",
    "for i in range(len(corner_df)):\n",
    "    plt.plot(corner_df['Coord_x'][i],corner_df['Coord_y'][i],marker = corner_df['Symbol'][i], c = corner_df['Color'][i])\n",
    "    if corner_df['Symbol'][i] == 'o':\n",
    "        plt.annotate(corner_df['ID'][i], xy=(corner_df['Coord_x'][i],corner_df['Coord_y'][i]))\n",
    "\n",
    "\n",
    "plt.show()\n",
    "plt.clf()\n"
   ]
  },
  {
   "cell_type": "code",
   "execution_count": null,
   "metadata": {
    "collapsed": true
   },
   "outputs": [],
   "source": [
    "st"
   ]
  }
 ],
 "metadata": {
  "kernelspec": {
   "display_name": "Python 2",
   "language": "python",
   "name": "python2"
  },
  "language_info": {
   "codemirror_mode": {
    "name": "ipython",
    "version": 2
   },
   "file_extension": ".py",
   "mimetype": "text/x-python",
   "name": "python",
   "nbconvert_exporter": "python",
   "pygments_lexer": "ipython2",
   "version": "2.7.13"
  }
 },
 "nbformat": 4,
 "nbformat_minor": 2
}
