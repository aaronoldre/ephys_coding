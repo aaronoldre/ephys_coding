{
 "cells": [
  {
   "cell_type": "code",
   "execution_count": 1,
   "metadata": {
    "collapsed": true
   },
   "outputs": [],
   "source": [
    "import allensdk_lims.internal.core.lims_utilities as lu\n",
    "from allensdk.core.nwb_data_set import NwbDataSet\n",
    "from allensdk.ephys.extract_cell_features import extract_cell_features\n",
    "\n",
    "import os\n",
    "import numpy as np\n",
    "import pandas as pd\n",
    "from collections import defaultdict\n",
    "import json\n",
    "import pg8000\n",
    "\n",
    "\n",
    "import seaborn as sns\n",
    "import matplotlib.pyplot as plt\n",
    "%matplotlib inline\n",
    "import warnings\n",
    "warnings.filterwarnings('ignore')\n",
    "\n"
   ]
  },
  {
   "cell_type": "code",
   "execution_count": 176,
   "metadata": {
    "collapsed": true
   },
   "outputs": [],
   "source": [
    "#create dataframe that contains all the metadata of the experiments plus the ephys features from showcase work\n",
    "#this might be easiest to just do from a spreadsheet\n",
    "donor_df = pd.read_csv('donor_info.csv')\n",
    "\n",
    "#convert date string to usable format\n",
    "from datetime import datetime\n",
    "for i,date in enumerate(donor_df['Collection_Date']):\n",
    "    donor_df['Collection_Date'][i] = datetime.strptime(date,\"%m/%d/%Y\")\n",
    "\n",
    "df = pd.read_csv('custom_report.csv')\n"
   ]
  },
  {
   "cell_type": "code",
   "execution_count": 177,
   "metadata": {
    "collapsed": true
   },
   "outputs": [],
   "source": [
    "def LinuxtoWindow(Linuxpath):\n",
    "    SplitLinux = Linuxpath.split('/')\n",
    "    return (r\"\\\\\" + os.path.join('titan','cns', SplitLinux[2], SplitLinux[4],SplitLinux[5],''))\n",
    "\n",
    "def get_spec_name(specimen):\n",
    "    conn = pg8000.connect(user=\"limsreader\", host=\"limsdb2\", database=\"lims2\", password=\"limsro\", port=5432)\n",
    "    cur = conn.cursor()\n",
    "    \n",
    "    cur.execute(\"SELECT s.name, s.ephys_roi_result_id, s.id FROM specimens s WHERE s.name LIKE %s\", ('%' + specimen,))\n",
    "    result = cur.fetchone()\n",
    "    if result is None:\n",
    "        print \"Could not find specimen result for \" + specimen + \". Skipping...\"\n",
    "        return None\n",
    "    specimen_name = result[0]\n",
    "    ephys_roi_result_id = result[1]\n",
    "\n",
    "\n",
    "    cur.execute(\"SELECT f.filename, f.storage_directory FROM well_known_files f \\\n",
    "                 WHERE f.attachable_type = 'EphysRoiResult' AND f.attachable_id = %s AND f.filename LIKE '%%ephys_features.json'\", \n",
    "                 (ephys_roi_result_id,))\n",
    "    result = cur.fetchone()\n",
    "    if result is None:\n",
    "        print \"Could not find json file for \" + specimen + \". Skipping...\"\n",
    "        return None\n",
    "    WinP = LinuxtoWindow(result[1])\n",
    "    json_path = WinP + result[0]\n",
    "\n",
    "    return json_path\n",
    "    conn.close()\n",
    "    cur.close()\n",
    "\n",
    "def json_feature_parse(file_name):\n",
    "    with open(file_name, 'r') as f:\n",
    "        data = json.load(f)\n",
    "    path = data['specimens'][0]['cell_ephys_features']\n",
    "    specimen_id = data['id']\n",
    "    \n",
    "    features = []\n",
    "    tau = path['long_squares']['tau']\n",
    "    features.append(tau)\n",
    "    sag = path['long_squares']['sag']\n",
    "    features.append(sag)\n",
    "    ri = path['long_squares']['input_resistance']\n",
    "    features.append(ri)\n",
    "    sag_amp =path['long_squares']['v_baseline'] - (path['long_squares']['vm_for_sag']*sag)\n",
    "    features.append(sag_amp)\n",
    "    ISI_mean = path['long_squares']['hero_sweep']['mean_isi']\n",
    "    features.append(ISI_mean)\n",
    "    adaptation_index = path['long_squares']['hero_sweep']['adapt']\n",
    "    features.append(adaptation_index)\n",
    "    capacitance = tau/ri*1000\n",
    "    features.append(capacitance)\n",
    "    AP_LS_amp = path['long_squares']['hero_sweep']['spikes'][0]['peak_v'] - path['long_squares']['hero_sweep']['spikes'][0]['threshold_v']\n",
    "    features.append(AP_LS_amp)\n",
    "    AP_SS_amp = path['short_squares']['mean_spike_0']['peak_v'] - path['short_squares']['mean_spike_0']['threshold_v']\n",
    "    features.append(AP_SS_amp)\n",
    "    upstroke_downstroke_ratio = path['long_squares']['rheobase_sweep']['spikes'][0]['upstroke_downstroke_ratio']\n",
    "    features.append(upstroke_downstroke_ratio)\n",
    "    v_rest = path['long_squares']['v_baseline']\n",
    "    features.append(v_rest)\n",
    "    rheobase_sweep = path['long_squares']['rheobase_sweep']['id']\n",
    "    features.append(rheobase_sweep)\n",
    "    ss_latency= path['short_squares']['common_amp_sweeps'][0]['latency']\n",
    "    features.append(ss_latency)\n",
    "    ls_latency = path['long_squares']['hero_sweep']['latency']\n",
    "    features.append(ls_latency)\n",
    "    instant_sweep = path['short_squares']['common_amp_sweeps'][0]['id']\n",
    "    features.append(instant_sweep)\n",
    "    rheobase_i = path['long_squares']['rheobase_i']\n",
    "    features.append(rheobase_i)\n",
    "    hero_rate = path['long_squares']['hero_sweep']['avg_rate']\n",
    "    features.append(hero_rate)\n",
    "    spikes = path['long_squares']['hero_sweep']['spikes']\n",
    "    fast_trough = path['long_squares']['hero_sweep']['spikes'][0]['fast_trough_v']\n",
    "    features.append(fast_trough)\n",
    "    hero_sweep = path['long_squares']['hero_sweep']['id']\n",
    "    features.append(hero_sweep)\n",
    "    hero_ap_peak_t = path['long_squares']['hero_sweep']['spikes'][0]['peak_t']\n",
    "    features.append(hero_ap_peak_t)\n",
    "    hero_ap_threshold_v = path['long_squares']['hero_sweep']['spikes'][0]['threshold_v']\n",
    "    features.append(hero_ap_threshold_v)\n",
    "    IH = {i['id']:i['stim_amp'] for i in path['long_squares']['subthreshold_membrane_property_sweeps'] }\n",
    "    features.append(IH)\n",
    "\n",
    "    return features  "
   ]
  },
  {
   "cell_type": "code",
   "execution_count": 178,
   "metadata": {
    "collapsed": false
   },
   "outputs": [],
   "source": [
    "#SQL query from David to get NWB file paths\n",
    "query = \"\"\"\n",
    "select wkf.storage_directory || wkf.filename as nwb_path, sp.id as specimen_id, sp.name as specimen_name\n",
    "from well_known_files wkf \n",
    "join ephys_roi_results err on wkf.attachable_id = err.id\n",
    "join specimens sp on sp.ephys_roi_result_id = err.id\n",
    "where wkf.well_known_file_type_id = 475137571\n",
    "and err.workflow_state = 'manual_passed'\n",
    "\n",
    "\"\"\"\n",
    "nwb_files = lu.query(query)\n",
    "\n",
    "nwb_df = pd.DataFrame(nwb_files)\n",
    "\n",
    "for i,cell in enumerate(df['cell_specimen_id']):\n",
    "    try:\n",
    "        df['nwb_filename'][i] = nwb_df['nwb_path'][nwb_df.specimen_id == cell].iloc[0]\n",
    "        df['nwb_filename'][i] = lu.linux_to_windows(df['nwb_filename'][i])\n",
    "    except IndexError:\n",
    "        pass"
   ]
  },
  {
   "cell_type": "code",
   "execution_count": 179,
   "metadata": {
    "collapsed": false,
    "scrolled": false
   },
   "outputs": [],
   "source": [
    "new_columns = ['tau','sag','ri','sag_amp','ISI_mean','adaptation_index',\n",
    "               'capacitance','AP_amp_LS','AP_amp_SS','upstroke_downstroke_ratio','v_rest',\n",
    "               'rheobase_sweep','ss_latency','ls_latency','instant_sweep','rheobase_i', \n",
    "               'hero_rate','fast_trough','hero_sweep',\n",
    "               'hero_ap_peak_t','hero_ap_threshold_v','layer','dendrite_type',\n",
    "              'surgeon', 'hospital', 'surgery', 'surgery_date','donor', 'json_path']\n",
    "\n",
    "for key in new_columns:\n",
    "    df[key] = None\n",
    "\n",
    "for i,cell in enumerate(df['cell_specimen_name']):\n",
    "    if df['ephys_qc'][i] == 'manual_passed':\n",
    "        df['donor'][i] = cell[:10]\n",
    "        df['surgeon'][i] = donor_df['Surgeon'][donor_df.Specimen_ID_Number == df['donor'][i]].iloc[0]\n",
    "        df['hospital'][i] = donor_df['Hospital_ID'][donor_df.Specimen_ID_Number == df['donor'][i]].iloc[0]\n",
    "        df['surgery'][i] = donor_df['Surgery_type'][donor_df.Specimen_ID_Number == df['donor'][i]].iloc[0]\n",
    "        df['surgery_date'][i] = donor_df['Collection_Date'][donor_df.Specimen_ID_Number == df['donor'][i]].iloc[0]\n",
    "        df['json_path'].iloc[i] = str(get_spec_name(cell))\n",
    "        json_features = json_feature_parse(df['json_path'].iloc[i])\n",
    "        for j, heading in enumerate(new_columns[:-8]):\n",
    "            #print heading\n",
    "            df[heading][i] = json_features[j]"
   ]
  },
  {
   "cell_type": "code",
   "execution_count": 46,
   "metadata": {
    "collapsed": false
   },
   "outputs": [],
   "source": [
    "surgeons = {'Ko' : 'slategrey',\n",
    "          'Cobbs' : 'firebrick',\n",
    "          'Gwinn' : 'royalblue',\n",
    "          'Ojemann' : 'darkorange'}\n",
    "\n",
    "hospitals = {'Swedish' : 'darkviolet',\n",
    "             'Harborview' : 'seagreen'}\n",
    "\n",
    "surgerys = {'epilepsy' : 'crimson',\n",
    "           'Tumor' : 'aqua',\n",
    "           'other' : 'powderblue'}\n"
   ]
  },
  {
   "cell_type": "code",
   "execution_count": 185,
   "metadata": {
    "collapsed": false
   },
   "outputs": [],
   "source": [
    "new_columns = ['day', 'day_color', 'surgeon_color', 'hospital_color', 'surgery_color']\n",
    "\n",
    "for key in new_columns:\n",
    "    df[key] = None\n",
    "\n",
    "for i in range(len(df)):\n",
    "    df['surgeon_color'][i] = surgeons[df['surgeon'][i]]\n",
    "    df['hospital_color'][i] = hospitals[df['hospital'][i]]\n",
    "    df['surgery_color'][i] = surgerys[df['surgery'][i]]"
   ]
  },
  {
   "cell_type": "code",
   "execution_count": 227,
   "metadata": {
    "collapsed": false
   },
   "outputs": [],
   "source": [
    "df.to_pickle('human_data')"
   ]
  },
  {
   "cell_type": "code",
   "execution_count": 231,
   "metadata": {
    "collapsed": false
   },
   "outputs": [
    {
     "data": {
      "text/plain": [
       "<matplotlib.text.Text at 0x165b9fd0>"
      ]
     },
     "execution_count": 231,
     "metadata": {},
     "output_type": "execute_result"
    },
    {
     "data": {
      "image/png": "[encoded data removed]",
      "text/plain": [
       "<matplotlib.figure.Figure at 0x15a93358>"
      ]
     },
     "metadata": {},
     "output_type": "display_data"
    }
   ],
   "source": [
    "plt.scatter(df['v_rest'], df['rheobase_i'], color = df['surgery_color'])\n",
    "plt.xlabel('RMP (mV)')\n",
    "plt.ylabel('Rheobase (pA)')"
   ]
  },
  {
   "cell_type": "code",
   "execution_count": 232,
   "metadata": {
    "collapsed": false
   },
   "outputs": [
    {
     "data": {
      "text/plain": [
       "<matplotlib.text.Text at 0x10ea47b8>"
      ]
     },
     "execution_count": 232,
     "metadata": {},
     "output_type": "execute_result"
    },
    {
     "data": {
      "image/png": "[encoded data removed]",
      "text/plain": [
       "<matplotlib.figure.Figure at 0x10e86198>"
      ]
     },
     "metadata": {},
     "output_type": "display_data"
    }
   ],
   "source": [
    "plt.scatter(df['fast_trough'], df['upstroke_downstroke_ratio'], color = df['surgery_color'])\n",
    "plt.xlabel('Fast Trough Depth (mV)')\n",
    "plt.ylabel('Upstroke Downstroke Ratio')"
   ]
  },
  {
   "cell_type": "code",
   "execution_count": 224,
   "metadata": {
    "collapsed": false
   },
   "outputs": [],
   "source": [
    "for i,date in enumerate(df['recording_date']):\n",
    "    df['day'][i] = (date - df['surgery_date'][i]).days + 1 \n",
    "    if df['day'][i] == 1:\n",
    "        df['day_color'][i] = 'limegreen'\n",
    "    elif df['day'][i] == 2:\n",
    "        df['day_color'][i] = 'chocolate'\n",
    "    elif df['day'][i] > 2:\n",
    "        df['day_color'][i] = 'darkred'"
   ]
  },
  {
   "cell_type": "code",
   "execution_count": 215,
   "metadata": {
    "collapsed": false
   },
   "outputs": [
    {
     "ename": "TypeError",
     "evalue": "can't compare datetime.timedelta to int",
     "output_type": "error",
     "traceback": [
      "\u001b[1;31m---------------------------------------------------------------------------\u001b[0m",
      "\u001b[1;31mTypeError\u001b[0m                                 Traceback (most recent call last)",
      "\u001b[1;32m<ipython-input-215-3f3fbb60a049>\u001b[0m in \u001b[0;36m<module>\u001b[1;34m()\u001b[0m\n\u001b[1;32m----> 1\u001b[1;33m \u001b[1;32mif\u001b[0m \u001b[0mdf\u001b[0m\u001b[1;33m[\u001b[0m\u001b[1;34m'day'\u001b[0m\u001b[1;33m]\u001b[0m\u001b[1;33m[\u001b[0m\u001b[1;36m0\u001b[0m\u001b[1;33m]\u001b[0m \u001b[1;33m>\u001b[0m \u001b[1;36m1\u001b[0m\u001b[1;33m:\u001b[0m\u001b[1;33m\u001b[0m\u001b[0m\n\u001b[0m\u001b[0;32m      2\u001b[0m     \u001b[1;32mprint\u001b[0m \u001b[1;34m'day'\u001b[0m\u001b[1;33m\u001b[0m\u001b[0m\n",
      "\u001b[1;31mTypeError\u001b[0m: can't compare datetime.timedelta to int"
     ]
    }
   ],
   "source": [
    "if df['day'][0] > datetime.datetime(1:\n",
    "    print 'day'"
   ]
  },
  {
   "cell_type": "code",
   "execution_count": 223,
   "metadata": {
    "collapsed": false
   },
   "outputs": [
    {
     "data": {
      "text/plain": [
       "0"
      ]
     },
     "execution_count": 223,
     "metadata": {},
     "output_type": "execute_result"
    }
   ],
   "source": [
    "(date - df['surgery_date'][i]).days"
   ]
  },
  {
   "cell_type": "code",
   "execution_count": 219,
   "metadata": {
    "collapsed": false
   },
   "outputs": [
    {
     "name": "stdout",
     "output_type": "stream",
     "text": [
      "Object `datetime.timedelta` not found.\n"
     ]
    }
   ],
   "source": [
    "datetime.timedelta?"
   ]
  },
  {
   "cell_type": "code",
   "execution_count": null,
   "metadata": {
    "collapsed": true
   },
   "outputs": [],
   "source": []
  }
 ],
 "metadata": {
  "kernelspec": {
   "display_name": "Python [Root]",
   "language": "python",
   "name": "Python [Root]"
  },
  "language_info": {
   "codemirror_mode": {
    "name": "ipython",
    "version": 2
   },
   "file_extension": ".py",
   "mimetype": "text/x-python",
   "name": "python",
   "nbconvert_exporter": "python",
   "pygments_lexer": "ipython2",
   "version": "2.7.12"
  }
 },
 "nbformat": 4,
 "nbformat_minor": 0
}
