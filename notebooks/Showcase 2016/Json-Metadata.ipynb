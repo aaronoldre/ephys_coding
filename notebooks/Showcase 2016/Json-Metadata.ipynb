{
 "cells": [
  {
   "cell_type": "code",
   "execution_count": 164,
   "metadata": {
    "collapsed": true
   },
   "outputs": [],
   "source": [
    "import pandas as pd\n",
    "import numpy as np\n",
    "import matplotlib.pyplot as plt\n",
    "from datetime import datetime\n",
    "from datetime import timedelta\n",
    "%matplotlib inline\n",
    "\n",
    "import warnings\n",
    "warnings.filterwarnings('ignore')"
   ]
  },
  {
   "cell_type": "code",
   "execution_count": 144,
   "metadata": {
    "collapsed": true
   },
   "outputs": [],
   "source": [
    "import allensdk_lims.internal.core.lims_utilities as lu\n",
    "from allensdk.core.nwb_data_set import NwbDataSet\n",
    "from allensdk.ephys.extract_cell_features import extract_cell_features\n",
    "\n",
    "import os\n",
    "from collections import defaultdict\n",
    "import json\n",
    "import pg8000"
   ]
  },
  {
   "cell_type": "markdown",
   "metadata": {},
   "source": [
    "1. import json files so we can get cell level qc data\n",
    "2. look at 2015 and then 2016 pass/fails and add annotations for move, new hires, personal changes, increased mice, pilots, project milestones\n",
    "3. change histos to heatmaps\n",
    "4. improve data vis\n",
    "5. check slice on rig to last known time"
   ]
  },
  {
   "cell_type": "code",
   "execution_count": 142,
   "metadata": {
    "collapsed": true
   },
   "outputs": [],
   "source": [
    "def get_spec_name(specimen):\n",
    "    conn = pg8000.connect(user=\"limsreader\", host=\"limsdb2\", database=\"lims2\", password=\"limsro\", port=5432)\n",
    "    cur = conn.cursor()\n",
    "    \n",
    "    cur.execute(\"SELECT s.name, s.ephys_roi_result_id, s.id FROM specimens s WHERE s.name LIKE %s\", ('%' + specimen,))\n",
    "    result = cur.fetchone()\n",
    "    if result is None:\n",
    "        print \"Could not find specimen result for \" + specimen + \". Skipping...\"\n",
    "        return None\n",
    "    specimen_name = result[0]\n",
    "    ephys_roi_result_id = result[1]\n",
    "\n",
    "\n",
    "    cur.execute(\"SELECT f.filename, f.storage_directory FROM well_known_files f \\\n",
    "                 WHERE f.attachable_type = 'EphysRoiResult' AND f.attachable_id = %s AND f.filename LIKE '%%ephys_features.json'\", \n",
    "                 (ephys_roi_result_id,))\n",
    "    result = cur.fetchone()\n",
    "    if result is None:\n",
    "        print \"Could not find json file for \" + specimen + \". Skipping...\"\n",
    "        return None\n",
    "    WinP = LinuxtoWindow(result[1])\n",
    "    json_path = WinP + result[0]\n",
    "\n",
    "    return json_path\n",
    "    conn.close()\n",
    "    \n",
    "def LinuxtoWindow(Linuxpath):\n",
    "    SplitLinux = Linuxpath.split('/')\n",
    "    return (r\"\\\\\" + os.path.join('titan','cns', SplitLinux[2], SplitLinux[4],SplitLinux[5],''))\n"
   ]
  },
  {
   "cell_type": "code",
   "execution_count": 168,
   "metadata": {
    "collapsed": false,
    "scrolled": true
   },
   "outputs": [
    {
     "ename": "ValueError",
     "evalue": "can only convert an array of size 1 to a Python scalar",
     "output_type": "error",
     "traceback": [
      "\u001b[1;31m---------------------------------------------------------------------------\u001b[0m",
      "\u001b[1;31mValueError\u001b[0m                                Traceback (most recent call last)",
      "\u001b[1;32m<ipython-input-168-8c11d3086869>\u001b[0m in \u001b[0;36m<module>\u001b[1;34m()\u001b[0m\n\u001b[0;32m     24\u001b[0m             \u001b[1;32mwith\u001b[0m \u001b[0mopen\u001b[0m\u001b[1;33m(\u001b[0m\u001b[0mdf\u001b[0m\u001b[1;33m[\u001b[0m\u001b[1;34m'json_path'\u001b[0m\u001b[1;33m]\u001b[0m\u001b[1;33m[\u001b[0m\u001b[0mi\u001b[0m\u001b[1;33m]\u001b[0m\u001b[1;33m,\u001b[0m \u001b[1;34m'r'\u001b[0m\u001b[1;33m)\u001b[0m \u001b[1;32mas\u001b[0m \u001b[0mf\u001b[0m\u001b[1;33m:\u001b[0m\u001b[1;33m\u001b[0m\u001b[0m\n\u001b[0;32m     25\u001b[0m                 \u001b[0mdata\u001b[0m \u001b[1;33m=\u001b[0m \u001b[0mjson\u001b[0m\u001b[1;33m.\u001b[0m\u001b[0mload\u001b[0m\u001b[1;33m(\u001b[0m\u001b[0mf\u001b[0m\u001b[1;33m)\u001b[0m\u001b[1;33m\u001b[0m\u001b[0m\n\u001b[1;32m---> 26\u001b[1;33m             \u001b[0mdf\u001b[0m\u001b[1;33m[\u001b[0m\u001b[1;34m'qc_state'\u001b[0m\u001b[1;33m]\u001b[0m\u001b[1;33m[\u001b[0m\u001b[0mi\u001b[0m\u001b[1;33m]\u001b[0m \u001b[1;33m=\u001b[0m \u001b[0mcr\u001b[0m\u001b[1;33m.\u001b[0m\u001b[0mloc\u001b[0m\u001b[1;33m[\u001b[0m\u001b[0mcr\u001b[0m\u001b[1;33m[\u001b[0m\u001b[1;34m'cell_specimen_name'\u001b[0m\u001b[1;33m]\u001b[0m \u001b[1;33m==\u001b[0m \u001b[0mdf\u001b[0m\u001b[1;33m[\u001b[0m\u001b[1;34m'Specimen Name'\u001b[0m\u001b[1;33m]\u001b[0m\u001b[1;33m[\u001b[0m\u001b[0mi\u001b[0m\u001b[1;33m]\u001b[0m\u001b[1;33m,\u001b[0m\u001b[1;34m'ephys_qc'\u001b[0m\u001b[1;33m]\u001b[0m\u001b[1;33m.\u001b[0m\u001b[0mitem\u001b[0m\u001b[1;33m(\u001b[0m\u001b[1;33m)\u001b[0m\u001b[1;33m\u001b[0m\u001b[0m\n\u001b[0m\u001b[0;32m     27\u001b[0m             \u001b[0mdf\u001b[0m\u001b[1;33m[\u001b[0m\u001b[1;34m'seal'\u001b[0m\u001b[1;33m]\u001b[0m\u001b[1;33m[\u001b[0m\u001b[0mi\u001b[0m\u001b[1;33m]\u001b[0m \u001b[1;33m=\u001b[0m \u001b[0mdata\u001b[0m\u001b[1;33m[\u001b[0m\u001b[1;34m'seal_gohm'\u001b[0m\u001b[1;33m]\u001b[0m\u001b[1;33m\u001b[0m\u001b[0m\n\u001b[0;32m     28\u001b[0m             \u001b[0mdf\u001b[0m\u001b[1;33m[\u001b[0m\u001b[1;34m'access_res'\u001b[0m\u001b[1;33m]\u001b[0m\u001b[1;33m[\u001b[0m\u001b[0mi\u001b[0m\u001b[1;33m]\u001b[0m \u001b[1;33m=\u001b[0m \u001b[0mdata\u001b[0m\u001b[1;33m[\u001b[0m\u001b[1;34m'initial_access_resistance_mohm'\u001b[0m\u001b[1;33m]\u001b[0m\u001b[1;33m\u001b[0m\u001b[0m\n",
      "\u001b[1;32mC:\\Anaconda2\\lib\\site-packages\\pandas\\core\\base.pyc\u001b[0m in \u001b[0;36mitem\u001b[1;34m(self)\u001b[0m\n\u001b[0;32m    825\u001b[0m         \"\"\"\n\u001b[0;32m    826\u001b[0m         \u001b[1;32mtry\u001b[0m\u001b[1;33m:\u001b[0m\u001b[1;33m\u001b[0m\u001b[0m\n\u001b[1;32m--> 827\u001b[1;33m             \u001b[1;32mreturn\u001b[0m \u001b[0mself\u001b[0m\u001b[1;33m.\u001b[0m\u001b[0mvalues\u001b[0m\u001b[1;33m.\u001b[0m\u001b[0mitem\u001b[0m\u001b[1;33m(\u001b[0m\u001b[1;33m)\u001b[0m\u001b[1;33m\u001b[0m\u001b[0m\n\u001b[0m\u001b[0;32m    828\u001b[0m         \u001b[1;32mexcept\u001b[0m \u001b[0mIndexError\u001b[0m\u001b[1;33m:\u001b[0m\u001b[1;33m\u001b[0m\u001b[0m\n\u001b[0;32m    829\u001b[0m             \u001b[1;31m# copy numpy's message here because Py26 raises an IndexError\u001b[0m\u001b[1;33m\u001b[0m\u001b[1;33m\u001b[0m\u001b[0m\n",
      "\u001b[1;31mValueError\u001b[0m: can only convert an array of size 1 to a Python scalar"
     ]
    }
   ],
   "source": [
    "#load the JSON metadata csv as a df\n",
    "df = pd.read_csv('JSON-metadata.csv')\n",
    "\n",
    "#change the NaN to 0 in all time columns\n",
    "df['Approach Time'].fillna(0)\n",
    "df['End/Abort Time'].fillna(0)\n",
    "df['Slice on Rig Time'].fillna(0)\n",
    "\n",
    "cr = pd.read_csv('custom_report.csv')\n",
    "new_columns = ['qc_state','seal','json_path','access_res','access_ratio','blowout']\n",
    "\n",
    "for i in new_columns:\n",
    "    df[i] = None\n",
    "for i,time in enumerate(df['Approach Time']):\n",
    "    if time != 0:\n",
    "        df['Approach Time'][i] = datetime.strptime(time[:-3],\"%H:%M\")\n",
    "    if df['End/Abort Time'][i] != '0':\n",
    "        df['End/Abort Time'][i] = datetime.strptime(df['End/Abort Time'][i][:-3],\"%H:%M\")\n",
    "    if df['Slice on Rig Time'][i] != '0':\n",
    "        df['Slice on Rig Time'][i] = datetime.strptime(df['Slice on Rig Time'][i],\"%H:%M\")\n",
    "    if df['Outcome'][i] == 'SUCCESS':\n",
    "        df['json_path'][i] = get_spec_name(df['Specimen Name'][i])\n",
    "        if df['json_path'][i] != None:\n",
    "            with open(df['json_path'][i], 'r') as f:\n",
    "                data = json.load(f)\n",
    "            df['qc_state'][i] = cr.loc[cr['cell_specimen_name'] == df['Specimen Name'][i],'ephys_qc'].item()\n",
    "            df['seal'][i] = data['seal_gohm']\n",
    "            df['access_res'][i] = data['initial_access_resistance_mohm']\n",
    "            df['access_ratio'][i] = data['input_access_resistance_ratio']\n",
    "            df['blowout'][i] = data['blowout_mv']"
   ]
  },
  {
   "cell_type": "code",
   "execution_count": 178,
   "metadata": {
    "collapsed": false
   },
   "outputs": [
    {
     "name": "stdout",
     "output_type": "stream",
     "text": [
      "Ndnf-IRES2-dgCre;Ai14-290382.05.01.01\n"
     ]
    },
    {
     "data": {
      "text/html": [
       "<div>\n",
       "<table border=\"1\" class=\"dataframe\">\n",
       "  <thead>\n",
       "    <tr style=\"text-align: right;\">\n",
       "      <th></th>\n",
       "      <th>project</th>\n",
       "      <th>cell_specimen_id</th>\n",
       "      <th>cell_specimen_name</th>\n",
       "      <th>patched_cell_container</th>\n",
       "      <th>ephys_roi_result_id</th>\n",
       "      <th>recording_date</th>\n",
       "      <th>tcp_sop</th>\n",
       "      <th>ephys_qc</th>\n",
       "      <th>dendrite_type</th>\n",
       "      <th>apical</th>\n",
       "      <th>image_series_20x_id</th>\n",
       "      <th>image_series_20x_qc</th>\n",
       "      <th>image_series_63x_id</th>\n",
       "      <th>image_series_63x_qc</th>\n",
       "      <th>has_morph_thumb</th>\n",
       "      <th>nwb_filename</th>\n",
       "    </tr>\n",
       "  </thead>\n",
       "  <tbody>\n",
       "  </tbody>\n",
       "</table>\n",
       "</div>"
      ],
      "text/plain": [
       "Empty DataFrame\n",
       "Columns: [project, cell_specimen_id, cell_specimen_name, patched_cell_container, ephys_roi_result_id, recording_date, tcp_sop, ephys_qc, dendrite_type, apical, image_series_20x_id, image_series_20x_qc, image_series_63x_id, image_series_63x_qc, has_morph_thumb, nwb_filename]\n",
       "Index: []"
      ]
     },
     "execution_count": 178,
     "metadata": {},
     "output_type": "execute_result"
    }
   ],
   "source": [
    "#df['Specimen Name'][i]\n",
    "print df['Specimen Name'][12]\n",
    "cr[cr['cell_specimen_name'] == df['Specimen Name'][12]]"
   ]
  },
  {
   "cell_type": "code",
   "execution_count": 177,
   "metadata": {
    "collapsed": false
   },
   "outputs": [
    {
     "data": {
      "text/plain": [
       "True"
      ]
     },
     "execution_count": 177,
     "metadata": {},
     "output_type": "execute_result"
    }
   ],
   "source": [
    "df['Specimen Name'][12] == 'Ndnf-IRES2-dgCre;Ai14-290382.05.01.01'"
   ]
  },
  {
   "cell_type": "code",
   "execution_count": 114,
   "metadata": {
    "collapsed": false,
    "scrolled": true
   },
   "outputs": [
    {
     "data": {
      "text/plain": [
       "['apical',\n",
       " 'cell_specimen_id',\n",
       " 'cell_specimen_name',\n",
       " 'dendrite_type',\n",
       " 'ephys_qc',\n",
       " 'ephys_roi_result_id',\n",
       " 'has_morph_thumb',\n",
       " 'image_series_20x_id',\n",
       " 'image_series_20x_qc',\n",
       " 'image_series_63x_id',\n",
       " 'image_series_63x_qc',\n",
       " 'nwb_filename',\n",
       " 'patched_cell_container',\n",
       " 'project',\n",
       " 'recording_date',\n",
       " 'tcp_sop']"
      ]
     },
     "execution_count": 114,
     "metadata": {},
     "output_type": "execute_result"
    }
   ],
   "source": [
    "# how do I add the qc state and then have a searchable method for failure reasons?\n",
    "cr = pd.read_csv('custom_report.csv')\n",
    "new_columns = ['qc_state','seal','json_path','access_res','access_ratio','blowout']\n",
    "sorted(cr.columns)"
   ]
  },
  {
   "cell_type": "code",
   "execution_count": null,
   "metadata": {
    "collapsed": true
   },
   "outputs": [],
   "source": [
    "def json_feature_parse(file_name):\n",
    "    with open(file_name, 'r') as f:\n",
    "        data = json.load(f)\n",
    "    seal = data['seal_gohm']\n",
    "    access_res = data['initial_access_resistance_mohm']\n",
    "    access_ratio = data['input_access_resistance_ratio']\n",
    "    blowout = data['blowout_mv']\n",
    "    \n",
    "    "
   ]
  },
  {
   "cell_type": "code",
   "execution_count": 154,
   "metadata": {
    "collapsed": false
   },
   "outputs": [
    {
     "name": "stdout",
     "output_type": "stream",
     "text": [
      "Could not find specimen result for Sim1-Cre_KJ18;Ai14-281330.05.01.0. Skipping...\n",
      "None\n"
     ]
    }
   ],
   "source": [
    "file_name = get_spec_name('Sim1-Cre_KJ18;Ai14-281330.05.01.0')\n",
    "print file_name"
   ]
  },
  {
   "cell_type": "code",
   "execution_count": 151,
   "metadata": {
    "collapsed": false
   },
   "outputs": [
    {
     "data": {
      "text/plain": [
       "[u'blowout_mv',\n",
       " u'created_at',\n",
       " u'electrode_0_pa',\n",
       " u'ephys_qc_criteria',\n",
       " u'ephys_qc_criteria_id',\n",
       " u'ephys_specimen_roi_plan_id',\n",
       " u'failed_bad_rs',\n",
       " u'failed_clogged_pipette',\n",
       " u'failed_electrode_0',\n",
       " u'failed_no_seal',\n",
       " u'failed_other',\n",
       " u'id',\n",
       " u'initial_access_resistance_mohm',\n",
       " u'input_access_resistance_ratio',\n",
       " u'input_resistance_mohm',\n",
       " u'notes',\n",
       " u'published_at',\n",
       " u'qc_notes',\n",
       " u'recording_date',\n",
       " u'rig_name',\n",
       " u'sampling_rate',\n",
       " u'seal_gohm',\n",
       " u'specimen',\n",
       " u'specimens',\n",
       " u'stage1_reviewer_id',\n",
       " u'stage2_reviewer_id',\n",
       " u'storage_directory',\n",
       " u'updated_at',\n",
       " u'well_known_files',\n",
       " u'workflow_state']"
      ]
     },
     "execution_count": 151,
     "metadata": {},
     "output_type": "execute_result"
    }
   ],
   "source": [
    "sorted(data.keys())"
   ]
  },
  {
   "cell_type": "code",
   "execution_count": 124,
   "metadata": {
    "collapsed": false
   },
   "outputs": [
    {
     "data": {
      "image/png": "[encoded data removed]",
      "text/plain": [
       "<matplotlib.figure.Figure at 0x310795f8>"
      ]
     },
     "metadata": {},
     "output_type": "display_data"
    }
   ],
   "source": [
    "histo_df = df[df['Approach Time'] >=pd.Timestamp('1900-01-01 09:00:00')]\n",
    "histo_df = histo_df[histo_df['Approach Time'] < pd.Timestamp('1900-01-01 17:00:00')]\n",
    "\n",
    "ax = histo_df['Approach Time'].hist(bins = 48)\n",
    "#ax.set_xticks(rotation = 'vertical')"
   ]
  },
  {
   "cell_type": "markdown",
   "metadata": {},
   "source": [
    "# 1) Let's look at a heatmap of rig usage by operators"
   ]
  },
  {
   "cell_type": "code",
   "execution_count": 125,
   "metadata": {
    "collapsed": false
   },
   "outputs": [
    {
     "name": "stdout",
     "output_type": "stream",
     "text": [
      "DiJon Hill 24.0\n",
      "Lindsay Ng 22.0\n",
      "Lisa Kim 37.0\n",
      "Sam Josephsen 33.0\n"
     ]
    },
    {
     "data": {
      "text/plain": [
       "(array([ 693596.375     ,  693596.41666667,  693596.45833333,\n",
       "         693596.5       ,  693596.54166667,  693596.58333333,\n",
       "         693596.625     ,  693596.66666667,  693596.70833333]),\n",
       " <a list of 9 Text xticklabel objects>)"
      ]
     },
     "execution_count": 125,
     "metadata": {},
     "output_type": "execute_result"
    },
    {
     "data": {
      "image/png": "[encoded data removed]",
      "text/plain": [
       "<matplotlib.figure.Figure at 0xdb1c438>"
      ]
     },
     "metadata": {},
     "output_type": "display_data"
    }
   ],
   "source": [
    "from collections import Counter\n",
    "\n",
    "histo_df = df[df['Approach Time'] >=pd.Timestamp('1900-01-01 09:00:00')]\n",
    "histo_df = histo_df[histo_df['Approach Time'] <=pd.Timestamp('1900-01-01 18:00:00')]\n",
    "histo_df = histo_df[histo_df['End/Abort Time'] != '0']\n",
    "#only worried about mouse IVSCC for this\n",
    "histo_df = histo_df[histo_df['Cre Status'] != 'human']\n",
    "\n",
    "\n",
    "rig_ops = ['DiJon Hill', 'Lindsay Ng',\n",
    "       'Lisa Kim', 'Sam Josephsen']\n",
    "colors = ['blue', 'red', 'green', 'purple']\n",
    "\n",
    "\n",
    "for j, ops in enumerate(rig_ops):\n",
    "    total_time = []\n",
    "    temp_df = histo_df[histo_df['Rig Operator'] == ops]\n",
    "    for i in range(len(temp_df)):\n",
    "        time = temp_df['Approach Time'].iloc[i]\n",
    "        while time < temp_df['End/Abort Time'].iloc[i]:\n",
    "            total_time.append(time)\n",
    "            time += timedelta(minutes = 1)\n",
    "        \n",
    "    x_y = Counter(total_time)\n",
    "    max_alpha = float(np.max(x_y.values()))\n",
    "\n",
    "    for i in x_y:\n",
    "        #plt.plot_date(i, j, alpha = x_y[i]/max_alpha, color = colors[j])\n",
    "        #run a second time with the max value filled in by top user\n",
    "        plt.plot_date(i, j, alpha = float(x_y[i])/37, color = colors[j])\n",
    "\n",
    "    \n",
    "    print ops + ' ' + str(max_alpha)\n",
    "    \n",
    "plt.ylim(-.1,3.1)\n",
    "plt.xlim('1900-01-01 09:00:00','1900-01-01 17:30:00')\n",
    "plt.xticks(rotation = 'vertical')"
   ]
  },
  {
   "cell_type": "code",
   "execution_count": 115,
   "metadata": {
    "collapsed": false
   },
   "outputs": [
    {
     "data": {
      "text/plain": [
       "[<matplotlib.lines.Line2D at 0x309e4cf8>]"
      ]
     },
     "execution_count": 115,
     "metadata": {},
     "output_type": "execute_result"
    },
    {
     "data": {
      "image/png": "[encoded data removed]",
      "text/plain": [
       "<matplotlib.figure.Figure at 0xb96f198>"
      ]
     },
     "metadata": {},
     "output_type": "display_data"
    }
   ],
   "source": [
    "Counter(total_time).values()\n",
    "plt.plot_date(x_y.keys(),x_y.values())\n",
    "#add annotations to mouse start times?"
   ]
  },
  {
   "cell_type": "markdown",
   "metadata": {},
   "source": [
    "# 2) Why are cells not getting uploaded?"
   ]
  },
  {
   "cell_type": "code",
   "execution_count": 61,
   "metadata": {
    "collapsed": false
   },
   "outputs": [
    {
     "name": "stdout",
     "output_type": "stream",
     "text": [
      "2035\n",
      "1389\n",
      "1389\n"
     ]
    }
   ],
   "source": [
    "print len(histo_df)\n",
    "print len(histo_df[histo_df['Specimen Name'] == 'no cell'])\n",
    "print len(histo_df[histo_df['Outcome'] == 'FAILURE'])"
   ]
  },
  {
   "cell_type": "code",
   "execution_count": 92,
   "metadata": {
    "collapsed": false
   },
   "outputs": [],
   "source": [
    "failure = histo_df[histo_df['Outcome'] == 'FAILURE']\n",
    "\n",
    "#Pipette problems = Pipette Broken, Pipette Clogged, Pipette Resistance Out of Range\n",
    "#Seal problems = Seal Failed, Unstable Seal\n",
    "#Breakin failed = Breakin Failed\n",
    "#Bad Patch = Vrest out of range, access resistance out of range\n",
    "#Kitchen Sink = EVERYTHING IS TERRIBLE\n",
    "#unmarked problems\n",
    "\n",
    "failure['failure'] = None\n",
    "\n",
    "for i, event in enumerate(failure['Outcome Notes']):\n",
    "    if type(event) == str:\n",
    "        outcome = event.split(',')[0]\n",
    "        if outcome == 'Pipette Broken':\n",
    "            failure['failure'].iloc[i] = 'Pipette Problems'\n",
    "        elif outcome == 'Pipette Clogged':\n",
    "            failure['failure'].iloc[i] = 'Pipette Problems'\n",
    "        elif outcome == 'Pipette Resistance Out of Range':\n",
    "            failure['failure'].iloc[i] = 'Pipette Problems'\n",
    "        elif outcome == 'Seal Failed':\n",
    "            failure['failure'].iloc[i] = 'Seal Problems'\n",
    "        elif outcome == 'Unstable Seal':\n",
    "            failure['failure'].iloc[i] = 'Seal Problems'\n",
    "        elif outcome == 'Breakin Failed':\n",
    "            failure['failure'].iloc[i] = 'Breakin Failed'\n",
    "        elif outcome == 'Vrest Out of Range':\n",
    "            failure['failure'].iloc[i] = 'Bad Patch'\n",
    "        elif outcome == 'Access Resistance Out of Range':\n",
    "            failure['failure'].iloc[i] = 'Bad Patch'\n",
    "        elif outcome == 'EVERYTHING IS TERRIBLE':\n",
    "            failure['failure'].iloc[i] = 'Kitchen Sink'"
   ]
  },
  {
   "cell_type": "code",
   "execution_count": 141,
   "metadata": {
    "collapsed": false
   },
   "outputs": [
    {
     "data": {
      "text/plain": [
       "<matplotlib.text.Text at 0x34f7da20>"
      ]
     },
     "execution_count": 141,
     "metadata": {},
     "output_type": "execute_result"
    },
    {
     "data": {
      "image/png": "[encoded data removed]",
      "text/plain": [
       "<matplotlib.figure.Figure at 0x34f19860>"
      ]
     },
     "metadata": {},
     "output_type": "display_data"
    }
   ],
   "source": [
    "import seaborn\n",
    "categories = Counter(failure['failure'])\n",
    "plt.barh(np.arange(0,len(categories)),sorted(categories.values()), align = 'center')\n",
    "plt.yticks(np.arange(0,len(categories)),sorted(categories,key=categories.get))\n",
    "plt.title('No Experiment loaded to LIMS')\n",
    "plt.xlabel('Failed Attempts')"
   ]
  },
  {
   "cell_type": "code",
   "execution_count": 138,
   "metadata": {
    "collapsed": false
   },
   "outputs": [
    {
     "name": "stdout",
     "output_type": "stream",
     "text": [
      "['Kitchen Sink', 'Pipette Problems', 'Breakin Failed', None, 'Bad Patch', 'Seal Problems']\n",
      "[8, 13, 29, 139, 258, 942]\n"
     ]
    }
   ],
   "source": [
    "print sorted(categories,key=categories.get)\n",
    "print sorted(categories.values())"
   ]
  },
  {
   "cell_type": "code",
   "execution_count": 139,
   "metadata": {
    "collapsed": false
   },
   "outputs": [
    {
     "data": {
      "text/plain": [
       "Counter({None: 139,\n",
       "         'Bad Patch': 258,\n",
       "         'Breakin Failed': 29,\n",
       "         'Kitchen Sink': 8,\n",
       "         'Pipette Problems': 13,\n",
       "         'Seal Problems': 942})"
      ]
     },
     "execution_count": 139,
     "metadata": {},
     "output_type": "execute_result"
    }
   ],
   "source": [
    "categories"
   ]
  },
  {
   "cell_type": "code",
   "execution_count": null,
   "metadata": {
    "collapsed": true
   },
   "outputs": [],
   "source": []
  }
 ],
 "metadata": {
  "anaconda-cloud": {},
  "kernelspec": {
   "display_name": "Python [Root]",
   "language": "python",
   "name": "Python [Root]"
  },
  "language_info": {
   "codemirror_mode": {
    "name": "ipython",
    "version": 2
   },
   "file_extension": ".py",
   "mimetype": "text/x-python",
   "name": "python",
   "nbconvert_exporter": "python",
   "pygments_lexer": "ipython2",
   "version": "2.7.12"
  }
 },
 "nbformat": 4,
 "nbformat_minor": 0
}
