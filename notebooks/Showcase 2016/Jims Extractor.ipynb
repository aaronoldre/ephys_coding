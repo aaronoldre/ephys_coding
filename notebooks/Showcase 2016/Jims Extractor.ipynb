{
 "cells": [
  {
   "cell_type": "code",
   "execution_count": 1,
   "metadata": {
    "collapsed": false
   },
   "outputs": [
    {
     "name": "stdout",
     "output_type": "stream",
     "text": [
      "[u'486748227_ephys_features.json', u'/projects/humancelltypes/vol1/prod4/Ephys_Roi_Result_486748227/']\n",
      "hi\n",
      "featsum\n",
      "\\\\titan\\cns\\humancelltypes\\prod4\\Ephys_Roi_Result_486748227\\486748227_ephys_features.json\n",
      "H15.03.005.01.14.01 has an error\n"
     ]
    }
   ],
   "source": [
    "#!/usr/bin/env python\n",
    "\n",
    "import argparse\n",
    "import matplotlib.pyplot as plt\n",
    "import numpy as np\n",
    "import json\n",
    "import csv\n",
    "import pandas as pd\n",
    "import pg8000\n",
    "import os\n",
    "\n",
    "def json_feature_parse(file_name):\n",
    "    with open(file_name, \"r\") as f:\n",
    "        data = json.load(f)\n",
    "    path = data[\"specimens\"][0][\"cell_ephys_features\"][\"long_squares\"]\n",
    "    specimen_id = data['id']\n",
    "    tau = path[\"tau\"]\n",
    "    sag = path['sag']\n",
    "    ri = path[\"input_resistance\"]\n",
    "    sag_amp =path['v_baseline'] - (path['vm_for_sag']*sag)\n",
    "    ISI_mean = path['hero_sweep']['mean_isi']\n",
    "    adaptation_index = path['hero_sweep']['adapt']\n",
    "    capacitance = tau/ri*1000\n",
    "    AP_LS_amp = path['hero_sweep']['spikes'][0]['peak_v'] - path['hero_sweep']['spikes'][0]['threshold_v']\n",
    "    AP_SS_amp = data[\"specimens\"][0][\"cell_ephys_features\"][\"short_squares\"]['mean_spike_0']['peak_v'] - data[\"specimens\"][0][\"cell_ephys_features\"][\"short_squares\"]['mean_spike_0']['threshold_v']\n",
    "    upstroke_downstroke_ratio = path['rheobase_sweep']['spikes'][0]['upstroke_downstroke_ratio']\n",
    "    v_rest = path['v_baseline']\n",
    "    rheobase_sweep = path['rheobase_sweep']['id']\n",
    "    ss_latency= data[\"specimens\"][0][\"cell_ephys_features\"]['short_squares']['common_amp_sweeps'][0]['latency']\n",
    "    ls_latency = path['hero_sweep']['latency']\n",
    "    instant_sweep = data[\"specimens\"][0][\"cell_ephys_features\"]['short_squares']['common_amp_sweeps'][0]['id']\n",
    "    rheobase_i = path['rheobase_i']\n",
    "    hero_rate = path['hero_sweep']['avg_rate']\n",
    "    try:\n",
    "        human_df['noise_1'].iloc[i] = sweep_numbers['Noise 1'][0]\n",
    "        human_df['noise_2'].iloc[i] = sweep_numbers['Noise 2'][0]\n",
    "    except IndexError:\n",
    "        pass\n",
    "    human_df['hero_rate'].iloc[i] = cell_features['long_squares']['hero_sweep']['avg_rate']\n",
    "    spikes = cell_features['long_squares']['hero_sweep']['spikes']\n",
    "    if len(spikes) > 1:\n",
    "        human_df['fast_trough'].iloc[i] = np.mean([spikes[f]['fast_trough_v'] for f in range(len(spikes))])\n",
    "    else:\n",
    "        human_df['fast_trough'].iloc[i] = cell_features['long_squares']['hero_sweep']['spikes'][0]['fast_trough_v']\n",
    "    human_df['hero_sweep'].iloc[i] = cell_features['long_squares']['hero_sweep']['id']\n",
    "    human_df['hero_ap_peak_t'].iloc[i] = cell_features['long_squares']['hero_sweep']['spikes'][0]['peak_t']\n",
    "    human_df['hero_ap_threshold_v'].iloc[i] = cell_features['long_squares']['hero_sweep']['spikes'][0]['threshold_v']\n",
    "    human_df['IH'].iloc[i] = {i['id']:i['stim_amp'] for i in cell_features['long_squares']['subthreshold_membrane_property_sweeps'] }\n",
    "    input_resistance = data[\"specimens\"][0][\"cell_ephys_features\"][\"long_squares\"][\"input_resistance\"]\n",
    "    thresh_i = data[\"specimens\"][0][\"cell_ephys_features\"][\"long_squares\"][\"rheobase_sweep\"][\"stim_amp\"]\n",
    "    up_down_ratio = data[\"specimens\"][0][\"cell_ephys_features\"][\"long_squares\"][\"rheobase_sweep\"][\"spikes\"][0][\"upstroke_downstroke_ratio\"]\n",
    "    adapt = data[\"specimens\"][0][\"cell_ephys_features\"][\"long_squares\"][\"hero_sweep\"][\"adapt\"]\n",
    "    Firing_rate = data[\"specimens\"][0][\"cell_ephys_features\"][\"long_squares\"][\"hero_sweep\"][\"mean_isi\"]\n",
    "\n",
    "    features = []\n",
    "    features.append(tau)\n",
    "    features.append(input_resistance)\n",
    "    features.append(thresh_i)\n",
    "    features.append(up_down_ratio)\n",
    "    features.append(adapt)\n",
    "    features.append(Firing_rate)\n",
    "\n",
    "    return features\n",
    "\n",
    "def get_spec_name(specimen):\n",
    "    conn = pg8000.connect(user=\"limsreader\", host=\"limsdb2\", database=\"lims2\", password=\"limsro\", port=5432)\n",
    "    cur = conn.cursor()\n",
    "    \n",
    "    cur.execute(\"SELECT s.name, s.ephys_roi_result_id, s.id FROM specimens s WHERE s.name LIKE %s\", ('%' + specimen,))\n",
    "    result = cur.fetchone()\n",
    "    if result is None:\n",
    "        print \"Could not find specimen result for \" + specimen + \". Skipping...\"\n",
    "        return \" \"\n",
    "    #print \"Specimen: \" + result[0]\n",
    "    #print \"EphysRoiResult: \" + str(result[1])\n",
    "    specimen_name = result[0]\n",
    "    ephys_roi_result_id = result[1]\n",
    "\n",
    "\n",
    "    cur.execute(\"SELECT f.filename, f.storage_directory FROM well_known_files f \\\n",
    "                 WHERE f.attachable_type = 'EphysRoiResult' AND f.attachable_id = %s AND f.filename LIKE '%%ephys_features.json'\", \n",
    "                 (ephys_roi_result_id,))\n",
    "    result = cur.fetchone()\n",
    "    print result\n",
    "    print 'hi'\n",
    "    if result is None:\n",
    "        print \"Could not find json file for \" + specimen + \". Skipping...\"\n",
    "        return None\n",
    "    WinP = LinuxtoWindow(result[1])\n",
    "    json_path = WinP + result[0]\n",
    "    # print \"json file: \" + json_path\n",
    "\n",
    "    return specimen_name, json_path\n",
    "    conn.close()\n",
    "    cur.close()\n",
    "\n",
    "    \n",
    "    \n",
    "def LinuxtoWindow(Linuxpath):\n",
    "    SplitLinux = Linuxpath.split('/')\n",
    "    return (r\"\\\\\" + os.path.join('titan','cns', SplitLinux[2], SplitLinux[4],SplitLinux[5],''))\n",
    "\n",
    "with open(\"C:/SpecList.csv\", 'rb') as csvfile:\n",
    "    listreader = csv.reader(csvfile, delimiter=' ', quotechar='|')\n",
    "    namelist = []\n",
    "    j_pathlist = []\n",
    "    for row in listreader:\n",
    "        name, j_path = get_spec_name(row[0])\n",
    "        namelist.append(name)\n",
    "        j_pathlist.append(j_path)\n",
    "\n",
    "FeatSumm = ['Name', 'tau', 'input_resistance', 'thresh_i', 'up_down_ratio', 'adapt', 'FR']\n",
    "print 'featsum'\n",
    "\n",
    "\n",
    "for ix, name in enumerate(namelist):\n",
    "\n",
    "    y = j_pathlist[ix]\n",
    "    print y\n",
    "    try:\n",
    "        a = json_feature_parse(y)\n",
    "        print a\n",
    "        a.insert(0, name)\n",
    "        FeatSumm = np.vstack([FeatSumm,a])\n",
    "    except:\n",
    "        print name + \" has an error\"\n",
    "\n",
    "\n",
    "myfile = open('c:/Summary.csv', 'wb')\n",
    "wr = csv.writer(myfile, quoting=csv.QUOTE_ALL)\n",
    "for values in FeatSumm:\n",
    "    wr.writerow(values)\n",
    "    \n"
   ]
  },
  {
   "cell_type": "code",
   "execution_count": 2,
   "metadata": {
    "collapsed": true
   },
   "outputs": [],
   "source": [
    "myfile.close()"
   ]
  },
  {
   "cell_type": "code",
   "execution_count": 3,
   "metadata": {
    "collapsed": false
   },
   "outputs": [
    {
     "ename": "NameError",
     "evalue": "global name 'sweep_numbers' is not defined",
     "output_type": "error",
     "traceback": [
      "\u001b[1;31m---------------------------------------------------------------------------\u001b[0m",
      "\u001b[1;31mNameError\u001b[0m                                 Traceback (most recent call last)",
      "\u001b[1;32m<ipython-input-3-aa97b8c61c2e>\u001b[0m in \u001b[0;36m<module>\u001b[1;34m()\u001b[0m\n\u001b[1;32m----> 1\u001b[1;33m \u001b[0mjson_feature_parse\u001b[0m\u001b[1;33m(\u001b[0m\u001b[0my\u001b[0m\u001b[1;33m)\u001b[0m\u001b[1;33m\u001b[0m\u001b[0m\n\u001b[0m",
      "\u001b[1;32m<ipython-input-1-06e5c11bc189>\u001b[0m in \u001b[0;36mjson_feature_parse\u001b[1;34m(file_name)\u001b[0m\n\u001b[0;32m     33\u001b[0m     \u001b[0mhero_rate\u001b[0m \u001b[1;33m=\u001b[0m \u001b[0mpath\u001b[0m\u001b[1;33m[\u001b[0m\u001b[1;34m'hero_sweep'\u001b[0m\u001b[1;33m]\u001b[0m\u001b[1;33m[\u001b[0m\u001b[1;34m'avg_rate'\u001b[0m\u001b[1;33m]\u001b[0m\u001b[1;33m\u001b[0m\u001b[0m\n\u001b[0;32m     34\u001b[0m     \u001b[1;32mtry\u001b[0m\u001b[1;33m:\u001b[0m\u001b[1;33m\u001b[0m\u001b[0m\n\u001b[1;32m---> 35\u001b[1;33m         \u001b[0mhuman_df\u001b[0m\u001b[1;33m[\u001b[0m\u001b[1;34m'noise_1'\u001b[0m\u001b[1;33m]\u001b[0m\u001b[1;33m.\u001b[0m\u001b[0miloc\u001b[0m\u001b[1;33m[\u001b[0m\u001b[0mi\u001b[0m\u001b[1;33m]\u001b[0m \u001b[1;33m=\u001b[0m \u001b[0msweep_numbers\u001b[0m\u001b[1;33m[\u001b[0m\u001b[1;34m'Noise 1'\u001b[0m\u001b[1;33m]\u001b[0m\u001b[1;33m[\u001b[0m\u001b[1;36m0\u001b[0m\u001b[1;33m]\u001b[0m\u001b[1;33m\u001b[0m\u001b[0m\n\u001b[0m\u001b[0;32m     36\u001b[0m         \u001b[0mhuman_df\u001b[0m\u001b[1;33m[\u001b[0m\u001b[1;34m'noise_2'\u001b[0m\u001b[1;33m]\u001b[0m\u001b[1;33m.\u001b[0m\u001b[0miloc\u001b[0m\u001b[1;33m[\u001b[0m\u001b[0mi\u001b[0m\u001b[1;33m]\u001b[0m \u001b[1;33m=\u001b[0m \u001b[0msweep_numbers\u001b[0m\u001b[1;33m[\u001b[0m\u001b[1;34m'Noise 2'\u001b[0m\u001b[1;33m]\u001b[0m\u001b[1;33m[\u001b[0m\u001b[1;36m0\u001b[0m\u001b[1;33m]\u001b[0m\u001b[1;33m\u001b[0m\u001b[0m\n\u001b[0;32m     37\u001b[0m     \u001b[1;32mexcept\u001b[0m \u001b[0mIndexError\u001b[0m\u001b[1;33m:\u001b[0m\u001b[1;33m\u001b[0m\u001b[0m\n",
      "\u001b[1;31mNameError\u001b[0m: global name 'sweep_numbers' is not defined"
     ]
    }
   ],
   "source": [
    "json_feature_parse(y)"
   ]
  },
  {
   "cell_type": "code",
   "execution_count": 4,
   "metadata": {
    "collapsed": false
   },
   "outputs": [],
   "source": [
    "with open(y, \"r\") as f:\n",
    "    data = json.load(f)"
   ]
  },
  {
   "cell_type": "code",
   "execution_count": 12,
   "metadata": {
    "collapsed": false
   },
   "outputs": [
    {
     "data": {
      "text/plain": [
       "3"
      ]
     },
     "execution_count": 12,
     "metadata": {},
     "output_type": "execute_result"
    }
   ],
   "source": [
    "len(data[\"specimens\"][0][\"cell_ephys_features\"][\"long_squares\"]['hero_sweep']['spikes'])"
   ]
  },
  {
   "cell_type": "code",
   "execution_count": 14,
   "metadata": {
    "collapsed": false
   },
   "outputs": [
    {
     "data": {
      "text/plain": [
       "486748227"
      ]
     },
     "execution_count": 14,
     "metadata": {},
     "output_type": "execute_result"
    }
   ],
   "source": [
    "data['id']\n",
    "#watch the sweep numbers\n",
    "data['specimens'][0]['ephys_sweeps'][50]['ephys_stimulus']['ephys_stimulus_type']['name']"
   ]
  },
  {
   "cell_type": "code",
   "execution_count": 70,
   "metadata": {
    "collapsed": false,
    "scrolled": true
   },
   "outputs": [
    {
     "ename": "ProgrammingError",
     "evalue": "(u'ERROR', u'22P02', u'invalid input syntax for integer: \"H15.03.005.01.14.01\"', u'numutils.c', u'62', u'pg_atoi', u'', u'')",
     "output_type": "error",
     "traceback": [
      "\u001b[1;31m---------------------------------------------------------------------------\u001b[0m",
      "\u001b[1;31mProgrammingError\u001b[0m                          Traceback (most recent call last)",
      "\u001b[1;32m<ipython-input-70-65cbf361e1e0>\u001b[0m in \u001b[0;36m<module>\u001b[1;34m()\u001b[0m\n\u001b[0;32m     64\u001b[0m     \u001b[0mj_pathlist\u001b[0m \u001b[1;33m=\u001b[0m \u001b[1;33m[\u001b[0m\u001b[1;33m]\u001b[0m\u001b[1;33m\u001b[0m\u001b[0m\n\u001b[0;32m     65\u001b[0m     \u001b[1;32mfor\u001b[0m \u001b[0mrow\u001b[0m \u001b[1;32min\u001b[0m \u001b[0mlistreader\u001b[0m\u001b[1;33m:\u001b[0m\u001b[1;33m\u001b[0m\u001b[0m\n\u001b[1;32m---> 66\u001b[1;33m         \u001b[0mname\u001b[0m\u001b[1;33m,\u001b[0m \u001b[0mj_path\u001b[0m \u001b[1;33m=\u001b[0m \u001b[0mget_spec_name\u001b[0m\u001b[1;33m(\u001b[0m\u001b[0mrow\u001b[0m\u001b[1;33m[\u001b[0m\u001b[1;36m0\u001b[0m\u001b[1;33m]\u001b[0m\u001b[1;33m)\u001b[0m\u001b[1;33m\u001b[0m\u001b[0m\n\u001b[0m\u001b[0;32m     67\u001b[0m         \u001b[0mnamelist\u001b[0m\u001b[1;33m.\u001b[0m\u001b[0mappend\u001b[0m\u001b[1;33m(\u001b[0m\u001b[0mname\u001b[0m\u001b[1;33m)\u001b[0m\u001b[1;33m\u001b[0m\u001b[0m\n\u001b[0;32m     68\u001b[0m         \u001b[0mj_pathlist\u001b[0m\u001b[1;33m.\u001b[0m\u001b[0mappend\u001b[0m\u001b[1;33m(\u001b[0m\u001b[0mj_path\u001b[0m\u001b[1;33m)\u001b[0m\u001b[1;33m\u001b[0m\u001b[0m\n",
      "\u001b[1;32m<ipython-input-70-65cbf361e1e0>\u001b[0m in \u001b[0;36mget_spec_name\u001b[1;34m(ephys_roi_result_id)\u001b[0m\n\u001b[0;32m     38\u001b[0m \u001b[1;33m\u001b[0m\u001b[0m\n\u001b[0;32m     39\u001b[0m     cur.execute(\"SELECT f.filename, f.storage_directory FROM well_known_files f                  WHERE f.attachable_type = 'EphysRoiResult' AND f.attachable_id = %s AND f.filename LIKE '%%ephys_features.json'\", \n\u001b[1;32m---> 40\u001b[1;33m                  (ephys_roi_result_id,))\n\u001b[0m\u001b[0;32m     41\u001b[0m     \u001b[0mresult\u001b[0m \u001b[1;33m=\u001b[0m \u001b[0mcur\u001b[0m\u001b[1;33m.\u001b[0m\u001b[0mfetchone\u001b[0m\u001b[1;33m(\u001b[0m\u001b[1;33m)\u001b[0m\u001b[1;33m\u001b[0m\u001b[0m\n\u001b[0;32m     42\u001b[0m     \u001b[1;32mprint\u001b[0m \u001b[0mresult\u001b[0m\u001b[1;33m\u001b[0m\u001b[0m\n",
      "\u001b[1;32mC:\\Anaconda\\lib\\site-packages\\pg8000\\core.pyc\u001b[0m in \u001b[0;36mexecute\u001b[1;34m(self, operation, args, stream)\u001b[0m\n\u001b[0;32m    908\u001b[0m             \u001b[1;32mif\u001b[0m \u001b[1;32mnot\u001b[0m \u001b[0mself\u001b[0m\u001b[1;33m.\u001b[0m\u001b[0m_c\u001b[0m\u001b[1;33m.\u001b[0m\u001b[0min_transaction\u001b[0m \u001b[1;32mand\u001b[0m \u001b[1;32mnot\u001b[0m \u001b[0mself\u001b[0m\u001b[1;33m.\u001b[0m\u001b[0m_c\u001b[0m\u001b[1;33m.\u001b[0m\u001b[0mautocommit\u001b[0m\u001b[1;33m:\u001b[0m\u001b[1;33m\u001b[0m\u001b[0m\n\u001b[0;32m    909\u001b[0m                 \u001b[0mself\u001b[0m\u001b[1;33m.\u001b[0m\u001b[0m_c\u001b[0m\u001b[1;33m.\u001b[0m\u001b[0mexecute\u001b[0m\u001b[1;33m(\u001b[0m\u001b[0mself\u001b[0m\u001b[1;33m,\u001b[0m \u001b[1;34m\"begin transaction\"\u001b[0m\u001b[1;33m,\u001b[0m \u001b[0mNone\u001b[0m\u001b[1;33m)\u001b[0m\u001b[1;33m\u001b[0m\u001b[0m\n\u001b[1;32m--> 910\u001b[1;33m             \u001b[0mself\u001b[0m\u001b[1;33m.\u001b[0m\u001b[0m_c\u001b[0m\u001b[1;33m.\u001b[0m\u001b[0mexecute\u001b[0m\u001b[1;33m(\u001b[0m\u001b[0mself\u001b[0m\u001b[1;33m,\u001b[0m \u001b[0moperation\u001b[0m\u001b[1;33m,\u001b[0m \u001b[0margs\u001b[0m\u001b[1;33m)\u001b[0m\u001b[1;33m\u001b[0m\u001b[0m\n\u001b[0m\u001b[0;32m    911\u001b[0m         \u001b[1;32mexcept\u001b[0m \u001b[0mAttributeError\u001b[0m\u001b[1;33m:\u001b[0m\u001b[1;33m\u001b[0m\u001b[0m\n\u001b[0;32m    912\u001b[0m             \u001b[1;32mif\u001b[0m \u001b[0mself\u001b[0m\u001b[1;33m.\u001b[0m\u001b[0m_c\u001b[0m \u001b[1;32mis\u001b[0m \u001b[0mNone\u001b[0m\u001b[1;33m:\u001b[0m\u001b[1;33m\u001b[0m\u001b[0m\n",
      "\u001b[1;32mC:\\Anaconda\\lib\\site-packages\\pg8000\\core.pyc\u001b[0m in \u001b[0;36mexecute\u001b[1;34m(self, cursor, operation, vals)\u001b[0m\n\u001b[0;32m   2038\u001b[0m         \u001b[0mself\u001b[0m\u001b[1;33m.\u001b[0m\u001b[0m_write\u001b[0m\u001b[1;33m(\u001b[0m\u001b[0mSYNC_MSG\u001b[0m\u001b[1;33m)\u001b[0m\u001b[1;33m\u001b[0m\u001b[0m\n\u001b[0;32m   2039\u001b[0m         \u001b[0mself\u001b[0m\u001b[1;33m.\u001b[0m\u001b[0m_flush\u001b[0m\u001b[1;33m(\u001b[0m\u001b[1;33m)\u001b[0m\u001b[1;33m\u001b[0m\u001b[0m\n\u001b[1;32m-> 2040\u001b[1;33m         \u001b[0mself\u001b[0m\u001b[1;33m.\u001b[0m\u001b[0mhandle_messages\u001b[0m\u001b[1;33m(\u001b[0m\u001b[0mcursor\u001b[0m\u001b[1;33m)\u001b[0m\u001b[1;33m\u001b[0m\u001b[0m\n\u001b[0m\u001b[0;32m   2041\u001b[0m         \u001b[1;32mif\u001b[0m \u001b[0mcursor\u001b[0m\u001b[1;33m.\u001b[0m\u001b[0mportal_suspended\u001b[0m\u001b[1;33m:\u001b[0m\u001b[1;33m\u001b[0m\u001b[0m\n\u001b[0;32m   2042\u001b[0m             \u001b[1;32mif\u001b[0m \u001b[0mself\u001b[0m\u001b[1;33m.\u001b[0m\u001b[0mautocommit\u001b[0m\u001b[1;33m:\u001b[0m\u001b[1;33m\u001b[0m\u001b[0m\n",
      "\u001b[1;32mC:\\Anaconda\\lib\\site-packages\\pg8000\\core.pyc\u001b[0m in \u001b[0;36mhandle_messages\u001b[1;34m(self, cursor)\u001b[0m\n\u001b[0;32m   2115\u001b[0m \u001b[1;33m\u001b[0m\u001b[0m\n\u001b[0;32m   2116\u001b[0m         \u001b[1;32mif\u001b[0m \u001b[0mself\u001b[0m\u001b[1;33m.\u001b[0m\u001b[0merror\u001b[0m \u001b[1;32mis\u001b[0m \u001b[1;32mnot\u001b[0m \u001b[0mNone\u001b[0m\u001b[1;33m:\u001b[0m\u001b[1;33m\u001b[0m\u001b[0m\n\u001b[1;32m-> 2117\u001b[1;33m             \u001b[1;32mraise\u001b[0m \u001b[0mself\u001b[0m\u001b[1;33m.\u001b[0m\u001b[0merror\u001b[0m\u001b[1;33m\u001b[0m\u001b[0m\n\u001b[0m\u001b[0;32m   2118\u001b[0m \u001b[1;33m\u001b[0m\u001b[0m\n\u001b[0;32m   2119\u001b[0m     \u001b[1;31m# Byte1('C') - Identifies the message as a close command.\u001b[0m\u001b[1;33m\u001b[0m\u001b[1;33m\u001b[0m\u001b[0m\n",
      "\u001b[1;31mProgrammingError\u001b[0m: (u'ERROR', u'22P02', u'invalid input syntax for integer: \"H15.03.005.01.14.01\"', u'numutils.c', u'62', u'pg_atoi', u'', u'')"
     ]
    }
   ],
   "source": [
    "import argparse\n",
    "import matplotlib.pyplot as plt\n",
    "import numpy as np\n",
    "import json\n",
    "import csv\n",
    "import pandas as pd\n",
    "import pg8000\n",
    "import os\n",
    "\n",
    "def json_feature_parse(file_name):\n",
    "    with open(file_name, \"r\") as f:\n",
    "        data = json.load(f)\n",
    "\n",
    "    tau = data[\"specimens\"][0][\"cell_ephys_features\"][\"long_squares\"][\"tau\"]\n",
    "    print \"tau\"\n",
    "    input_resistance = data[\"specimens\"][0][\"cell_ephys_features\"][\"long_squares\"][\"input_resistance\"]\n",
    "    thresh_i = data[\"specimens\"][0][\"cell_ephys_features\"][\"long_squares\"][\"rheobase_sweep\"][\"stim_amp\"]\n",
    "    up_down_ratio = data[\"specimens\"][0][\"cell_ephys_features\"][\"long_squares\"][\"rheobase_sweep\"][\"spikes\"][0][\"upstroke_downstroke_ratio\"]\n",
    "    adapt = data[\"specimens\"][0][\"cell_ephys_features\"][\"long_squares\"][\"hero_sweep\"][\"adapt\"]\n",
    "    Firing_rate = data[\"specimens\"][0][\"cell_ephys_features\"][\"long_squares\"][\"hero_sweep\"][\"mean_isi\"]\n",
    "\n",
    "    features = []\n",
    "    features.append(tau)\n",
    "    features.append(input_resistance)\n",
    "    features.append(thresh_i)\n",
    "    features.append(up_down_ratio)\n",
    "    features.append(adapt)\n",
    "    features.append(Firing_rate)\n",
    "\n",
    "    return features\n",
    "\n",
    "def get_spec_name(ephys_roi_result_id,):\n",
    "    conn = pg8000.connect(user=\"limsreader\", host=\"limsdb2\", database=\"lims2\", password=\"limsro\", port=5432)\n",
    "    cur = conn.cursor()\n",
    "    \n",
    "    \n",
    "    \n",
    "\n",
    "    cur.execute(\"SELECT f.filename, f.storage_directory FROM well_known_files f \\\n",
    "                 WHERE f.attachable_type = 'EphysRoiResult' AND f.attachable_id = %s AND f.filename LIKE '%%ephys_features.json'\", \n",
    "                 (ephys_roi_result_id,))\n",
    "    result = cur.fetchone()\n",
    "    print result\n",
    "    print 'hi'\n",
    "    if result is None:\n",
    "        print \"Could not find json file for \" + ephys_roi_result_id + \". Skipping...\"\n",
    "        return None\n",
    "    WinP = LinuxtoWindow(result[1])\n",
    "    json_path = WinP + result[0]\n",
    "    # print \"json file: \" + json_path\n",
    "\n",
    "    return specimen_name, json_path\n",
    "    conn.close()\n",
    "    cur.close()\n",
    "\n",
    "    \n",
    "    \n",
    "def LinuxtoWindow(Linuxpath):\n",
    "    SplitLinux = Linuxpath.split('/')\n",
    "    return (r\"\\\\\" + os.path.join('titan','cns', SplitLinux[2], SplitLinux[4],SplitLinux[5],''))\n",
    "\n",
    "with open(\"C:/SpecList.csv\", 'rb') as csvfile:\n",
    "    listreader = csv.reader(csvfile, delimiter=' ', quotechar='|')\n",
    "    namelist = []\n",
    "    j_pathlist = []\n",
    "    for row in listreader:\n",
    "        name, j_path = get_spec_name(row[0])\n",
    "        namelist.append(name)\n",
    "        j_pathlist.append(j_path)\n",
    "\n",
    "FeatSumm = ['Name', 'tau', 'input_resistance', 'thresh_i', 'up_down_ratio', 'adapt', 'FR']\n",
    "print 'featsum'\n",
    "\n",
    "\n",
    "for ix, name in enumerate(namelist):\n",
    "\n",
    "    y = j_pathlist[ix]\n",
    "    print y\n",
    "    try:\n",
    "        a = json_feature_parse(y)\n",
    "        print a\n",
    "        a.insert(0, name)\n",
    "        #FeatSumm = np.vstack([FeatSumm,a])\n",
    "    except:\n",
    "        print name + \" has an error\"\n",
    "\n",
    "\n",
    "test_df = pd.Series(data = FeatSumm[1])\n",
    "\n",
    "#myfile.close()"
   ]
  },
  {
   "cell_type": "code",
   "execution_count": 92,
   "metadata": {
    "collapsed": false
   },
   "outputs": [],
   "source": [
    "def get_spec_name(specimen):\n",
    "    conn = pg8000.connect(user=\"limsreader\", host=\"limsdb2\", database=\"lims2\", password=\"limsro\", port=5432)\n",
    "    cur = conn.cursor()\n",
    "    \n",
    "    cur.execute(\"SELECT s.name, s.ephys_roi_result_id, s.id FROM specimens s WHERE s.name LIKE %s\", ('%' + specimen,))\n",
    "    result = cur.fetchone()\n",
    "    if result is None:\n",
    "        print \"Could not find specimen result for \" + specimen + \". Skipping...\"\n",
    "        return \" \"\n",
    "    #print \"Specimen: \" + result[0]\n",
    "    #print \"EphysRoiResult: \" + str(result[1])\n",
    "    specimen_name = result[0]\n",
    "    ephys_roi_result_id = result[1]\n",
    "    print result\n",
    "\n",
    "    cur.execute(\"SELECT f.filename, f.storage_directory FROM well_known_files f \\\n",
    "                 WHERE f.attachable_type = 'EphysRoiResult' AND f.attachable_id = %s AND f.filename LIKE '%%ephys_features.json'\", \n",
    "                 (ephys_roi_result_id,))\n",
    "    result = cur.fetchone()\n",
    "    print result\n",
    "    print 'hi'\n",
    "    if result is None:\n",
    "        print \"Could not find json file for \" + specimen + \". Skipping...\"\n",
    "        return None\n",
    "    WinP = LinuxtoWindow(result[1])\n",
    "    json_path = WinP + result[0]\n",
    "    # print \"json file: \" + json_path\n",
    "\n",
    "    return specimen_name, json_path\n",
    "    conn.close()\n",
    "    cur.close()"
   ]
  },
  {
   "cell_type": "code",
   "execution_count": 93,
   "metadata": {
    "collapsed": false
   },
   "outputs": [
    {
     "name": "stdout",
     "output_type": "stream",
     "text": [
      "[u'H16.06.009.01.01.06.01', 528602937, 528602977]\n",
      "[u'528602937_ephys_features.json', u'/projects/mousecelltypes/vol1/prod799/Ephys_Roi_Result_528602937/']\n",
      "hi\n"
     ]
    },
    {
     "data": {
      "text/plain": [
       "(u'H16.06.009.01.01.06.01',\n",
       " u'\\\\\\\\titan\\\\cns\\\\mousecelltypes\\\\prod799\\\\Ephys_Roi_Result_528602937\\\\528602937_ephys_features.json')"
      ]
     },
     "execution_count": 93,
     "metadata": {},
     "output_type": "execute_result"
    }
   ],
   "source": [
    "get_spec_name('H16.06.009.01.01.06.01')"
   ]
  },
  {
   "cell_type": "code",
   "execution_count": 45,
   "metadata": {
    "collapsed": false
   },
   "outputs": [],
   "source": [
    "from allensdk.core.cell_types_cache import CellTypesCache\n",
    "from allensdk.core.cell_types_cache import ReporterStatus as RS\n",
    "from allensdk.ephys.feature_extractor import EphysFeatureExtractor\n",
    "\n",
    "\n",
    "ctc = CellTypesCache()\n",
    "ephys_features = ctc.get_ephys_features()\n",
    "cells = ctc.get_cells()\n",
    "cell_index = {c['id']: c for c in cells}\n",
    "\n",
    "\n",
    "v1_df = pd.DataFrame(data=ephys_features)\n",
    "v1_df['cre_line'], v1_df['cre_reporter'],v1_df['location'] = None, None, None\n",
    "v1_df['dendrite_type'],v1_df['depth'] = None, None\n",
    "for i, spec_id in enumerate(v1_df['specimen_id']):\n",
    "    v1_df['cre_line'][i] = cell_index[spec_id]['transgenic_line']\n",
    "    v1_df['cre_reporter'][i] = cell_index[spec_id]['cell_reporter']['name']\n",
    "    v1_df['dendrite_type'][i] = cell_index[spec_id]['dendrite_type']\n",
    "    v1_df['depth'][i] = cell_index[spec_id]['cell_soma_locations'][0]['normalized_depth']\n"
   ]
  },
  {
   "cell_type": "code",
   "execution_count": 39,
   "metadata": {
    "collapsed": false
   },
   "outputs": [
    {
     "ename": "ValueError",
     "evalue": "Shape of passed values is (1, 7), indices imply (7, 2)",
     "output_type": "error",
     "traceback": [
      "\u001b[1;31m---------------------------------------------------------------------------\u001b[0m",
      "\u001b[1;31mValueError\u001b[0m                                Traceback (most recent call last)",
      "\u001b[1;32m<ipython-input-39-23b25a12a938>\u001b[0m in \u001b[0;36m<module>\u001b[1;34m()\u001b[0m\n\u001b[1;32m----> 1\u001b[1;33m \u001b[0mtest_df\u001b[0m \u001b[1;33m=\u001b[0m \u001b[0mpd\u001b[0m\u001b[1;33m.\u001b[0m\u001b[0mDataFrame\u001b[0m\u001b[1;33m(\u001b[0m\u001b[0mdata\u001b[0m \u001b[1;33m=\u001b[0m \u001b[0ma\u001b[0m\u001b[1;33m,\u001b[0m \u001b[0mcolumns\u001b[0m \u001b[1;33m=\u001b[0m \u001b[0mFeatSumm\u001b[0m\u001b[1;33m,\u001b[0m\u001b[0mindex\u001b[0m \u001b[1;33m=\u001b[0m \u001b[1;33m(\u001b[0m\u001b[1;36m7\u001b[0m\u001b[1;33m,\u001b[0m\u001b[1;36m1\u001b[0m\u001b[1;33m)\u001b[0m\u001b[1;33m)\u001b[0m\u001b[1;33m\u001b[0m\u001b[0m\n\u001b[0m",
      "\u001b[1;32mC:\\Anaconda\\lib\\site-packages\\pandas\\core\\frame.pyc\u001b[0m in \u001b[0;36m__init__\u001b[1;34m(self, data, index, columns, dtype, copy)\u001b[0m\n\u001b[0;32m    250\u001b[0m                 \u001b[1;32melse\u001b[0m\u001b[1;33m:\u001b[0m\u001b[1;33m\u001b[0m\u001b[0m\n\u001b[0;32m    251\u001b[0m                     mgr = self._init_ndarray(data, index, columns, dtype=dtype,\n\u001b[1;32m--> 252\u001b[1;33m                                              copy=copy)\n\u001b[0m\u001b[0;32m    253\u001b[0m             \u001b[1;32melse\u001b[0m\u001b[1;33m:\u001b[0m\u001b[1;33m\u001b[0m\u001b[0m\n\u001b[0;32m    254\u001b[0m                 mgr = self._init_ndarray(data, index, columns, dtype=dtype,\n",
      "\u001b[1;32mC:\\Anaconda\\lib\\site-packages\\pandas\\core\\frame.pyc\u001b[0m in \u001b[0;36m_init_ndarray\u001b[1;34m(self, values, index, columns, dtype, copy)\u001b[0m\n\u001b[0;32m    365\u001b[0m             \u001b[0mcolumns\u001b[0m \u001b[1;33m=\u001b[0m \u001b[0m_ensure_index\u001b[0m\u001b[1;33m(\u001b[0m\u001b[0mcolumns\u001b[0m\u001b[1;33m)\u001b[0m\u001b[1;33m\u001b[0m\u001b[0m\n\u001b[0;32m    366\u001b[0m \u001b[1;33m\u001b[0m\u001b[0m\n\u001b[1;32m--> 367\u001b[1;33m         \u001b[1;32mreturn\u001b[0m \u001b[0mcreate_block_manager_from_blocks\u001b[0m\u001b[1;33m(\u001b[0m\u001b[1;33m[\u001b[0m\u001b[0mvalues\u001b[0m\u001b[1;33m.\u001b[0m\u001b[0mT\u001b[0m\u001b[1;33m]\u001b[0m\u001b[1;33m,\u001b[0m \u001b[1;33m[\u001b[0m\u001b[0mcolumns\u001b[0m\u001b[1;33m,\u001b[0m \u001b[0mindex\u001b[0m\u001b[1;33m]\u001b[0m\u001b[1;33m)\u001b[0m\u001b[1;33m\u001b[0m\u001b[0m\n\u001b[0m\u001b[0;32m    368\u001b[0m \u001b[1;33m\u001b[0m\u001b[0m\n\u001b[0;32m    369\u001b[0m     \u001b[1;33m@\u001b[0m\u001b[0mproperty\u001b[0m\u001b[1;33m\u001b[0m\u001b[0m\n",
      "\u001b[1;32mC:\\Anaconda\\lib\\site-packages\\pandas\\core\\internals.pyc\u001b[0m in \u001b[0;36mcreate_block_manager_from_blocks\u001b[1;34m(blocks, axes)\u001b[0m\n\u001b[0;32m   3228\u001b[0m         \u001b[0mblocks\u001b[0m \u001b[1;33m=\u001b[0m \u001b[1;33m[\u001b[0m\u001b[0mgetattr\u001b[0m\u001b[1;33m(\u001b[0m\u001b[0mb\u001b[0m\u001b[1;33m,\u001b[0m \u001b[1;34m'values'\u001b[0m\u001b[1;33m,\u001b[0m \u001b[0mb\u001b[0m\u001b[1;33m)\u001b[0m \u001b[1;32mfor\u001b[0m \u001b[0mb\u001b[0m \u001b[1;32min\u001b[0m \u001b[0mblocks\u001b[0m\u001b[1;33m]\u001b[0m\u001b[1;33m\u001b[0m\u001b[0m\n\u001b[0;32m   3229\u001b[0m         \u001b[0mtot_items\u001b[0m \u001b[1;33m=\u001b[0m \u001b[0msum\u001b[0m\u001b[1;33m(\u001b[0m\u001b[0mb\u001b[0m\u001b[1;33m.\u001b[0m\u001b[0mshape\u001b[0m\u001b[1;33m[\u001b[0m\u001b[1;36m0\u001b[0m\u001b[1;33m]\u001b[0m \u001b[1;32mfor\u001b[0m \u001b[0mb\u001b[0m \u001b[1;32min\u001b[0m \u001b[0mblocks\u001b[0m\u001b[1;33m)\u001b[0m\u001b[1;33m\u001b[0m\u001b[0m\n\u001b[1;32m-> 3230\u001b[1;33m         \u001b[0mconstruction_error\u001b[0m\u001b[1;33m(\u001b[0m\u001b[0mtot_items\u001b[0m\u001b[1;33m,\u001b[0m \u001b[0mblocks\u001b[0m\u001b[1;33m[\u001b[0m\u001b[1;36m0\u001b[0m\u001b[1;33m]\u001b[0m\u001b[1;33m.\u001b[0m\u001b[0mshape\u001b[0m\u001b[1;33m[\u001b[0m\u001b[1;36m1\u001b[0m\u001b[1;33m:\u001b[0m\u001b[1;33m]\u001b[0m\u001b[1;33m,\u001b[0m \u001b[0maxes\u001b[0m\u001b[1;33m,\u001b[0m \u001b[0me\u001b[0m\u001b[1;33m)\u001b[0m\u001b[1;33m\u001b[0m\u001b[0m\n\u001b[0m\u001b[0;32m   3231\u001b[0m \u001b[1;33m\u001b[0m\u001b[0m\n\u001b[0;32m   3232\u001b[0m \u001b[1;33m\u001b[0m\u001b[0m\n",
      "\u001b[1;32mC:\\Anaconda\\lib\\site-packages\\pandas\\core\\internals.pyc\u001b[0m in \u001b[0;36mconstruction_error\u001b[1;34m(tot_items, block_shape, axes, e)\u001b[0m\n\u001b[0;32m   3209\u001b[0m         \u001b[1;32mraise\u001b[0m \u001b[0me\u001b[0m\u001b[1;33m\u001b[0m\u001b[0m\n\u001b[0;32m   3210\u001b[0m     raise ValueError(\"Shape of passed values is {0}, indices imply {1}\".format(\n\u001b[1;32m-> 3211\u001b[1;33m         passed,implied))\n\u001b[0m\u001b[0;32m   3212\u001b[0m \u001b[1;33m\u001b[0m\u001b[0m\n\u001b[0;32m   3213\u001b[0m \u001b[1;33m\u001b[0m\u001b[0m\n",
      "\u001b[1;31mValueError\u001b[0m: Shape of passed values is (1, 7), indices imply (7, 2)"
     ]
    }
   ],
   "source": [
    "test_df = pd.DataFrame(data = a, columns = FeatSumm,index = (7,1))"
   ]
  },
  {
   "cell_type": "code",
   "execution_count": 26,
   "metadata": {
    "collapsed": false
   },
   "outputs": [
    {
     "data": {
      "text/plain": [
       "0    H15.03.005.01.14.01\n",
       "1        0.0274351781901\n",
       "2          151.718750596\n",
       "3                  110.0\n",
       "4          3.39776722464\n",
       "dtype: object"
      ]
     },
     "execution_count": 26,
     "metadata": {},
     "output_type": "execute_result"
    }
   ],
   "source": [
    "test_df.head()"
   ]
  },
  {
   "cell_type": "code",
   "execution_count": null,
   "metadata": {
    "collapsed": true
   },
   "outputs": [],
   "source": []
  }
 ],
 "metadata": {
  "kernelspec": {
   "display_name": "Python 2",
   "language": "python",
   "name": "python2"
  },
  "language_info": {
   "codemirror_mode": {
    "name": "ipython",
    "version": 2
   },
   "file_extension": ".py",
   "mimetype": "text/x-python",
   "name": "python",
   "nbconvert_exporter": "python",
   "pygments_lexer": "ipython2",
   "version": "2.7.8"
  }
 },
 "nbformat": 4,
 "nbformat_minor": 0
}
