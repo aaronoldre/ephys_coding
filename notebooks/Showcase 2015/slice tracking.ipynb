{
 "cells": [
  {
   "cell_type": "code",
   "execution_count": 15,
   "metadata": {
    "collapsed": true
   },
   "outputs": [],
   "source": [
    "import csv\n",
    "import matplotlib.pyplot as plt\n",
    "import numpy as np\n",
    "%matplotlib inline \n",
    "\n",
    "eliza_spec = []\n",
    "tamara_spec = []\n",
    "matt_spec = []\n",
    "with open('Tissue_Prep.csv') as csvfile:\n",
    "    reader = csv.DictReader(csvfile)\n",
    "    for row in reader:\n",
    "        matt_spec.append(row['Matt'])\n",
    "        tamara_spec.append(row['Tamara'])\n",
    "        eliza_spec.append(row['Eliza'])\n"
   ]
  },
  {
   "cell_type": "code",
   "execution_count": 16,
   "metadata": {
    "collapsed": false
   },
   "outputs": [],
   "source": [
    "with open('IVSCC-eliza.csv') as csvfile:\n",
    "    reader = csv.DictReader(csvfile)\n",
    "    slices=[]\n",
    "    slice_health_e = []\n",
    "    slice_health_t = []\n",
    "    slice_health_m = []\n",
    "    for row in reader:\n",
    "        try:\n",
    "            j = slices.index(row['Specimen Name'])\n",
    "        except ValueError:\n",
    "            slices.append(row['Specimen Name'])\n",
    "            for spec in eliza_spec:\n",
    "                if row['Specimen Name'][:-6] == spec:\n",
    "                    if row['Slice health'] != 'Select':\n",
    "                        slice_health_e.append(int(row['Slice health']))\n",
    "            for spec in tamara_spec:\n",
    "                if row['Specimen Name'][:-6] == spec:\n",
    "                    if row['Slice health'] != 'Select':\n",
    "                        slice_health_t.append(int(row['Slice health']))\n",
    "            for spec in matt_spec:\n",
    "                if row['Specimen Name'][:-6] == spec:\n",
    "                    if row['Slice health'] != 'Select':\n",
    "                        slice_health_m.append(int(row['Slice health']))"
   ]
  },
  {
   "cell_type": "code",
   "execution_count": 26,
   "metadata": {
    "collapsed": false
   },
   "outputs": [
    {
     "data": {
      "image/png": "[encoded data removed]",
      "text/plain": [
       "<matplotlib.figure.Figure at 0xc013f28>"
      ]
     },
     "metadata": {},
     "output_type": "display_data"
    }
   ],
   "source": [
    "x_axis = [1,2,3,4,5]\n",
    "plt.hist([np.array(slice_health_e),np.array(slice_health_t),np.array(slice_health_m)],5,histtype = 'bar', label = ['Eliza', 'Tamara','Matt'],)\n",
    "plt.xlabel('Slice Health Rating')\n",
    "plt.ylabel('Number of Slices')\n",
    "plt.title('Tissue Prep Slice Quailty')\n",
    "plt.legend()\n",
    "plt.savefig('slice_prep.png')\n"
   ]
  },
  {
   "cell_type": "code",
   "execution_count": 14,
   "metadata": {
    "collapsed": false
   },
   "outputs": [
    {
     "data": {
      "text/plain": [
       "<matplotlib.text.Text at 0xba499b0>"
      ]
     },
     "execution_count": 14,
     "metadata": {},
     "output_type": "execute_result"
    },
    {
     "data": {
      "image/png": "[encoded data removed]",
      "text/plain": [
       "<matplotlib.figure.Figure at 0xb646588>"
      ]
     },
     "metadata": {},
     "output_type": "display_data"
    }
   ],
   "source": [
    "plt.hist([np.array(slice_health_e),np.array(slice_health_t),np.array(slice_health_m)],5,histtype = 'bar',label = ['Eliza', 'Tamara','Matt'],)\n",
    "plt.xlabel('Slice Health Rating')\n",
    "plt.title('Tissue Prep Slice Quailty')\n"
   ]
  },
  {
   "cell_type": "code",
   "execution_count": null,
   "metadata": {
    "collapsed": true
   },
   "outputs": [],
   "source": []
  }
 ],
 "metadata": {
  "kernelspec": {
   "display_name": "Python 2",
   "language": "python",
   "name": "python2"
  },
  "language_info": {
   "codemirror_mode": {
    "name": "ipython",
    "version": 2
   },
   "file_extension": ".py",
   "mimetype": "text/x-python",
   "name": "python",
   "nbconvert_exporter": "python",
   "pygments_lexer": "ipython2",
   "version": "2.7.8"
  }
 },
 "nbformat": 4,
 "nbformat_minor": 0
}
