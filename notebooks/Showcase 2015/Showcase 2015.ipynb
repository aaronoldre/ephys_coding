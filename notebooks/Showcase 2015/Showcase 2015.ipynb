{
 "cells": [
  {
   "cell_type": "markdown",
   "metadata": {},
   "source": [
    "# Set up the Data Frame"
   ]
  },
  {
   "cell_type": "code",
   "execution_count": 2,
   "metadata": {
    "collapsed": false
   },
   "outputs": [
    {
     "name": "stdout",
     "output_type": "stream",
     "text": [
      "There are 248 cells in the cache\n"
     ]
    }
   ],
   "source": [
    "from allensdk.core.cell_types_cache import CellTypesCache\n",
    "\n",
    "# !! update this path so that it points to your external hard drive !!\n",
    "ctc = CellTypesCache(manifest_file='e:/cell_types/manifest.json')\n",
    "\n",
    "# get metadata for all the cells\n",
    "cells_sdk = ctc.get_cells()\n",
    "print \"There are %d cells in the cache\" % len(cells_sdk)"
   ]
  },
  {
   "cell_type": "code",
   "execution_count": 3,
   "metadata": {
    "collapsed": false
   },
   "outputs": [
    {
     "name": "stdout",
     "output_type": "stream",
     "text": [
      "{'region': u'VISp', 'layer': u'4'}\n"
     ]
    }
   ],
   "source": [
    "import re\n",
    "\n",
    "# helper function to break up structure into regions and layer\n",
    "def split_region_layer(cell) :\n",
    "    a = cell['structure']['acronym']\n",
    "    si = 0\n",
    "    for idx,x in enumerate(a) :\n",
    "        if x.isdigit() :\n",
    "            si = idx\n",
    "            break\n",
    "    return {'region': a[:si], 'layer': a[si:]}\n",
    "    \n",
    "print split_region_layer(cells_sdk[0])"
   ]
  },
  {
   "cell_type": "code",
   "execution_count": 4,
   "metadata": {
    "collapsed": false
   },
   "outputs": [
    {
     "name": "stdout",
     "output_type": "stream",
     "text": [
      "{'mouse_line': 'Sst-IRES-Cre'}\n"
     ]
    }
   ],
   "source": [
    "# helper function to get the mouse line\n",
    "def transgenic_drivers( cell ) :\n",
    "    tlist = cell['donor']['transgenic_lines']\n",
    "    dlist = [str(x['name']) for x in tlist if x['transgenic_line_type_name'] == 'driver' ]\n",
    "    return {'mouse_line':\";\".join( dlist )}\n",
    "\n",
    "print transgenic_drivers(cells_sdk[0])"
   ]
  },
  {
   "cell_type": "code",
   "execution_count": 5,
   "metadata": {
    "collapsed": true
   },
   "outputs": [],
   "source": [
    "# create temporary record dictionary with the metadata we want to keep\n",
    "\n",
    "index_key = ['id']\n",
    "sample_keys = ['mouse_line','region','layer','hemisphere']\n",
    "annotation_keys = ['dendrite_type','apical']\n",
    "modality_keys = ['has_morphology', 'has_reconstruction']\n",
    "\n",
    "def filter_list(keys,exclude_keys) : \n",
    "    return [ x for x in keys if x not in exclude_keys ]\n",
    "\n",
    "def clean_keys(keys) :\n",
    "    return [ str(x) for x in keys ]\n",
    "\n",
    "# cell soma location keys\n",
    "csl_keys = cells_sdk[0]['cell_soma_locations'][0].keys()\n",
    "exclude_csl_keys = ['id','specimen_id']\n",
    "csl_keys = clean_keys(filter_list( csl_keys, exclude_csl_keys))\n",
    "\n",
    "# ephys feature keys\n",
    "ef_keys = cells_sdk[0]['ephys_features'][0].keys()\n",
    "exclude_ef_keys = ['id','specimen_id']\n",
    "ef_keys = clean_keys(filter_list( ef_keys, exclude_ef_keys ))\n",
    "\n",
    "# neuron reconstruction keys\n",
    "c = [ x for x in cells_sdk if x['has_reconstruction']][0]\n",
    "nr_keys = c['neuron_reconstructions'][0].keys()\n",
    "exclude_nr_keys = ['id','specimen_id','tags']\n",
    "nr_keys = clean_keys(filter_list( nr_keys, exclude_nr_keys ))\n",
    "\n",
    "columns = index_key + sample_keys + annotation_keys + modality_keys + csl_keys + ef_keys + nr_keys"
   ]
  },
  {
   "cell_type": "code",
   "execution_count": 6,
   "metadata": {
    "collapsed": false
   },
   "outputs": [
    {
     "name": "stdout",
     "output_type": "stream",
     "text": [
      "Sst-IRES-Cre\n"
     ]
    }
   ],
   "source": [
    "def filter_dictonary_by_keys( d, k ) :\n",
    "     return { x: d[x] for x in k }\n",
    "    \n",
    "def fetch_data( c ) :\n",
    "    d = filter_dictonary_by_keys( c, (index_key + annotation_keys + modality_keys + ['hemisphere']) )\n",
    "    d.update( split_region_layer(c) )\n",
    "    d.update( transgenic_drivers(c) )\n",
    "    d.update( filter_dictonary_by_keys( c['cell_soma_locations'][0], csl_keys) )\n",
    "    d.update( filter_dictonary_by_keys( c['ephys_features'][0], ef_keys) )\n",
    "    if c['has_reconstruction'] :\n",
    "        d.update( filter_dictonary_by_keys( c['neuron_reconstructions'][0], nr_keys ) )\n",
    "    return d\n",
    "\n",
    "cells_records = [fetch_data(c) for c in cells_sdk]\n",
    "    \n",
    "print cells_records[0]['mouse_line']"
   ]
  },
  {
   "cell_type": "code",
   "execution_count": 7,
   "metadata": {
    "collapsed": false
   },
   "outputs": [
    {
     "data": {
      "text/html": [
       "<div style=\"max-height:1000px;max-width:1500px;overflow:auto;\">\n",
       "<table border=\"1\" class=\"dataframe\">\n",
       "  <thead>\n",
       "    <tr style=\"text-align: right;\">\n",
       "      <th></th>\n",
       "      <th>id</th>\n",
       "      <th>mouse_line</th>\n",
       "      <th>region</th>\n",
       "      <th>layer</th>\n",
       "      <th>hemisphere</th>\n",
       "      <th>dendrite_type</th>\n",
       "      <th>apical</th>\n",
       "      <th>has_morphology</th>\n",
       "      <th>has_reconstruction</th>\n",
       "      <th>normalized_depth</th>\n",
       "      <th>...</th>\n",
       "      <th>number_stems</th>\n",
       "      <th>number_branches</th>\n",
       "      <th>average_fragmentation</th>\n",
       "      <th>average_contraction</th>\n",
       "      <th>average_bifurcation_angle_remote</th>\n",
       "      <th>hausdorff_dimension</th>\n",
       "      <th>total_surface</th>\n",
       "      <th>max_branch_order</th>\n",
       "      <th>soma_surface</th>\n",
       "      <th>overall_height</th>\n",
       "    </tr>\n",
       "  </thead>\n",
       "  <tbody>\n",
       "    <tr>\n",
       "      <th>0</th>\n",
       "      <td> 324257146</td>\n",
       "      <td>   Sst-IRES-Cre</td>\n",
       "      <td> VISp</td>\n",
       "      <td> 4</td>\n",
       "      <td>  left</td>\n",
       "      <td> aspiny</td>\n",
       "      <td>        NA</td>\n",
       "      <td>  True</td>\n",
       "      <td>  True</td>\n",
       "      <td> 0.410398</td>\n",
       "      <td>...</td>\n",
       "      <td>  6</td>\n",
       "      <td> 30</td>\n",
       "      <td> 34.2333</td>\n",
       "      <td> 0.776329</td>\n",
       "      <td> 77.4101</td>\n",
       "      <td> 1.12107</td>\n",
       "      <td> 1416.64</td>\n",
       "      <td>  6</td>\n",
       "      <td> 111.175</td>\n",
       "      <td> 215.758</td>\n",
       "    </tr>\n",
       "    <tr>\n",
       "      <th>1</th>\n",
       "      <td> 469622566</td>\n",
       "      <td> Scnn1a-Tg3-Cre</td>\n",
       "      <td> VISp</td>\n",
       "      <td> 5</td>\n",
       "      <td> right</td>\n",
       "      <td>  spiny</td>\n",
       "      <td> truncated</td>\n",
       "      <td>  True</td>\n",
       "      <td> False</td>\n",
       "      <td> 0.423992</td>\n",
       "      <td>...</td>\n",
       "      <td>NaN</td>\n",
       "      <td>NaN</td>\n",
       "      <td>     NaN</td>\n",
       "      <td>      NaN</td>\n",
       "      <td>     NaN</td>\n",
       "      <td>     NaN</td>\n",
       "      <td>     NaN</td>\n",
       "      <td>NaN</td>\n",
       "      <td>     NaN</td>\n",
       "      <td>     NaN</td>\n",
       "    </tr>\n",
       "    <tr>\n",
       "      <th>2</th>\n",
       "      <td> 328876201</td>\n",
       "      <td>   Sst-IRES-Cre</td>\n",
       "      <td> VISp</td>\n",
       "      <td> 5</td>\n",
       "      <td>  left</td>\n",
       "      <td> aspiny</td>\n",
       "      <td>        NA</td>\n",
       "      <td> False</td>\n",
       "      <td> False</td>\n",
       "      <td> 0.510874</td>\n",
       "      <td>...</td>\n",
       "      <td>NaN</td>\n",
       "      <td>NaN</td>\n",
       "      <td>     NaN</td>\n",
       "      <td>      NaN</td>\n",
       "      <td>     NaN</td>\n",
       "      <td>     NaN</td>\n",
       "      <td>     NaN</td>\n",
       "      <td>NaN</td>\n",
       "      <td>     NaN</td>\n",
       "      <td>     NaN</td>\n",
       "    </tr>\n",
       "    <tr>\n",
       "      <th>3</th>\n",
       "      <td> 466431949</td>\n",
       "      <td> Scnn1a-Tg3-Cre</td>\n",
       "      <td> VISl</td>\n",
       "      <td> 4</td>\n",
       "      <td>  left</td>\n",
       "      <td>  spiny</td>\n",
       "      <td> truncated</td>\n",
       "      <td>  True</td>\n",
       "      <td> False</td>\n",
       "      <td> 0.464470</td>\n",
       "      <td>...</td>\n",
       "      <td>NaN</td>\n",
       "      <td>NaN</td>\n",
       "      <td>     NaN</td>\n",
       "      <td>      NaN</td>\n",
       "      <td>     NaN</td>\n",
       "      <td>     NaN</td>\n",
       "      <td>     NaN</td>\n",
       "      <td>NaN</td>\n",
       "      <td>     NaN</td>\n",
       "      <td>     NaN</td>\n",
       "    </tr>\n",
       "    <tr>\n",
       "      <th>4</th>\n",
       "      <td> 396903227</td>\n",
       "      <td> Scnn1a-Tg3-Cre</td>\n",
       "      <td> VISp</td>\n",
       "      <td> 5</td>\n",
       "      <td> right</td>\n",
       "      <td>  spiny</td>\n",
       "      <td> truncated</td>\n",
       "      <td> False</td>\n",
       "      <td> False</td>\n",
       "      <td> 0.497223</td>\n",
       "      <td>...</td>\n",
       "      <td>NaN</td>\n",
       "      <td>NaN</td>\n",
       "      <td>     NaN</td>\n",
       "      <td>      NaN</td>\n",
       "      <td>     NaN</td>\n",
       "      <td>     NaN</td>\n",
       "      <td>     NaN</td>\n",
       "      <td>NaN</td>\n",
       "      <td>     NaN</td>\n",
       "      <td>     NaN</td>\n",
       "    </tr>\n",
       "  </tbody>\n",
       "</table>\n",
       "<p>5 rows × 94 columns</p>\n",
       "</div>"
      ],
      "text/plain": [
       "          id      mouse_line region layer hemisphere dendrite_type     apical  \\\n",
       "0  324257146    Sst-IRES-Cre   VISp     4       left        aspiny         NA   \n",
       "1  469622566  Scnn1a-Tg3-Cre   VISp     5      right         spiny  truncated   \n",
       "2  328876201    Sst-IRES-Cre   VISp     5       left        aspiny         NA   \n",
       "3  466431949  Scnn1a-Tg3-Cre   VISl     4       left         spiny  truncated   \n",
       "4  396903227  Scnn1a-Tg3-Cre   VISp     5      right         spiny  truncated   \n",
       "\n",
       "  has_morphology has_reconstruction  normalized_depth        ...         \\\n",
       "0           True               True          0.410398        ...          \n",
       "1           True              False          0.423992        ...          \n",
       "2          False              False          0.510874        ...          \n",
       "3           True              False          0.464470        ...          \n",
       "4          False              False          0.497223        ...          \n",
       "\n",
       "   number_stems  number_branches  average_fragmentation  average_contraction  \\\n",
       "0             6               30                34.2333             0.776329   \n",
       "1           NaN              NaN                    NaN                  NaN   \n",
       "2           NaN              NaN                    NaN                  NaN   \n",
       "3           NaN              NaN                    NaN                  NaN   \n",
       "4           NaN              NaN                    NaN                  NaN   \n",
       "\n",
       "   average_bifurcation_angle_remote  hausdorff_dimension  total_surface  \\\n",
       "0                           77.4101              1.12107        1416.64   \n",
       "1                               NaN                  NaN            NaN   \n",
       "2                               NaN                  NaN            NaN   \n",
       "3                               NaN                  NaN            NaN   \n",
       "4                               NaN                  NaN            NaN   \n",
       "\n",
       "  max_branch_order  soma_surface  overall_height  \n",
       "0                6       111.175         215.758  \n",
       "1              NaN           NaN             NaN  \n",
       "2              NaN           NaN             NaN  \n",
       "3              NaN           NaN             NaN  \n",
       "4              NaN           NaN             NaN  \n",
       "\n",
       "[5 rows x 94 columns]"
      ]
     },
     "execution_count": 7,
     "metadata": {},
     "output_type": "execute_result"
    }
   ],
   "source": [
    "# create pandas dataframe\n",
    "import pandas as pd\n",
    "\n",
    "cells_df = pd.DataFrame.from_records( cells_records, columns=columns )\n",
    "cells_df.head()"
   ]
  },
  {
   "cell_type": "code",
   "execution_count": 8,
   "metadata": {
    "collapsed": false
   },
   "outputs": [],
   "source": [
    "#remove these 2 since they shouldn't be included in the dataset\n",
    "cells_df = cells_df[cells_df.id !=319070795]\n",
    "cells_df = cells_df[cells_df.id !=341016267]"
   ]
  },
  {
   "cell_type": "code",
   "execution_count": 9,
   "metadata": {
    "collapsed": false
   },
   "outputs": [
    {
     "name": "stderr",
     "output_type": "stream",
     "text": [
      "C:\\Anaconda\\lib\\site-packages\\pandas\\core\\generic.py:968: FutureWarning: save is deprecated, use to_pickle\n",
      "  warnings.warn(\"save is deprecated, use to_pickle\", FutureWarning)\n"
     ]
    }
   ],
   "source": [
    "cells_df.save('cells_dataframe.h5')"
   ]
  },
  {
   "cell_type": "code",
   "execution_count": null,
   "metadata": {
    "collapsed": true
   },
   "outputs": [],
   "source": []
  }
 ],
 "metadata": {
  "kernelspec": {
   "display_name": "Python 2",
   "language": "python",
   "name": "python2"
  },
  "language_info": {
   "codemirror_mode": {
    "name": "ipython",
    "version": 2
   },
   "file_extension": ".py",
   "mimetype": "text/x-python",
   "name": "python",
   "nbconvert_exporter": "python",
   "pygments_lexer": "ipython2",
   "version": "2.7.8"
  }
 },
 "nbformat": 4,
 "nbformat_minor": 0
}
