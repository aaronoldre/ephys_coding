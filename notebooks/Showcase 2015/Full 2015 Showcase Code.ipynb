{
 "cells": [
  {
   "cell_type": "code",
   "execution_count": null,
   "metadata": {
    "collapsed": true
   },
   "outputs": [],
   "source": [
    "import argparse\n",
    "import psycopg2\n",
    "import h5py\n",
    "import numpy as np\n",
    "import matplotlib.pyplot as plt\n",
    "import os\n",
    "import csv\n",
    "import scipy.signal as sg\n",
    "from allensdk.core.nwb_data_set import NwbDataSet\n",
    "import pandas as pd\n",
    "%matplotlib inline"
   ]
  },
  {
   "cell_type": "code",
   "execution_count": null,
   "metadata": {
    "collapsed": true
   },
   "outputs": [],
   "source": [
    "#create pandas dataframe of specimens that have passed QC from the IVSCC log\n",
    "cells_df =pd.read_csv('speclist.csv')\n",
    "#generate a custom report in LIMS 'ivscc data status' and save the report\n",
    "#create another dataframe from that report\n",
    "LIMS_df = pd.read_csv('custom_report.csv')"
   ]
  },
  {
   "cell_type": "code",
   "execution_count": null,
   "metadata": {
    "collapsed": true
   },
   "outputs": [],
   "source": [
    "#build up all the necessary columns in the cells dataframe\n",
    "columns = ['Noise_sweeps','depol_sweeps','hyper_sweeps','ss_sweep','ls_sweep','ramp_sweep','full_name','nwb_path','specimen_id','Cre+','Transgenic_Line','ephys_result_id','dendrite_type','depol_threshold', 'hyper_threshold', 'ss_threshold', 'ls_threshold','ramp_threshold_sweep']\n",
    "for i in columns:\n",
    "    cells_df[i] = None"
   ]
  },
  {
   "cell_type": "code",
   "execution_count": null,
   "metadata": {
    "collapsed": true
   },
   "outputs": [],
   "source": [
    "#check the dataframe\n",
    "cells_df.head()\n"
   ]
  },
  {
   "cell_type": "code",
   "execution_count": null,
   "metadata": {
    "collapsed": true
   },
   "outputs": [],
   "source": [
    "#create a list to index through\n",
    "specimen_list = list(cells_df['Labtrax_ID'])"
   ]
  },
  {
   "cell_type": "code",
   "execution_count": null,
   "metadata": {
    "collapsed": true
   },
   "outputs": [],
   "source": [
    "transfer data from LIMS dataframe to cell dataframe only for cells that have passed QC\n",
    "for i in range(len(LIMS_df)):\n",
    "    try:\n",
    "        j = specimen_list.index(LIMS_df['specimen_name'][i][-15:-3])\n",
    "        cells_df['Transgenic_Line'][j] = LIMS_df['transgenic_driver_line'][i]\n",
    "        cells_df['dendrite_type'][j] = LIMS_df['dendrite_type_tag'][i]\n",
    "        cells_df['Cre+'][j] = LIMS_df['cre_reporter_positive'][i]\n",
    "        cells_df['ephys_result_id'][j] = LIMS_df['ephys_result_id'][i]\n",
    "    except ValueError:\n",
    "        pass"
   ]
  },
  {
   "cell_type": "code",
   "execution_count": null,
   "metadata": {
    "collapsed": true
   },
   "outputs": [],
   "source": [
    "def LinuxtoWindow(Linuxpath):\n",
    "    SplitLinux = Linuxpath.split('/')\n",
    "    #I should be able to link to \\\\titan, but I can't figure it out, so I mapped //titan/cns to y:    \n",
    "    WindowsP = os.path.join('y:/','mousecelltypes',SplitLinux[4],SplitLinux[5],'')\n",
    "    #WindowsP = os.path.join('\\\\titan','cns','mousecelltypes',SplitLinux[4],SplitLinux[5],'')    \n",
    "    return (WindowsP)"
   ]
  }
 ],
 "metadata": {
  "kernelspec": {
   "display_name": "Python 2",
   "language": "python",
   "name": "python2"
  },
  "language_info": {
   "codemirror_mode": {
    "name": "ipython",
    "version": 2
   },
   "file_extension": ".py",
   "mimetype": "text/x-python",
   "name": "python",
   "nbconvert_exporter": "python",
   "pygments_lexer": "ipython2",
   "version": "2.7.8"
  }
 },
 "nbformat": 4,
 "nbformat_minor": 0
}
