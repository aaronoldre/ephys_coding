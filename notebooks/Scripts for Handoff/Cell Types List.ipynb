{
 "cells": [
  {
   "cell_type": "code",
   "execution_count": 1,
   "metadata": {
    "collapsed": true
   },
   "outputs": [],
   "source": [
    "import pandas as pd\n",
    "from allensdk.core.cell_types_cache import CellTypesCache\n",
    "import numpy as np\n",
    "import matplotlib.pyplot as plt\n",
    "%matplotlib inline\n",
    "import warnings\n",
    "warnings.filterwarnings('ignore')"
   ]
  },
  {
   "cell_type": "code",
   "execution_count": 2,
   "metadata": {
    "collapsed": true
   },
   "outputs": [],
   "source": [
    "#get list of cells from website and list of reconstructions\n",
    "\n",
    "ctc = CellTypesCache()\n",
    "cells = ctc.get_cells()\n",
    "\n",
    "#make a dictionary of all the cells with the Ephys ROI Result ID as the key\n",
    "cell_index = { c['ephys_result_id']: c for c in cells}\n",
    "\n",
    "#or make it into a dataframe setting the dictionary keys to being the index of the dataframe\n",
    "df=pd.DataFrame.from_dict(cell_index, orient='index')"
   ]
  },
  {
   "cell_type": "code",
   "execution_count": 3,
   "metadata": {
    "scrolled": true
   },
   "outputs": [
    {
     "data": {
      "text/html": [
       "<div>\n",
       "<table border=\"1\" class=\"dataframe\">\n",
       "  <thead>\n",
       "    <tr style=\"text-align: right;\">\n",
       "      <th></th>\n",
       "      <th>rna_integrity_number</th>\n",
       "      <th>weight</th>\n",
       "      <th>parent_y_coord</th>\n",
       "      <th>dendrite_type</th>\n",
       "      <th>has_morphology</th>\n",
       "      <th>parent_x_coord</th>\n",
       "      <th>ephys_result_id</th>\n",
       "      <th>data_sets</th>\n",
       "      <th>is_cell_specimen</th>\n",
       "      <th>cell_soma_locations</th>\n",
       "      <th>...</th>\n",
       "      <th>structure_id</th>\n",
       "      <th>structure</th>\n",
       "      <th>parent_z_coord</th>\n",
       "      <th>apical</th>\n",
       "      <th>name</th>\n",
       "      <th>specimen_tags</th>\n",
       "      <th>has_reconstruction</th>\n",
       "      <th>specimen_id_path</th>\n",
       "      <th>donor_id</th>\n",
       "      <th>external_specimen_name</th>\n",
       "    </tr>\n",
       "  </thead>\n",
       "  <tbody>\n",
       "    <tr>\n",
       "      <th>313860731</th>\n",
       "      <td>None</td>\n",
       "      <td>9000</td>\n",
       "      <td>0</td>\n",
       "      <td>spiny</td>\n",
       "      <td>True</td>\n",
       "      <td>0</td>\n",
       "      <td>313860731</td>\n",
       "      <td>[{u'name': u'T301-Ax.141222_02_D05_313860745',...</td>\n",
       "      <td>True</td>\n",
       "      <td>[{u'normalized_depth': 0.629235722633, u'speci...</td>\n",
       "      <td>...</td>\n",
       "      <td>778</td>\n",
       "      <td>{u'st_level': None, u'graph_id': 1, u'name': u...</td>\n",
       "      <td>1</td>\n",
       "      <td>truncated</td>\n",
       "      <td>Rorb-IRES2-Cre-D;Ai14-168047.01.02.01</td>\n",
       "      <td>[{u'ar_association_key_name': u'469763389', u'...</td>\n",
       "      <td>False</td>\n",
       "      <td>/313401570/313835977/313837005/313860745/</td>\n",
       "      <td>313401568</td>\n",
       "      <td>None</td>\n",
       "    </tr>\n",
       "    <tr>\n",
       "      <th>313861409</th>\n",
       "      <td>None</td>\n",
       "      <td>9000</td>\n",
       "      <td>0</td>\n",
       "      <td>aspiny</td>\n",
       "      <td>False</td>\n",
       "      <td>0</td>\n",
       "      <td>313861409</td>\n",
       "      <td>[]</td>\n",
       "      <td>True</td>\n",
       "      <td>[{u'normalized_depth': 0.416697482179, u'speci...</td>\n",
       "      <td>...</td>\n",
       "      <td>501</td>\n",
       "      <td>{u'st_level': None, u'graph_id': 1, u'name': u...</td>\n",
       "      <td>1</td>\n",
       "      <td>NA</td>\n",
       "      <td>Pvalb-IRES-Cre;Ai14-165172.05.02.01</td>\n",
       "      <td>[{u'ar_association_key_name': u'566559909', u'...</td>\n",
       "      <td>False</td>\n",
       "      <td>/312883119/313174438/313177534/313861411/</td>\n",
       "      <td>312883117</td>\n",
       "      <td>None</td>\n",
       "    </tr>\n",
       "    <tr>\n",
       "      <th>313861536</th>\n",
       "      <td>None</td>\n",
       "      <td>9000</td>\n",
       "      <td>0</td>\n",
       "      <td>aspiny</td>\n",
       "      <td>True</td>\n",
       "      <td>0</td>\n",
       "      <td>313861536</td>\n",
       "      <td>[{u'name': u'T301-Ax.141216_01_D05_313861539',...</td>\n",
       "      <td>True</td>\n",
       "      <td>[{u'normalized_depth': 0.530617180204, u'speci...</td>\n",
       "      <td>...</td>\n",
       "      <td>721</td>\n",
       "      <td>{u'st_level': None, u'graph_id': 1, u'name': u...</td>\n",
       "      <td>1</td>\n",
       "      <td>NA</td>\n",
       "      <td>Pvalb-IRES-Cre;Ai14-165171.06.02.01</td>\n",
       "      <td>[{u'ar_association_key_name': u'566559909', u'...</td>\n",
       "      <td>False</td>\n",
       "      <td>/312883107/313121788/313138741/313861539/</td>\n",
       "      <td>312883105</td>\n",
       "      <td>None</td>\n",
       "    </tr>\n",
       "    <tr>\n",
       "      <th>313861603</th>\n",
       "      <td>None</td>\n",
       "      <td>9000</td>\n",
       "      <td>0</td>\n",
       "      <td>aspiny</td>\n",
       "      <td>True</td>\n",
       "      <td>0</td>\n",
       "      <td>313861603</td>\n",
       "      <td>[{u'name': u'T301-Ax.141216_02_A02_313861608',...</td>\n",
       "      <td>True</td>\n",
       "      <td>[{u'normalized_depth': 0.634578644377, u'speci...</td>\n",
       "      <td>...</td>\n",
       "      <td>778</td>\n",
       "      <td>{u'st_level': None, u'graph_id': 1, u'name': u...</td>\n",
       "      <td>1</td>\n",
       "      <td>NA</td>\n",
       "      <td>Pvalb-IRES-Cre;Ai14-165874.04.02.01</td>\n",
       "      <td>[{u'ar_association_key_name': u'566559909', u'...</td>\n",
       "      <td>True</td>\n",
       "      <td>/312883131/313324567/313329291/313861608/</td>\n",
       "      <td>312883129</td>\n",
       "      <td>None</td>\n",
       "    </tr>\n",
       "    <tr>\n",
       "      <th>313861675</th>\n",
       "      <td>None</td>\n",
       "      <td>9000</td>\n",
       "      <td>0</td>\n",
       "      <td>spiny</td>\n",
       "      <td>True</td>\n",
       "      <td>0</td>\n",
       "      <td>313861675</td>\n",
       "      <td>[{u'name': u'T301-Ax.141216_02_A04_313861677',...</td>\n",
       "      <td>True</td>\n",
       "      <td>[{u'normalized_depth': 0.513310084338, u'speci...</td>\n",
       "      <td>...</td>\n",
       "      <td>721</td>\n",
       "      <td>{u'st_level': None, u'graph_id': 1, u'name': u...</td>\n",
       "      <td>1</td>\n",
       "      <td>truncated</td>\n",
       "      <td>Rorb-IRES2-Cre-D;Ai14-166229.04.01.01</td>\n",
       "      <td>[{u'ar_association_key_name': u'469763389', u'...</td>\n",
       "      <td>False</td>\n",
       "      <td>/312883179/313400174/313400524/313861677/</td>\n",
       "      <td>312883177</td>\n",
       "      <td>None</td>\n",
       "    </tr>\n",
       "  </tbody>\n",
       "</table>\n",
       "<p>5 rows × 39 columns</p>\n",
       "</div>"
      ],
      "text/plain": [
       "          rna_integrity_number  weight  parent_y_coord dendrite_type  \\\n",
       "313860731                 None    9000               0         spiny   \n",
       "313861409                 None    9000               0        aspiny   \n",
       "313861536                 None    9000               0        aspiny   \n",
       "313861603                 None    9000               0        aspiny   \n",
       "313861675                 None    9000               0         spiny   \n",
       "\n",
       "          has_morphology  parent_x_coord  ephys_result_id  \\\n",
       "313860731           True               0        313860731   \n",
       "313861409          False               0        313861409   \n",
       "313861536           True               0        313861536   \n",
       "313861603           True               0        313861603   \n",
       "313861675           True               0        313861675   \n",
       "\n",
       "                                                   data_sets is_cell_specimen  \\\n",
       "313860731  [{u'name': u'T301-Ax.141222_02_D05_313860745',...             True   \n",
       "313861409                                                 []             True   \n",
       "313861536  [{u'name': u'T301-Ax.141216_01_D05_313861539',...             True   \n",
       "313861603  [{u'name': u'T301-Ax.141216_02_A02_313861608',...             True   \n",
       "313861675  [{u'name': u'T301-Ax.141216_02_A04_313861677',...             True   \n",
       "\n",
       "                                         cell_soma_locations  \\\n",
       "313860731  [{u'normalized_depth': 0.629235722633, u'speci...   \n",
       "313861409  [{u'normalized_depth': 0.416697482179, u'speci...   \n",
       "313861536  [{u'normalized_depth': 0.530617180204, u'speci...   \n",
       "313861603  [{u'normalized_depth': 0.634578644377, u'speci...   \n",
       "313861675  [{u'normalized_depth': 0.513310084338, u'speci...   \n",
       "\n",
       "                   ...            structure_id  \\\n",
       "313860731          ...                     778   \n",
       "313861409          ...                     501   \n",
       "313861536          ...                     721   \n",
       "313861603          ...                     778   \n",
       "313861675          ...                     721   \n",
       "\n",
       "                                                   structure parent_z_coord  \\\n",
       "313860731  {u'st_level': None, u'graph_id': 1, u'name': u...              1   \n",
       "313861409  {u'st_level': None, u'graph_id': 1, u'name': u...              1   \n",
       "313861536  {u'st_level': None, u'graph_id': 1, u'name': u...              1   \n",
       "313861603  {u'st_level': None, u'graph_id': 1, u'name': u...              1   \n",
       "313861675  {u'st_level': None, u'graph_id': 1, u'name': u...              1   \n",
       "\n",
       "              apical                                   name  \\\n",
       "313860731  truncated  Rorb-IRES2-Cre-D;Ai14-168047.01.02.01   \n",
       "313861409         NA    Pvalb-IRES-Cre;Ai14-165172.05.02.01   \n",
       "313861536         NA    Pvalb-IRES-Cre;Ai14-165171.06.02.01   \n",
       "313861603         NA    Pvalb-IRES-Cre;Ai14-165874.04.02.01   \n",
       "313861675  truncated  Rorb-IRES2-Cre-D;Ai14-166229.04.01.01   \n",
       "\n",
       "                                               specimen_tags  \\\n",
       "313860731  [{u'ar_association_key_name': u'469763389', u'...   \n",
       "313861409  [{u'ar_association_key_name': u'566559909', u'...   \n",
       "313861536  [{u'ar_association_key_name': u'566559909', u'...   \n",
       "313861603  [{u'ar_association_key_name': u'566559909', u'...   \n",
       "313861675  [{u'ar_association_key_name': u'469763389', u'...   \n",
       "\n",
       "          has_reconstruction                           specimen_id_path  \\\n",
       "313860731              False  /313401570/313835977/313837005/313860745/   \n",
       "313861409              False  /312883119/313174438/313177534/313861411/   \n",
       "313861536              False  /312883107/313121788/313138741/313861539/   \n",
       "313861603               True  /312883131/313324567/313329291/313861608/   \n",
       "313861675              False  /312883179/313400174/313400524/313861677/   \n",
       "\n",
       "            donor_id external_specimen_name  \n",
       "313860731  313401568                   None  \n",
       "313861409  312883117                   None  \n",
       "313861536  312883105                   None  \n",
       "313861603  312883129                   None  \n",
       "313861675  312883177                   None  \n",
       "\n",
       "[5 rows x 39 columns]"
      ]
     },
     "execution_count": 3,
     "metadata": {},
     "output_type": "execute_result"
    }
   ],
   "source": [
    "#we can look at our new dataframe and explore the data\n",
    "df.head(5)"
   ]
  },
  {
   "cell_type": "code",
   "execution_count": 4,
   "metadata": {},
   "outputs": [
    {
     "name": "stdout",
     "output_type": "stream",
     "text": [
      "Cells in Database 1058\n",
      "Cells with Reconstructions 295\n"
     ]
    }
   ],
   "source": [
    "#let's see how many cells there are\n",
    "print 'Cells in Database', len(df)\n",
    "print 'Cells with Reconstructions', len(df[df['has_reconstruction'] == True])"
   ]
  },
  {
   "cell_type": "code",
   "execution_count": 5,
   "metadata": {
    "collapsed": true
   },
   "outputs": [],
   "source": [
    "#get the name of the slice that the cell came from\n",
    "df['slice'] = None\n",
    "for i in range(len(df)):\n",
    "    df['slice'].iloc[i] = df['name'].iloc[i].split('-')[-1][:-3]"
   ]
  },
  {
   "cell_type": "code",
   "execution_count": 6,
   "metadata": {},
   "outputs": [
    {
     "ename": "IOError",
     "evalue": "File pwa_log.csv does not exist",
     "output_type": "error",
     "traceback": [
      "\u001b[1;31m---------------------------------------------------------------------------\u001b[0m",
      "\u001b[1;31mIOError\u001b[0m                                   Traceback (most recent call last)",
      "\u001b[1;32m<ipython-input-6-8a23140d98d9>\u001b[0m in \u001b[0;36m<module>\u001b[1;34m()\u001b[0m\n\u001b[0;32m      1\u001b[0m \u001b[1;31m#load pwa log as csv\u001b[0m\u001b[1;33m\u001b[0m\u001b[1;33m\u001b[0m\u001b[0m\n\u001b[1;32m----> 2\u001b[1;33m \u001b[0mpwa_log\u001b[0m \u001b[1;33m=\u001b[0m \u001b[0mpd\u001b[0m\u001b[1;33m.\u001b[0m\u001b[0mread_csv\u001b[0m\u001b[1;33m(\u001b[0m\u001b[1;34m'pwa_log.csv'\u001b[0m\u001b[1;33m)\u001b[0m\u001b[1;33m\u001b[0m\u001b[0m\n\u001b[0m\u001b[0;32m      3\u001b[0m \u001b[1;33m\u001b[0m\u001b[0m\n\u001b[0;32m      4\u001b[0m \u001b[1;31m#remove Select option\u001b[0m\u001b[1;33m\u001b[0m\u001b[1;33m\u001b[0m\u001b[0m\n\u001b[0;32m      5\u001b[0m \u001b[0mpwa_log\u001b[0m \u001b[1;33m=\u001b[0m \u001b[0mpwa_log\u001b[0m\u001b[1;33m[\u001b[0m\u001b[0mpwa_log\u001b[0m\u001b[1;33m[\u001b[0m\u001b[1;34m'Rig Operator'\u001b[0m\u001b[1;33m]\u001b[0m \u001b[1;33m!=\u001b[0m \u001b[1;34m'Select'\u001b[0m\u001b[1;33m]\u001b[0m\u001b[1;33m[\u001b[0m\u001b[1;33m[\u001b[0m\u001b[1;34m'Specimen Name'\u001b[0m\u001b[1;33m,\u001b[0m\u001b[1;34m'Rig Operator'\u001b[0m\u001b[1;33m]\u001b[0m\u001b[1;33m]\u001b[0m\u001b[1;33m\u001b[0m\u001b[0m\n",
      "\u001b[1;32mC:\\Users\\aarono\\AppData\\Local\\Continuum\\anaconda2\\lib\\site-packages\\pandas\\io\\parsers.pyc\u001b[0m in \u001b[0;36mparser_f\u001b[1;34m(filepath_or_buffer, sep, delimiter, header, names, index_col, usecols, squeeze, prefix, mangle_dupe_cols, dtype, engine, converters, true_values, false_values, skipinitialspace, skiprows, nrows, na_values, keep_default_na, na_filter, verbose, skip_blank_lines, parse_dates, infer_datetime_format, keep_date_col, date_parser, dayfirst, iterator, chunksize, compression, thousands, decimal, lineterminator, quotechar, quoting, escapechar, comment, encoding, dialect, tupleize_cols, error_bad_lines, warn_bad_lines, skipfooter, skip_footer, doublequote, delim_whitespace, as_recarray, compact_ints, use_unsigned, low_memory, buffer_lines, memory_map, float_precision)\u001b[0m\n\u001b[0;32m    644\u001b[0m                     skip_blank_lines=skip_blank_lines)\n\u001b[0;32m    645\u001b[0m \u001b[1;33m\u001b[0m\u001b[0m\n\u001b[1;32m--> 646\u001b[1;33m         \u001b[1;32mreturn\u001b[0m \u001b[0m_read\u001b[0m\u001b[1;33m(\u001b[0m\u001b[0mfilepath_or_buffer\u001b[0m\u001b[1;33m,\u001b[0m \u001b[0mkwds\u001b[0m\u001b[1;33m)\u001b[0m\u001b[1;33m\u001b[0m\u001b[0m\n\u001b[0m\u001b[0;32m    647\u001b[0m \u001b[1;33m\u001b[0m\u001b[0m\n\u001b[0;32m    648\u001b[0m     \u001b[0mparser_f\u001b[0m\u001b[1;33m.\u001b[0m\u001b[0m__name__\u001b[0m \u001b[1;33m=\u001b[0m \u001b[0mname\u001b[0m\u001b[1;33m\u001b[0m\u001b[0m\n",
      "\u001b[1;32mC:\\Users\\aarono\\AppData\\Local\\Continuum\\anaconda2\\lib\\site-packages\\pandas\\io\\parsers.pyc\u001b[0m in \u001b[0;36m_read\u001b[1;34m(filepath_or_buffer, kwds)\u001b[0m\n\u001b[0;32m    387\u001b[0m \u001b[1;33m\u001b[0m\u001b[0m\n\u001b[0;32m    388\u001b[0m     \u001b[1;31m# Create the parser.\u001b[0m\u001b[1;33m\u001b[0m\u001b[1;33m\u001b[0m\u001b[0m\n\u001b[1;32m--> 389\u001b[1;33m     \u001b[0mparser\u001b[0m \u001b[1;33m=\u001b[0m \u001b[0mTextFileReader\u001b[0m\u001b[1;33m(\u001b[0m\u001b[0mfilepath_or_buffer\u001b[0m\u001b[1;33m,\u001b[0m \u001b[1;33m**\u001b[0m\u001b[0mkwds\u001b[0m\u001b[1;33m)\u001b[0m\u001b[1;33m\u001b[0m\u001b[0m\n\u001b[0m\u001b[0;32m    390\u001b[0m \u001b[1;33m\u001b[0m\u001b[0m\n\u001b[0;32m    391\u001b[0m     \u001b[1;32mif\u001b[0m \u001b[1;33m(\u001b[0m\u001b[0mnrows\u001b[0m \u001b[1;32mis\u001b[0m \u001b[1;32mnot\u001b[0m \u001b[0mNone\u001b[0m\u001b[1;33m)\u001b[0m \u001b[1;32mand\u001b[0m \u001b[1;33m(\u001b[0m\u001b[0mchunksize\u001b[0m \u001b[1;32mis\u001b[0m \u001b[1;32mnot\u001b[0m \u001b[0mNone\u001b[0m\u001b[1;33m)\u001b[0m\u001b[1;33m:\u001b[0m\u001b[1;33m\u001b[0m\u001b[0m\n",
      "\u001b[1;32mC:\\Users\\aarono\\AppData\\Local\\Continuum\\anaconda2\\lib\\site-packages\\pandas\\io\\parsers.pyc\u001b[0m in \u001b[0;36m__init__\u001b[1;34m(self, f, engine, **kwds)\u001b[0m\n\u001b[0;32m    728\u001b[0m             \u001b[0mself\u001b[0m\u001b[1;33m.\u001b[0m\u001b[0moptions\u001b[0m\u001b[1;33m[\u001b[0m\u001b[1;34m'has_index_names'\u001b[0m\u001b[1;33m]\u001b[0m \u001b[1;33m=\u001b[0m \u001b[0mkwds\u001b[0m\u001b[1;33m[\u001b[0m\u001b[1;34m'has_index_names'\u001b[0m\u001b[1;33m]\u001b[0m\u001b[1;33m\u001b[0m\u001b[0m\n\u001b[0;32m    729\u001b[0m \u001b[1;33m\u001b[0m\u001b[0m\n\u001b[1;32m--> 730\u001b[1;33m         \u001b[0mself\u001b[0m\u001b[1;33m.\u001b[0m\u001b[0m_make_engine\u001b[0m\u001b[1;33m(\u001b[0m\u001b[0mself\u001b[0m\u001b[1;33m.\u001b[0m\u001b[0mengine\u001b[0m\u001b[1;33m)\u001b[0m\u001b[1;33m\u001b[0m\u001b[0m\n\u001b[0m\u001b[0;32m    731\u001b[0m \u001b[1;33m\u001b[0m\u001b[0m\n\u001b[0;32m    732\u001b[0m     \u001b[1;32mdef\u001b[0m \u001b[0mclose\u001b[0m\u001b[1;33m(\u001b[0m\u001b[0mself\u001b[0m\u001b[1;33m)\u001b[0m\u001b[1;33m:\u001b[0m\u001b[1;33m\u001b[0m\u001b[0m\n",
      "\u001b[1;32mC:\\Users\\aarono\\AppData\\Local\\Continuum\\anaconda2\\lib\\site-packages\\pandas\\io\\parsers.pyc\u001b[0m in \u001b[0;36m_make_engine\u001b[1;34m(self, engine)\u001b[0m\n\u001b[0;32m    921\u001b[0m     \u001b[1;32mdef\u001b[0m \u001b[0m_make_engine\u001b[0m\u001b[1;33m(\u001b[0m\u001b[0mself\u001b[0m\u001b[1;33m,\u001b[0m \u001b[0mengine\u001b[0m\u001b[1;33m=\u001b[0m\u001b[1;34m'c'\u001b[0m\u001b[1;33m)\u001b[0m\u001b[1;33m:\u001b[0m\u001b[1;33m\u001b[0m\u001b[0m\n\u001b[0;32m    922\u001b[0m         \u001b[1;32mif\u001b[0m \u001b[0mengine\u001b[0m \u001b[1;33m==\u001b[0m \u001b[1;34m'c'\u001b[0m\u001b[1;33m:\u001b[0m\u001b[1;33m\u001b[0m\u001b[0m\n\u001b[1;32m--> 923\u001b[1;33m             \u001b[0mself\u001b[0m\u001b[1;33m.\u001b[0m\u001b[0m_engine\u001b[0m \u001b[1;33m=\u001b[0m \u001b[0mCParserWrapper\u001b[0m\u001b[1;33m(\u001b[0m\u001b[0mself\u001b[0m\u001b[1;33m.\u001b[0m\u001b[0mf\u001b[0m\u001b[1;33m,\u001b[0m \u001b[1;33m**\u001b[0m\u001b[0mself\u001b[0m\u001b[1;33m.\u001b[0m\u001b[0moptions\u001b[0m\u001b[1;33m)\u001b[0m\u001b[1;33m\u001b[0m\u001b[0m\n\u001b[0m\u001b[0;32m    924\u001b[0m         \u001b[1;32melse\u001b[0m\u001b[1;33m:\u001b[0m\u001b[1;33m\u001b[0m\u001b[0m\n\u001b[0;32m    925\u001b[0m             \u001b[1;32mif\u001b[0m \u001b[0mengine\u001b[0m \u001b[1;33m==\u001b[0m \u001b[1;34m'python'\u001b[0m\u001b[1;33m:\u001b[0m\u001b[1;33m\u001b[0m\u001b[0m\n",
      "\u001b[1;32mC:\\Users\\aarono\\AppData\\Local\\Continuum\\anaconda2\\lib\\site-packages\\pandas\\io\\parsers.pyc\u001b[0m in \u001b[0;36m__init__\u001b[1;34m(self, src, **kwds)\u001b[0m\n\u001b[0;32m   1388\u001b[0m         \u001b[0mkwds\u001b[0m\u001b[1;33m[\u001b[0m\u001b[1;34m'allow_leading_cols'\u001b[0m\u001b[1;33m]\u001b[0m \u001b[1;33m=\u001b[0m \u001b[0mself\u001b[0m\u001b[1;33m.\u001b[0m\u001b[0mindex_col\u001b[0m \u001b[1;32mis\u001b[0m \u001b[1;32mnot\u001b[0m \u001b[0mFalse\u001b[0m\u001b[1;33m\u001b[0m\u001b[0m\n\u001b[0;32m   1389\u001b[0m \u001b[1;33m\u001b[0m\u001b[0m\n\u001b[1;32m-> 1390\u001b[1;33m         \u001b[0mself\u001b[0m\u001b[1;33m.\u001b[0m\u001b[0m_reader\u001b[0m \u001b[1;33m=\u001b[0m \u001b[0m_parser\u001b[0m\u001b[1;33m.\u001b[0m\u001b[0mTextReader\u001b[0m\u001b[1;33m(\u001b[0m\u001b[0msrc\u001b[0m\u001b[1;33m,\u001b[0m \u001b[1;33m**\u001b[0m\u001b[0mkwds\u001b[0m\u001b[1;33m)\u001b[0m\u001b[1;33m\u001b[0m\u001b[0m\n\u001b[0m\u001b[0;32m   1391\u001b[0m \u001b[1;33m\u001b[0m\u001b[0m\n\u001b[0;32m   1392\u001b[0m         \u001b[1;31m# XXX\u001b[0m\u001b[1;33m\u001b[0m\u001b[1;33m\u001b[0m\u001b[0m\n",
      "\u001b[1;32mpandas\\parser.pyx\u001b[0m in \u001b[0;36mpandas.parser.TextReader.__cinit__ (pandas\\parser.c:4184)\u001b[1;34m()\u001b[0m\n",
      "\u001b[1;32mpandas\\parser.pyx\u001b[0m in \u001b[0;36mpandas.parser.TextReader._setup_parser_source (pandas\\parser.c:8449)\u001b[1;34m()\u001b[0m\n",
      "\u001b[1;31mIOError\u001b[0m: File pwa_log.csv does not exist"
     ]
    }
   ],
   "source": [
    "#load pwa log as csv\n",
    "pwa_log = pd.read_csv('pwa_log.csv')\n",
    "\n",
    "#remove Select option\n",
    "pwa_log = pwa_log[pwa_log['Rig Operator'] != 'Select'][['Specimen Name','Rig Operator']]"
   ]
  },
  {
   "cell_type": "code",
   "execution_count": null,
   "metadata": {
    "collapsed": true
   },
   "outputs": [],
   "source": [
    "#merge pwa log with dataframe and only add data if it exists in dataframe\n",
    "new_df = df.merge(pwa_log, how = 'left',left_on = 'slice', right_on = 'Specimen Name')\n",
    "new_df = new_df.drop_duplicates('ephys_result_id')"
   ]
  },
  {
   "cell_type": "code",
   "execution_count": 8,
   "metadata": {},
   "outputs": [
    {
     "data": {
      "text/plain": [
       "{nan, 'AO', 'DH', 'KH', 'KT', 'LK', 'LN', 'RM'}"
      ]
     },
     "execution_count": 8,
     "metadata": {},
     "output_type": "execute_result"
    }
   ],
   "source": [
    "#check our work\n",
    "set(new_df['Rig Operator'])"
   ]
  },
  {
   "cell_type": "code",
   "execution_count": 9,
   "metadata": {
    "collapsed": true
   },
   "outputs": [],
   "source": [
    "#Kristen got married and changed her name, so let's convert those all over to her new initials\n",
    "new_df.loc[new_df['Rig Operator'] == 'KT', 'Rig Operator'] = 'KH'"
   ]
  },
  {
   "cell_type": "code",
   "execution_count": 10,
   "metadata": {},
   "outputs": [
    {
     "name": "stdout",
     "output_type": "stream",
     "text": [
      "DiJon 192 cells and 60 morphologies\n",
      "DiJon fill rate 31.0 %\n",
      "Lindsay 4 cells and 0 morphologies\n",
      "Lindsay fill rate 0.0 %\n",
      "Kristen 268 cells and 88 morphologies\n",
      "Kristen fill rate 33.0 %\n",
      "Lisa 88 cells and 11 morphologies\n",
      "Lisa fill rate 13.0 %\n",
      "Aaron 170 cells and 84 morphologies\n",
      "Aaron fill rate 49.0 %\n",
      "Rusty 242 cells and 47 morphologies\n",
      "Rusty fill rate 19.0 %\n"
     ]
    },
    {
     "data": {
      "image/png": "[encoded data removed]",
      "text/plain": [
       "<matplotlib.figure.Figure at 0xaead358>"
      ]
     },
     "metadata": {},
     "output_type": "display_data"
    }
   ],
   "source": [
    "names = {'DH': 'DiJon', 'LN': 'Lindsay', 'AO': 'Aaron', 'LK': 'Lisa',\n",
    "         'KH': 'Kristen','RM': 'Rusty'}\n",
    "for i in set(new_df['Rig Operator']):\n",
    "    try:\n",
    "        print names[i], len(new_df[new_df['Rig Operator'] == i]), 'cells and', len(new_df[(new_df['Rig Operator'] == i) & (new_df['has_reconstruction'] == True)]), 'morphologies'\n",
    "        fill_rate = round(len(new_df[(new_df['Rig Operator'] == i) & (new_df['has_reconstruction'] == True)])/float(len(new_df[new_df['Rig Operator'] == i])),2)*100\n",
    "        print names[i], 'fill rate', fill_rate, '%'\n",
    "        plt.scatter(len(new_df[new_df['Rig Operator'] == i]), len(new_df[(new_df['Rig Operator'] == i) & (new_df['has_reconstruction'] == True)]))\n",
    "    except KeyError:\n",
    "        pass\n",
    "    "
   ]
  },
  {
   "cell_type": "code",
   "execution_count": 11,
   "metadata": {
    "collapsed": true
   },
   "outputs": [],
   "source": [
    "new_df['structure_acronym'] = None\n",
    "for i in range(len(new_df)):\n",
    "    new_df['structure_acronym'].iloc[i] = new_df['structure'].iloc[i]['acronym']"
   ]
  },
  {
   "cell_type": "code",
   "execution_count": 12,
   "metadata": {
    "collapsed": true
   },
   "outputs": [],
   "source": [
    "new_df['layers'] = None\n",
    "layers = ['1','2/3','4','5','6']\n",
    "for i, area in enumerate(new_df['structure_acronym']):\n",
    "    for layer in layers:\n",
    "        if layer in area:\n",
    "            new_df['structure_acronym'].iloc[i] = area.split(layer)[0]\n",
    "            new_df['layers'].iloc[i] = layer\n",
    "            pass"
   ]
  },
  {
   "cell_type": "code",
   "execution_count": 13,
   "metadata": {
    "collapsed": true
   },
   "outputs": [],
   "source": [
    "lines = ['Cux2-CreERT2','Nr5a1-Cre','Nr5a1-Cre','Scnn1a-Tg2-Cre','Rorb-IRES2-Cre',\n",
    "         'Scnn1a-Tg3-Cre','Rbp4-Cre_KL100','Ctgf-T2A-dgCre','Ntsr1-Cre_GN220','Slc17a6-IRES-Cre',\n",
    "         'Ndnf-IRES2-dgCre','Chat-IRES-Cre-neo','Pvalb-IRES-Cre','Sst-IRES-Cre',\n",
    "         'Htr3a-Cre_NO152','Vip-IRES-Cre','Gad2-IRES-Cre']\n",
    "structures = ['AUDpo','VISpor','VISal','VISpl','VISl','VISli','VISp',\n",
    "              'VISrl','VISa','VISam','VISpm','RSPd', 'RSPagl']"
   ]
  },
  {
   "cell_type": "code",
   "execution_count": 14,
   "metadata": {
    "collapsed": true
   },
   "outputs": [],
   "source": [
    "matrix = np.zeros((len(lines),len(structures)))\n",
    "for i, cre in enumerate(lines):\n",
    "    for j, area in enumerate(structures):\n",
    "        matrix[i,j] = len(new_df[(new_df['transgenic_line'] == cre) & (new_df['structure_acronym'] == area)])"
   ]
  },
  {
   "cell_type": "code",
   "execution_count": 15,
   "metadata": {},
   "outputs": [
    {
     "data": {
      "image/png": "[encoded data removed]",
      "text/plain": [
       "<matplotlib.figure.Figure at 0xe0323c8>"
      ]
     },
     "metadata": {},
     "output_type": "display_data"
    }
   ],
   "source": [
    "plt.imshow(matrix, cmap='magma', interpolation = 'nearest')\n",
    "cbar = plt.colorbar(plt.imshow(matrix, cmap='magma', interpolation = 'nearest'))\n",
    "cbar.set_label('Number of Cells', rotation = 270)\n",
    "plt.yticks(np.arange(0,len(set(new_df['transgenic_line']))),lines)\n",
    "plt.xticks(np.arange(0,len(set(new_df['structure_acronym']))),structures, rotation = 90)\n",
    "\n",
    "plt.show()"
   ]
  },
  {
   "cell_type": "code",
   "execution_count": 16,
   "metadata": {
    "collapsed": true
   },
   "outputs": [],
   "source": [
    "matrix_l = np.zeros((len(set(new_df['layers'])),len(lines)))\n",
    "for i, cre in enumerate(np.unique(new_df['layers'])):\n",
    "    for j, line in enumerate(lines):\n",
    "        matrix_l[i,j] = len(new_df[(new_df['layers'] == cre) & (new_df['transgenic_line'] == line)])"
   ]
  },
  {
   "cell_type": "code",
   "execution_count": 17,
   "metadata": {},
   "outputs": [
    {
     "data": {
      "image/png": "[encoded data removed]",
      "text/plain": [
       "<matplotlib.figure.Figure at 0xe58a1d0>"
      ]
     },
     "metadata": {},
     "output_type": "display_data"
    }
   ],
   "source": [
    "plt.imshow(matrix_l, cmap='magma', interpolation = 'nearest')\n",
    "cbar = plt.colorbar(plt.imshow(matrix_l, cmap='magma', interpolation = 'nearest'))\n",
    "cbar.set_label('Number of Cells', rotation = 270)\n",
    "plt.xticks(np.arange(0,len(set(new_df['transgenic_line']))),lines, rotation = 90)\n",
    "plt.yticks(np.arange(0,len(set(new_df['layers']))),np.unique(new_df['layers']))\n",
    "plt.ylabel('Layer')\n",
    "\n",
    "plt.show()"
   ]
  },
  {
   "cell_type": "code",
   "execution_count": 18,
   "metadata": {
    "collapsed": true
   },
   "outputs": [],
   "source": [
    "new_df = new_df[new_df['Rig Operator'].notnull()]\n",
    "new_df = new_df[new_df['Rig Operator'] != \"LN\"]\n",
    "matrix_2 = np.zeros((len(np.unique(new_df['Rig Operator'])),len(lines)))\n",
    "for i, cre in enumerate(np.unique(new_df['Rig Operator'])):\n",
    "    for j, line in enumerate(lines):\n",
    "        matrix_2[i,j] = float(len(new_df[(new_df['Rig Operator'] == cre) & (new_df['transgenic_line'] == line)]))/len(new_df[new_df['Rig Operator'] == cre])*100"
   ]
  },
  {
   "cell_type": "code",
   "execution_count": 19,
   "metadata": {},
   "outputs": [
    {
     "data": {
      "image/png": "[encoded data removed]",
      "text/plain": [
       "<matplotlib.figure.Figure at 0xc40c940>"
      ]
     },
     "metadata": {},
     "output_type": "display_data"
    }
   ],
   "source": [
    "plt.imshow(matrix_2, cmap='magma', interpolation = 'nearest')\n",
    "cbar = plt.colorbar(plt.imshow(matrix_2, cmap='magma', interpolation = 'nearest'))\n",
    "cbar.set_label('Number of Cells', rotation = 270)\n",
    "plt.xticks(np.arange(0,len(set(new_df['transgenic_line']))),lines, rotation = 90)\n",
    "plt.yticks(np.arange(0,len(set(new_df['Rig Operator']))),np.unique(new_df['Rig Operator']))\n",
    "plt.ylabel('Rig Operator')\n",
    "\n",
    "plt.show()"
   ]
  },
  {
   "cell_type": "code",
   "execution_count": null,
   "metadata": {
    "collapsed": true
   },
   "outputs": [],
   "source": []
  }
 ],
 "metadata": {
  "anaconda-cloud": {},
  "kernelspec": {
   "display_name": "Python 2",
   "language": "python",
   "name": "python2"
  },
  "language_info": {
   "codemirror_mode": {
    "name": "ipython",
    "version": 2
   },
   "file_extension": ".py",
   "mimetype": "text/x-python",
   "name": "python",
   "nbconvert_exporter": "python",
   "pygments_lexer": "ipython2",
   "version": "2.7.13"
  }
 },
 "nbformat": 4,
 "nbformat_minor": 1
}
