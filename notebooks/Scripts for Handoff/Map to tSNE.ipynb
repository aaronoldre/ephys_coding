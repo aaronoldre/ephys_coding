{
 "cells": [
  {
   "cell_type": "markdown",
   "metadata": {},
   "source": [
    "#### We want to access all the cells in LIMS that have failed due to input resistance and map them back to Nathan's tSNE plot.\n",
    "\n",
    "1. What cells are we searching for in LIMS?\n",
    "2. What is needed to fit into tSNE?\n",
    "3. Do I want features for LIMS or file paths?\n",
    "\n"
   ]
  },
  {
   "cell_type": "code",
   "execution_count": 1,
   "metadata": {
    "collapsed": true
   },
   "outputs": [],
   "source": [
    "import pg8000\n",
    "import pandas as pd\n",
    "\n",
    "#code from Agata\n",
    "\n",
    "def _connect(user=\"limsreader\", host=\"limsdb2\", database=\"lims2\", password=\"limsro\", port=5432):\n",
    "    conn = pg8000.connect(user=user, host=host, database=database, password=password, port=port)\n",
    "    return conn, conn.cursor()\n",
    "\n",
    "def _select(cursor, query):\n",
    "    cursor.execute(query)\n",
    "    columns = [ d[0] for d in cursor.description ]\n",
    "    return [ dict(zip(columns, c)) for c in cursor.fetchall() ]\n",
    "\n",
    "def limsquery(query, user=\"limsreader\", host=\"limsdb2\", database=\"lims2\", password=\"limsro\", port=5432):\n",
    "    \"\"\"A function that takes a string containing a SQL query, connects to the LIMS database and outputs the result.\"\"\"\n",
    "    conn, cursor = _connect(user, host, database, password, port)\n",
    "    try:\n",
    "        results = _select(cursor, query)\n",
    "    finally:\n",
    "        cursor.close()\n",
    "        conn.close()\n",
    "    return results\n",
    "\n",
    "def get_lims_dataframe(query):\n",
    "    '''Return a dataframe with lims query'''\n",
    "    result = limsquery(query)\n",
    "    try:\n",
    "        data_df = pd.DataFrame(data=result, columns=result[0].keys())\n",
    "    except IndexError:\n",
    "        print \"Could not find results for your query.\"\n",
    "        data_df = pd.DataFrame()\n",
    "    return data_df"
   ]
  },
  {
   "cell_type": "code",
   "execution_count": 4,
   "metadata": {},
   "outputs": [
    {
     "data": {
      "text/html": [
       "<div>\n",
       "<table border=\"1\" class=\"dataframe\">\n",
       "  <thead>\n",
       "    <tr style=\"text-align: right;\">\n",
       "      <th></th>\n",
       "      <th>ephys_roi_result_id</th>\n",
       "      <th>code</th>\n",
       "      <th>name</th>\n",
       "      <th>failed_bad_rs</th>\n",
       "      <th>workflow_state</th>\n",
       "      <th>recording_date</th>\n",
       "      <th>initial_access_resistance_mohm</th>\n",
       "      <th>project_id</th>\n",
       "      <th>id</th>\n",
       "    </tr>\n",
       "  </thead>\n",
       "  <tbody>\n",
       "    <tr>\n",
       "      <th>67</th>\n",
       "      <td>601831626</td>\n",
       "      <td>T301</td>\n",
       "      <td>Nos1-CreERT2;Ai14-333287.03.01.01</td>\n",
       "      <td>True</td>\n",
       "      <td>manual_failed</td>\n",
       "      <td>2017-07-10 21:03:11</td>\n",
       "      <td>20.095886</td>\n",
       "      <td>305094322</td>\n",
       "      <td>305094322</td>\n",
       "    </tr>\n",
       "    <tr>\n",
       "      <th>68</th>\n",
       "      <td>602660919</td>\n",
       "      <td>T301</td>\n",
       "      <td>Scnn1a-Tg2-Cre;Ai14-333165.04.02.01</td>\n",
       "      <td>True</td>\n",
       "      <td>manual_failed</td>\n",
       "      <td>2017-07-13 22:16:27</td>\n",
       "      <td>20.866342</td>\n",
       "      <td>305094322</td>\n",
       "      <td>305094322</td>\n",
       "    </tr>\n",
       "    <tr>\n",
       "      <th>69</th>\n",
       "      <td>604693290</td>\n",
       "      <td>T301x</td>\n",
       "      <td>Rbp4-Cre_KL100;Ai14-337193.04.02.01</td>\n",
       "      <td>True</td>\n",
       "      <td>manual_failed</td>\n",
       "      <td>2017-07-26 22:50:46</td>\n",
       "      <td>27.793394</td>\n",
       "      <td>300080300</td>\n",
       "      <td>300080300</td>\n",
       "    </tr>\n",
       "    <tr>\n",
       "      <th>70</th>\n",
       "      <td>605537141</td>\n",
       "      <td>T301x</td>\n",
       "      <td>Gad2-IRES-Cre;Ai14-336420.04.02.01</td>\n",
       "      <td>True</td>\n",
       "      <td>manual_failed</td>\n",
       "      <td>2017-07-28 20:37:50</td>\n",
       "      <td>20.118904</td>\n",
       "      <td>300080300</td>\n",
       "      <td>300080300</td>\n",
       "    </tr>\n",
       "    <tr>\n",
       "      <th>71</th>\n",
       "      <td>605538385</td>\n",
       "      <td>T301x</td>\n",
       "      <td>Gad2-IRES-Cre;Ai14-336420.02.02.01</td>\n",
       "      <td>True</td>\n",
       "      <td>manual_failed</td>\n",
       "      <td>2017-07-28 21:32:11</td>\n",
       "      <td>25.898184</td>\n",
       "      <td>300080300</td>\n",
       "      <td>300080300</td>\n",
       "    </tr>\n",
       "  </tbody>\n",
       "</table>\n",
       "</div>"
      ],
      "text/plain": [
       "    ephys_roi_result_id   code                                 name  \\\n",
       "67            601831626   T301    Nos1-CreERT2;Ai14-333287.03.01.01   \n",
       "68            602660919   T301  Scnn1a-Tg2-Cre;Ai14-333165.04.02.01   \n",
       "69            604693290  T301x  Rbp4-Cre_KL100;Ai14-337193.04.02.01   \n",
       "70            605537141  T301x   Gad2-IRES-Cre;Ai14-336420.04.02.01   \n",
       "71            605538385  T301x   Gad2-IRES-Cre;Ai14-336420.02.02.01   \n",
       "\n",
       "   failed_bad_rs workflow_state      recording_date  \\\n",
       "67          True  manual_failed 2017-07-10 21:03:11   \n",
       "68          True  manual_failed 2017-07-13 22:16:27   \n",
       "69          True  manual_failed 2017-07-26 22:50:46   \n",
       "70          True  manual_failed 2017-07-28 20:37:50   \n",
       "71          True  manual_failed 2017-07-28 21:32:11   \n",
       "\n",
       "    initial_access_resistance_mohm  project_id         id  \n",
       "67                       20.095886   305094322  305094322  \n",
       "68                       20.866342   305094322  305094322  \n",
       "69                       27.793394   300080300  300080300  \n",
       "70                       20.118904   300080300  300080300  \n",
       "71                       25.898184   300080300  300080300  "
      ]
     },
     "execution_count": 4,
     "metadata": {},
     "output_type": "execute_result"
    }
   ],
   "source": [
    "lims_query = \"SELECT err.id, err.recording_date, err.failed_bad_rs, err.initial_access_resistance_mohm, \\\n",
    "err.workflow_state, s.name, s.ephys_roi_result_id, s.project_id, proj.id, proj.code \\\n",
    "FROM ephys_roi_results err JOIN specimens s ON s.ephys_roi_result_id = err.id \\\n",
    "JOIN projects proj ON s.project_id = proj.id \\\n",
    "WHERE (failed_bad_rs = 'TRUE' \\\n",
    "AND err.failed_electrode_0 = 'FALSE' \\\n",
    "AND err.failed_clogged_pipette = 'FALSE' \\\n",
    "AND err.failed_no_seal = 'FALSE' \\\n",
    "AND err.failed_other = 'FALSE' \\\n",
    "AND err.workflow_state != 'manual_passed') \\\n",
    "AND (proj.code = 'T301' OR proj.code = 'T301x')\"\n",
    "\n",
    "lims_df = get_lims_dataframe(lims_query)\n",
    "lims_df.tail()"
   ]
  },
  {
   "cell_type": "code",
   "execution_count": 6,
   "metadata": {},
   "outputs": [
    {
     "data": {
      "text/plain": [
       "genotype\n",
       "Chat-IRES-Cre-neo;Ai14                13\n",
       "Chrna2-Cre_OE25;Ai14(IVSCC)            2\n",
       "Chrna2-Cre_OE25;Pvalb-T2A-Dre;Ai66     2\n",
       "Esr2-IRES2-Cre;Ai14                    1\n",
       "Gad2-IRES-Cre;Ai14                     3\n",
       "Htr3a-Cre_NO152;Ai14                   2\n",
       "Htr3a-Cre_NO152;Pvalb-T2A-Dre;Ai66     1\n",
       "Ndnf-IRES2-dgCre;Ai14                  3\n",
       "Nkx2-1-CreERT2;Ai14 (IVSCC)            5\n",
       "Nos1-CreERT2;Ai14                      2\n",
       "Nos1-CreERT2;Sst-IRES-FlpO;Ai65        2\n",
       "Ntsr1-Cre_GN220;Ai14                   1\n",
       "Oxtr-T2A-Cre;Ai14                      1\n",
       "Pvalb-IRES-Cre;Ai14                   13\n",
       "Rbp4-Cre_KL100;Ai14                    1\n",
       "Scnn1a-Tg2-Cre;Ai14                    1\n",
       "Scnn1a-Tg3-Cre;Ai14                    1\n",
       "Sim1-Cre_KJ18;Ai14                     1\n",
       "Sst-IRES-Cre;Ai14                      1\n",
       "Tlx3-Cre_PL56;Ai14                     2\n",
       "Vip-IRES-Cre;Ai14                      8\n",
       "Vip-IRES-Cre;Ai14(IVSCC)               1\n",
       "Vipr2-IRES2-Cre;Ai14                   5\n",
       "dtype: int64"
      ]
     },
     "execution_count": 6,
     "metadata": {},
     "output_type": "execute_result"
    }
   ],
   "source": [
    "#look at the data by genotype\n",
    "lims_df['genotype'] = lims_df['name'].apply(lambda x: x[:-16])\n",
    "lims_df.groupby(['genotype']).size()"
   ]
  },
  {
   "cell_type": "code",
   "execution_count": 39,
   "metadata": {
    "collapsed": true
   },
   "outputs": [],
   "source": [
    "#save to csv for use elsewhere\n",
    "lims_df.to_csv('tSNE_cells.csv')"
   ]
  }
 ],
 "metadata": {
  "kernelspec": {
   "display_name": "Python 2",
   "language": "python",
   "name": "python2"
  },
  "language_info": {
   "codemirror_mode": {
    "name": "ipython",
    "version": 2
   },
   "file_extension": ".py",
   "mimetype": "text/x-python",
   "name": "python",
   "nbconvert_exporter": "python",
   "pygments_lexer": "ipython2",
   "version": "2.7.13"
  }
 },
 "nbformat": 4,
 "nbformat_minor": 2
}
